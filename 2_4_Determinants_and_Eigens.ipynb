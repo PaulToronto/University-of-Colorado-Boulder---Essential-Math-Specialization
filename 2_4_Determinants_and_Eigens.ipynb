{
  "nbformat": 4,
  "nbformat_minor": 0,
  "metadata": {
    "colab": {
      "provenance": [],
      "toc_visible": true,
      "authorship_tag": "ABX9TyM2N1pO58IftptCWbq8OsW7",
      "include_colab_link": true
    },
    "kernelspec": {
      "name": "python3",
      "display_name": "Python 3"
    },
    "language_info": {
      "name": "python"
    }
  },
  "cells": [
    {
      "cell_type": "markdown",
      "metadata": {
        "id": "view-in-github",
        "colab_type": "text"
      },
      "source": [
        "<a href=\"https://colab.research.google.com/github/PaulToronto/University-of-Colorado-Boulder---Essential-Math-Specialization/blob/main/2_4_Determinants_and_Eigens.ipynb\" target=\"_parent\"><img src=\"https://colab.research.google.com/assets/colab-badge.svg\" alt=\"Open In Colab\"/></a>"
      ]
    },
    {
      "cell_type": "markdown",
      "source": [
        "# 2.4 Determinants and Eigens"
      ],
      "metadata": {
        "id": "H8-ZsR0vd_VI"
      }
    },
    {
      "cell_type": "markdown",
      "source": [
        "## Imports"
      ],
      "metadata": {
        "id": "_HMEi36MeCXT"
      }
    },
    {
      "cell_type": "code",
      "execution_count": 1,
      "metadata": {
        "id": "gkj2P5r-d7cD"
      },
      "outputs": [],
      "source": [
        "import sympy as sym\n",
        "import numpy as np"
      ]
    },
    {
      "cell_type": "markdown",
      "source": [
        "## 2.4.1 Determinants"
      ],
      "metadata": {
        "id": "Khhkb5i8eJFO"
      }
    },
    {
      "cell_type": "markdown",
      "source": [
        "### 2.4.1.1 Determinants Intro and $2 \\times 2$ Example"
      ],
      "metadata": {
        "id": "nbrGKUsgeMsw"
      }
    },
    {
      "cell_type": "code",
      "source": [
        "a, b, c, d = sym.symbols('a b c d')\n",
        "M = sym.Matrix([[a, b],\n",
        "                [c, d]])\n",
        "M"
      ],
      "metadata": {
        "colab": {
          "base_uri": "https://localhost:8080/",
          "height": 58
        },
        "id": "s8JEiAzMe__b",
        "outputId": "6dbb91a4-3e4f-42a3-d8bc-ac498c8dcf7a"
      },
      "execution_count": 2,
      "outputs": [
        {
          "output_type": "execute_result",
          "data": {
            "text/plain": [
              "Matrix([\n",
              "[a, b],\n",
              "[c, d]])"
            ],
            "text/latex": "$\\displaystyle \\left[\\begin{matrix}a & b\\\\c & d\\end{matrix}\\right]$"
          },
          "metadata": {},
          "execution_count": 2
        }
      ]
    },
    {
      "cell_type": "code",
      "source": [
        "M.det()"
      ],
      "metadata": {
        "colab": {
          "base_uri": "https://localhost:8080/",
          "height": 39
        },
        "id": "HULsXgU6ff40",
        "outputId": "c63fc819-db8d-4873-9881-b1d0e967ed40"
      },
      "execution_count": 3,
      "outputs": [
        {
          "output_type": "execute_result",
          "data": {
            "text/plain": [
              "a*d - b*c"
            ],
            "text/latex": "$\\displaystyle a d - b c$"
          },
          "metadata": {},
          "execution_count": 3
        }
      ]
    },
    {
      "cell_type": "markdown",
      "source": [
        "#### Example"
      ],
      "metadata": {
        "id": "TFE5S3EYfkd3"
      }
    },
    {
      "cell_type": "code",
      "source": [
        "M = np.array([[1, 3],\n",
        "              [-2, 4]])\n",
        "M"
      ],
      "metadata": {
        "colab": {
          "base_uri": "https://localhost:8080/"
        },
        "id": "YSJEOgGofomT",
        "outputId": "cff187e7-970a-4212-91dc-99ce1c2d2a4b"
      },
      "execution_count": 4,
      "outputs": [
        {
          "output_type": "execute_result",
          "data": {
            "text/plain": [
              "array([[ 1,  3],\n",
              "       [-2,  4]])"
            ]
          },
          "metadata": {},
          "execution_count": 4
        }
      ]
    },
    {
      "cell_type": "code",
      "source": [
        "1 * 4 - 3 * (-2)"
      ],
      "metadata": {
        "colab": {
          "base_uri": "https://localhost:8080/"
        },
        "id": "LWBzPFuAf37f",
        "outputId": "36957775-5a04-47b3-fd4c-842006fe25d6"
      },
      "execution_count": 5,
      "outputs": [
        {
          "output_type": "execute_result",
          "data": {
            "text/plain": [
              "10"
            ]
          },
          "metadata": {},
          "execution_count": 5
        }
      ]
    },
    {
      "cell_type": "code",
      "source": [
        "np.linalg.det(M)"
      ],
      "metadata": {
        "colab": {
          "base_uri": "https://localhost:8080/"
        },
        "id": "Xh66eU07f9T8",
        "outputId": "da47f9c0-6b53-4e1b-a779-826348177f81"
      },
      "execution_count": 6,
      "outputs": [
        {
          "output_type": "execute_result",
          "data": {
            "text/plain": [
              "9.999999999999998"
            ]
          },
          "metadata": {},
          "execution_count": 6
        }
      ]
    },
    {
      "cell_type": "code",
      "source": [
        "M = sym.Matrix(M)\n",
        "M"
      ],
      "metadata": {
        "colab": {
          "base_uri": "https://localhost:8080/",
          "height": 58
        },
        "id": "HTwp9rs-gATh",
        "outputId": "f8d73ace-a22d-49b8-a6e9-69500b0cb3b3"
      },
      "execution_count": 7,
      "outputs": [
        {
          "output_type": "execute_result",
          "data": {
            "text/plain": [
              "Matrix([\n",
              "[ 1, 3],\n",
              "[-2, 4]])"
            ],
            "text/latex": "$\\displaystyle \\left[\\begin{matrix}1 & 3\\\\-2 & 4\\end{matrix}\\right]$"
          },
          "metadata": {},
          "execution_count": 7
        }
      ]
    },
    {
      "cell_type": "code",
      "source": [
        "M.det()"
      ],
      "metadata": {
        "colab": {
          "base_uri": "https://localhost:8080/",
          "height": 37
        },
        "id": "4apwwH5UgDuh",
        "outputId": "54be06b1-64af-4f27-a00b-e7a4236d5ce8"
      },
      "execution_count": 8,
      "outputs": [
        {
          "output_type": "execute_result",
          "data": {
            "text/plain": [
              "10"
            ],
            "text/latex": "$\\displaystyle 10$"
          },
          "metadata": {},
          "execution_count": 8
        }
      ]
    },
    {
      "cell_type": "markdown",
      "source": [
        "### 2.4.1.2 Inverse of $2 \\times 2$ Matrix - Quick Method\n",
        "\n",
        "$$\n",
        "A = \\begin{bmatrix}a&b\\\\c&d\\end{bmatrix}\n",
        "$$\n",
        "\n",
        "$$\n",
        "\\det{(A)} = \\left|A\\right| = ad - bc\n",
        "$$\n",
        "\n",
        "$$\n",
        "A^{-1} = \\frac{1}{\\left|A\\right|}\\begin{bmatrix}d&-b\\\\-c&a\\end{bmatrix}\n",
        "$$\n",
        "\n",
        "Note that $A^{-1}$ exists if and only if the matrix is **non-singular**, which means that its determinant is non-zero."
      ],
      "metadata": {
        "id": "3dIg-R6IgQ9w"
      }
    },
    {
      "cell_type": "markdown",
      "source": [
        "#### Example\n",
        "\n",
        "$$\n",
        "B = \\begin{bmatrix}1&3\\\\-2&-4\\end{bmatrix}\n",
        "$$\n",
        "\n",
        "Find $B^{-1}$"
      ],
      "metadata": {
        "id": "-PMXOVhvLkC0"
      }
    },
    {
      "cell_type": "code",
      "source": [
        "B = np.array([[1, 3],\n",
        "             [-2, -4]])\n",
        "\n",
        "B"
      ],
      "metadata": {
        "colab": {
          "base_uri": "https://localhost:8080/"
        },
        "id": "isKaROwrLzOv",
        "outputId": "24d365e2-1c69-4957-fd8a-1d16b55d889d"
      },
      "execution_count": 9,
      "outputs": [
        {
          "output_type": "execute_result",
          "data": {
            "text/plain": [
              "array([[ 1,  3],\n",
              "       [-2, -4]])"
            ]
          },
          "metadata": {},
          "execution_count": 9
        }
      ]
    },
    {
      "cell_type": "code",
      "source": [
        "det_B = B[0, 0] * B[1, 1] - B[0, 1] * B[1, 0]\n",
        "det_B, np.linalg.det(B)"
      ],
      "metadata": {
        "colab": {
          "base_uri": "https://localhost:8080/"
        },
        "id": "2CMKf0FPL_rR",
        "outputId": "8f002d6e-dd13-47ce-d7a4-64efc0743ecf"
      },
      "execution_count": 10,
      "outputs": [
        {
          "output_type": "execute_result",
          "data": {
            "text/plain": [
              "(2, 2.0)"
            ]
          },
          "metadata": {},
          "execution_count": 10
        }
      ]
    },
    {
      "cell_type": "code",
      "source": [
        "B_inv = (1/det_B) * np.array([[-4, -3],\n",
        "                          [2, 1]])\n",
        "B_inv"
      ],
      "metadata": {
        "colab": {
          "base_uri": "https://localhost:8080/"
        },
        "id": "Hen9opi3MXqR",
        "outputId": "e256cc83-51fd-4611-cd79-636f39541f30"
      },
      "execution_count": 11,
      "outputs": [
        {
          "output_type": "execute_result",
          "data": {
            "text/plain": [
              "array([[-2. , -1.5],\n",
              "       [ 1. ,  0.5]])"
            ]
          },
          "metadata": {},
          "execution_count": 11
        }
      ]
    },
    {
      "cell_type": "code",
      "source": [
        "np.linalg.inv(B)"
      ],
      "metadata": {
        "colab": {
          "base_uri": "https://localhost:8080/"
        },
        "id": "Ml2If8XgMpcK",
        "outputId": "52117fd1-1b72-4d3b-f29a-b6c5bd46a3b8"
      },
      "execution_count": 12,
      "outputs": [
        {
          "output_type": "execute_result",
          "data": {
            "text/plain": [
              "array([[-2. , -1.5],\n",
              "       [ 1. ,  0.5]])"
            ]
          },
          "metadata": {},
          "execution_count": 12
        }
      ]
    },
    {
      "cell_type": "code",
      "source": [
        "B = sym.Matrix(B)\n",
        "B"
      ],
      "metadata": {
        "colab": {
          "base_uri": "https://localhost:8080/",
          "height": 58
        },
        "id": "8KbSOijkNP2R",
        "outputId": "3df88689-4099-499b-b79e-761d81e93e46"
      },
      "execution_count": 13,
      "outputs": [
        {
          "output_type": "execute_result",
          "data": {
            "text/plain": [
              "Matrix([\n",
              "[ 1,  3],\n",
              "[-2, -4]])"
            ],
            "text/latex": "$\\displaystyle \\left[\\begin{matrix}1 & 3\\\\-2 & -4\\end{matrix}\\right]$"
          },
          "metadata": {},
          "execution_count": 13
        }
      ]
    },
    {
      "cell_type": "code",
      "source": [
        "B.det()"
      ],
      "metadata": {
        "colab": {
          "base_uri": "https://localhost:8080/",
          "height": 37
        },
        "id": "Iqfvi6GGNTZg",
        "outputId": "d66e6ac6-9ce6-4067-9d50-3ea4e8d84dec"
      },
      "execution_count": 14,
      "outputs": [
        {
          "output_type": "execute_result",
          "data": {
            "text/plain": [
              "2"
            ],
            "text/latex": "$\\displaystyle 2$"
          },
          "metadata": {},
          "execution_count": 14
        }
      ]
    },
    {
      "cell_type": "code",
      "source": [
        "B.inv()"
      ],
      "metadata": {
        "colab": {
          "base_uri": "https://localhost:8080/",
          "height": 58
        },
        "id": "Th7CcLSyNViy",
        "outputId": "d9e6e53d-c067-4591-fe7e-032a897922f6"
      },
      "execution_count": 15,
      "outputs": [
        {
          "output_type": "execute_result",
          "data": {
            "text/plain": [
              "Matrix([\n",
              "[-2, -3/2],\n",
              "[ 1,  1/2]])"
            ],
            "text/latex": "$\\displaystyle \\left[\\begin{matrix}-2 & - \\frac{3}{2}\\\\1 & \\frac{1}{2}\\end{matrix}\\right]$"
          },
          "metadata": {},
          "execution_count": 15
        }
      ]
    },
    {
      "cell_type": "markdown",
      "source": [
        "### 3Blue1Brown"
      ],
      "metadata": {
        "id": "kuNnjo1hhCUe"
      }
    },
    {
      "cell_type": "markdown",
      "source": [
        "<img src='https://drive.google.com/uc?export=view&id=1iyiapt1QxNhRA2dtNCSQTWAMNzPp5kwF'>"
      ],
      "metadata": {
        "id": "Pr53-hsuhMCp"
      }
    },
    {
      "cell_type": "markdown",
      "source": [
        "The determinant is the area of the parallelogram.\n",
        "\n",
        "$$\n",
        "\\begin{align}\n",
        "Area &= (a + b)(c + d) - ac - bd - 2bc \\\\\n",
        "&= ac + ad + bc + bd - ac - bd - 2bc \\\\\n",
        "&= ad - bc\n",
        "\\end{align}\n",
        "$$"
      ],
      "metadata": {
        "id": "97F4oeIrJJhW"
      }
    },
    {
      "cell_type": "markdown",
      "source": [
        "### 2.4.1.3 Determinant of a $3 \\times 3$ Matrix - Overview\n",
        "\n",
        "$$\n",
        "A = \\begin{bmatrix}\n",
        "a&b&c\\\\d&e&f\\\\g&h&i\n",
        "\\end{bmatrix}\n",
        "$$\n",
        "<hr>\n",
        "Alternate signs no matter which row is chosen to start:\n",
        "$$\n",
        "\\begin{bmatrix}\n",
        "+&-&+\\\\-&+&-\\\\+&-&+\n",
        "\\end{bmatrix}\n",
        "$$\n",
        "<hr>\n",
        "\n",
        "Choosing the first row:\n",
        "$$\n",
        "\\begin{align}\n",
        "\\det{(A)} &= \\left|A\\right| \\\\\n",
        "&=\n",
        "a\\begin{vmatrix}e&f\\\\h&i\\end{vmatrix}\\\n",
        "- b\\begin{vmatrix}d&f\\\\g&i\\end{vmatrix}\n",
        "+ c\\begin{vmatrix}d&e\\\\g&h\\end{vmatrix}\n",
        "\\end{align}\n",
        "$$"
      ],
      "metadata": {
        "id": "yXWw-WSIPf64"
      }
    },
    {
      "cell_type": "markdown",
      "source": [
        "### 2.4.1.4 Determinant of a $3 \\times 3$ Matrix - Example with 1st Row"
      ],
      "metadata": {
        "id": "L1zOYL_sSTzj"
      }
    },
    {
      "cell_type": "code",
      "source": [
        "M = sym.Matrix([[1, 5, 0],\n",
        "                [2, 4, -1],\n",
        "                [0, -2, 0]])\n",
        "M"
      ],
      "metadata": {
        "colab": {
          "base_uri": "https://localhost:8080/",
          "height": 78
        },
        "id": "CSo7PKzQTUyV",
        "outputId": "e877ae48-9690-488a-b6dd-5be03dc8d67e"
      },
      "execution_count": 16,
      "outputs": [
        {
          "output_type": "execute_result",
          "data": {
            "text/plain": [
              "Matrix([\n",
              "[1,  5,  0],\n",
              "[2,  4, -1],\n",
              "[0, -2,  0]])"
            ],
            "text/latex": "$\\displaystyle \\left[\\begin{matrix}1 & 5 & 0\\\\2 & 4 & -1\\\\0 & -2 & 0\\end{matrix}\\right]$"
          },
          "metadata": {},
          "execution_count": 16
        }
      ]
    },
    {
      "cell_type": "markdown",
      "source": [
        "$$\n",
        "\\begin{align}\n",
        "\\left|M\\right| &=\n",
        "\\begin{vmatrix}4&-1\\\\-2&0\\end{vmatrix}\n",
        "- 5\\begin{vmatrix}2&-1\\\\0&0\\end{vmatrix}\n",
        "+ 0\\begin{vmatrix}2&4\\\\0&-2\\end{vmatrix} \\\\\n",
        "&= - 2 - 5(0) + 0(-4) \\\\\n",
        "&= -2\n",
        "\\end{align}\n",
        "$$"
      ],
      "metadata": {
        "id": "3LoHZ9VWUC5d"
      }
    },
    {
      "cell_type": "code",
      "source": [
        "M.det()"
      ],
      "metadata": {
        "colab": {
          "base_uri": "https://localhost:8080/",
          "height": 37
        },
        "id": "CIDDKsYoVDZm",
        "outputId": "59b5e9c9-0e60-41c9-efd2-d4b09c539f87"
      },
      "execution_count": 17,
      "outputs": [
        {
          "output_type": "execute_result",
          "data": {
            "text/plain": [
              "-2"
            ],
            "text/latex": "$\\displaystyle -2$"
          },
          "metadata": {},
          "execution_count": 17
        }
      ]
    },
    {
      "cell_type": "markdown",
      "source": [
        "### 2.4.1.5 Determinant of a $3 \\times 3$ Matrix - Example with 2nd Row"
      ],
      "metadata": {
        "id": "AcsP1EWWXNaV"
      }
    },
    {
      "cell_type": "markdown",
      "source": [
        "$$\n",
        "\\begin{align}\n",
        "\\left|M\\right| &=\n",
        "-2\\begin{vmatrix}5&0\\\\-2&0\\end{vmatrix}\n",
        "+4\\begin{vmatrix}1&0\\\\0&0\\end{vmatrix}\n",
        "+\\begin{vmatrix}1&5\\\\0&-2\\end{vmatrix} \\\\\n",
        "&= (-2)(0) + 4(0) + (-2 - 0) \\\\\n",
        "&= -2\n",
        "\\end{align}\n",
        "$$"
      ],
      "metadata": {
        "id": "BNjaP33xXVjF"
      }
    },
    {
      "cell_type": "markdown",
      "source": [
        "## 2.4.2 Eigenvalues and Eigenvectors"
      ],
      "metadata": {
        "id": "Vqs57c8fb5Kk"
      }
    },
    {
      "cell_type": "markdown",
      "source": [
        "### 2.4.2.1 Eigenvalue and Eigenvector - Overview"
      ],
      "metadata": {
        "id": "-3x7_Vkecbo6"
      }
    },
    {
      "cell_type": "markdown",
      "source": [
        "Let $\\mathbf{A}$ be an $n \\times n$ matrix.\n",
        "\n",
        "- A non-zero vector $\\mathbf{x}$ is called an **eigenvector** of $\\mathbf{A}$ if and only if there is a scalar $\\lambda$ such that $\\mathbf{A}\\mathbf{x} = \\lambda\\mathbf{x}$.\n",
        "    - What this says is that the image of $\\mathbf{x}$ is a scalar multiple of $\\mathbf{x}$\n",
        "- An **eigenvalue** is a scalar $\\lambda$ such that $A\\mathbf{x} = \\lambda\\mathbf{x}$, for some non-zero vector $\\mathbf{x}$."
      ],
      "metadata": {
        "id": "McfEzRtlhuxL"
      }
    },
    {
      "cell_type": "markdown",
      "source": [
        "$$\n",
        "\\mathbf{A} = \\begin{bmatrix}1&6\\\\5&2\\end{bmatrix}, \\mathbf{u} = \\begin{bmatrix}6\\\\-5\\end{bmatrix}, \\mathbf{v} = \\begin{bmatrix}3\\\\-2\\end{bmatrix}\n",
        "$$"
      ],
      "metadata": {
        "id": "kBCCgh-3ejj3"
      }
    },
    {
      "cell_type": "code",
      "source": [
        "A = sym.Matrix([[1, 6],\n",
        "                [5, 2]])\n",
        "u = sym.Matrix([6, -5])\n",
        "v = sym.Matrix([3, -2])"
      ],
      "metadata": {
        "id": "Ov0RkR-lmkKe"
      },
      "execution_count": 18,
      "outputs": []
    },
    {
      "cell_type": "markdown",
      "source": [
        "Is $\\mathbf{u}$ an eigenvector of $\\mathbf{A}$?\n",
        "\n",
        "$$\n",
        "\\begin{align}\n",
        "\\mathbf{A}\\mathbf{u} &= \\begin{bmatrix}1&6\\\\5&2\\end{bmatrix}\n",
        "\\begin{bmatrix}6\\\\-5\\end{bmatrix} \\\\\n",
        "&= \\begin{bmatrix}-24\\\\20\\end{bmatrix} \\\\\n",
        "&= -4\\begin{bmatrix}6\\\\-5\\end{bmatrix}\n",
        "\\end{align}\n",
        "$$\n",
        "\n",
        "$\\therefore \\mathbf{u}$ is an eigenvector of $\\mathbf{A}$ and its associated eigenvalue is -4."
      ],
      "metadata": {
        "id": "Mrch5eULjfyB"
      }
    },
    {
      "cell_type": "code",
      "source": [
        "A @ u == -4 * u"
      ],
      "metadata": {
        "colab": {
          "base_uri": "https://localhost:8080/"
        },
        "id": "JEvsd5sum0OU",
        "outputId": "6357805d-99e0-4729-9a02-ee186b6ca646"
      },
      "execution_count": 19,
      "outputs": [
        {
          "output_type": "execute_result",
          "data": {
            "text/plain": [
              "True"
            ]
          },
          "metadata": {},
          "execution_count": 19
        }
      ]
    },
    {
      "cell_type": "markdown",
      "source": [
        "Is $\\mathbf{v}$ and eigenvector of $\\mathbf{A}$?\n",
        "\n",
        "$$\n",
        "\\begin{align}\n",
        "\\mathbf{A}\\mathbf{v} &= \\begin{bmatrix}1&6\\\\5&2\\end{bmatrix}\n",
        "\\begin{bmatrix}3\\\\-2\\end{bmatrix} \\\\\n",
        "&= \\begin{bmatrix}-9\\\\11\\end{bmatrix} \\\\\n",
        "&= \\lambda\\begin{bmatrix}3\\\\-2\\end{bmatrix} \\\\\n",
        "\\end{align}\n",
        "$$\n",
        "\n",
        "There is no $\\lambda$ that satisfies the equation.\n",
        "\n",
        "$\\therefore \\mathbf{v}$ is not an eigenvector of $\\mathbf{A}$"
      ],
      "metadata": {
        "id": "hheJt69Gnt7T"
      }
    },
    {
      "cell_type": "code",
      "source": [
        "A @ v"
      ],
      "metadata": {
        "colab": {
          "base_uri": "https://localhost:8080/",
          "height": 58
        },
        "id": "EOFXCZAaq13D",
        "outputId": "7892b2db-9660-47ab-a238-7fc172a4c712"
      },
      "execution_count": 20,
      "outputs": [
        {
          "output_type": "execute_result",
          "data": {
            "text/plain": [
              "Matrix([\n",
              "[-9],\n",
              "[11]])"
            ],
            "text/latex": "$\\displaystyle \\left[\\begin{matrix}-9\\\\11\\end{matrix}\\right]$"
          },
          "metadata": {},
          "execution_count": 20
        }
      ]
    },
    {
      "cell_type": "markdown",
      "source": [
        "### 2.4.2.2 Finding Eigenvector if Given Eigenvalue"
      ],
      "metadata": {
        "id": "EcQ9QaLxs6hZ"
      }
    },
    {
      "cell_type": "markdown",
      "source": [
        "$$\n",
        "\\mathbf{A} = \\begin{bmatrix}1&6\\\\5&2\\end{bmatrix}\n",
        "$$\n",
        "\n",
        "We know that $\\lambda = 7$ is an eigenvalue of $\\mathbf{A}$. Find an associated eigenvector.\n",
        "\n",
        "$$\n",
        "\\begin{align}\n",
        "&\\mathbf{A}\\mathbf{x} = \\lambda\\mathbf{x} \\\\\n",
        "&\\implies\n",
        "\\mathbf{A}\\mathbf{x} - \\lambda\\mathbf{x} = \\mathbf{0} \\\\\n",
        "&\\implies \\left(\\mathbf{A} - \\lambda\\mathbf{I}\\right)\\mathbf{x} = \\mathbf{0}\n",
        "\\end{align}\n",
        "$$\n",
        "<br>\n",
        "$$\n",
        "\\begin{align}\n",
        "&\\left(\n",
        "    \\begin{bmatrix}1&6\\\\5&2\\end{bmatrix}\n",
        "    - 7 \\begin{bmatrix}1&0\\\\0&1\\end{bmatrix}\n",
        "\\right)\\mathbf{x} = \\mathbf{0} \\\\\n",
        "&\\implies\n",
        "\\begin{bmatrix}-6&6\\\\5&-5\\end{bmatrix}\\mathbf{x} = \\mathbf{0} \\\\\n",
        "&\\implies\n",
        "\\begin{bmatrix}-6&6&0\\\\5&-5&0\\end{bmatrix}\n",
        "\\end{align}\n",
        "$$\n",
        "\n",
        "We now have an augmented matrix. Let's call it $\\mathbf{M}$."
      ],
      "metadata": {
        "id": "_wgRmnHdOuYm"
      }
    },
    {
      "cell_type": "code",
      "source": [
        "M = sym.Matrix([[-6, 6, 0],\n",
        "                [5, -5, 0]])\n",
        "M.rref(pivots=False)"
      ],
      "metadata": {
        "colab": {
          "base_uri": "https://localhost:8080/",
          "height": 58
        },
        "id": "1_rMxV-DVvr8",
        "outputId": "7981bc27-824c-44b0-8333-f8a207113a5e"
      },
      "execution_count": 21,
      "outputs": [
        {
          "output_type": "execute_result",
          "data": {
            "text/plain": [
              "Matrix([\n",
              "[1, -1, 0],\n",
              "[0,  0, 0]])"
            ],
            "text/latex": "$\\displaystyle \\left[\\begin{matrix}1 & -1 & 0\\\\0 & 0 & 0\\end{matrix}\\right]$"
          },
          "metadata": {},
          "execution_count": 21
        }
      ]
    },
    {
      "cell_type": "markdown",
      "source": [
        "The eigenvector is any vector where $x_1 = x_2$, choosing the simplest one we have eigenvector:\n",
        "\n",
        "$$\n",
        "\\mathbf{x} = \\begin{bmatrix}1\\\\1\\end{bmatrix}\n",
        "$$"
      ],
      "metadata": {
        "id": "DpRS1uvqWwmu"
      }
    },
    {
      "cell_type": "markdown",
      "source": [
        "Verify our result:\n",
        "\n",
        "$$\n",
        "\\begin{align}\n",
        "\\mathbf{A}\\mathbf{x} &= 7\\mathbf{x}  \\\\\n",
        "\\begin{bmatrix}1&6\\\\5&2\\end{bmatrix}\n",
        "\\begin{bmatrix}1\\\\1\\end{bmatrix} &= 7\\begin{bmatrix}1\\\\1\\end{bmatrix} \\\\\n",
        "\\begin{bmatrix}1+6\\\\5+2\\end{bmatrix} &= \\begin{bmatrix}7\\\\7\\end{bmatrix} \\\\\n",
        "\\begin{bmatrix}7\\\\7\\end{bmatrix} &= \\begin{bmatrix}7\\\\7\\end{bmatrix}\n",
        "\\end{align}\n",
        "$$"
      ],
      "metadata": {
        "id": "9bsfg8vmZCWP"
      }
    },
    {
      "cell_type": "markdown",
      "source": [
        "### 2.4.2.3 Characteristic Polynomial - Finding Eigenvalues"
      ],
      "metadata": {
        "id": "nqZ8Uk5LbJ4r"
      }
    },
    {
      "cell_type": "markdown",
      "source": [
        "#### First a Review"
      ],
      "metadata": {
        "id": "FuN7LeYADABh"
      }
    },
    {
      "cell_type": "markdown",
      "source": [
        "$$\n",
        "\\begin{align}\n",
        "\\mathbf{M}\\mathbf{x} &= \\mathbf{0}\\\\\n",
        "\\mathbf{M^{-1}}\\mathbf{M}\\mathbf{x} &= \\mathbf{M^{-1}}\\mathbf{0}\\\\\n",
        "\\mathbf{I}\\mathbf{x} &= \\mathbf{M^{-1}}\\mathbf{0} \\\\\n",
        "\\mathbf{x} &= \\mathbf{M^{-1}}\\mathbf{0}\n",
        "\\end{align}\n",
        "$$\n",
        "\n",
        "If $\\mathbf{M}$ is invertible, then $\\mathbf{x} = \\begin{bmatrix}0\\\\0\\end{bmatrix}$, but an eigenvector can't be the zero vector.\n",
        "\n",
        "In order for there to be a non-trivial solution, $\\mathbf{M}$ can't be invertible, that is $\\det{(\\mathbf{M})} = 0$\n",
        "\n",
        "<hr>"
      ],
      "metadata": {
        "id": "SXUpW_gYDJD_"
      }
    },
    {
      "cell_type": "markdown",
      "source": [
        "#### Finding Eigenvalues"
      ],
      "metadata": {
        "id": "NymLLvVuDERe"
      }
    },
    {
      "cell_type": "markdown",
      "source": [
        "Find the eigenvalues of $\\mathbf{A}$\n",
        "\n",
        "$$\n",
        "\\mathbf{A} = \\begin{bmatrix}2&3\\\\3&-6\\end{bmatrix}\n",
        "$$"
      ],
      "metadata": {
        "id": "nziMUlPQ6R6a"
      }
    },
    {
      "cell_type": "markdown",
      "source": [
        "Solution:\n",
        "\n",
        "Let $\\mathbf{x}$ be an eigenvector of $\\mathbf{A}$.\n",
        "\n",
        "$$\n",
        "\\begin{align}\n",
        "\\mathbf{A}\\mathbf{x} = \\lambda\\mathbf{x} \\\\\n",
        "\\left(\\mathbf{A} - \\lambda\\mathbf{I}\\right)\\mathbf{x} &= \\mathbf{0}\\\\\n",
        "\\left(\\begin{bmatrix}2&3\\\\3&-6\\end{bmatrix} -\n",
        "\\begin{bmatrix}\\lambda&0\\\\0&\\lambda\\end{bmatrix}\\right)\\mathbf{x} &= \\mathbf{0} \\\\\n",
        "\\begin{bmatrix}2 - \\lambda&3\\\\3&-6-\\lambda\\end{bmatrix}\\mathbf{x} &= \\begin{bmatrix}0\\\\0\\end{bmatrix}\n",
        "\\end{align}\n",
        "$$"
      ],
      "metadata": {
        "id": "SeCdboac7R3v"
      }
    },
    {
      "cell_type": "markdown",
      "source": [
        "$$\n",
        "\\begin{align}\n",
        "\\det{(\\begin{bmatrix}2 - \\lambda&3\\\\3&-6-\\lambda\\end{bmatrix})} &= 0 \\\\\n",
        "\\left(2 - \\lambda\\right)\\left(-6 - \\lambda\\right) - 9 &= 0 \\\\\n",
        "-12 - 2\\lambda + 6\\lambda + \\lambda^{2} - 9 &= 0 \\\\\n",
        "\\lambda^{2} + 4\\lambda - 21 &= 0\n",
        "\\end{align}\n",
        "$$"
      ],
      "metadata": {
        "id": "GZw00iqBIHvx"
      }
    },
    {
      "cell_type": "markdown",
      "source": [
        "$$\n",
        "\\begin{align}\n",
        "\\left(\\lambda + 7\\right)\\left(\\lambda - 3\\right) &= 0\n",
        "\\end{align}\n",
        "$$\n",
        "\n",
        "$\\therefore \\lambda = -7$ or $\\lambda = 3$ which are the two eigenvalues of $\\mathbf{A}$."
      ],
      "metadata": {
        "id": "yztkA_nVJ2yr"
      }
    },
    {
      "cell_type": "code",
      "source": [
        "A = sym.Matrix([[2, 3],\n",
        "                [3, -6]])\n",
        "A"
      ],
      "metadata": {
        "colab": {
          "base_uri": "https://localhost:8080/",
          "height": 58
        },
        "id": "Cf1EDIxdJUJj",
        "outputId": "2eddb3cc-4916-40d9-88b8-0a2490dd5ed4"
      },
      "execution_count": 22,
      "outputs": [
        {
          "output_type": "execute_result",
          "data": {
            "text/plain": [
              "Matrix([\n",
              "[2,  3],\n",
              "[3, -6]])"
            ],
            "text/latex": "$\\displaystyle \\left[\\begin{matrix}2 & 3\\\\3 & -6\\end{matrix}\\right]$"
          },
          "metadata": {},
          "execution_count": 22
        }
      ]
    },
    {
      "cell_type": "code",
      "source": [
        "test = A.charpoly()\n",
        "test"
      ],
      "metadata": {
        "colab": {
          "base_uri": "https://localhost:8080/",
          "height": 39
        },
        "id": "za_HkV4PJe4V",
        "outputId": "429beccd-c68b-4dda-88f4-ca681c0668e6"
      },
      "execution_count": 23,
      "outputs": [
        {
          "output_type": "execute_result",
          "data": {
            "text/plain": [
              "PurePoly(lambda**2 + 4*lambda - 21, lambda, domain='ZZ')"
            ],
            "text/latex": "$\\displaystyle \\operatorname{PurePoly}{\\left( \\lambda^{2} + 4 \\lambda - 21, \\lambda, domain=\\mathbb{Z} \\right)}$"
          },
          "metadata": {},
          "execution_count": 23
        }
      ]
    },
    {
      "cell_type": "code",
      "source": [
        "sym.solve(test.as_expr())"
      ],
      "metadata": {
        "colab": {
          "base_uri": "https://localhost:8080/"
        },
        "id": "EZzw6oVGJmyN",
        "outputId": "45f7aa83-077d-4530-fedc-035d2a2d545d"
      },
      "execution_count": 24,
      "outputs": [
        {
          "output_type": "execute_result",
          "data": {
            "text/plain": [
              "[-7, 3]"
            ]
          },
          "metadata": {},
          "execution_count": 24
        }
      ]
    },
    {
      "cell_type": "code",
      "source": [
        "A = sym.Matrix([[5, 2, 0],\n",
        "                [2, 5, 0],\n",
        "                [-3, 4, 6]])\n",
        "A"
      ],
      "metadata": {
        "colab": {
          "base_uri": "https://localhost:8080/",
          "height": 78
        },
        "id": "xDpPL_kIXIk1",
        "outputId": "6bfc87d6-7793-4a22-e871-c3795dcf1afc"
      },
      "execution_count": 25,
      "outputs": [
        {
          "output_type": "execute_result",
          "data": {
            "text/plain": [
              "Matrix([\n",
              "[ 5, 2, 0],\n",
              "[ 2, 5, 0],\n",
              "[-3, 4, 6]])"
            ],
            "text/latex": "$\\displaystyle \\left[\\begin{matrix}5 & 2 & 0\\\\2 & 5 & 0\\\\-3 & 4 & 6\\end{matrix}\\right]$"
          },
          "metadata": {},
          "execution_count": 25
        }
      ]
    },
    {
      "cell_type": "code",
      "source": [
        "A.eigenvects()"
      ],
      "metadata": {
        "colab": {
          "base_uri": "https://localhost:8080/"
        },
        "id": "GgVyclJcXRsv",
        "outputId": "ced5dd13-872b-4b8c-f86b-e6ccd73250ee"
      },
      "execution_count": 26,
      "outputs": [
        {
          "output_type": "execute_result",
          "data": {
            "text/plain": [
              "[(3,\n",
              "  1,\n",
              "  [Matrix([\n",
              "   [ 3/7],\n",
              "   [-3/7],\n",
              "   [   1]])]),\n",
              " (6,\n",
              "  1,\n",
              "  [Matrix([\n",
              "   [0],\n",
              "   [0],\n",
              "   [1]])]),\n",
              " (7,\n",
              "  1,\n",
              "  [Matrix([\n",
              "   [1],\n",
              "   [1],\n",
              "   [1]])])]"
            ]
          },
          "metadata": {},
          "execution_count": 26
        }
      ]
    }
  ]
}