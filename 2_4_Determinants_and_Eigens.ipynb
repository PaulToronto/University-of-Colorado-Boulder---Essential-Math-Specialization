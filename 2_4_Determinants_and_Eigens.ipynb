{
  "nbformat": 4,
  "nbformat_minor": 0,
  "metadata": {
    "colab": {
      "provenance": [],
      "toc_visible": true,
      "authorship_tag": "ABX9TyN5CAvxpBjpxL55suEDQcyg",
      "include_colab_link": true
    },
    "kernelspec": {
      "name": "python3",
      "display_name": "Python 3"
    },
    "language_info": {
      "name": "python"
    }
  },
  "cells": [
    {
      "cell_type": "markdown",
      "metadata": {
        "id": "view-in-github",
        "colab_type": "text"
      },
      "source": [
        "<a href=\"https://colab.research.google.com/github/PaulToronto/University-of-Colorado-Boulder---Essential-Math-Specialization/blob/main/2_4_Determinants_and_Eigens.ipynb\" target=\"_parent\"><img src=\"https://colab.research.google.com/assets/colab-badge.svg\" alt=\"Open In Colab\"/></a>"
      ]
    },
    {
      "cell_type": "markdown",
      "source": [
        "# 2.4 Determinants and Eigens"
      ],
      "metadata": {
        "id": "H8-ZsR0vd_VI"
      }
    },
    {
      "cell_type": "markdown",
      "source": [
        "## Imports"
      ],
      "metadata": {
        "id": "_HMEi36MeCXT"
      }
    },
    {
      "cell_type": "code",
      "execution_count": 23,
      "metadata": {
        "id": "gkj2P5r-d7cD"
      },
      "outputs": [],
      "source": [
        "import sympy as sym\n",
        "import numpy as np"
      ]
    },
    {
      "cell_type": "markdown",
      "source": [
        "## 2.4.1 Determinants"
      ],
      "metadata": {
        "id": "Khhkb5i8eJFO"
      }
    },
    {
      "cell_type": "markdown",
      "source": [
        "### 2.4.1.1 Determinants Intro and $2 \\times 2$ Example"
      ],
      "metadata": {
        "id": "nbrGKUsgeMsw"
      }
    },
    {
      "cell_type": "code",
      "source": [
        "a, b, c, d = sym.symbols('a b c d')\n",
        "M = sym.Matrix([[a, b],\n",
        "                [c, d]])\n",
        "M"
      ],
      "metadata": {
        "colab": {
          "base_uri": "https://localhost:8080/",
          "height": 58
        },
        "id": "s8JEiAzMe__b",
        "outputId": "70fb859e-7357-4460-9ee9-82172d056b7b"
      },
      "execution_count": 24,
      "outputs": [
        {
          "output_type": "execute_result",
          "data": {
            "text/plain": [
              "Matrix([\n",
              "[a, b],\n",
              "[c, d]])"
            ],
            "text/latex": "$\\displaystyle \\left[\\begin{matrix}a & b\\\\c & d\\end{matrix}\\right]$"
          },
          "metadata": {},
          "execution_count": 24
        }
      ]
    },
    {
      "cell_type": "code",
      "source": [
        "M.det()"
      ],
      "metadata": {
        "colab": {
          "base_uri": "https://localhost:8080/",
          "height": 39
        },
        "id": "HULsXgU6ff40",
        "outputId": "62b11597-6ddb-4b9c-beeb-69624e0932d6"
      },
      "execution_count": 25,
      "outputs": [
        {
          "output_type": "execute_result",
          "data": {
            "text/plain": [
              "a*d - b*c"
            ],
            "text/latex": "$\\displaystyle a d - b c$"
          },
          "metadata": {},
          "execution_count": 25
        }
      ]
    },
    {
      "cell_type": "markdown",
      "source": [
        "#### Example"
      ],
      "metadata": {
        "id": "TFE5S3EYfkd3"
      }
    },
    {
      "cell_type": "code",
      "source": [
        "M = np.array([[1, 3],\n",
        "              [-2, 4]])\n",
        "M"
      ],
      "metadata": {
        "colab": {
          "base_uri": "https://localhost:8080/"
        },
        "id": "YSJEOgGofomT",
        "outputId": "71fd60e0-229d-4be4-8bf9-5d8cd802d570"
      },
      "execution_count": 26,
      "outputs": [
        {
          "output_type": "execute_result",
          "data": {
            "text/plain": [
              "array([[ 1,  3],\n",
              "       [-2,  4]])"
            ]
          },
          "metadata": {},
          "execution_count": 26
        }
      ]
    },
    {
      "cell_type": "code",
      "source": [
        "1 * 4 - 3 * (-2)"
      ],
      "metadata": {
        "colab": {
          "base_uri": "https://localhost:8080/"
        },
        "id": "LWBzPFuAf37f",
        "outputId": "d46c506a-66e0-48a8-866a-d836cb459d68"
      },
      "execution_count": 27,
      "outputs": [
        {
          "output_type": "execute_result",
          "data": {
            "text/plain": [
              "10"
            ]
          },
          "metadata": {},
          "execution_count": 27
        }
      ]
    },
    {
      "cell_type": "code",
      "source": [
        "np.linalg.det(M)"
      ],
      "metadata": {
        "colab": {
          "base_uri": "https://localhost:8080/"
        },
        "id": "Xh66eU07f9T8",
        "outputId": "5bb918b2-90cc-4e6c-c4c3-2dc5a07ff320"
      },
      "execution_count": 28,
      "outputs": [
        {
          "output_type": "execute_result",
          "data": {
            "text/plain": [
              "9.999999999999998"
            ]
          },
          "metadata": {},
          "execution_count": 28
        }
      ]
    },
    {
      "cell_type": "code",
      "source": [
        "M = sym.Matrix(M)\n",
        "M"
      ],
      "metadata": {
        "colab": {
          "base_uri": "https://localhost:8080/",
          "height": 58
        },
        "id": "HTwp9rs-gATh",
        "outputId": "d380759d-8a90-49e2-deb4-96129e91c6d6"
      },
      "execution_count": 29,
      "outputs": [
        {
          "output_type": "execute_result",
          "data": {
            "text/plain": [
              "Matrix([\n",
              "[ 1, 3],\n",
              "[-2, 4]])"
            ],
            "text/latex": "$\\displaystyle \\left[\\begin{matrix}1 & 3\\\\-2 & 4\\end{matrix}\\right]$"
          },
          "metadata": {},
          "execution_count": 29
        }
      ]
    },
    {
      "cell_type": "code",
      "source": [
        "M.det()"
      ],
      "metadata": {
        "colab": {
          "base_uri": "https://localhost:8080/",
          "height": 37
        },
        "id": "4apwwH5UgDuh",
        "outputId": "30119188-c638-4d74-a417-4e9cff4dcbc1"
      },
      "execution_count": 30,
      "outputs": [
        {
          "output_type": "execute_result",
          "data": {
            "text/plain": [
              "10"
            ],
            "text/latex": "$\\displaystyle 10$"
          },
          "metadata": {},
          "execution_count": 30
        }
      ]
    },
    {
      "cell_type": "markdown",
      "source": [
        "### 2.4.1.2 Inverse of $2 \\times 2$ Matrix - Quick Method\n",
        "\n",
        "$$\n",
        "A = \\begin{bmatrix}a&b\\\\c&d\\end{bmatrix}\n",
        "$$\n",
        "\n",
        "$$\n",
        "\\det{(A)} = \\left|A\\right| = ad - bc\n",
        "$$\n",
        "\n",
        "$$\n",
        "A^{-1} = \\frac{1}{\\left|A\\right|}\\begin{bmatrix}d&-b\\\\-c&a\\end{bmatrix}\n",
        "$$\n",
        "\n",
        "Note that $A^{-1}$ exists if and only if the matrix is **non-singular**, which means that its determinant is non-zero."
      ],
      "metadata": {
        "id": "3dIg-R6IgQ9w"
      }
    },
    {
      "cell_type": "markdown",
      "source": [
        "#### Example\n",
        "\n",
        "$$\n",
        "B = \\begin{bmatrix}1&3\\\\-2&-4\\end{bmatrix}\n",
        "$$\n",
        "\n",
        "Find $B^{-1}$"
      ],
      "metadata": {
        "id": "-PMXOVhvLkC0"
      }
    },
    {
      "cell_type": "code",
      "source": [
        "B = np.array([[1, 3],\n",
        "             [-2, -4]])\n",
        "\n",
        "B"
      ],
      "metadata": {
        "colab": {
          "base_uri": "https://localhost:8080/"
        },
        "id": "isKaROwrLzOv",
        "outputId": "1020f211-c852-4553-f797-253b12bb1670"
      },
      "execution_count": 31,
      "outputs": [
        {
          "output_type": "execute_result",
          "data": {
            "text/plain": [
              "array([[ 1,  3],\n",
              "       [-2, -4]])"
            ]
          },
          "metadata": {},
          "execution_count": 31
        }
      ]
    },
    {
      "cell_type": "code",
      "source": [
        "det_B = B[0, 0] * B[1, 1] - B[0, 1] * B[1, 0]\n",
        "det_B, np.linalg.det(B)"
      ],
      "metadata": {
        "colab": {
          "base_uri": "https://localhost:8080/"
        },
        "id": "2CMKf0FPL_rR",
        "outputId": "c62696c6-71f6-4d65-97a3-50ce340cc3d7"
      },
      "execution_count": 32,
      "outputs": [
        {
          "output_type": "execute_result",
          "data": {
            "text/plain": [
              "(2, 2.0)"
            ]
          },
          "metadata": {},
          "execution_count": 32
        }
      ]
    },
    {
      "cell_type": "code",
      "source": [
        "B_inv = (1/det_B) * np.array([[-4, -3],\n",
        "                          [2, 1]])\n",
        "B_inv"
      ],
      "metadata": {
        "colab": {
          "base_uri": "https://localhost:8080/"
        },
        "id": "Hen9opi3MXqR",
        "outputId": "a0c5efac-a6e6-49f1-ff3f-bc3ce6e0af7b"
      },
      "execution_count": 33,
      "outputs": [
        {
          "output_type": "execute_result",
          "data": {
            "text/plain": [
              "array([[-2. , -1.5],\n",
              "       [ 1. ,  0.5]])"
            ]
          },
          "metadata": {},
          "execution_count": 33
        }
      ]
    },
    {
      "cell_type": "code",
      "source": [
        "np.linalg.inv(B)"
      ],
      "metadata": {
        "colab": {
          "base_uri": "https://localhost:8080/"
        },
        "id": "Ml2If8XgMpcK",
        "outputId": "f0b44f47-6dc3-4e32-c70e-ec82abd3b551"
      },
      "execution_count": 34,
      "outputs": [
        {
          "output_type": "execute_result",
          "data": {
            "text/plain": [
              "array([[-2. , -1.5],\n",
              "       [ 1. ,  0.5]])"
            ]
          },
          "metadata": {},
          "execution_count": 34
        }
      ]
    },
    {
      "cell_type": "code",
      "source": [
        "B = sym.Matrix(B)\n",
        "B"
      ],
      "metadata": {
        "colab": {
          "base_uri": "https://localhost:8080/",
          "height": 58
        },
        "id": "8KbSOijkNP2R",
        "outputId": "8da50ab5-e85b-4342-89f0-6c70da80f894"
      },
      "execution_count": 35,
      "outputs": [
        {
          "output_type": "execute_result",
          "data": {
            "text/plain": [
              "Matrix([\n",
              "[ 1,  3],\n",
              "[-2, -4]])"
            ],
            "text/latex": "$\\displaystyle \\left[\\begin{matrix}1 & 3\\\\-2 & -4\\end{matrix}\\right]$"
          },
          "metadata": {},
          "execution_count": 35
        }
      ]
    },
    {
      "cell_type": "code",
      "source": [
        "B.det()"
      ],
      "metadata": {
        "colab": {
          "base_uri": "https://localhost:8080/",
          "height": 37
        },
        "id": "Iqfvi6GGNTZg",
        "outputId": "e1174a3b-9e33-4d4e-e12a-a7f7ae8106a3"
      },
      "execution_count": 36,
      "outputs": [
        {
          "output_type": "execute_result",
          "data": {
            "text/plain": [
              "2"
            ],
            "text/latex": "$\\displaystyle 2$"
          },
          "metadata": {},
          "execution_count": 36
        }
      ]
    },
    {
      "cell_type": "code",
      "source": [
        "B.inv()"
      ],
      "metadata": {
        "colab": {
          "base_uri": "https://localhost:8080/",
          "height": 58
        },
        "id": "Th7CcLSyNViy",
        "outputId": "0f64b52b-9077-4b78-9537-620825bbc985"
      },
      "execution_count": 37,
      "outputs": [
        {
          "output_type": "execute_result",
          "data": {
            "text/plain": [
              "Matrix([\n",
              "[-2, -3/2],\n",
              "[ 1,  1/2]])"
            ],
            "text/latex": "$\\displaystyle \\left[\\begin{matrix}-2 & - \\frac{3}{2}\\\\1 & \\frac{1}{2}\\end{matrix}\\right]$"
          },
          "metadata": {},
          "execution_count": 37
        }
      ]
    },
    {
      "cell_type": "markdown",
      "source": [
        "### 2.4.1.3 Determinant of a $3 \\times 3$ Matrix - Overview"
      ],
      "metadata": {
        "id": "yXWw-WSIPf64"
      }
    }
  ]
}