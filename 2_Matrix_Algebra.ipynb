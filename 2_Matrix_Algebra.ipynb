{
  "nbformat": 4,
  "nbformat_minor": 0,
  "metadata": {
    "colab": {
      "provenance": [],
      "toc_visible": true,
      "authorship_tag": "ABX9TyMntbMvoOJ5DPSULMafsL1u",
      "include_colab_link": true
    },
    "kernelspec": {
      "name": "python3",
      "display_name": "Python 3"
    },
    "language_info": {
      "name": "python"
    }
  },
  "cells": [
    {
      "cell_type": "markdown",
      "metadata": {
        "id": "view-in-github",
        "colab_type": "text"
      },
      "source": [
        "<a href=\"https://colab.research.google.com/github/PaulToronto/University-of-Colorado-Boulder-Essential-Linear-Algebra-for-Data-Science/blob/main/2_Matrix_Algebra.ipynb\" target=\"_parent\"><img src=\"https://colab.research.google.com/assets/colab-badge.svg\" alt=\"Open In Colab\"/></a>"
      ]
    },
    {
      "cell_type": "markdown",
      "source": [
        "## Imports"
      ],
      "metadata": {
        "id": "4-n4kXiSjaij"
      }
    },
    {
      "cell_type": "code",
      "source": [
        "import numpy as np\n",
        "import sympy as sym"
      ],
      "metadata": {
        "id": "kU9DFbDBjceZ"
      },
      "execution_count": 1,
      "outputs": []
    },
    {
      "cell_type": "markdown",
      "source": [
        "## 2.1 Introduction to Matgrix Algebra + Sum + Scale"
      ],
      "metadata": {
        "id": "gVihGXtljeYG"
      }
    },
    {
      "cell_type": "markdown",
      "source": [
        "### 2.1.1 Matrix Algebra Sum\n",
        "\n",
        "Let $A$ and $B$ be two matrices.\n",
        "\n",
        "- We can only find the sum of $A$ and $B$ of they have the same dimensions\n",
        "- To perform the addition simply add the corresponding elements"
      ],
      "metadata": {
        "id": "XIIl86BsjnHE"
      }
    },
    {
      "cell_type": "markdown",
      "source": [
        "$$\n",
        "A = \\begin{bmatrix}\n",
        "1 & 2 \\\\\n",
        "-1 & 0 \\\\\n",
        "1 & 7\n",
        "\\end{bmatrix},\n",
        "B = \\begin{bmatrix}\n",
        "7 & -2 \\\\\n",
        "6 & -6 \\\\\n",
        "5 & -2\n",
        "\\end{bmatrix}\n",
        "$$"
      ],
      "metadata": {
        "id": "OyGjFFKzys3I"
      }
    },
    {
      "cell_type": "markdown",
      "source": [
        "$$\n",
        "A + B = \\begin{bmatrix}\n",
        "8 & 0 \\\\\n",
        "5 & -6 \\\\\n",
        "6 & 5\n",
        "\\end{bmatrix}\n",
        "$$"
      ],
      "metadata": {
        "id": "Kz8mBjQBzKNg"
      }
    },
    {
      "cell_type": "markdown",
      "source": [
        "#### Matrix Addition with `numpy`"
      ],
      "metadata": {
        "id": "fgsuS-QBzWpR"
      }
    },
    {
      "cell_type": "code",
      "source": [
        "A = np.array([[1, 2],\n",
        "              [-1, 0],\n",
        "              [1, 7]])\n",
        "\n",
        "B = np.array([[7, -2],\n",
        "              [6, -6],\n",
        "              [5, -2]])\n",
        "\n",
        "A + B"
      ],
      "metadata": {
        "colab": {
          "base_uri": "https://localhost:8080/"
        },
        "id": "v0CL_0M2zVpM",
        "outputId": "30227601-02e6-49da-9de8-6c5d42819ac0"
      },
      "execution_count": 2,
      "outputs": [
        {
          "output_type": "execute_result",
          "data": {
            "text/plain": [
              "array([[ 8,  0],\n",
              "       [ 5, -6],\n",
              "       [ 6,  5]])"
            ]
          },
          "metadata": {},
          "execution_count": 2
        }
      ]
    },
    {
      "cell_type": "markdown",
      "source": [
        "#### Matrix Addition with `sympy`"
      ],
      "metadata": {
        "id": "6jy6ogfezgY-"
      }
    },
    {
      "cell_type": "code",
      "source": [
        "A = sym.Matrix(A)\n",
        "B = sym.Matrix(B)\n",
        "\n",
        "A + B"
      ],
      "metadata": {
        "colab": {
          "base_uri": "https://localhost:8080/",
          "height": 78
        },
        "id": "YSI5fzY1z8q_",
        "outputId": "05695070-1484-487d-8772-fd905e1178d5"
      },
      "execution_count": 3,
      "outputs": [
        {
          "output_type": "execute_result",
          "data": {
            "text/plain": [
              "Matrix([\n",
              "[8,  0],\n",
              "[5, -6],\n",
              "[6,  5]])"
            ],
            "text/latex": "$\\displaystyle \\left[\\begin{matrix}8 & 0\\\\5 & -6\\\\6 & 5\\end{matrix}\\right]$"
          },
          "metadata": {},
          "execution_count": 3
        }
      ]
    },
    {
      "cell_type": "markdown",
      "source": [
        "### 2.1.2 Matrix Algebra Scale + Identity"
      ],
      "metadata": {
        "id": "5gmgnvPJ0pmB"
      }
    },
    {
      "cell_type": "markdown",
      "source": [
        "#### Scale\n",
        "\n",
        "To multiply a matrix by a scalar, simply multiple each element by the scalar.\n",
        "\n",
        "Let\n",
        "\n",
        "$$\n",
        "A = \\begin{bmatrix}\n",
        "-1 & 1 \\\\\n",
        "7 & \\sqrt{3}\n",
        "\\end{bmatrix}\n",
        "$$\n",
        "\n",
        "$$\n",
        "2A = \\begin{bmatrix}\n",
        "-2 & 2 \\\\\n",
        "14 & 2\\sqrt{3}\n",
        "\\end{bmatrix}\n",
        "$$"
      ],
      "metadata": {
        "id": "CFc1nQ4L1Qye"
      }
    },
    {
      "cell_type": "markdown",
      "source": [
        "#### Scalar Multiplication with `numpy`"
      ],
      "metadata": {
        "id": "nsPqxLFZ1x2F"
      }
    },
    {
      "cell_type": "code",
      "source": [
        "A = np.array([[-1, 1],\n",
        "              [7, np.sqrt(3)]])\n",
        "\n",
        "2 * A"
      ],
      "metadata": {
        "colab": {
          "base_uri": "https://localhost:8080/"
        },
        "id": "Rd4s8xAu2QSj",
        "outputId": "c5fb9ef7-df67-41e7-96d3-83382065d886"
      },
      "execution_count": 5,
      "outputs": [
        {
          "output_type": "execute_result",
          "data": {
            "text/plain": [
              "array([[-2.        ,  2.        ],\n",
              "       [14.        ,  3.46410162]])"
            ]
          },
          "metadata": {},
          "execution_count": 5
        }
      ]
    },
    {
      "cell_type": "markdown",
      "source": [
        "#### Scalar Multiplication with `sympy`"
      ],
      "metadata": {
        "id": "up9-I7xF2QmN"
      }
    },
    {
      "cell_type": "code",
      "source": [
        "A = sym.Matrix([[-1, 1],\n",
        "                [7, sym.sqrt(3)]])\n",
        "A"
      ],
      "metadata": {
        "colab": {
          "base_uri": "https://localhost:8080/",
          "height": 59
        },
        "id": "C5kxJCIc2Q4m",
        "outputId": "9ed8b925-e10a-4626-ff0e-be611b5c3702"
      },
      "execution_count": 7,
      "outputs": [
        {
          "output_type": "execute_result",
          "data": {
            "text/plain": [
              "Matrix([\n",
              "[-1,       1],\n",
              "[ 7, sqrt(3)]])"
            ],
            "text/latex": "$\\displaystyle \\left[\\begin{matrix}-1 & 1\\\\7 & \\sqrt{3}\\end{matrix}\\right]$"
          },
          "metadata": {},
          "execution_count": 7
        }
      ]
    },
    {
      "cell_type": "code",
      "source": [
        "2 * A"
      ],
      "metadata": {
        "colab": {
          "base_uri": "https://localhost:8080/",
          "height": 59
        },
        "id": "f9bj43zs2rOa",
        "outputId": "f111ce9e-c679-4c59-b1d0-b246cdb6328d"
      },
      "execution_count": 10,
      "outputs": [
        {
          "output_type": "execute_result",
          "data": {
            "text/plain": [
              "Matrix([\n",
              "[-2,         2],\n",
              "[14, 2*sqrt(3)]])"
            ],
            "text/latex": "$\\displaystyle \\left[\\begin{matrix}-2 & 2\\\\14 & 2 \\sqrt{3}\\end{matrix}\\right]$"
          },
          "metadata": {},
          "execution_count": 10
        }
      ]
    },
    {
      "cell_type": "markdown",
      "source": [
        "#### Identity\n",
        "\n",
        "Let $I$ be an $n \\times n$ identity matrix.\n",
        "\n",
        "$$\n",
        "AI = A = IA\n",
        "$$"
      ],
      "metadata": {
        "id": "gJX_OyCr3Air"
      }
    },
    {
      "cell_type": "markdown",
      "source": [
        "## 2.2 Matrix Multiplication"
      ],
      "metadata": {
        "id": "MraTfPtq3VDv"
      }
    }
  ]
}