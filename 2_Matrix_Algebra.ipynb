{
  "nbformat": 4,
  "nbformat_minor": 0,
  "metadata": {
    "colab": {
      "provenance": [],
      "toc_visible": true,
      "authorship_tag": "ABX9TyOOBf0az88F+rrybkdsMnoW",
      "include_colab_link": true
    },
    "kernelspec": {
      "name": "python3",
      "display_name": "Python 3"
    },
    "language_info": {
      "name": "python"
    }
  },
  "cells": [
    {
      "cell_type": "markdown",
      "metadata": {
        "id": "view-in-github",
        "colab_type": "text"
      },
      "source": [
        "<a href=\"https://colab.research.google.com/github/PaulToronto/University-of-Colorado-Boulder-Essential-Linear-Algebra-for-Data-Science/blob/main/2_Matrix_Algebra.ipynb\" target=\"_parent\"><img src=\"https://colab.research.google.com/assets/colab-badge.svg\" alt=\"Open In Colab\"/></a>"
      ]
    },
    {
      "cell_type": "markdown",
      "source": [
        "## Imports"
      ],
      "metadata": {
        "id": "4-n4kXiSjaij"
      }
    },
    {
      "cell_type": "code",
      "source": [],
      "metadata": {
        "id": "kU9DFbDBjceZ"
      },
      "execution_count": null,
      "outputs": []
    },
    {
      "cell_type": "markdown",
      "source": [
        "## 2.1 Introduction to Matgrix Algebra + Sum + Scale"
      ],
      "metadata": {
        "id": "gVihGXtljeYG"
      }
    },
    {
      "cell_type": "markdown",
      "source": [
        "### 2.1.1 Matrix Algebra Sum"
      ],
      "metadata": {
        "id": "XIIl86BsjnHE"
      }
    }
  ]
}