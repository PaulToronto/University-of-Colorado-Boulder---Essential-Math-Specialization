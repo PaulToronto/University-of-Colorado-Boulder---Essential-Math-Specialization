{
  "nbformat": 4,
  "nbformat_minor": 0,
  "metadata": {
    "colab": {
      "provenance": [],
      "toc_visible": true,
      "authorship_tag": "ABX9TyP9v/nGGsk9J34ZSJVxgDsQ",
      "include_colab_link": true
    },
    "kernelspec": {
      "name": "python3",
      "display_name": "Python 3"
    },
    "language_info": {
      "name": "python"
    }
  },
  "cells": [
    {
      "cell_type": "markdown",
      "metadata": {
        "id": "view-in-github",
        "colab_type": "text"
      },
      "source": [
        "<a href=\"https://colab.research.google.com/github/PaulToronto/University-of-Colorado-Boulder---Essential-Math-Specialization/blob/main/2_5_Projections_and_Least_Squares.ipynb\" target=\"_parent\"><img src=\"https://colab.research.google.com/assets/colab-badge.svg\" alt=\"Open In Colab\"/></a>"
      ]
    },
    {
      "cell_type": "markdown",
      "source": [
        "# 2.5 Projections and Least Squares"
      ],
      "metadata": {
        "id": "I8CoqwdWceo-"
      }
    },
    {
      "cell_type": "markdown",
      "source": [
        "## Imports"
      ],
      "metadata": {
        "id": "3u-_zV4_ckaj"
      }
    },
    {
      "cell_type": "code",
      "execution_count": null,
      "metadata": {
        "id": "VySTZ2BgcYa3"
      },
      "outputs": [],
      "source": [
        "import sympy\n",
        "import numpy"
      ]
    },
    {
      "cell_type": "markdown",
      "source": [
        "## 2.5.1 Important Final Concepts"
      ],
      "metadata": {
        "id": "gIRYGk13cnmy"
      }
    },
    {
      "cell_type": "markdown",
      "source": [
        "### 2.5.1.1 Transpose and Inner (Dot) Product"
      ],
      "metadata": {
        "id": "thOaN39LcsdT"
      }
    }
  ]
}