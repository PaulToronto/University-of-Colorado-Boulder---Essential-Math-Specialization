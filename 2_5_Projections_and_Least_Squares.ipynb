{
  "nbformat": 4,
  "nbformat_minor": 0,
  "metadata": {
    "colab": {
      "provenance": [],
      "toc_visible": true,
      "authorship_tag": "ABX9TyMjz/phFYEQLlbGgBK8sXUD",
      "include_colab_link": true
    },
    "kernelspec": {
      "name": "python3",
      "display_name": "Python 3"
    },
    "language_info": {
      "name": "python"
    }
  },
  "cells": [
    {
      "cell_type": "markdown",
      "metadata": {
        "id": "view-in-github",
        "colab_type": "text"
      },
      "source": [
        "<a href=\"https://colab.research.google.com/github/PaulToronto/University-of-Colorado-Boulder---Essential-Math-Specialization/blob/main/2_5_Projections_and_Least_Squares.ipynb\" target=\"_parent\"><img src=\"https://colab.research.google.com/assets/colab-badge.svg\" alt=\"Open In Colab\"/></a>"
      ]
    },
    {
      "cell_type": "markdown",
      "source": [
        "# 2.5 Projections and Least Squares"
      ],
      "metadata": {
        "id": "I8CoqwdWceo-"
      }
    },
    {
      "cell_type": "markdown",
      "source": [
        "## Imports"
      ],
      "metadata": {
        "id": "3u-_zV4_ckaj"
      }
    },
    {
      "cell_type": "code",
      "execution_count": 1,
      "metadata": {
        "id": "VySTZ2BgcYa3"
      },
      "outputs": [],
      "source": [
        "import sympy as sym\n",
        "import numpy as np\n",
        "\n",
        "import matplotlib.pyplot as plt"
      ]
    },
    {
      "cell_type": "markdown",
      "source": [
        "## 2.5.1 Important Final Concepts"
      ],
      "metadata": {
        "id": "gIRYGk13cnmy"
      }
    },
    {
      "cell_type": "markdown",
      "source": [
        "### 2.5.1.1 Transpose and Inner (Dot) Product"
      ],
      "metadata": {
        "id": "thOaN39LcsdT"
      }
    },
    {
      "cell_type": "markdown",
      "source": [
        "#### Transpose\n",
        "\n",
        "The rows and the columns are flipped."
      ],
      "metadata": {
        "id": "ebE27R7yhl6G"
      }
    },
    {
      "cell_type": "markdown",
      "source": [
        "$$\n",
        "\\mathbf{A} = \\begin{bmatrix}3&4\\\\2&5\\\\1&6\\end{bmatrix},\n",
        "\\mathbf{A^{T}} = \\begin{bmatrix}3&2&1\\\\4&5&6\\end{bmatrix}\n",
        "$$"
      ],
      "metadata": {
        "id": "iz1kdInDhq_H"
      }
    },
    {
      "cell_type": "code",
      "source": [
        "A = np.array([[3, 4],\n",
        "              [2, 5],\n",
        "              [1, 6]])"
      ],
      "metadata": {
        "id": "POHGNwVriF7a"
      },
      "execution_count": 2,
      "outputs": []
    },
    {
      "cell_type": "code",
      "source": [
        "A.T"
      ],
      "metadata": {
        "colab": {
          "base_uri": "https://localhost:8080/"
        },
        "id": "vHVKx0nPiOgg",
        "outputId": "88d785fe-8048-4434-a5cb-99b4f3291d49"
      },
      "execution_count": 3,
      "outputs": [
        {
          "output_type": "execute_result",
          "data": {
            "text/plain": [
              "array([[3, 2, 1],\n",
              "       [4, 5, 6]])"
            ]
          },
          "metadata": {},
          "execution_count": 3
        }
      ]
    },
    {
      "cell_type": "code",
      "source": [
        "A = sym.Matrix(A)\n",
        "A"
      ],
      "metadata": {
        "colab": {
          "base_uri": "https://localhost:8080/",
          "height": 78
        },
        "id": "5jbLy2e4iQur",
        "outputId": "48b17a9e-5a17-42a6-ef06-13db3e91f303"
      },
      "execution_count": 4,
      "outputs": [
        {
          "output_type": "execute_result",
          "data": {
            "text/plain": [
              "Matrix([\n",
              "[3, 4],\n",
              "[2, 5],\n",
              "[1, 6]])"
            ],
            "text/latex": "$\\displaystyle \\left[\\begin{matrix}3 & 4\\\\2 & 5\\\\1 & 6\\end{matrix}\\right]$"
          },
          "metadata": {},
          "execution_count": 4
        }
      ]
    },
    {
      "cell_type": "code",
      "source": [
        "A.T"
      ],
      "metadata": {
        "colab": {
          "base_uri": "https://localhost:8080/",
          "height": 58
        },
        "id": "ERynccttiTm3",
        "outputId": "3ddc14da-22f6-4622-d04c-55f4f1781033"
      },
      "execution_count": 5,
      "outputs": [
        {
          "output_type": "execute_result",
          "data": {
            "text/plain": [
              "Matrix([\n",
              "[3, 2, 1],\n",
              "[4, 5, 6]])"
            ],
            "text/latex": "$\\displaystyle \\left[\\begin{matrix}3 & 2 & 1\\\\4 & 5 & 6\\end{matrix}\\right]$"
          },
          "metadata": {},
          "execution_count": 5
        }
      ]
    },
    {
      "cell_type": "code",
      "source": [
        "B = sym.Matrix([1, 2, 3])\n",
        "B"
      ],
      "metadata": {
        "colab": {
          "base_uri": "https://localhost:8080/",
          "height": 78
        },
        "id": "dB5AVtIGi4EC",
        "outputId": "9d0445d8-b1a2-4c58-b1af-02c6c93955f8"
      },
      "execution_count": 6,
      "outputs": [
        {
          "output_type": "execute_result",
          "data": {
            "text/plain": [
              "Matrix([\n",
              "[1],\n",
              "[2],\n",
              "[3]])"
            ],
            "text/latex": "$\\displaystyle \\left[\\begin{matrix}1\\\\2\\\\3\\end{matrix}\\right]$"
          },
          "metadata": {},
          "execution_count": 6
        }
      ]
    },
    {
      "cell_type": "code",
      "source": [
        "B.T"
      ],
      "metadata": {
        "colab": {
          "base_uri": "https://localhost:8080/",
          "height": 39
        },
        "id": "fYL4kEdWi65C",
        "outputId": "52d9b604-86b2-424f-8d21-3d674bcd6795"
      },
      "execution_count": 7,
      "outputs": [
        {
          "output_type": "execute_result",
          "data": {
            "text/plain": [
              "Matrix([[1, 2, 3]])"
            ],
            "text/latex": "$\\displaystyle \\left[\\begin{matrix}1 & 2 & 3\\end{matrix}\\right]$"
          },
          "metadata": {},
          "execution_count": 7
        }
      ]
    },
    {
      "cell_type": "code",
      "source": [
        "B.T.T"
      ],
      "metadata": {
        "colab": {
          "base_uri": "https://localhost:8080/",
          "height": 78
        },
        "id": "Mp6HUmwbjFpn",
        "outputId": "23fe9b2c-a392-4e17-c08d-0ca52fc1eac0"
      },
      "execution_count": 8,
      "outputs": [
        {
          "output_type": "execute_result",
          "data": {
            "text/plain": [
              "Matrix([\n",
              "[1],\n",
              "[2],\n",
              "[3]])"
            ],
            "text/latex": "$\\displaystyle \\left[\\begin{matrix}1\\\\2\\\\3\\end{matrix}\\right]$"
          },
          "metadata": {},
          "execution_count": 8
        }
      ]
    },
    {
      "cell_type": "markdown",
      "source": [
        "#### Dot Product (aka Inner Product)\n",
        "\n",
        "The dot product is **commutative**."
      ],
      "metadata": {
        "id": "XEQ99C_TiW6m"
      }
    },
    {
      "cell_type": "markdown",
      "source": [
        "$$\n",
        "\\mathbf{u} = \\begin{bmatrix}2\\\\-5\\\\-1\\end{bmatrix},\n",
        "\\mathbf{v} = \\begin{bmatrix}3\\\\2\\\\-3\\end{bmatrix}\n",
        "$$"
      ],
      "metadata": {
        "id": "Qw0gyVBOhE7s"
      }
    },
    {
      "cell_type": "code",
      "source": [
        "u = np.array([[2], [-5], [-1]])\n",
        "u"
      ],
      "metadata": {
        "colab": {
          "base_uri": "https://localhost:8080/"
        },
        "id": "3csgWQYGjQvy",
        "outputId": "7f2240da-3752-443f-d77a-261a89693266"
      },
      "execution_count": 9,
      "outputs": [
        {
          "output_type": "execute_result",
          "data": {
            "text/plain": [
              "array([[ 2],\n",
              "       [-5],\n",
              "       [-1]])"
            ]
          },
          "metadata": {},
          "execution_count": 9
        }
      ]
    },
    {
      "cell_type": "code",
      "source": [
        "v = np.array([[3], [2], [-3]])\n",
        "v"
      ],
      "metadata": {
        "colab": {
          "base_uri": "https://localhost:8080/"
        },
        "id": "cyrjC056jbtb",
        "outputId": "141f3871-322a-41ef-a41c-a63b17c36182"
      },
      "execution_count": 10,
      "outputs": [
        {
          "output_type": "execute_result",
          "data": {
            "text/plain": [
              "array([[ 3],\n",
              "       [ 2],\n",
              "       [-3]])"
            ]
          },
          "metadata": {},
          "execution_count": 10
        }
      ]
    },
    {
      "cell_type": "code",
      "source": [
        "np.dot(u.T, v)"
      ],
      "metadata": {
        "colab": {
          "base_uri": "https://localhost:8080/"
        },
        "id": "1jfXYCtYjgKX",
        "outputId": "ffccaa2d-d317-404d-8c4a-ac45eeb05fde"
      },
      "execution_count": 11,
      "outputs": [
        {
          "output_type": "execute_result",
          "data": {
            "text/plain": [
              "array([[-1]])"
            ]
          },
          "metadata": {},
          "execution_count": 11
        }
      ]
    },
    {
      "cell_type": "code",
      "source": [
        "np.dot(u.T, u)"
      ],
      "metadata": {
        "colab": {
          "base_uri": "https://localhost:8080/"
        },
        "id": "V4qDTtafl91T",
        "outputId": "50e9db09-e1a9-438b-d3a0-8d31acbbbf93"
      },
      "execution_count": 12,
      "outputs": [
        {
          "output_type": "execute_result",
          "data": {
            "text/plain": [
              "array([[30]])"
            ]
          },
          "metadata": {},
          "execution_count": 12
        }
      ]
    },
    {
      "cell_type": "code",
      "source": [
        "u.T.dot(v)"
      ],
      "metadata": {
        "colab": {
          "base_uri": "https://localhost:8080/"
        },
        "id": "SIoaDWEulXjV",
        "outputId": "f7816db4-280d-4762-a3f1-b3fe8e34f422"
      },
      "execution_count": 13,
      "outputs": [
        {
          "output_type": "execute_result",
          "data": {
            "text/plain": [
              "array([[-1]])"
            ]
          },
          "metadata": {},
          "execution_count": 13
        }
      ]
    },
    {
      "cell_type": "code",
      "source": [
        "sum(u * v)"
      ],
      "metadata": {
        "colab": {
          "base_uri": "https://localhost:8080/"
        },
        "id": "cqBpDrIplgq4",
        "outputId": "70be5c04-1ba4-4299-a767-d2d8b8ddf0e6"
      },
      "execution_count": 14,
      "outputs": [
        {
          "output_type": "execute_result",
          "data": {
            "text/plain": [
              "array([-1])"
            ]
          },
          "metadata": {},
          "execution_count": 14
        }
      ]
    },
    {
      "cell_type": "code",
      "source": [
        "u = sym.Matrix(u)\n",
        "u"
      ],
      "metadata": {
        "colab": {
          "base_uri": "https://localhost:8080/",
          "height": 78
        },
        "id": "NHh5VQ6JkWlG",
        "outputId": "80eb0adb-362a-466a-a922-8e9284ea60c2"
      },
      "execution_count": 15,
      "outputs": [
        {
          "output_type": "execute_result",
          "data": {
            "text/plain": [
              "Matrix([\n",
              "[ 2],\n",
              "[-5],\n",
              "[-1]])"
            ],
            "text/latex": "$\\displaystyle \\left[\\begin{matrix}2\\\\-5\\\\-1\\end{matrix}\\right]$"
          },
          "metadata": {},
          "execution_count": 15
        }
      ]
    },
    {
      "cell_type": "code",
      "source": [
        "v = sym.Matrix(v)\n",
        "v"
      ],
      "metadata": {
        "colab": {
          "base_uri": "https://localhost:8080/",
          "height": 78
        },
        "id": "2wqkQQUakabS",
        "outputId": "215ddb7d-79e1-44b9-96df-ce527e9bb651"
      },
      "execution_count": 16,
      "outputs": [
        {
          "output_type": "execute_result",
          "data": {
            "text/plain": [
              "Matrix([\n",
              "[ 3],\n",
              "[ 2],\n",
              "[-3]])"
            ],
            "text/latex": "$\\displaystyle \\left[\\begin{matrix}3\\\\2\\\\-3\\end{matrix}\\right]$"
          },
          "metadata": {},
          "execution_count": 16
        }
      ]
    },
    {
      "cell_type": "code",
      "source": [
        "u.dot(v)"
      ],
      "metadata": {
        "colab": {
          "base_uri": "https://localhost:8080/",
          "height": 37
        },
        "id": "34dem7pLkdZA",
        "outputId": "7b5f8de8-d2f9-42c7-b32c-4e2ea29fbedf"
      },
      "execution_count": 17,
      "outputs": [
        {
          "output_type": "execute_result",
          "data": {
            "text/plain": [
              "-1"
            ],
            "text/latex": "$\\displaystyle -1$"
          },
          "metadata": {},
          "execution_count": 17
        }
      ]
    },
    {
      "cell_type": "markdown",
      "source": [
        "### 2.5.1.2 Norm (Length) of a Vector"
      ],
      "metadata": {
        "id": "xwtK9GkxmVfi"
      }
    },
    {
      "cell_type": "markdown",
      "source": [
        "$$\n",
        "\\mathbf{v} = \\begin{bmatrix}v_1\\\\v_2\\\\\\vdots\\\\v_n\\end{bmatrix}\n",
        "$$\n",
        "\n",
        "$$\n",
        "\\begin{align}\n",
        "&\\left|v\\right|^{2} = v \\cdot v \\\\\n",
        "&\\implies \\left|v\\right| = \\sqrt{v \\cdot v}\n",
        "\\end{align}\n",
        "$$"
      ],
      "metadata": {
        "id": "XZVxyU21nFVV"
      }
    },
    {
      "cell_type": "code",
      "source": [
        "v1, v2, v3 = sym.symbols('v_1 v_2 v_3')\n",
        "\n",
        "v = sym.Matrix([v1, v2, v3])\n",
        "v"
      ],
      "metadata": {
        "colab": {
          "base_uri": "https://localhost:8080/",
          "height": 78
        },
        "id": "WGFvU6AuohH1",
        "outputId": "d696b795-c590-4662-9b35-6cee9000077b"
      },
      "execution_count": 18,
      "outputs": [
        {
          "output_type": "execute_result",
          "data": {
            "text/plain": [
              "Matrix([\n",
              "[v_1],\n",
              "[v_2],\n",
              "[v_3]])"
            ],
            "text/latex": "$\\displaystyle \\left[\\begin{matrix}v_{1}\\\\v_{2}\\\\v_{3}\\end{matrix}\\right]$"
          },
          "metadata": {},
          "execution_count": 18
        }
      ]
    },
    {
      "cell_type": "code",
      "source": [
        "v_norm = sym.sqrt(v.dot(v))\n",
        "v_norm"
      ],
      "metadata": {
        "colab": {
          "base_uri": "https://localhost:8080/",
          "height": 48
        },
        "id": "ULrVzxv7ouGe",
        "outputId": "048bdb07-eb9a-4f4e-89dd-64758ee67d78"
      },
      "execution_count": 19,
      "outputs": [
        {
          "output_type": "execute_result",
          "data": {
            "text/plain": [
              "sqrt(v_1**2 + v_2**2 + v_3**2)"
            ],
            "text/latex": "$\\displaystyle \\sqrt{v_{1}^{2} + v_{2}^{2} + v_{3}^{2}}$"
          },
          "metadata": {},
          "execution_count": 19
        }
      ]
    },
    {
      "cell_type": "code",
      "source": [
        "v.norm()"
      ],
      "metadata": {
        "colab": {
          "base_uri": "https://localhost:8080/",
          "height": 48
        },
        "id": "VWR2mm8_pklw",
        "outputId": "3f38c50a-48e9-43d0-d8cc-294c7da11487"
      },
      "execution_count": 20,
      "outputs": [
        {
          "output_type": "execute_result",
          "data": {
            "text/plain": [
              "sqrt(Abs(v_1)**2 + Abs(v_2)**2 + Abs(v_3)**2)"
            ],
            "text/latex": "$\\displaystyle \\sqrt{\\left|{v_{1}}\\right|^{2} + \\left|{v_{2}}\\right|^{2} + \\left|{v_{3}}\\right|^{2}}$"
          },
          "metadata": {},
          "execution_count": 20
        }
      ]
    },
    {
      "cell_type": "code",
      "source": [
        "u = np.array([[1], [2], [3]])\n",
        "u"
      ],
      "metadata": {
        "colab": {
          "base_uri": "https://localhost:8080/"
        },
        "id": "FRaCk2jzpskL",
        "outputId": "4bef8320-4521-470b-e1b4-1578b73f1db1"
      },
      "execution_count": 21,
      "outputs": [
        {
          "output_type": "execute_result",
          "data": {
            "text/plain": [
              "array([[1],\n",
              "       [2],\n",
              "       [3]])"
            ]
          },
          "metadata": {},
          "execution_count": 21
        }
      ]
    },
    {
      "cell_type": "code",
      "source": [
        "np.sqrt(u.T.dot(u))"
      ],
      "metadata": {
        "colab": {
          "base_uri": "https://localhost:8080/"
        },
        "id": "kPUoHq7LpyTO",
        "outputId": "517b7c92-8d5f-428c-ad26-55875194fb3e"
      },
      "execution_count": 22,
      "outputs": [
        {
          "output_type": "execute_result",
          "data": {
            "text/plain": [
              "array([[3.74165739]])"
            ]
          },
          "metadata": {},
          "execution_count": 22
        }
      ]
    },
    {
      "cell_type": "code",
      "source": [
        "np.linalg.norm(u)"
      ],
      "metadata": {
        "colab": {
          "base_uri": "https://localhost:8080/"
        },
        "id": "RdGmpn0wp1VC",
        "outputId": "76de0d8a-c2de-495b-a43d-f8df677db555"
      },
      "execution_count": 23,
      "outputs": [
        {
          "output_type": "execute_result",
          "data": {
            "text/plain": [
              "3.7416573867739413"
            ]
          },
          "metadata": {},
          "execution_count": 23
        }
      ]
    },
    {
      "cell_type": "markdown",
      "source": [
        "### 2.5.1.3 Unit Vector Creation"
      ],
      "metadata": {
        "id": "_UXCry-wp-ne"
      }
    },
    {
      "cell_type": "markdown",
      "source": [
        "$$\n",
        "\\mathbf{v} = \\begin{bmatrix}1\\\\-2\\\\2\\\\0\\end{bmatrix}\n",
        "$$\n",
        "\n",
        "Let $\\mathbf{u}$ be the unit vector version of $\\mathbf{v}$\n",
        "\n",
        "$$\n",
        "\\mathbf{u} = \\frac{1}{\\left|\\mathbf{v}\\right|}\\mathbf{v}\n",
        "$$"
      ],
      "metadata": {
        "id": "YXuCZUqKtDdp"
      }
    },
    {
      "cell_type": "code",
      "source": [
        "v = np.array([[1], [-2], [2], [0]])\n",
        "v"
      ],
      "metadata": {
        "colab": {
          "base_uri": "https://localhost:8080/"
        },
        "id": "ZuNrVIbWtNH5",
        "outputId": "8d27b0f5-8aae-49a5-afa1-f64256006c8f"
      },
      "execution_count": 24,
      "outputs": [
        {
          "output_type": "execute_result",
          "data": {
            "text/plain": [
              "array([[ 1],\n",
              "       [-2],\n",
              "       [ 2],\n",
              "       [ 0]])"
            ]
          },
          "metadata": {},
          "execution_count": 24
        }
      ]
    },
    {
      "cell_type": "code",
      "source": [
        "np.linalg.norm(v)"
      ],
      "metadata": {
        "colab": {
          "base_uri": "https://localhost:8080/"
        },
        "id": "xyPoS4JGtzo-",
        "outputId": "6995de24-f9b6-460a-876f-6014497f9a71"
      },
      "execution_count": 25,
      "outputs": [
        {
          "output_type": "execute_result",
          "data": {
            "text/plain": [
              "3.0"
            ]
          },
          "metadata": {},
          "execution_count": 25
        }
      ]
    },
    {
      "cell_type": "code",
      "source": [
        "v_unit = np.array([[1/3], [-2/3], [2/3], [0]])\n",
        "v_unit"
      ],
      "metadata": {
        "colab": {
          "base_uri": "https://localhost:8080/"
        },
        "id": "H0B9eGmut5Ng",
        "outputId": "07d9cc39-52ba-4798-f74d-3c6d5ce09a22"
      },
      "execution_count": 26,
      "outputs": [
        {
          "output_type": "execute_result",
          "data": {
            "text/plain": [
              "array([[ 0.33333333],\n",
              "       [-0.66666667],\n",
              "       [ 0.66666667],\n",
              "       [ 0.        ]])"
            ]
          },
          "metadata": {},
          "execution_count": 26
        }
      ]
    },
    {
      "cell_type": "code",
      "source": [
        "v_unit = v / np.linalg.norm(v)\n",
        "v_unit"
      ],
      "metadata": {
        "colab": {
          "base_uri": "https://localhost:8080/"
        },
        "id": "xIW9jS3PtYku",
        "outputId": "4dad46d8-c132-4f10-967b-617222842ace"
      },
      "execution_count": 27,
      "outputs": [
        {
          "output_type": "execute_result",
          "data": {
            "text/plain": [
              "array([[ 0.33333333],\n",
              "       [-0.66666667],\n",
              "       [ 0.66666667],\n",
              "       [ 0.        ]])"
            ]
          },
          "metadata": {},
          "execution_count": 27
        }
      ]
    },
    {
      "cell_type": "code",
      "source": [
        "np.linalg.norm(v_unit)"
      ],
      "metadata": {
        "colab": {
          "base_uri": "https://localhost:8080/"
        },
        "id": "ZQ1cbXs2tkYe",
        "outputId": "fb017750-e15a-48ec-8d59-68283ea77081"
      },
      "execution_count": 28,
      "outputs": [
        {
          "output_type": "execute_result",
          "data": {
            "text/plain": [
              "1.0"
            ]
          },
          "metadata": {},
          "execution_count": 28
        }
      ]
    },
    {
      "cell_type": "code",
      "source": [
        "v = sym.Matrix(v)\n",
        "v"
      ],
      "metadata": {
        "colab": {
          "base_uri": "https://localhost:8080/",
          "height": 98
        },
        "id": "5F_fqwBfuFo6",
        "outputId": "2f76f092-9613-46e3-dcd4-207986900a89"
      },
      "execution_count": 29,
      "outputs": [
        {
          "output_type": "execute_result",
          "data": {
            "text/plain": [
              "Matrix([\n",
              "[ 1],\n",
              "[-2],\n",
              "[ 2],\n",
              "[ 0]])"
            ],
            "text/latex": "$\\displaystyle \\left[\\begin{matrix}1\\\\-2\\\\2\\\\0\\end{matrix}\\right]$"
          },
          "metadata": {},
          "execution_count": 29
        }
      ]
    },
    {
      "cell_type": "code",
      "source": [
        "v / v.norm()"
      ],
      "metadata": {
        "colab": {
          "base_uri": "https://localhost:8080/",
          "height": 99
        },
        "id": "vxu04PcmuJpr",
        "outputId": "4af07e03-c9b0-4642-8b62-b27ed0703282"
      },
      "execution_count": 30,
      "outputs": [
        {
          "output_type": "execute_result",
          "data": {
            "text/plain": [
              "Matrix([\n",
              "[ 1/3],\n",
              "[-2/3],\n",
              "[ 2/3],\n",
              "[   0]])"
            ],
            "text/latex": "$\\displaystyle \\left[\\begin{matrix}\\frac{1}{3}\\\\- \\frac{2}{3}\\\\\\frac{2}{3}\\\\0\\end{matrix}\\right]$"
          },
          "metadata": {},
          "execution_count": 30
        }
      ]
    },
    {
      "cell_type": "code",
      "source": [
        "from sklearn.preprocessing import normalize"
      ],
      "metadata": {
        "id": "OQyOmWcGvDgH"
      },
      "execution_count": 31,
      "outputs": []
    },
    {
      "cell_type": "code",
      "source": [
        "v = np.array([[1], [-2], [2], [0]])\n",
        "v"
      ],
      "metadata": {
        "colab": {
          "base_uri": "https://localhost:8080/"
        },
        "id": "9TZEOFgtvLFH",
        "outputId": "f4a59e34-49ae-458c-aef3-a4a6d72ba3de"
      },
      "execution_count": 32,
      "outputs": [
        {
          "output_type": "execute_result",
          "data": {
            "text/plain": [
              "array([[ 1],\n",
              "       [-2],\n",
              "       [ 2],\n",
              "       [ 0]])"
            ]
          },
          "metadata": {},
          "execution_count": 32
        }
      ]
    },
    {
      "cell_type": "code",
      "source": [
        "normalize(v, axis=0)"
      ],
      "metadata": {
        "colab": {
          "base_uri": "https://localhost:8080/"
        },
        "id": "4ncuOHMhvTQa",
        "outputId": "dd2c15ac-fb2c-4e31-e85e-0a22d49b3afe"
      },
      "execution_count": 33,
      "outputs": [
        {
          "output_type": "execute_result",
          "data": {
            "text/plain": [
              "array([[ 0.33333333],\n",
              "       [-0.66666667],\n",
              "       [ 0.66666667],\n",
              "       [ 0.        ]])"
            ]
          },
          "metadata": {},
          "execution_count": 33
        }
      ]
    },
    {
      "cell_type": "code",
      "source": [
        "v = np.array([1, -2, 2, 0]).reshape(1, -1)\n",
        "v"
      ],
      "metadata": {
        "colab": {
          "base_uri": "https://localhost:8080/"
        },
        "id": "rcxpGKJNvjUM",
        "outputId": "25a1195e-355c-43c7-fb77-73ac15e9a1bb"
      },
      "execution_count": 34,
      "outputs": [
        {
          "output_type": "execute_result",
          "data": {
            "text/plain": [
              "array([[ 1, -2,  2,  0]])"
            ]
          },
          "metadata": {},
          "execution_count": 34
        }
      ]
    },
    {
      "cell_type": "code",
      "source": [
        "normalize(v)"
      ],
      "metadata": {
        "colab": {
          "base_uri": "https://localhost:8080/"
        },
        "id": "5-_mN0tdvmgS",
        "outputId": "bf589993-9410-4bdd-b5da-312ba7faa4d0"
      },
      "execution_count": 35,
      "outputs": [
        {
          "output_type": "execute_result",
          "data": {
            "text/plain": [
              "array([[ 0.33333333, -0.66666667,  0.66666667,  0.        ]])"
            ]
          },
          "metadata": {},
          "execution_count": 35
        }
      ]
    },
    {
      "cell_type": "markdown",
      "source": [
        "### 2.5.1.4 Distance Between Two Vectors"
      ],
      "metadata": {
        "id": "cLYSNt2Txi2R"
      }
    },
    {
      "cell_type": "markdown",
      "source": [
        "The distance between $\\mathbf{u}$ and $\\mathbf{v}$ is $\\left|\\mathbf{u} - \\mathbf{v}\\right|$"
      ],
      "metadata": {
        "id": "ONHob9oKyXMo"
      }
    },
    {
      "cell_type": "markdown",
      "source": [
        " $$\n",
        " \\mathbf{u} = \\begin{bmatrix}1\\\\2\\\\4\\end{bmatrix},\n",
        " \\mathbf{v} = \\begin{bmatrix}-1\\\\3\\\\-6\\end{bmatrix}\n",
        " $$\n",
        "\n",
        "<br>\n",
        "\n",
        " $$\n",
        " \\begin{align}\n",
        " \\left|\\mathbf{u} - \\mathbf{v}\\right| &= \\left|\n",
        " \\begin{bmatrix}1 - (-1)\\\\2 - 3\\\\4 - (-6)\\end{bmatrix}\n",
        " \\right| \\\\\n",
        " &= \\left|\\begin{bmatrix}2\\\\-1\\\\10\\end{bmatrix}\\right| \\\\\n",
        " &= \\sqrt{2^{2} + (-1)^{2} + 10^{2}} \\\\\n",
        " &= \\sqrt{105}\n",
        " \\end{align}\n",
        " $$"
      ],
      "metadata": {
        "id": "YCw0yeEq0Je2"
      }
    },
    {
      "cell_type": "code",
      "source": [
        "u = sym.Matrix([1, 2, 4])\n",
        "u"
      ],
      "metadata": {
        "colab": {
          "base_uri": "https://localhost:8080/",
          "height": 78
        },
        "id": "j3TVrRYN1h4K",
        "outputId": "aface992-8c7c-459e-bb14-b187b9096c1b"
      },
      "execution_count": 36,
      "outputs": [
        {
          "output_type": "execute_result",
          "data": {
            "text/plain": [
              "Matrix([\n",
              "[1],\n",
              "[2],\n",
              "[4]])"
            ],
            "text/latex": "$\\displaystyle \\left[\\begin{matrix}1\\\\2\\\\4\\end{matrix}\\right]$"
          },
          "metadata": {},
          "execution_count": 36
        }
      ]
    },
    {
      "cell_type": "code",
      "source": [
        "v = sym.Matrix([-1, 3, -6])\n",
        "v"
      ],
      "metadata": {
        "colab": {
          "base_uri": "https://localhost:8080/",
          "height": 78
        },
        "id": "xyQbYm-e1pEJ",
        "outputId": "4fedd3f0-6a6b-4add-ab94-3f8c8eb2c09a"
      },
      "execution_count": 37,
      "outputs": [
        {
          "output_type": "execute_result",
          "data": {
            "text/plain": [
              "Matrix([\n",
              "[-1],\n",
              "[ 3],\n",
              "[-6]])"
            ],
            "text/latex": "$\\displaystyle \\left[\\begin{matrix}-1\\\\3\\\\-6\\end{matrix}\\right]$"
          },
          "metadata": {},
          "execution_count": 37
        }
      ]
    },
    {
      "cell_type": "code",
      "source": [
        "(u - v).norm()"
      ],
      "metadata": {
        "colab": {
          "base_uri": "https://localhost:8080/",
          "height": 38
        },
        "id": "i4d9TwnG1tfj",
        "outputId": "005221e4-89df-40c0-ef9a-358fe4a0a1de"
      },
      "execution_count": 38,
      "outputs": [
        {
          "output_type": "execute_result",
          "data": {
            "text/plain": [
              "sqrt(105)"
            ],
            "text/latex": "$\\displaystyle \\sqrt{105}$"
          },
          "metadata": {},
          "execution_count": 38
        }
      ]
    },
    {
      "cell_type": "markdown",
      "source": [
        "## 2.5.2 Orthogonality, Projections and Least Squares"
      ],
      "metadata": {
        "id": "QYn09U4E37AX"
      }
    },
    {
      "cell_type": "markdown",
      "source": [
        "### 2.5.2.1 Orthogonal Vectors"
      ],
      "metadata": {
        "id": "nDZNhprL4DIy"
      }
    },
    {
      "cell_type": "markdown",
      "source": [
        "1. $\\mathbf{u}$ and $\\mathbf{v}$ are orthogonal to each other if and only if $\\mathbf{u} \\cdot \\mathbf{v}$\n",
        "2. If $\\mathbf{u}$ and $\\mathbf{v}$ are orthogonal to each other, then $\\left|\\mathbf{u} + \\mathbf{v}\\right|^{2} = \\mathbf{u}^{2} + \\mathbf{v}^{2}$"
      ],
      "metadata": {
        "id": "lU6PfiGj42hk"
      }
    },
    {
      "cell_type": "markdown",
      "source": [
        "In $\\mathbb{R}^{2}$ and $\\mathbb{R}^{3}$, $\\mathbf{u}\\cdot\\mathbf{v} = \\left|\\mathbf{u}\\right|\\left|\\mathbf{v}\\right|\\cos{\\theta}$, where $\\theta$ is the angle between $\\mathbf{u}$ and $\\mathbf{v}$."
      ],
      "metadata": {
        "id": "5KJc7Z2x8bbt"
      }
    },
    {
      "cell_type": "markdown",
      "source": [
        "### 2.5.2.2 Orthogonal Projections"
      ],
      "metadata": {
        "id": "zKup7oP38ynA"
      }
    },
    {
      "cell_type": "markdown",
      "source": [
        "$$\n",
        "\\mathbf{y} = \\begin{bmatrix}7\\\\6\\end{bmatrix},\n",
        "\\mathbf{u} = \\begin{bmatrix}4\\\\2\\end{bmatrix}\n",
        "$$\n",
        "\n",
        "We want the **orthogonal projection** of $\\mathbf{y}$ on $\\mathbf{u}$, denoted by $\\text{proj}_{u}y$.\n",
        "\n",
        "$$\n",
        "\\text{proj}_{u}y = \\frac{\\mathbf{y}\\cdot\\mathbf{u}}{\\mathbf{u}\\cdot\\mathbf{u}}\\mathbf{u}\n",
        "$$\n",
        "\n"
      ],
      "metadata": {
        "id": "0tbdZq3Q7lDx"
      }
    },
    {
      "cell_type": "code",
      "source": [
        "y = np.array([7, 6])\n",
        "u = np.array([4, 2])\n",
        "\n",
        "proj_u_y = (y.T.dot(u)/(u.T.dot(u))) * u\n",
        "proj_u_y"
      ],
      "metadata": {
        "colab": {
          "base_uri": "https://localhost:8080/"
        },
        "id": "-JB83b1F88ze",
        "outputId": "5d044af0-7216-456a-ce10-d0d52914767c"
      },
      "execution_count": 39,
      "outputs": [
        {
          "output_type": "execute_result",
          "data": {
            "text/plain": [
              "array([8., 4.])"
            ]
          },
          "metadata": {},
          "execution_count": 39
        }
      ]
    },
    {
      "cell_type": "markdown",
      "source": [
        "I've decided to use `plt.arrow` instead of `plt.quiver`. I think this is a better choice for drawing vectors."
      ],
      "metadata": {
        "id": "EOSYQdNZ7lNI"
      }
    },
    {
      "cell_type": "code",
      "source": [
        "y = np.array([7, 6])\n",
        "u = np.array([4, 2])\n",
        "\n",
        "# line on which u lies\n",
        "line_x = np.linspace(-1, 9, 100)\n",
        "slope_u = u[1] / u[0]\n",
        "line_u = lambda x: slope_u * x\n",
        "plt.plot(line_x, line_u(line_x), color='green', zorder=-1)\n",
        "\n",
        "# vector y\n",
        "# ------------------\n",
        "plt.arrow(0, 0, *y,\n",
        "          width=0.05,\n",
        "          linewidth=2,\n",
        "          color='red',\n",
        "          length_includes_head=True)\n",
        "plt.annotate(r'$\\mathbf{y}$', xy=(3.5, 3.5),\n",
        "             size=14, color='red')\n",
        "# ------------------\n",
        "\n",
        "# vector u\n",
        "# ------------------\n",
        "plt.arrow(0, 0, *u,\n",
        "          width=0.05,\n",
        "          linewidth=2,\n",
        "          color='dodgerblue',\n",
        "          length_includes_head=True)\n",
        "plt.annotate(r'$\\mathbf{u}$', xy=(2.3, 0.7),\n",
        "             size=14, color='dodgerblue')\n",
        "# ------------------\n",
        "\n",
        "# projection of y on u\n",
        "# ------------------\n",
        "proj_u_y = (y.T.dot(u) / u.T.dot(u)) * u\n",
        "plt.plot((y[0], proj_u_y[0]), (y[1], proj_u_y[1]), color='purple')\n",
        "plt.annotate(r'$proj_{u}y$', xy=(7.8, 5),\n",
        "             size=12, color='purple')\n",
        "# ------------------\n",
        "\n",
        "# right angle square\n",
        "# ------------------\n",
        "_x = sym.symbols('x')\n",
        "# point on u used for right angle square\n",
        "x_on_u = min(sym.solve((proj_u_y[0] - _x)**2 + (proj_u_y[1] - line_u(_x))**2 - 1/15,\n",
        "                       _x)).evalf()\n",
        "y_on_u = slope_u * x_on_u\n",
        "# point on projection used for right angle square\n",
        "slope_proj = -u[0] / u[1]\n",
        "line_proj = lambda x: slope_proj * (x - proj_u_y[0]) + proj_u_y[1]\n",
        "x_on_proj = min(sym.solve((proj_u_y[0] - _x)**2 + (proj_u_y[1] - line_proj(_x))**2 - 1/15,\n",
        "                          _x))\n",
        "y_on_proj = line_proj(x_on_proj)\n",
        "# corner point of right angle square\n",
        "line_parallel_to_proj = lambda x: slope_proj * (x - x_on_u) + y_on_u\n",
        "right_square_x = min(sym.solve((x_on_u - _x)**2 + (y_on_u - line_parallel_to_proj(_x))**2 - 1/15,\n",
        "                               _x))\n",
        "right_square_y = line_parallel_to_proj(right_square_x)\n",
        "plt.plot((x_on_u, right_square_x), (y_on_u, right_square_y), color='black')\n",
        "plt.plot((x_on_proj, right_square_x), (y_on_proj, right_square_y), color='black')\n",
        "## ------------------\n",
        "\n",
        "plt.xticks(np.linspace(-1, 9, 11))\n",
        "plt.yticks(np.linspace(-1, 9, 11))\n",
        "plt.axis('equal')\n",
        "plt.title(r'$proj_{u}y$')\n",
        "plt.grid()"
      ],
      "metadata": {
        "colab": {
          "base_uri": "https://localhost:8080/",
          "height": 454
        },
        "id": "myjIBR6n_02P",
        "outputId": "be4b71d3-ca1b-4da6-b53d-9baff18359f5"
      },
      "execution_count": 40,
      "outputs": [
        {
          "output_type": "display_data",
          "data": {
            "text/plain": [
              "<Figure size 640x480 with 1 Axes>"
            ],
            "image/png": "[encoded data removed]"
          },
          "metadata": {}
        }
      ]
    },
    {
      "cell_type": "markdown",
      "source": [
        "### 2.5.2.3 Least Square Overview"
      ],
      "metadata": {
        "id": "Zktql-Zf_cF2"
      }
    },
    {
      "cell_type": "markdown",
      "source": [
        "Sometimes there is no solution to $\\mathbf{A}\\mathbf{x} = \\mathbf{b}$ but we need the best fit.\n",
        "\n",
        "It is important to remember that matrix multiplication is not commutative, so if we multiply the left side **on the left** we must also multiple the right side **on the left**. Note also, that even if $\\mathbf{A}$ is not a square matrix, $\\mathbf{A}^{T}\\mathbf{A}$ is a square matrix.\n",
        "\n",
        "$$\n",
        "\\begin{align}\n",
        "&\\mathbf{A}\\mathbf{x} = \\mathbf{b} \\\\\n",
        "&\\implies\\mathbf{A}^{T}\\mathbf{A}\\mathbf{x} = \\mathbf{A}^{T}\\mathbf{b} \\\\\n",
        "&\\implies\\left(\\mathbf{A}^{T}\\mathbf{A}\\right)^{-1}\\left(\\mathbf{A}^{T}\\mathbf{A}\\right)\\mathbf{x} = \\left(\\mathbf{A}^{T}\\mathbf{A}\\right)^{-1}\\mathbf{A}^{T}\\mathbf{b} \\\\\n",
        "&\\implies\\mathbf{I}\\mathbf{x} = \\left(\\mathbf{A}^{T}\\mathbf{A}\\right)^{-1}\\mathbf{A}^{T}\\mathbf{b} \\\\\n",
        "&\\implies \\widehat{\\mathbf{x}} = \\left(\\mathbf{A}^{T}\\mathbf{A}\\right)^{-1}\\mathbf{A}^{T}\\mathbf{b}\n",
        "\\end{align}\n",
        "$$\n",
        "\n",
        "Note that $\\widehat{\\mathbf{x}}$ is the best fit approximation of $\\mathbf{x}$."
      ],
      "metadata": {
        "id": "45-9_PFUAO26"
      }
    },
    {
      "cell_type": "markdown",
      "source": [
        "### 2.5.2.4 Least Squares Example\n",
        "\n",
        "Solve for $\\mathbf{x}$ in $\\mathbf{A}\\mathbf{x} = \\mathbf{b}$"
      ],
      "metadata": {
        "id": "EnU8jL_mHBaj"
      }
    },
    {
      "cell_type": "code",
      "source": [
        "A = sym.Matrix([[4, 0],\n",
        "                [0, 2],\n",
        "                [1, 1]])\n",
        "A"
      ],
      "metadata": {
        "colab": {
          "base_uri": "https://localhost:8080/",
          "height": 78
        },
        "id": "elDNansAWg2g",
        "outputId": "3146efb3-5b3a-40a6-b42a-1e732802fec6"
      },
      "execution_count": 41,
      "outputs": [
        {
          "output_type": "execute_result",
          "data": {
            "text/plain": [
              "Matrix([\n",
              "[4, 0],\n",
              "[0, 2],\n",
              "[1, 1]])"
            ],
            "text/latex": "$\\displaystyle \\left[\\begin{matrix}4 & 0\\\\0 & 2\\\\1 & 1\\end{matrix}\\right]$"
          },
          "metadata": {},
          "execution_count": 41
        }
      ]
    },
    {
      "cell_type": "code",
      "source": [
        "b = sym.Matrix([2, 0, 11])\n",
        "b"
      ],
      "metadata": {
        "colab": {
          "base_uri": "https://localhost:8080/",
          "height": 78
        },
        "id": "JsCs9yfjWn8n",
        "outputId": "1d956670-55ac-41d8-f9e8-774f7d45e964"
      },
      "execution_count": 42,
      "outputs": [
        {
          "output_type": "execute_result",
          "data": {
            "text/plain": [
              "Matrix([\n",
              "[ 2],\n",
              "[ 0],\n",
              "[11]])"
            ],
            "text/latex": "$\\displaystyle \\left[\\begin{matrix}2\\\\0\\\\11\\end{matrix}\\right]$"
          },
          "metadata": {},
          "execution_count": 42
        }
      ]
    },
    {
      "cell_type": "code",
      "source": [
        "A.T @ A"
      ],
      "metadata": {
        "colab": {
          "base_uri": "https://localhost:8080/",
          "height": 58
        },
        "id": "bGBw7gg8X6CI",
        "outputId": "193d73eb-378f-494c-8e51-dbae3fe9fa71"
      },
      "execution_count": 43,
      "outputs": [
        {
          "output_type": "execute_result",
          "data": {
            "text/plain": [
              "Matrix([\n",
              "[17, 1],\n",
              "[ 1, 5]])"
            ],
            "text/latex": "$\\displaystyle \\left[\\begin{matrix}17 & 1\\\\1 & 5\\end{matrix}\\right]$"
          },
          "metadata": {},
          "execution_count": 43
        }
      ]
    },
    {
      "cell_type": "code",
      "source": [
        "(A.T @ A).inv()\n"
      ],
      "metadata": {
        "colab": {
          "base_uri": "https://localhost:8080/",
          "height": 58
        },
        "id": "pd7xp9qpYTnK",
        "outputId": "6c3ae39f-5ced-497c-dd92-a863ab7fe20b"
      },
      "execution_count": 44,
      "outputs": [
        {
          "output_type": "execute_result",
          "data": {
            "text/plain": [
              "Matrix([\n",
              "[ 5/84, -1/84],\n",
              "[-1/84, 17/84]])"
            ],
            "text/latex": "$\\displaystyle \\left[\\begin{matrix}\\frac{5}{84} & - \\frac{1}{84}\\\\- \\frac{1}{84} & \\frac{17}{84}\\end{matrix}\\right]$"
          },
          "metadata": {},
          "execution_count": 44
        }
      ]
    },
    {
      "cell_type": "code",
      "source": [
        "(A.T @ A).inv() @ A.T"
      ],
      "metadata": {
        "colab": {
          "base_uri": "https://localhost:8080/",
          "height": 58
        },
        "id": "5IcVQWpeanxa",
        "outputId": "bdfc3c02-a251-4134-a88a-d77f3caa05b9"
      },
      "execution_count": 45,
      "outputs": [
        {
          "output_type": "execute_result",
          "data": {
            "text/plain": [
              "Matrix([\n",
              "[ 5/21, -1/42, 1/21],\n",
              "[-1/21, 17/42, 4/21]])"
            ],
            "text/latex": "$\\displaystyle \\left[\\begin{matrix}\\frac{5}{21} & - \\frac{1}{42} & \\frac{1}{21}\\\\- \\frac{1}{21} & \\frac{17}{42} & \\frac{4}{21}\\end{matrix}\\right]$"
          },
          "metadata": {},
          "execution_count": 45
        }
      ]
    },
    {
      "cell_type": "code",
      "source": [
        "(A.T @ A).inv() @ A.T @ b"
      ],
      "metadata": {
        "colab": {
          "base_uri": "https://localhost:8080/",
          "height": 58
        },
        "id": "qq_7LYcTay_3",
        "outputId": "226019a7-51c8-4e64-e1c0-2f7abdb874ed"
      },
      "execution_count": 46,
      "outputs": [
        {
          "output_type": "execute_result",
          "data": {
            "text/plain": [
              "Matrix([\n",
              "[1],\n",
              "[2]])"
            ],
            "text/latex": "$\\displaystyle \\left[\\begin{matrix}1\\\\2\\end{matrix}\\right]$"
          },
          "metadata": {},
          "execution_count": 46
        }
      ]
    },
    {
      "cell_type": "code",
      "source": [
        "# using sympy\n",
        "A.LDLsolve(b)"
      ],
      "metadata": {
        "colab": {
          "base_uri": "https://localhost:8080/",
          "height": 58
        },
        "id": "l8B0bxNjc0j3",
        "outputId": "7359cbf4-bf12-48ef-d94e-ed52b8bddb18"
      },
      "execution_count": 47,
      "outputs": [
        {
          "output_type": "execute_result",
          "data": {
            "text/plain": [
              "Matrix([\n",
              "[1],\n",
              "[2]])"
            ],
            "text/latex": "$\\displaystyle \\left[\\begin{matrix}1\\\\2\\end{matrix}\\right]$"
          },
          "metadata": {},
          "execution_count": 47
        }
      ]
    },
    {
      "cell_type": "code",
      "source": [
        "A @ A.LDLsolve(b), b"
      ],
      "metadata": {
        "colab": {
          "base_uri": "https://localhost:8080/"
        },
        "id": "egMdJTdNeoAu",
        "outputId": "95cf5a62-11e5-4c24-f9b9-76fa93ba4a9a"
      },
      "execution_count": 48,
      "outputs": [
        {
          "output_type": "execute_result",
          "data": {
            "text/plain": [
              "(Matrix([\n",
              " [4],\n",
              " [4],\n",
              " [3]]),\n",
              " Matrix([\n",
              " [ 2],\n",
              " [ 0],\n",
              " [11]]))"
            ]
          },
          "metadata": {},
          "execution_count": 48
        }
      ]
    },
    {
      "cell_type": "markdown",
      "source": [
        "#### Using sklearn"
      ],
      "metadata": {
        "id": "zjrh3uz7rw76"
      }
    },
    {
      "cell_type": "code",
      "source": [
        "from sklearn.linear_model import LinearRegression"
      ],
      "metadata": {
        "id": "NnmsTUe1rzWw"
      },
      "execution_count": 49,
      "outputs": []
    },
    {
      "cell_type": "code",
      "source": [
        "A = np.array([[4, 0],\n",
        "              [0, 2],\n",
        "              [1, 1]])\n",
        "b = np.array([2, 0, 11])"
      ],
      "metadata": {
        "id": "zWDtPuNFr-ia"
      },
      "execution_count": 50,
      "outputs": []
    },
    {
      "cell_type": "code",
      "source": [
        "model = LinearRegression(fit_intercept=False)\n",
        "model.fit(A, b)"
      ],
      "metadata": {
        "colab": {
          "base_uri": "https://localhost:8080/",
          "height": 75
        },
        "id": "jySq_NVyr4DD",
        "outputId": "e194f1fb-d0a3-4a02-c3f7-b297132fa528"
      },
      "execution_count": 51,
      "outputs": [
        {
          "output_type": "execute_result",
          "data": {
            "text/plain": [
              "LinearRegression(fit_intercept=False)"
            ],
            "text/html": [
              "<style>#sk-container-id-1 {color: black;background-color: white;}#sk-container-id-1 pre{padding: 0;}#sk-container-id-1 div.sk-toggleable {background-color: white;}#sk-container-id-1 label.sk-toggleable__label {cursor: pointer;display: block;width: 100%;margin-bottom: 0;padding: 0.3em;box-sizing: border-box;text-align: center;}#sk-container-id-1 label.sk-toggleable__label-arrow:before {content: \"▸\";float: left;margin-right: 0.25em;color: #696969;}#sk-container-id-1 label.sk-toggleable__label-arrow:hover:before {color: black;}#sk-container-id-1 div.sk-estimator:hover label.sk-toggleable__label-arrow:before {color: black;}#sk-container-id-1 div.sk-toggleable__content {max-height: 0;max-width: 0;overflow: hidden;text-align: left;background-color: #f0f8ff;}#sk-container-id-1 div.sk-toggleable__content pre {margin: 0.2em;color: black;border-radius: 0.25em;background-color: #f0f8ff;}#sk-container-id-1 input.sk-toggleable__control:checked~div.sk-toggleable__content {max-height: 200px;max-width: 100%;overflow: auto;}#sk-container-id-1 input.sk-toggleable__control:checked~label.sk-toggleable__label-arrow:before {content: \"▾\";}#sk-container-id-1 div.sk-estimator input.sk-toggleable__control:checked~label.sk-toggleable__label {background-color: #d4ebff;}#sk-container-id-1 div.sk-label input.sk-toggleable__control:checked~label.sk-toggleable__label {background-color: #d4ebff;}#sk-container-id-1 input.sk-hidden--visually {border: 0;clip: rect(1px 1px 1px 1px);clip: rect(1px, 1px, 1px, 1px);height: 1px;margin: -1px;overflow: hidden;padding: 0;position: absolute;width: 1px;}#sk-container-id-1 div.sk-estimator {font-family: monospace;background-color: #f0f8ff;border: 1px dotted black;border-radius: 0.25em;box-sizing: border-box;margin-bottom: 0.5em;}#sk-container-id-1 div.sk-estimator:hover {background-color: #d4ebff;}#sk-container-id-1 div.sk-parallel-item::after {content: \"\";width: 100%;border-bottom: 1px solid gray;flex-grow: 1;}#sk-container-id-1 div.sk-label:hover label.sk-toggleable__label {background-color: #d4ebff;}#sk-container-id-1 div.sk-serial::before {content: \"\";position: absolute;border-left: 1px solid gray;box-sizing: border-box;top: 0;bottom: 0;left: 50%;z-index: 0;}#sk-container-id-1 div.sk-serial {display: flex;flex-direction: column;align-items: center;background-color: white;padding-right: 0.2em;padding-left: 0.2em;position: relative;}#sk-container-id-1 div.sk-item {position: relative;z-index: 1;}#sk-container-id-1 div.sk-parallel {display: flex;align-items: stretch;justify-content: center;background-color: white;position: relative;}#sk-container-id-1 div.sk-item::before, #sk-container-id-1 div.sk-parallel-item::before {content: \"\";position: absolute;border-left: 1px solid gray;box-sizing: border-box;top: 0;bottom: 0;left: 50%;z-index: -1;}#sk-container-id-1 div.sk-parallel-item {display: flex;flex-direction: column;z-index: 1;position: relative;background-color: white;}#sk-container-id-1 div.sk-parallel-item:first-child::after {align-self: flex-end;width: 50%;}#sk-container-id-1 div.sk-parallel-item:last-child::after {align-self: flex-start;width: 50%;}#sk-container-id-1 div.sk-parallel-item:only-child::after {width: 0;}#sk-container-id-1 div.sk-dashed-wrapped {border: 1px dashed gray;margin: 0 0.4em 0.5em 0.4em;box-sizing: border-box;padding-bottom: 0.4em;background-color: white;}#sk-container-id-1 div.sk-label label {font-family: monospace;font-weight: bold;display: inline-block;line-height: 1.2em;}#sk-container-id-1 div.sk-label-container {text-align: center;}#sk-container-id-1 div.sk-container {/* jupyter's `normalize.less` sets `[hidden] { display: none; }` but bootstrap.min.css set `[hidden] { display: none !important; }` so we also need the `!important` here to be able to override the default hidden behavior on the sphinx rendered scikit-learn.org. See: https://github.com/scikit-learn/scikit-learn/issues/21755 */display: inline-block !important;position: relative;}#sk-container-id-1 div.sk-text-repr-fallback {display: none;}</style><div id=\"sk-container-id-1\" class=\"sk-top-container\"><div class=\"sk-text-repr-fallback\"><pre>LinearRegression(fit_intercept=False)</pre><b>In a Jupyter environment, please rerun this cell to show the HTML representation or trust the notebook. <br />On GitHub, the HTML representation is unable to render, please try loading this page with nbviewer.org.</b></div><div class=\"sk-container\" hidden><div class=\"sk-item\"><div class=\"sk-estimator sk-toggleable\"><input class=\"sk-toggleable__control sk-hidden--visually\" id=\"sk-estimator-id-1\" type=\"checkbox\" checked><label for=\"sk-estimator-id-1\" class=\"sk-toggleable__label sk-toggleable__label-arrow\">LinearRegression</label><div class=\"sk-toggleable__content\"><pre>LinearRegression(fit_intercept=False)</pre></div></div></div></div></div>"
            ]
          },
          "metadata": {},
          "execution_count": 51
        }
      ]
    },
    {
      "cell_type": "code",
      "source": [
        "model.coef_"
      ],
      "metadata": {
        "colab": {
          "base_uri": "https://localhost:8080/"
        },
        "id": "qAXYjeeesJeg",
        "outputId": "b8edff91-7a3c-4d22-e272-90a79ee99fee"
      },
      "execution_count": 52,
      "outputs": [
        {
          "output_type": "execute_result",
          "data": {
            "text/plain": [
              "array([1., 2.])"
            ]
          },
          "metadata": {},
          "execution_count": 52
        }
      ]
    }
  ]
}