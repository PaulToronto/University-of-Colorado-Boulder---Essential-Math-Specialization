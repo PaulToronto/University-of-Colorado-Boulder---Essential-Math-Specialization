{
  "nbformat": 4,
  "nbformat_minor": 0,
  "metadata": {
    "colab": {
      "provenance": [],
      "toc_visible": true,
      "authorship_tag": "ABX9TyMZWfiOmnuRo3QdN6WFG9Qt",
      "include_colab_link": true
    },
    "kernelspec": {
      "name": "python3",
      "display_name": "Python 3"
    },
    "language_info": {
      "name": "python"
    }
  },
  "cells": [
    {
      "cell_type": "markdown",
      "metadata": {
        "id": "view-in-github",
        "colab_type": "text"
      },
      "source": [
        "<a href=\"https://colab.research.google.com/github/PaulToronto/University-of-Colorado-Boulder---Essential-Math-Specialization/blob/main/2_5_Projections_and_Least_Squares.ipynb\" target=\"_parent\"><img src=\"https://colab.research.google.com/assets/colab-badge.svg\" alt=\"Open In Colab\"/></a>"
      ]
    },
    {
      "cell_type": "markdown",
      "source": [
        "# 2.5 Projections and Least Squares"
      ],
      "metadata": {
        "id": "I8CoqwdWceo-"
      }
    },
    {
      "cell_type": "markdown",
      "source": [
        "## Imports"
      ],
      "metadata": {
        "id": "3u-_zV4_ckaj"
      }
    },
    {
      "cell_type": "code",
      "execution_count": 59,
      "metadata": {
        "id": "VySTZ2BgcYa3"
      },
      "outputs": [],
      "source": [
        "import sympy as sym\n",
        "import numpy as np\n",
        "\n",
        "import matplotlib.pyplot as plt"
      ]
    },
    {
      "cell_type": "markdown",
      "source": [
        "## 2.5.1 Important Final Concepts"
      ],
      "metadata": {
        "id": "gIRYGk13cnmy"
      }
    },
    {
      "cell_type": "markdown",
      "source": [
        "### 2.5.1.1 Transpose and Inner (Dot) Product"
      ],
      "metadata": {
        "id": "thOaN39LcsdT"
      }
    },
    {
      "cell_type": "markdown",
      "source": [
        "#### Transpose\n",
        "\n",
        "The rows and the columns are flipped."
      ],
      "metadata": {
        "id": "ebE27R7yhl6G"
      }
    },
    {
      "cell_type": "markdown",
      "source": [
        "$$\n",
        "\\mathbf{A} = \\begin{bmatrix}3&4\\\\2&5\\\\1&6\\end{bmatrix},\n",
        "\\mathbf{A^{T}} = \\begin{bmatrix}3&2&1\\\\4&5&6\\end{bmatrix}\n",
        "$$"
      ],
      "metadata": {
        "id": "iz1kdInDhq_H"
      }
    },
    {
      "cell_type": "code",
      "source": [
        "A = np.array([[3, 4],\n",
        "              [2, 5],\n",
        "              [1, 6]])"
      ],
      "metadata": {
        "id": "POHGNwVriF7a"
      },
      "execution_count": 2,
      "outputs": []
    },
    {
      "cell_type": "code",
      "source": [
        "A.T"
      ],
      "metadata": {
        "colab": {
          "base_uri": "https://localhost:8080/"
        },
        "id": "vHVKx0nPiOgg",
        "outputId": "213f9c57-1283-464b-a658-c385912b5678"
      },
      "execution_count": 3,
      "outputs": [
        {
          "output_type": "execute_result",
          "data": {
            "text/plain": [
              "array([[3, 2, 1],\n",
              "       [4, 5, 6]])"
            ]
          },
          "metadata": {},
          "execution_count": 3
        }
      ]
    },
    {
      "cell_type": "code",
      "source": [
        "A = sym.Matrix(A)\n",
        "A"
      ],
      "metadata": {
        "colab": {
          "base_uri": "https://localhost:8080/",
          "height": 78
        },
        "id": "5jbLy2e4iQur",
        "outputId": "06345186-634c-4365-f827-42c3d7adb51e"
      },
      "execution_count": 4,
      "outputs": [
        {
          "output_type": "execute_result",
          "data": {
            "text/plain": [
              "Matrix([\n",
              "[3, 4],\n",
              "[2, 5],\n",
              "[1, 6]])"
            ],
            "text/latex": "$\\displaystyle \\left[\\begin{matrix}3 & 4\\\\2 & 5\\\\1 & 6\\end{matrix}\\right]$"
          },
          "metadata": {},
          "execution_count": 4
        }
      ]
    },
    {
      "cell_type": "code",
      "source": [
        "A.T"
      ],
      "metadata": {
        "colab": {
          "base_uri": "https://localhost:8080/",
          "height": 58
        },
        "id": "ERynccttiTm3",
        "outputId": "069b688a-170b-4ee4-885b-b43919e793e9"
      },
      "execution_count": 5,
      "outputs": [
        {
          "output_type": "execute_result",
          "data": {
            "text/plain": [
              "Matrix([\n",
              "[3, 2, 1],\n",
              "[4, 5, 6]])"
            ],
            "text/latex": "$\\displaystyle \\left[\\begin{matrix}3 & 2 & 1\\\\4 & 5 & 6\\end{matrix}\\right]$"
          },
          "metadata": {},
          "execution_count": 5
        }
      ]
    },
    {
      "cell_type": "code",
      "source": [
        "B = sym.Matrix([1, 2, 3])\n",
        "B"
      ],
      "metadata": {
        "colab": {
          "base_uri": "https://localhost:8080/",
          "height": 78
        },
        "id": "dB5AVtIGi4EC",
        "outputId": "f55c389f-5da2-4de9-de1a-31aa227a9b4f"
      },
      "execution_count": 6,
      "outputs": [
        {
          "output_type": "execute_result",
          "data": {
            "text/plain": [
              "Matrix([\n",
              "[1],\n",
              "[2],\n",
              "[3]])"
            ],
            "text/latex": "$\\displaystyle \\left[\\begin{matrix}1\\\\2\\\\3\\end{matrix}\\right]$"
          },
          "metadata": {},
          "execution_count": 6
        }
      ]
    },
    {
      "cell_type": "code",
      "source": [
        "B.T"
      ],
      "metadata": {
        "colab": {
          "base_uri": "https://localhost:8080/",
          "height": 39
        },
        "id": "fYL4kEdWi65C",
        "outputId": "f1966e19-d7d0-4eb6-f61e-4cab012ed79d"
      },
      "execution_count": 7,
      "outputs": [
        {
          "output_type": "execute_result",
          "data": {
            "text/plain": [
              "Matrix([[1, 2, 3]])"
            ],
            "text/latex": "$\\displaystyle \\left[\\begin{matrix}1 & 2 & 3\\end{matrix}\\right]$"
          },
          "metadata": {},
          "execution_count": 7
        }
      ]
    },
    {
      "cell_type": "code",
      "source": [
        "B.T.T"
      ],
      "metadata": {
        "colab": {
          "base_uri": "https://localhost:8080/",
          "height": 78
        },
        "id": "Mp6HUmwbjFpn",
        "outputId": "e4f705d5-26af-4dca-8494-53f9791e587d"
      },
      "execution_count": 8,
      "outputs": [
        {
          "output_type": "execute_result",
          "data": {
            "text/plain": [
              "Matrix([\n",
              "[1],\n",
              "[2],\n",
              "[3]])"
            ],
            "text/latex": "$\\displaystyle \\left[\\begin{matrix}1\\\\2\\\\3\\end{matrix}\\right]$"
          },
          "metadata": {},
          "execution_count": 8
        }
      ]
    },
    {
      "cell_type": "markdown",
      "source": [
        "#### Dot Product (aka Inner Product)\n",
        "\n",
        "The dot product is **commutative**."
      ],
      "metadata": {
        "id": "XEQ99C_TiW6m"
      }
    },
    {
      "cell_type": "markdown",
      "source": [
        "$$\n",
        "\\mathbf{u} = \\begin{bmatrix}2\\\\-5\\\\-1\\end{bmatrix},\n",
        "\\mathbf{v} = \\begin{bmatrix}3\\\\2\\\\-3\\end{bmatrix}\n",
        "$$"
      ],
      "metadata": {
        "id": "Qw0gyVBOhE7s"
      }
    },
    {
      "cell_type": "code",
      "source": [
        "u = np.array([[2], [-5], [-1]])\n",
        "u"
      ],
      "metadata": {
        "colab": {
          "base_uri": "https://localhost:8080/"
        },
        "id": "3csgWQYGjQvy",
        "outputId": "601e2eb6-cf21-46f2-d068-9951f9cb010f"
      },
      "execution_count": 9,
      "outputs": [
        {
          "output_type": "execute_result",
          "data": {
            "text/plain": [
              "array([[ 2],\n",
              "       [-5],\n",
              "       [-1]])"
            ]
          },
          "metadata": {},
          "execution_count": 9
        }
      ]
    },
    {
      "cell_type": "code",
      "source": [
        "v = np.array([[3], [2], [-3]])\n",
        "v"
      ],
      "metadata": {
        "colab": {
          "base_uri": "https://localhost:8080/"
        },
        "id": "cyrjC056jbtb",
        "outputId": "454b1869-e46a-408f-afa2-8b2a5509da7b"
      },
      "execution_count": 10,
      "outputs": [
        {
          "output_type": "execute_result",
          "data": {
            "text/plain": [
              "array([[ 3],\n",
              "       [ 2],\n",
              "       [-3]])"
            ]
          },
          "metadata": {},
          "execution_count": 10
        }
      ]
    },
    {
      "cell_type": "code",
      "source": [
        "np.dot(u.T, v)"
      ],
      "metadata": {
        "colab": {
          "base_uri": "https://localhost:8080/"
        },
        "id": "1jfXYCtYjgKX",
        "outputId": "b8b8863f-3a0a-4603-c697-2ef26d973a37"
      },
      "execution_count": 11,
      "outputs": [
        {
          "output_type": "execute_result",
          "data": {
            "text/plain": [
              "array([[-1]])"
            ]
          },
          "metadata": {},
          "execution_count": 11
        }
      ]
    },
    {
      "cell_type": "code",
      "source": [
        "np.dot(u.T, u)"
      ],
      "metadata": {
        "colab": {
          "base_uri": "https://localhost:8080/"
        },
        "id": "V4qDTtafl91T",
        "outputId": "0575fec6-33ad-4831-fee0-957ecbf0c60d"
      },
      "execution_count": 12,
      "outputs": [
        {
          "output_type": "execute_result",
          "data": {
            "text/plain": [
              "array([[30]])"
            ]
          },
          "metadata": {},
          "execution_count": 12
        }
      ]
    },
    {
      "cell_type": "code",
      "source": [
        "u.T.dot(v)"
      ],
      "metadata": {
        "colab": {
          "base_uri": "https://localhost:8080/"
        },
        "id": "SIoaDWEulXjV",
        "outputId": "2919cad7-3a14-4156-8d69-da67df12e4b7"
      },
      "execution_count": 13,
      "outputs": [
        {
          "output_type": "execute_result",
          "data": {
            "text/plain": [
              "array([[-1]])"
            ]
          },
          "metadata": {},
          "execution_count": 13
        }
      ]
    },
    {
      "cell_type": "code",
      "source": [
        "sum(u * v)"
      ],
      "metadata": {
        "colab": {
          "base_uri": "https://localhost:8080/"
        },
        "id": "cqBpDrIplgq4",
        "outputId": "36128382-d61d-467c-9e35-86100f7bf536"
      },
      "execution_count": 14,
      "outputs": [
        {
          "output_type": "execute_result",
          "data": {
            "text/plain": [
              "array([-1])"
            ]
          },
          "metadata": {},
          "execution_count": 14
        }
      ]
    },
    {
      "cell_type": "code",
      "source": [
        "u = sym.Matrix(u)\n",
        "u"
      ],
      "metadata": {
        "colab": {
          "base_uri": "https://localhost:8080/",
          "height": 78
        },
        "id": "NHh5VQ6JkWlG",
        "outputId": "8c58ec1b-7683-4bc7-c5a5-12289cdca596"
      },
      "execution_count": 15,
      "outputs": [
        {
          "output_type": "execute_result",
          "data": {
            "text/plain": [
              "Matrix([\n",
              "[ 2],\n",
              "[-5],\n",
              "[-1]])"
            ],
            "text/latex": "$\\displaystyle \\left[\\begin{matrix}2\\\\-5\\\\-1\\end{matrix}\\right]$"
          },
          "metadata": {},
          "execution_count": 15
        }
      ]
    },
    {
      "cell_type": "code",
      "source": [
        "v = sym.Matrix(v)\n",
        "v"
      ],
      "metadata": {
        "colab": {
          "base_uri": "https://localhost:8080/",
          "height": 78
        },
        "id": "2wqkQQUakabS",
        "outputId": "87273e98-5156-4040-d90b-5695355de28a"
      },
      "execution_count": 16,
      "outputs": [
        {
          "output_type": "execute_result",
          "data": {
            "text/plain": [
              "Matrix([\n",
              "[ 3],\n",
              "[ 2],\n",
              "[-3]])"
            ],
            "text/latex": "$\\displaystyle \\left[\\begin{matrix}3\\\\2\\\\-3\\end{matrix}\\right]$"
          },
          "metadata": {},
          "execution_count": 16
        }
      ]
    },
    {
      "cell_type": "code",
      "source": [
        "u.dot(v)"
      ],
      "metadata": {
        "colab": {
          "base_uri": "https://localhost:8080/",
          "height": 37
        },
        "id": "34dem7pLkdZA",
        "outputId": "43e8dba8-e420-4628-964a-877e54217f57"
      },
      "execution_count": 17,
      "outputs": [
        {
          "output_type": "execute_result",
          "data": {
            "text/plain": [
              "-1"
            ],
            "text/latex": "$\\displaystyle -1$"
          },
          "metadata": {},
          "execution_count": 17
        }
      ]
    },
    {
      "cell_type": "markdown",
      "source": [
        "### 2.5.1.2 Norm (Length) of a Vector"
      ],
      "metadata": {
        "id": "xwtK9GkxmVfi"
      }
    },
    {
      "cell_type": "markdown",
      "source": [
        "$$\n",
        "\\mathbf{v} = \\begin{bmatrix}v_1\\\\v_2\\\\\\vdots\\\\v_n\\end{bmatrix}\n",
        "$$\n",
        "\n",
        "$$\n",
        "\\begin{align}\n",
        "&\\left|v\\right|^{2} = v \\cdot v \\\\\n",
        "&\\implies \\left|v\\right| = \\sqrt{v \\cdot v}\n",
        "\\end{align}\n",
        "$$"
      ],
      "metadata": {
        "id": "XZVxyU21nFVV"
      }
    },
    {
      "cell_type": "code",
      "source": [
        "v1, v2, v3 = sym.symbols('v_1 v_2 v_3')\n",
        "\n",
        "v = sym.Matrix([v1, v2, v3])\n",
        "v"
      ],
      "metadata": {
        "colab": {
          "base_uri": "https://localhost:8080/",
          "height": 78
        },
        "id": "WGFvU6AuohH1",
        "outputId": "623fb4c4-8483-4b5a-e1ab-7b9c76aaad9e"
      },
      "execution_count": 18,
      "outputs": [
        {
          "output_type": "execute_result",
          "data": {
            "text/plain": [
              "Matrix([\n",
              "[v_1],\n",
              "[v_2],\n",
              "[v_3]])"
            ],
            "text/latex": "$\\displaystyle \\left[\\begin{matrix}v_{1}\\\\v_{2}\\\\v_{3}\\end{matrix}\\right]$"
          },
          "metadata": {},
          "execution_count": 18
        }
      ]
    },
    {
      "cell_type": "code",
      "source": [
        "v_norm = sym.sqrt(v.dot(v))\n",
        "v_norm"
      ],
      "metadata": {
        "colab": {
          "base_uri": "https://localhost:8080/",
          "height": 48
        },
        "id": "ULrVzxv7ouGe",
        "outputId": "ce4bd402-4d20-4504-ea52-a3d444ab3580"
      },
      "execution_count": 20,
      "outputs": [
        {
          "output_type": "execute_result",
          "data": {
            "text/plain": [
              "sqrt(v_1**2 + v_2**2 + v_3**2)"
            ],
            "text/latex": "$\\displaystyle \\sqrt{v_{1}^{2} + v_{2}^{2} + v_{3}^{2}}$"
          },
          "metadata": {},
          "execution_count": 20
        }
      ]
    },
    {
      "cell_type": "code",
      "source": [
        "v.norm()"
      ],
      "metadata": {
        "colab": {
          "base_uri": "https://localhost:8080/",
          "height": 48
        },
        "id": "VWR2mm8_pklw",
        "outputId": "7f71e693-c089-48be-a4df-3eb3ece7ce9c"
      },
      "execution_count": 21,
      "outputs": [
        {
          "output_type": "execute_result",
          "data": {
            "text/plain": [
              "sqrt(Abs(v_1)**2 + Abs(v_2)**2 + Abs(v_3)**2)"
            ],
            "text/latex": "$\\displaystyle \\sqrt{\\left|{v_{1}}\\right|^{2} + \\left|{v_{2}}\\right|^{2} + \\left|{v_{3}}\\right|^{2}}$"
          },
          "metadata": {},
          "execution_count": 21
        }
      ]
    },
    {
      "cell_type": "code",
      "source": [
        "u = np.array([[1], [2], [3]])\n",
        "u"
      ],
      "metadata": {
        "colab": {
          "base_uri": "https://localhost:8080/"
        },
        "id": "FRaCk2jzpskL",
        "outputId": "9792ddeb-95bd-4952-f6d3-844059c6f7f7"
      },
      "execution_count": 22,
      "outputs": [
        {
          "output_type": "execute_result",
          "data": {
            "text/plain": [
              "array([[1],\n",
              "       [2],\n",
              "       [3]])"
            ]
          },
          "metadata": {},
          "execution_count": 22
        }
      ]
    },
    {
      "cell_type": "code",
      "source": [
        "np.sqrt(u.T.dot(u))"
      ],
      "metadata": {
        "colab": {
          "base_uri": "https://localhost:8080/"
        },
        "id": "kPUoHq7LpyTO",
        "outputId": "d8259cb7-c922-4f4f-ff78-713a4051e663"
      },
      "execution_count": 23,
      "outputs": [
        {
          "output_type": "execute_result",
          "data": {
            "text/plain": [
              "array([[3.74165739]])"
            ]
          },
          "metadata": {},
          "execution_count": 23
        }
      ]
    },
    {
      "cell_type": "code",
      "source": [
        "np.linalg.norm(u)"
      ],
      "metadata": {
        "colab": {
          "base_uri": "https://localhost:8080/"
        },
        "id": "RdGmpn0wp1VC",
        "outputId": "0c2bbd05-99dc-4283-b355-2c1fed915abd"
      },
      "execution_count": 25,
      "outputs": [
        {
          "output_type": "execute_result",
          "data": {
            "text/plain": [
              "3.7416573867739413"
            ]
          },
          "metadata": {},
          "execution_count": 25
        }
      ]
    },
    {
      "cell_type": "markdown",
      "source": [
        "### 2.5.1.3 Unit Vector Creation"
      ],
      "metadata": {
        "id": "_UXCry-wp-ne"
      }
    },
    {
      "cell_type": "markdown",
      "source": [
        "$$\n",
        "\\mathbf{v} = \\begin{bmatrix}1\\\\-2\\\\2\\\\0\\end{bmatrix}\n",
        "$$\n",
        "\n",
        "Let $\\mathbf{u}$ be the unit vector version of $\\mathbf{v}$\n",
        "\n",
        "$$\n",
        "\\mathbf{u} = \\frac{1}{\\left|\\mathbf{v}\\right|}\\mathbf{v}\n",
        "$$"
      ],
      "metadata": {
        "id": "YXuCZUqKtDdp"
      }
    },
    {
      "cell_type": "code",
      "source": [
        "v = np.array([[1], [-2], [2], [0]])\n",
        "v"
      ],
      "metadata": {
        "colab": {
          "base_uri": "https://localhost:8080/"
        },
        "id": "ZuNrVIbWtNH5",
        "outputId": "524d6b1d-543d-4513-d379-7656f58a2ab3"
      },
      "execution_count": 26,
      "outputs": [
        {
          "output_type": "execute_result",
          "data": {
            "text/plain": [
              "array([[ 1],\n",
              "       [-2],\n",
              "       [ 2],\n",
              "       [ 0]])"
            ]
          },
          "metadata": {},
          "execution_count": 26
        }
      ]
    },
    {
      "cell_type": "code",
      "source": [
        "np.linalg.norm(v)"
      ],
      "metadata": {
        "colab": {
          "base_uri": "https://localhost:8080/"
        },
        "id": "xyPoS4JGtzo-",
        "outputId": "87081933-6865-4a64-8036-339418a2f53b"
      },
      "execution_count": 31,
      "outputs": [
        {
          "output_type": "execute_result",
          "data": {
            "text/plain": [
              "3.0"
            ]
          },
          "metadata": {},
          "execution_count": 31
        }
      ]
    },
    {
      "cell_type": "code",
      "source": [
        "v_unit = np.array([[1/3], [-2/3], [2/3], [0]])\n",
        "v_unit"
      ],
      "metadata": {
        "colab": {
          "base_uri": "https://localhost:8080/"
        },
        "id": "H0B9eGmut5Ng",
        "outputId": "af6a8587-a7a8-42f2-d1f4-dabdd1307494"
      },
      "execution_count": 32,
      "outputs": [
        {
          "output_type": "execute_result",
          "data": {
            "text/plain": [
              "array([[ 0.33333333],\n",
              "       [-0.66666667],\n",
              "       [ 0.66666667],\n",
              "       [ 0.        ]])"
            ]
          },
          "metadata": {},
          "execution_count": 32
        }
      ]
    },
    {
      "cell_type": "code",
      "source": [
        "v_unit = v / np.linalg.norm(v)\n",
        "v_unit"
      ],
      "metadata": {
        "colab": {
          "base_uri": "https://localhost:8080/"
        },
        "id": "xIW9jS3PtYku",
        "outputId": "076b4960-51f5-4f0c-ae2c-08d41537554f"
      },
      "execution_count": 28,
      "outputs": [
        {
          "output_type": "execute_result",
          "data": {
            "text/plain": [
              "array([[ 0.33333333],\n",
              "       [-0.66666667],\n",
              "       [ 0.66666667],\n",
              "       [ 0.        ]])"
            ]
          },
          "metadata": {},
          "execution_count": 28
        }
      ]
    },
    {
      "cell_type": "code",
      "source": [
        "np.linalg.norm(v_unit)"
      ],
      "metadata": {
        "colab": {
          "base_uri": "https://localhost:8080/"
        },
        "id": "ZQ1cbXs2tkYe",
        "outputId": "70b2f9e0-e326-40c1-b23e-151db7b97ec5"
      },
      "execution_count": 30,
      "outputs": [
        {
          "output_type": "execute_result",
          "data": {
            "text/plain": [
              "1.0"
            ]
          },
          "metadata": {},
          "execution_count": 30
        }
      ]
    },
    {
      "cell_type": "code",
      "source": [
        "v = sym.Matrix(v)\n",
        "v"
      ],
      "metadata": {
        "colab": {
          "base_uri": "https://localhost:8080/",
          "height": 98
        },
        "id": "5F_fqwBfuFo6",
        "outputId": "aaab971f-be8f-4bf8-9cb2-bf2ae6c72e5f"
      },
      "execution_count": 33,
      "outputs": [
        {
          "output_type": "execute_result",
          "data": {
            "text/plain": [
              "Matrix([\n",
              "[ 1],\n",
              "[-2],\n",
              "[ 2],\n",
              "[ 0]])"
            ],
            "text/latex": "$\\displaystyle \\left[\\begin{matrix}1\\\\-2\\\\2\\\\0\\end{matrix}\\right]$"
          },
          "metadata": {},
          "execution_count": 33
        }
      ]
    },
    {
      "cell_type": "code",
      "source": [
        "v / v.norm()"
      ],
      "metadata": {
        "colab": {
          "base_uri": "https://localhost:8080/",
          "height": 99
        },
        "id": "vxu04PcmuJpr",
        "outputId": "ec0a1a2c-9a3a-44fc-c3f3-666db66e8637"
      },
      "execution_count": 37,
      "outputs": [
        {
          "output_type": "execute_result",
          "data": {
            "text/plain": [
              "Matrix([\n",
              "[ 1/3],\n",
              "[-2/3],\n",
              "[ 2/3],\n",
              "[   0]])"
            ],
            "text/latex": "$\\displaystyle \\left[\\begin{matrix}\\frac{1}{3}\\\\- \\frac{2}{3}\\\\\\frac{2}{3}\\\\0\\end{matrix}\\right]$"
          },
          "metadata": {},
          "execution_count": 37
        }
      ]
    },
    {
      "cell_type": "code",
      "source": [
        "from sklearn.preprocessing import normalize"
      ],
      "metadata": {
        "id": "OQyOmWcGvDgH"
      },
      "execution_count": 38,
      "outputs": []
    },
    {
      "cell_type": "code",
      "source": [
        "v = np.array([[1], [-2], [2], [0]])\n",
        "v"
      ],
      "metadata": {
        "colab": {
          "base_uri": "https://localhost:8080/"
        },
        "id": "9TZEOFgtvLFH",
        "outputId": "a1ed549d-f4bf-4e1d-bd73-2266b1682852"
      },
      "execution_count": 41,
      "outputs": [
        {
          "output_type": "execute_result",
          "data": {
            "text/plain": [
              "array([[ 1],\n",
              "       [-2],\n",
              "       [ 2],\n",
              "       [ 0]])"
            ]
          },
          "metadata": {},
          "execution_count": 41
        }
      ]
    },
    {
      "cell_type": "code",
      "source": [
        "normalize(v, axis=0)"
      ],
      "metadata": {
        "colab": {
          "base_uri": "https://localhost:8080/"
        },
        "id": "4ncuOHMhvTQa",
        "outputId": "a7155b06-e12a-43f8-d497-c4aadeff289c"
      },
      "execution_count": 43,
      "outputs": [
        {
          "output_type": "execute_result",
          "data": {
            "text/plain": [
              "array([[ 0.33333333],\n",
              "       [-0.66666667],\n",
              "       [ 0.66666667],\n",
              "       [ 0.        ]])"
            ]
          },
          "metadata": {},
          "execution_count": 43
        }
      ]
    },
    {
      "cell_type": "code",
      "source": [
        "v = np.array([1, -2, 2, 0]).reshape(1, -1)\n",
        "v"
      ],
      "metadata": {
        "colab": {
          "base_uri": "https://localhost:8080/"
        },
        "id": "rcxpGKJNvjUM",
        "outputId": "371dba9f-fc00-4f2b-dc6f-42412a4eed26"
      },
      "execution_count": 47,
      "outputs": [
        {
          "output_type": "execute_result",
          "data": {
            "text/plain": [
              "array([[ 1, -2,  2,  0]])"
            ]
          },
          "metadata": {},
          "execution_count": 47
        }
      ]
    },
    {
      "cell_type": "code",
      "source": [
        "normalize(v)"
      ],
      "metadata": {
        "colab": {
          "base_uri": "https://localhost:8080/"
        },
        "id": "5-_mN0tdvmgS",
        "outputId": "66b6cb31-e8a2-4fd9-eaf6-5b3d480ea044"
      },
      "execution_count": 48,
      "outputs": [
        {
          "output_type": "execute_result",
          "data": {
            "text/plain": [
              "array([[ 0.33333333, -0.66666667,  0.66666667,  0.        ]])"
            ]
          },
          "metadata": {},
          "execution_count": 48
        }
      ]
    },
    {
      "cell_type": "markdown",
      "source": [
        "### 2.5.1.4 Distance Between Two Vectors"
      ],
      "metadata": {
        "id": "cLYSNt2Txi2R"
      }
    },
    {
      "cell_type": "markdown",
      "source": [
        "The distance between $\\mathbf{u}$ and $\\mathbf{v}$ is $\\left|\\mathbf{u} - \\mathbf{v}\\right|$"
      ],
      "metadata": {
        "id": "ONHob9oKyXMo"
      }
    },
    {
      "cell_type": "markdown",
      "source": [
        " $$\n",
        " \\mathbf{u} = \\begin{bmatrix}1\\\\2\\\\4\\end{bmatrix},\n",
        " \\mathbf{v} = \\begin{bmatrix}-1\\\\3\\\\-6\\end{bmatrix}\n",
        " $$\n",
        "\n",
        "<br>\n",
        "\n",
        " $$\n",
        " \\begin{align}\n",
        " \\left|\\mathbf{u} - \\mathbf{v}\\right| &= \\left|\n",
        " \\begin{bmatrix}1 - (-1)\\\\2 - 3\\\\4 - (-6)\\end{bmatrix}\n",
        " \\right| \\\\\n",
        " &= \\left|\\begin{bmatrix}2\\\\-1\\\\10\\end{bmatrix}\\right| \\\\\n",
        " &= \\sqrt{2^{2} + (-1)^{2} + 10^{2}} \\\\\n",
        " &= \\sqrt{105}\n",
        " \\end{align}\n",
        " $$"
      ],
      "metadata": {
        "id": "YCw0yeEq0Je2"
      }
    },
    {
      "cell_type": "code",
      "source": [
        "u = sym.Matrix([1, 2, 4])\n",
        "u"
      ],
      "metadata": {
        "colab": {
          "base_uri": "https://localhost:8080/",
          "height": 78
        },
        "id": "j3TVrRYN1h4K",
        "outputId": "60169318-e261-4e78-ff7c-48a2c074f6a9"
      },
      "execution_count": 56,
      "outputs": [
        {
          "output_type": "execute_result",
          "data": {
            "text/plain": [
              "Matrix([\n",
              "[1],\n",
              "[2],\n",
              "[4]])"
            ],
            "text/latex": "$\\displaystyle \\left[\\begin{matrix}1\\\\2\\\\4\\end{matrix}\\right]$"
          },
          "metadata": {},
          "execution_count": 56
        }
      ]
    },
    {
      "cell_type": "code",
      "source": [
        "v = sym.Matrix([-1, 3, -6])\n",
        "v"
      ],
      "metadata": {
        "colab": {
          "base_uri": "https://localhost:8080/",
          "height": 78
        },
        "id": "xyQbYm-e1pEJ",
        "outputId": "fa8bbf1e-35cd-4f6b-a33a-609d1c04325f"
      },
      "execution_count": 57,
      "outputs": [
        {
          "output_type": "execute_result",
          "data": {
            "text/plain": [
              "Matrix([\n",
              "[-1],\n",
              "[ 3],\n",
              "[-6]])"
            ],
            "text/latex": "$\\displaystyle \\left[\\begin{matrix}-1\\\\3\\\\-6\\end{matrix}\\right]$"
          },
          "metadata": {},
          "execution_count": 57
        }
      ]
    },
    {
      "cell_type": "code",
      "source": [
        "(u - v).norm()"
      ],
      "metadata": {
        "colab": {
          "base_uri": "https://localhost:8080/",
          "height": 38
        },
        "id": "i4d9TwnG1tfj",
        "outputId": "ae25f77c-859d-4aad-9b3d-18bb929f599f"
      },
      "execution_count": 58,
      "outputs": [
        {
          "output_type": "execute_result",
          "data": {
            "text/plain": [
              "sqrt(105)"
            ],
            "text/latex": "$\\displaystyle \\sqrt{105}$"
          },
          "metadata": {},
          "execution_count": 58
        }
      ]
    },
    {
      "cell_type": "markdown",
      "source": [
        "## 2.5.2 Orthogonality, Projections and Least Squares"
      ],
      "metadata": {
        "id": "QYn09U4E37AX"
      }
    },
    {
      "cell_type": "markdown",
      "source": [
        "### 2.5.2.1 Orthogonal Vectors"
      ],
      "metadata": {
        "id": "nDZNhprL4DIy"
      }
    },
    {
      "cell_type": "markdown",
      "source": [
        "1. $\\mathbf{u}$ and $\\mathbf{v}$ are orthogonal to each other if and only if $\\mathbf{u} \\cdot \\mathbf{v}$\n",
        "2. If $\\mathbf{u}$ and $\\mathbf{v}$ are orthogonal to each other, then $\\left|\\mathbf{u} + \\mathbf{v}\\right|^{2} = \\mathbf{u}^{2} + \\mathbf{v}^{2}$"
      ],
      "metadata": {
        "id": "lU6PfiGj42hk"
      }
    },
    {
      "cell_type": "markdown",
      "source": [
        "In $\\mathbb{R}^{2}$ and $\\mathbb{R}^{3}$, $\\mathbf{u}\\cdot\\mathbf{v} = \\left|\\mathbf{u}\\right|\\left|\\mathbf{v}\\right|\\cos{\\theta}$, where $\\theta$ is the angle between $\\mathbf{u}$ and $\\mathbf{v}$."
      ],
      "metadata": {
        "id": "5KJc7Z2x8bbt"
      }
    },
    {
      "cell_type": "markdown",
      "source": [
        "### 2.5.2.2 Orthogonal Projections\n",
        "\n",
        "I've decided to use `plt.arrow` instead of `plt.quiver`. I think this is a better choice for drawing vectors."
      ],
      "metadata": {
        "id": "zKup7oP38ynA"
      }
    },
    {
      "cell_type": "code",
      "source": [
        "y = np.array([7, 6])\n",
        "u = np.array([4, 2])\n",
        "\n",
        "# Line L\n",
        "slope_u = u[1] / u[0]\n",
        "slope_proj = -u[0] / u[1]\n",
        "x_l = np.linspace(-1, 9, 100)\n",
        "y_l = slope_u * x_l\n",
        "plt.plot(x_l, y_l, color='green', zorder=-1)\n",
        "\n",
        "\n",
        "# vector y\n",
        "plt.arrow(0, 0, *y,\n",
        "          width=0.05,\n",
        "          linewidth=2,\n",
        "          color='red',\n",
        "          length_includes_head=True)\n",
        "plt.annotate('$\\mathbf{y}$', xy=(3.5, 3.5),\n",
        "             size=14, color='red')\n",
        "\n",
        "# vector u\n",
        "plt.arrow(0, 0, *u,\n",
        "          width=0.05,\n",
        "          linewidth=2,\n",
        "          color='dodgerblue',\n",
        "          length_includes_head=True)\n",
        "plt.annotate('$\\mathbf{u}$', xy=(2.3, 0.7),\n",
        "             size=14, color='dodgerblue')\n",
        "\n",
        "# projection of y on u\n",
        "proj_u_y = (y.T.dot(u) / u.T.dot(u)) * u\n",
        "plt.plot((y[0], proj_u_y[0]), (y[1], proj_u_y[1]))\n",
        "\n",
        "# slope of u\n",
        "_x = sym.symbols('x')\n",
        "x_on_u = min(sym.solve((proj_u_y[0] - _x)**2 + (proj_u_y[1] - slope_u*_x)**2 - 1/10,\n",
        "                       _x)).evalf()\n",
        "y_on_u = slope_u * x_on_u\n",
        "plt.scatter(x_on_u, y_on_u)\n",
        "\n",
        "plt.plot(x_l, slope_proj * (x_l - proj_u_y[0]) + proj_u_y[1])\n",
        "\n",
        "\n",
        "\n",
        "\n",
        "plt.xticks(np.linspace(-1, 10, 12))\n",
        "plt.yticks(np.linspace(-1, 10, 12))\n",
        "plt.axis('equal')\n",
        "plt.grid()"
      ],
      "metadata": {
        "colab": {
          "base_uri": "https://localhost:8080/",
          "height": 430
        },
        "id": "myjIBR6n_02P",
        "outputId": "a41df36d-950d-43f9-fd24-d833be70f61c"
      },
      "execution_count": 217,
      "outputs": [
        {
          "output_type": "display_data",
          "data": {
            "text/plain": [
              "<Figure size 640x480 with 1 Axes>"
            ],
            "image/png": "[encoded data removed]"
          },
          "metadata": {}
        }
      ]
    },
    {
      "cell_type": "code",
      "source": [
        "sym.solve((proj_u_y[0] - _x)**2 + (proj_u_y[1] - slope_u*_x)**2 - 1/10,\n",
        "                       _x)"
      ],
      "metadata": {
        "colab": {
          "base_uri": "https://localhost:8080/"
        },
        "id": "Y7oGfeU5h0pT",
        "outputId": "8e8efa9e-65ec-4edc-a2bf-519988ad10e7"
      },
      "execution_count": 220,
      "outputs": [
        {
          "output_type": "execute_result",
          "data": {
            "text/plain": [
              "[7.71715728752538, 8.28284271247462]"
            ]
          },
          "metadata": {},
          "execution_count": 220
        }
      ]
    },
    {
      "cell_type": "code",
      "source": [
        "(proj_u_y[0] - _x)**2 + (proj_u_y[1] - slope_u*_x)**2"
      ],
      "metadata": {
        "colab": {
          "base_uri": "https://localhost:8080/",
          "height": 39
        },
        "id": "-cKwnkpEi3-b",
        "outputId": "bf5a7c1f-564a-47dc-f353-fb2a57e4ba66"
      },
      "execution_count": 223,
      "outputs": [
        {
          "output_type": "execute_result",
          "data": {
            "text/plain": [
              "80.0*(1 - 0.125*x)**2"
            ],
            "text/latex": "$\\displaystyle 80.0 \\left(1 - 0.125 x\\right)^{2}$"
          },
          "metadata": {},
          "execution_count": 223
        }
      ]
    },
    {
      "cell_type": "code",
      "source": [
        "(proj_u_y[0] - _x)**2 + (proj_u_y[1] - slope_proj * (_x - proj_u_y[0]) + proj_u_y[1])**2\n",
        ""
      ],
      "metadata": {
        "colab": {
          "base_uri": "https://localhost:8080/",
          "height": 39
        },
        "id": "2X-d0vO4dPfo",
        "outputId": "cbc8b6e0-7e97-4909-ac7d-927bf191b55a"
      },
      "execution_count": 222,
      "outputs": [
        {
          "output_type": "execute_result",
          "data": {
            "text/plain": [
              "64.0*(1 - 0.125*x)**2 + 64.0*(0.25*x - 1)**2"
            ],
            "text/latex": "$\\displaystyle 64.0 \\left(1 - 0.125 x\\right)^{2} + 64.0 \\left(0.25 x - 1\\right)^{2}$"
          },
          "metadata": {},
          "execution_count": 222
        }
      ]
    }
  ]
}