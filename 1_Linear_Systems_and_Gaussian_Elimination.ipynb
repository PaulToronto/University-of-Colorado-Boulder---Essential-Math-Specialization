{
  "nbformat": 4,
  "nbformat_minor": 0,
  "metadata": {
    "colab": {
      "provenance": [],
      "toc_visible": true,
      "authorship_tag": "ABX9TyN4oi4baGTOslNDEmkkjyht",
      "include_colab_link": true
    },
    "kernelspec": {
      "name": "python3",
      "display_name": "Python 3"
    },
    "language_info": {
      "name": "python"
    }
  },
  "cells": [
    {
      "cell_type": "markdown",
      "metadata": {
        "id": "view-in-github",
        "colab_type": "text"
      },
      "source": [
        "<a href=\"https://colab.research.google.com/github/PaulToronto/University-of-Colorado-Boulder-Essential-Linear-Algebra-for-Data-Science/blob/main/1_Linear_Systems_and_Gaussian_Elimination.ipynb\" target=\"_parent\"><img src=\"https://colab.research.google.com/assets/colab-badge.svg\" alt=\"Open In Colab\"/></a>"
      ]
    },
    {
      "cell_type": "markdown",
      "source": [
        "# 1 Linear Systems and Gaussian Elimination"
      ],
      "metadata": {
        "id": "Ug4u5SEXxxaR"
      }
    },
    {
      "cell_type": "markdown",
      "source": [
        "## 1.1 Introduction"
      ],
      "metadata": {
        "id": "rXWHdqdhzcVv"
      }
    },
    {
      "cell_type": "markdown",
      "source": [
        "### 1.1.1 Linear System and Definition\n",
        "\n",
        "- $a_i$ are constants\n",
        "    - can be any number, real or complex, as long as they are not a function of a different variable\n",
        "- $b$ is a constant\n",
        "- $x_i$ are variables\n",
        "    - must be linear variables\n",
        "\n",
        "If you can write a sytem in the following way, then it is a **linear equation**, if you can't write a system in this way, then it is not a linear system.\n",
        "\n",
        "$$\n",
        "a_1x_1 + a_2x_2 + \\cdots + a_nx_n = b\n",
        "$$"
      ],
      "metadata": {
        "id": "EA7kP8_DzgG5"
      }
    },
    {
      "cell_type": "markdown",
      "source": [
        "#### Example of a Linear Equation\n",
        "\n",
        "$$\n",
        "2x_1 + \\sqrt{3}x_2 = 4\n",
        "$$"
      ],
      "metadata": {
        "id": "2t0un6R71ws4"
      }
    },
    {
      "cell_type": "markdown",
      "source": [
        "#### Examples of what is not Linear Equation\n",
        "\n",
        "1. $x_1x_2 + 3x_3 = 5$\n",
        "2. $4\\sqrt{x_1} + x_2 = \\sqrt{5}$\n"
      ],
      "metadata": {
        "id": "cK3UIDlM2Ei8"
      }
    },
    {
      "cell_type": "markdown",
      "source": [
        "### 1.1.2 Three Solution Options and Coordinate System Visualization\n",
        "\n",
        "A **linear system** is a set of linear equations.\n",
        "\n",
        "$$\n",
        "\\begin{align}\n",
        "2x_1 + x_2 &= 3 \\\\\n",
        "-x_1 - x_2 &= -\\sqrt{4}\n",
        "\\end{align}\n",
        "$$"
      ],
      "metadata": {
        "id": "UWmWJXAL3Rzq"
      }
    },
    {
      "cell_type": "markdown",
      "source": [
        "What $x_1$ and $x_2$ values make both equations true in 2-space?\n",
        "\n",
        "1. Two lines intersect. There is one and only one solution.\n",
        "2. Two lines are parallel. There are no solutions.\n",
        "3. Two linear equations are the same line. There are infinite solutions.\n"
      ],
      "metadata": {
        "id": "RR7kkINw5Nsv"
      }
    },
    {
      "cell_type": "markdown",
      "source": [
        "## 1.2 Matrices and Gaussian Elimination"
      ],
      "metadata": {
        "id": "XJvXek6t56V3"
      }
    },
    {
      "cell_type": "markdown",
      "source": [
        "### 1.2.1 Linear System $\\implies$ Matrix: (Coefficient and Augmented)"
      ],
      "metadata": {
        "id": "YteayxYa6KT4"
      }
    },
    {
      "cell_type": "markdown",
      "source": [
        "### A linear system can be expressed in matrix form\n",
        "\n",
        "$$\n",
        "\\begin{align}\n",
        "3x_1 + x_2 &= 2 \\\\\n",
        "-x_1 &= -1 \\\\\n",
        "-4x_1 + \\sqrt{2}x_2 &= \\sqrt{3}\n",
        "\\end{align}\n",
        "$$"
      ],
      "metadata": {
        "id": "v1mTtEfy7TMx"
      }
    },
    {
      "cell_type": "markdown",
      "source": [
        "#### Coefficient Matrix\n",
        "\n",
        "$$\n",
        "\\begin{bmatrix}\n",
        "3 & 1 \\\\\n",
        "-1 & 0 \\\\\n",
        "-4 & \\sqrt{2}\n",
        "\\end{bmatrix}\n",
        "$$"
      ],
      "metadata": {
        "id": "grD1qIn88WSL"
      }
    },
    {
      "cell_type": "markdown",
      "source": [
        "#### Augmented Matrix\n",
        "\n",
        "$$\n",
        "\\begin{bmatrix}\n",
        "3 & 1 & \\bigm| & 2 \\\\\n",
        "-1 & 0 & \\bigm| & -1 \\\\\n",
        "-4 & \\sqrt{2} & \\bigm| & \\sqrt{3}\n",
        "\\end{bmatrix}\n",
        "$$"
      ],
      "metadata": {
        "id": "vBp1Ku9186g2"
      }
    }
  ]
}