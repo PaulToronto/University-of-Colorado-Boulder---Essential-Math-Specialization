{
  "nbformat": 4,
  "nbformat_minor": 0,
  "metadata": {
    "colab": {
      "provenance": [],
      "toc_visible": true,
      "authorship_tag": "ABX9TyNQJWbzKjZu/OtBSTd45UXV",
      "include_colab_link": true
    },
    "kernelspec": {
      "name": "python3",
      "display_name": "Python 3"
    },
    "language_info": {
      "name": "python"
    }
  },
  "cells": [
    {
      "cell_type": "markdown",
      "metadata": {
        "id": "view-in-github",
        "colab_type": "text"
      },
      "source": [
        "<a href=\"https://colab.research.google.com/github/PaulToronto/University-of-Colorado-Boulder---Essential-Math-Specialization/blob/main/2_3_Properties_of_a_Linear_System.ipynb\" target=\"_parent\"><img src=\"https://colab.research.google.com/assets/colab-badge.svg\" alt=\"Open In Colab\"/></a>"
      ]
    },
    {
      "cell_type": "markdown",
      "source": [
        "# 2.3 Properties of a Linear System"
      ],
      "metadata": {
        "id": "k-UbhULNCw7u"
      }
    },
    {
      "cell_type": "markdown",
      "source": [
        "## Imports"
      ],
      "metadata": {
        "id": "AbFJTkOsC131"
      }
    },
    {
      "cell_type": "code",
      "execution_count": 1,
      "metadata": {
        "id": "plgFFNO2Cr1G"
      },
      "outputs": [],
      "source": [
        "import matplotlib.pyplot as plt\n",
        "import numpy as np\n",
        "import sympy as sym"
      ]
    },
    {
      "cell_type": "markdown",
      "source": [
        "## 2.3.1 Vectors and Linear Combinations"
      ],
      "metadata": {
        "id": "WSecnCAtC4NT"
      }
    },
    {
      "cell_type": "markdown",
      "source": [
        "### 2.3.1.1 Introduction to Vectors + Coordinates\n",
        "\n",
        "- In this course, when we talk about **vectors**, we are specifically talking about **column vectors**, but **row vectors** do exist\n",
        "- A column vector is a matrix with one column\n",
        "- The rules for matrix addition, scalar multiplication and multiplication apply\n",
        "\n",
        "$$\n",
        "\\begin{bmatrix}\n",
        "x_1 \\\\\n",
        "x_2 \\\\\n",
        "\\vdots \\\\\n",
        "x_n\n",
        "\\end{bmatrix} +\n",
        "\\begin{bmatrix}\n",
        "y_1 \\\\\n",
        "y_2 \\\\\n",
        "\\vdots \\\\\n",
        "y_n\n",
        "\\end{bmatrix} =\n",
        "\\begin{bmatrix}\n",
        "x_1 + y_1 \\\\\n",
        "x_2 + y_2 \\\\\n",
        "\\vdots \\\\\n",
        "x_n + y_n\n",
        "\\end{bmatrix}\n",
        "$$"
      ],
      "metadata": {
        "id": "YW37p2XtDCjh"
      }
    },
    {
      "cell_type": "markdown",
      "source": [
        "#### Visualizing Vectors\n",
        "\n",
        "$$\n",
        "\\mathbf{a} = \\begin{bmatrix}-2 \\\\ 1\\end{bmatrix},\n",
        "\\mathbf{b} = \\begin{bmatrix}4 \\\\ 3\\end{bmatrix}\n",
        "$$"
      ],
      "metadata": {
        "id": "QH_BQ6LsdBXO"
      }
    },
    {
      "cell_type": "code",
      "source": [
        "a = np.array([-2, 1])\n",
        "b = np.array([4, 3])\n",
        "tail = np.array([0, 0])\n",
        "\n",
        "\n",
        "plt.figure(figsize=(5, 5))\n",
        "\n",
        "plt.quiver(*tail, a[0], a[1], scale=1,\n",
        "           scale_units='xy', angles='xy',\n",
        "           color='dodgerblue', label=r'$a$')\n",
        "plt.quiver(*tail, b[0], b[1], scale=1,\n",
        "           scale_units='xy', angles='xy',\n",
        "           color='red', label='$b$')\n",
        "plt.quiver(*tail, (a + b)[0], (a + b)[1], scale=1,\n",
        "           scale_units='xy', angles='xy',\n",
        "           color='purple', label='$a + b$')\n",
        "\n",
        "plt.grid()\n",
        "plt.xticks(np.arange(-3, 6))\n",
        "plt.yticks(np.arange(-3, 6))\n",
        "plt.legend()\n",
        "\n",
        "plt.show()"
      ],
      "metadata": {
        "colab": {
          "base_uri": "https://localhost:8080/",
          "height": 451
        },
        "id": "TLV3N4HSdGfA",
        "outputId": "a9c4b30d-1ca7-4b1a-cfdb-3ad7ad9f44a2"
      },
      "execution_count": 2,
      "outputs": [
        {
          "output_type": "display_data",
          "data": {
            "text/plain": [
              "<Figure size 500x500 with 1 Axes>"
            ],
            "image/png": "[encoded data removed]"
          },
          "metadata": {}
        }
      ]
    },
    {
      "cell_type": "markdown",
      "source": [
        "#### Parallelogram Rule\n",
        "\n",
        "If we place two vectors so they have the same initial point, and then complete the vectors into a parallelogram, then the sum of the vectors is the directed diagonal that starts at the same point as the vectors."
      ],
      "metadata": {
        "id": "tlyglabembBp"
      }
    },
    {
      "cell_type": "markdown",
      "source": [
        "### 2.3.1.2 Introduction to Linear Combinations"
      ],
      "metadata": {
        "id": "89FpvbmjoA7e"
      }
    },
    {
      "cell_type": "markdown",
      "source": [
        "Let {$v_1$, $v_2$, $\\cdots$, $v_n$} be set of column vectors of the same dimension (same number of rows)\n",
        "\n",
        "$$\n",
        "y = c_1v_1 + c_2v_2 + \\cdots + c_nv_n\n",
        "$$\n",
        "\n",
        "$y$ is a **linear combination** of the given set of vectors."
      ],
      "metadata": {
        "id": "vIyVXcLaFW8O"
      }
    },
    {
      "cell_type": "code",
      "source": [
        "v1 = sym.Matrix([0, 1])\n",
        "v1"
      ],
      "metadata": {
        "colab": {
          "base_uri": "https://localhost:8080/",
          "height": 58
        },
        "id": "ybBJQnZLGK0p",
        "outputId": "26ff3fb0-1a25-454e-d242-898899aae577"
      },
      "execution_count": 3,
      "outputs": [
        {
          "output_type": "execute_result",
          "data": {
            "text/plain": [
              "Matrix([\n",
              "[0],\n",
              "[1]])"
            ],
            "text/latex": "$\\displaystyle \\left[\\begin{matrix}0\\\\1\\end{matrix}\\right]$"
          },
          "metadata": {},
          "execution_count": 3
        }
      ]
    },
    {
      "cell_type": "code",
      "source": [
        "v2 = sym.Matrix([-1, 3])\n",
        "v2"
      ],
      "metadata": {
        "colab": {
          "base_uri": "https://localhost:8080/",
          "height": 58
        },
        "id": "00APIv9oGcQc",
        "outputId": "6998ea5f-3155-4eef-bfd4-404e7d26c1f4"
      },
      "execution_count": 4,
      "outputs": [
        {
          "output_type": "execute_result",
          "data": {
            "text/plain": [
              "Matrix([\n",
              "[-1],\n",
              "[ 3]])"
            ],
            "text/latex": "$\\displaystyle \\left[\\begin{matrix}-1\\\\3\\end{matrix}\\right]$"
          },
          "metadata": {},
          "execution_count": 4
        }
      ]
    },
    {
      "cell_type": "code",
      "source": [
        "# here, y is a linear combination of v1 and v2\n",
        "y = sym.sqrt(3) * v1 + 14 * v2\n",
        "y"
      ],
      "metadata": {
        "colab": {
          "base_uri": "https://localhost:8080/",
          "height": 59
        },
        "id": "y3_cCSH9GgUB",
        "outputId": "6d2661e6-bffd-478f-9023-ae70e3621eca"
      },
      "execution_count": 5,
      "outputs": [
        {
          "output_type": "execute_result",
          "data": {
            "text/plain": [
              "Matrix([\n",
              "[         -14],\n",
              "[sqrt(3) + 42]])"
            ],
            "text/latex": "$\\displaystyle \\left[\\begin{matrix}-14\\\\\\sqrt{3} + 42\\end{matrix}\\right]$"
          },
          "metadata": {},
          "execution_count": 5
        }
      ]
    },
    {
      "cell_type": "markdown",
      "source": [
        "### 2.3.1.3 Linear Combinations"
      ],
      "metadata": {
        "id": "ko6bpDZqHWRW"
      }
    },
    {
      "cell_type": "markdown",
      "source": [
        "$\n",
        "a_1 = \\begin{bmatrix}1 \\\\ -2 \\\\ -5\\end{bmatrix},\n",
        "a_2 = \\begin{bmatrix}2 \\\\ 5 \\\\ 6\\end{bmatrix}\n",
        "$\n",
        "\n",
        "<br>\n",
        "\n",
        "$\n",
        "b = \\begin{bmatrix}7 \\\\ 4 \\\\ -3\\end{bmatrix}\n",
        "$\n",
        "\n",
        "<br>\n",
        "\n",
        "Are there scalars $c_1$ and $c_2$ such that $b = c_1a_1 + c_2a_2$? In other words, is $b$ a linear combination of $a_1$ and $a_2$?"
      ],
      "metadata": {
        "id": "2Jt8cuibHsLw"
      }
    },
    {
      "cell_type": "markdown",
      "source": [
        "### 2.3.1.4 Linear Combinations Example (continued from previous section)"
      ],
      "metadata": {
        "id": "YlR-xIC6UhAm"
      }
    },
    {
      "cell_type": "code",
      "source": [
        "a1 = sym.Matrix([1, -2, -5])\n",
        "a2 = sym.Matrix([2, 5, 6])\n",
        "b = sym.Matrix([7, 4, -3])"
      ],
      "metadata": {
        "id": "UoaS_QWwQ-Rn"
      },
      "execution_count": 6,
      "outputs": []
    },
    {
      "cell_type": "markdown",
      "source": [
        "$\n",
        "\\begin{align}\n",
        "&b = c_1a_1 + c_2a_2 \\\\\n",
        "&\\implies\\begin{bmatrix}7 \\\\ 4 \\\\ -3\\end{bmatrix} = c_1\\begin{bmatrix}1 \\\\ -2 \\\\ -5\\end{bmatrix}\n",
        "+ c_2\\begin{bmatrix}2 \\\\ 5 \\\\ 6\\end{bmatrix} \\\\\n",
        "&\\implies\\begin{bmatrix}7 \\\\ 4 \\\\ -3\\end{bmatrix} =\n",
        "\\begin{bmatrix}c_1 + 2c_2\\\\-2c_1 + 5c_2\\\\-5c_1 + 6c_2\\end{bmatrix}\n",
        "\\end{align}\n",
        "$"
      ],
      "metadata": {
        "id": "LOQ2mQvUJG5_"
      }
    },
    {
      "cell_type": "markdown",
      "source": [
        "Now we have system of linear equations, which can be represented as an augmented matrix"
      ],
      "metadata": {
        "id": "toU7TvhmM0kM"
      }
    },
    {
      "cell_type": "code",
      "source": [
        "A = sym.Matrix([[1, 2, 7],\n",
        "                [-2, 5, 4],\n",
        "                [-5, 6, -3]])\n",
        "A"
      ],
      "metadata": {
        "colab": {
          "base_uri": "https://localhost:8080/",
          "height": 78
        },
        "id": "6dkXdpdvM6wr",
        "outputId": "2d603a4a-669b-4441-e36c-1ba88227d834"
      },
      "execution_count": 7,
      "outputs": [
        {
          "output_type": "execute_result",
          "data": {
            "text/plain": [
              "Matrix([\n",
              "[ 1, 2,  7],\n",
              "[-2, 5,  4],\n",
              "[-5, 6, -3]])"
            ],
            "text/latex": "$\\displaystyle \\left[\\begin{matrix}1 & 2 & 7\\\\-2 & 5 & 4\\\\-5 & 6 & -3\\end{matrix}\\right]$"
          },
          "metadata": {},
          "execution_count": 7
        }
      ]
    },
    {
      "cell_type": "markdown",
      "source": [
        "$R_2 \\leftarrow R_2 + 2R_1$\n",
        "\n",
        "$R_3 \\leftarrow R_3 + 5R_1$"
      ],
      "metadata": {
        "id": "0Ldhy4hbNRf-"
      }
    },
    {
      "cell_type": "code",
      "source": [
        "A[1,:] = A.row(1) + 2 * A.row(0)\n",
        "A[2,:] = A.row(2) + 5 * A.row(0)\n",
        "A"
      ],
      "metadata": {
        "colab": {
          "base_uri": "https://localhost:8080/",
          "height": 78
        },
        "id": "Jc1J2e_KNOoP",
        "outputId": "96055920-da02-4cad-8388-24f85692fb38"
      },
      "execution_count": 8,
      "outputs": [
        {
          "output_type": "execute_result",
          "data": {
            "text/plain": [
              "Matrix([\n",
              "[1,  2,  7],\n",
              "[0,  9, 18],\n",
              "[0, 16, 32]])"
            ],
            "text/latex": "$\\displaystyle \\left[\\begin{matrix}1 & 2 & 7\\\\0 & 9 & 18\\\\0 & 16 & 32\\end{matrix}\\right]$"
          },
          "metadata": {},
          "execution_count": 8
        }
      ]
    },
    {
      "cell_type": "markdown",
      "source": [
        "$R_2 \\leftarrow \\frac{1}{9}R_2$\n",
        "\n",
        "$R_3 \\leftarrow \\frac{1}{16}R_3$"
      ],
      "metadata": {
        "id": "sjqnZn2vOc4y"
      }
    },
    {
      "cell_type": "code",
      "source": [
        "A[1,:] = sym.Rational(1, 9) * A.row(1)\n",
        "A[2,:] = sym.Rational(1, 16) * A.row(2)\n",
        "A"
      ],
      "metadata": {
        "colab": {
          "base_uri": "https://localhost:8080/",
          "height": 78
        },
        "id": "5AA7HkYeO1-f",
        "outputId": "115c8494-a5f9-4825-e65f-61e2f091067d"
      },
      "execution_count": 9,
      "outputs": [
        {
          "output_type": "execute_result",
          "data": {
            "text/plain": [
              "Matrix([\n",
              "[1, 2, 7],\n",
              "[0, 1, 2],\n",
              "[0, 1, 2]])"
            ],
            "text/latex": "$\\displaystyle \\left[\\begin{matrix}1 & 2 & 7\\\\0 & 1 & 2\\\\0 & 1 & 2\\end{matrix}\\right]$"
          },
          "metadata": {},
          "execution_count": 9
        }
      ]
    },
    {
      "cell_type": "markdown",
      "source": [
        "$R_3 \\leftarrow R_3 - R_2$"
      ],
      "metadata": {
        "id": "FnV1c00mP83W"
      }
    },
    {
      "cell_type": "code",
      "source": [
        "A[2,:] = A.row(2) - A.row(1)\n",
        "A"
      ],
      "metadata": {
        "colab": {
          "base_uri": "https://localhost:8080/",
          "height": 78
        },
        "id": "UsZn5xkAP8IM",
        "outputId": "c9e3016c-c073-4de3-eb43-1f3e5e995c29"
      },
      "execution_count": 10,
      "outputs": [
        {
          "output_type": "execute_result",
          "data": {
            "text/plain": [
              "Matrix([\n",
              "[1, 2, 7],\n",
              "[0, 1, 2],\n",
              "[0, 0, 0]])"
            ],
            "text/latex": "$\\displaystyle \\left[\\begin{matrix}1 & 2 & 7\\\\0 & 1 & 2\\\\0 & 0 & 0\\end{matrix}\\right]$"
          },
          "metadata": {},
          "execution_count": 10
        }
      ]
    },
    {
      "cell_type": "markdown",
      "source": [
        "$R_1 \\leftarrow = R_1 - 2R_2$"
      ],
      "metadata": {
        "id": "Q1CtYYpKYLff"
      }
    },
    {
      "cell_type": "code",
      "source": [
        "A[0,:] = A.row(0) - 2 * A.row(1)\n",
        "A"
      ],
      "metadata": {
        "colab": {
          "base_uri": "https://localhost:8080/",
          "height": 78
        },
        "id": "J0JoRv2mYKlV",
        "outputId": "68073413-1e13-4b35-ffb4-4b43594845b7"
      },
      "execution_count": 11,
      "outputs": [
        {
          "output_type": "execute_result",
          "data": {
            "text/plain": [
              "Matrix([\n",
              "[1, 0, 3],\n",
              "[0, 1, 2],\n",
              "[0, 0, 0]])"
            ],
            "text/latex": "$\\displaystyle \\left[\\begin{matrix}1 & 0 & 3\\\\0 & 1 & 2\\\\0 & 0 & 0\\end{matrix}\\right]$"
          },
          "metadata": {},
          "execution_count": 11
        }
      ]
    },
    {
      "cell_type": "code",
      "source": [
        "c1 = 3\n",
        "c2 = 2\n",
        "c1, c2"
      ],
      "metadata": {
        "colab": {
          "base_uri": "https://localhost:8080/"
        },
        "id": "I8fKn5mEQKu1",
        "outputId": "82f617b0-663b-4fd3-8141-b34989236a66"
      },
      "execution_count": 12,
      "outputs": [
        {
          "output_type": "execute_result",
          "data": {
            "text/plain": [
              "(3, 2)"
            ]
          },
          "metadata": {},
          "execution_count": 12
        }
      ]
    },
    {
      "cell_type": "code",
      "source": [
        "c1 * a1 + c2 * a2"
      ],
      "metadata": {
        "colab": {
          "base_uri": "https://localhost:8080/",
          "height": 78
        },
        "id": "24tGouzMQcuD",
        "outputId": "be88d783-6ef7-451a-a685-29106f632638"
      },
      "execution_count": 13,
      "outputs": [
        {
          "output_type": "execute_result",
          "data": {
            "text/plain": [
              "Matrix([\n",
              "[ 7],\n",
              "[ 4],\n",
              "[-3]])"
            ],
            "text/latex": "$\\displaystyle \\left[\\begin{matrix}7\\\\4\\\\-3\\end{matrix}\\right]$"
          },
          "metadata": {},
          "execution_count": 13
        }
      ]
    },
    {
      "cell_type": "code",
      "source": [
        "b"
      ],
      "metadata": {
        "colab": {
          "base_uri": "https://localhost:8080/",
          "height": 78
        },
        "id": "c0e0hJyrRPn6",
        "outputId": "8f59d4a8-af38-4801-8b1f-db83363d8737"
      },
      "execution_count": 14,
      "outputs": [
        {
          "output_type": "execute_result",
          "data": {
            "text/plain": [
              "Matrix([\n",
              "[ 7],\n",
              "[ 4],\n",
              "[-3]])"
            ],
            "text/latex": "$\\displaystyle \\left[\\begin{matrix}7\\\\4\\\\-3\\end{matrix}\\right]$"
          },
          "metadata": {},
          "execution_count": 14
        }
      ]
    },
    {
      "cell_type": "code",
      "source": [
        "c1 * a1 + c2 * a2 == b"
      ],
      "metadata": {
        "colab": {
          "base_uri": "https://localhost:8080/"
        },
        "id": "5NzzaFFBRQkX",
        "outputId": "da4321fe-eb30-4014-bf62-5ac27609b638"
      },
      "execution_count": 15,
      "outputs": [
        {
          "output_type": "execute_result",
          "data": {
            "text/plain": [
              "True"
            ]
          },
          "metadata": {},
          "execution_count": 15
        }
      ]
    },
    {
      "cell_type": "markdown",
      "source": [
        "#### Alternate method"
      ],
      "metadata": {
        "id": "Fo7Vwn1SXADY"
      }
    },
    {
      "cell_type": "code",
      "source": [
        "A = sym.Matrix([[1, 2, 7],\n",
        "                [-2, 5, 4],\n",
        "                [-5, 6, -3]])\n",
        "A.rref(pivots=False)"
      ],
      "metadata": {
        "colab": {
          "base_uri": "https://localhost:8080/",
          "height": 78
        },
        "id": "1Ha6JMkxW_C6",
        "outputId": "a8ccbf89-8bda-4296-81af-5c44f1324a52"
      },
      "execution_count": 16,
      "outputs": [
        {
          "output_type": "execute_result",
          "data": {
            "text/plain": [
              "Matrix([\n",
              "[1, 0, 3],\n",
              "[0, 1, 2],\n",
              "[0, 0, 0]])"
            ],
            "text/latex": "$\\displaystyle \\left[\\begin{matrix}1 & 0 & 3\\\\0 & 1 & 2\\\\0 & 0 & 0\\end{matrix}\\right]$"
          },
          "metadata": {},
          "execution_count": 16
        }
      ]
    },
    {
      "cell_type": "code",
      "source": [
        "c1 = 3\n",
        "c2 = 2\n",
        "c1 * a1 + c2 * a2 == b"
      ],
      "metadata": {
        "colab": {
          "base_uri": "https://localhost:8080/"
        },
        "id": "hPIGgGyTXMG6",
        "outputId": "511abf56-28d9-4e4f-f36e-0fbb18dd0291"
      },
      "execution_count": 17,
      "outputs": [
        {
          "output_type": "execute_result",
          "data": {
            "text/plain": [
              "True"
            ]
          },
          "metadata": {},
          "execution_count": 17
        }
      ]
    },
    {
      "cell_type": "markdown",
      "source": [
        "#### Alternate method"
      ],
      "metadata": {
        "id": "Pj3hR-XBTDVP"
      }
    },
    {
      "cell_type": "code",
      "source": [
        "a1, a2, b"
      ],
      "metadata": {
        "colab": {
          "base_uri": "https://localhost:8080/"
        },
        "id": "vxmsVsiCTAMY",
        "outputId": "1202d420-34ce-4a02-abe3-bea0bb9ea79f"
      },
      "execution_count": 18,
      "outputs": [
        {
          "output_type": "execute_result",
          "data": {
            "text/plain": [
              "(Matrix([\n",
              " [ 1],\n",
              " [-2],\n",
              " [-5]]),\n",
              " Matrix([\n",
              " [2],\n",
              " [5],\n",
              " [6]]),\n",
              " Matrix([\n",
              " [ 7],\n",
              " [ 4],\n",
              " [-3]]))"
            ]
          },
          "metadata": {},
          "execution_count": 18
        }
      ]
    },
    {
      "cell_type": "code",
      "source": [
        "c1, c2 = sym.symbols('c_1 c_2')"
      ],
      "metadata": {
        "id": "45W7QAMHRoqj"
      },
      "execution_count": 19,
      "outputs": []
    },
    {
      "cell_type": "code",
      "source": [
        "sym.solve(c1 * a1 + c2 * a2 - b)"
      ],
      "metadata": {
        "colab": {
          "base_uri": "https://localhost:8080/"
        },
        "id": "cJOZi--3R4UZ",
        "outputId": "2fc90b51-76e8-4280-dc9d-e5966178ccf1"
      },
      "execution_count": 20,
      "outputs": [
        {
          "output_type": "execute_result",
          "data": {
            "text/plain": [
              "{c_1: 3, c_2: 2}"
            ]
          },
          "metadata": {},
          "execution_count": 20
        }
      ]
    },
    {
      "cell_type": "code",
      "source": [
        "sym.solve(sym.Eq(c1 * a1 + c2 * a2, b))"
      ],
      "metadata": {
        "colab": {
          "base_uri": "https://localhost:8080/"
        },
        "id": "VHRxTnT-VpPq",
        "outputId": "32b046cb-1e8a-4987-8329-0ccae08b7edd"
      },
      "execution_count": 21,
      "outputs": [
        {
          "output_type": "execute_result",
          "data": {
            "text/plain": [
              "{c_1: 3, c_2: 2}"
            ]
          },
          "metadata": {},
          "execution_count": 21
        }
      ]
    },
    {
      "cell_type": "markdown",
      "source": [
        "## 2.3.2 Linear Independence"
      ],
      "metadata": {
        "id": "JK3kz-S1dx0S"
      }
    },
    {
      "cell_type": "markdown",
      "source": [
        "### 2.3.2.1 Span\n",
        "\n",
        "Suppose $S$ is a set of vectors.\n",
        "\n",
        "$$\n",
        "S = \\{v_1, v_2, \\cdots, v_n\\}\n",
        "$$\n",
        "\n",
        "The **span** of set $S$, denoted $\\text{span}(S)$ is the set of all linear combinations of the vectors in $S$."
      ],
      "metadata": {
        "id": "Rqwfu7pZePSN"
      }
    },
    {
      "cell_type": "markdown",
      "source": [
        "#### Example\n",
        "\n",
        "$$\n",
        "S = \\{v_1, v_2\\}\n",
        "$$\n",
        "\n",
        "where:\n",
        "\n",
        "$$\n",
        "v_1 = \\begin{bmatrix}1\\\\0\\\\0\\end{bmatrix},\n",
        "v_2 = \\begin{bmatrix}0\\\\1\\\\0\\end{bmatrix}\n",
        "$$\n",
        "\n",
        "Is $b = \\begin{bmatrix}1\\\\1\\\\1\\end{bmatrix}$ in $\\text{span}(S)$?\n",
        "\n",
        "#### Solution\n",
        "\n",
        "Let $c_1$ and $c_2$ be scalars. If $b$ is in $\\text{span}(S)$, then\n",
        "\n",
        "$$\n",
        "\\begin{align}\n",
        "& c_1v_1 + c_2v_2 = \\begin{bmatrix}1\\\\1\\\\1\\end{bmatrix} \\\\\n",
        "&\\implies\n",
        "c_1\\begin{bmatrix}1\\\\0\\\\0\\end{bmatrix} + c_2\\begin{bmatrix}0\\\\1\\\\0\\end{bmatrix} = \\begin{bmatrix}1\\\\1\\\\1\\end{bmatrix} \\\\\n",
        "&\\implies\n",
        "\\begin{bmatrix}c_1\\\\c_2\\\\0\\end{bmatrix} = \\begin{bmatrix}1\\\\1\\\\1\\end{bmatrix}\n",
        "\\end{align}\n",
        "$$\n",
        "\n",
        "There is no solution.\n",
        "\n",
        "$\\therefore b$ is not in $\\text{span}(S)$."
      ],
      "metadata": {
        "id": "IY51NjMLj5ST"
      }
    },
    {
      "cell_type": "markdown",
      "source": [
        "### 2.3.2.2 Span Example"
      ],
      "metadata": {
        "id": "1xfgA4uBnufz"
      }
    },
    {
      "cell_type": "markdown",
      "source": [
        "$$\n",
        "a_1 = \\begin{bmatrix}1\\\\-2\\\\3\\end{bmatrix},\n",
        "a_2 = \\begin{bmatrix}5\\\\-13\\\\-3\\end{bmatrix},\n",
        "b = \\begin{bmatrix}-3\\\\8\\\\1\\end{bmatrix},\n",
        "S = \\{v_1, v2\\}\n",
        "$$\n",
        "\n",
        "Is $b$ in $\\text{span}(S)$?\n"
      ],
      "metadata": {
        "id": "0qiDaWbksG3y"
      }
    },
    {
      "cell_type": "markdown",
      "source": [
        "#### Solution:\n",
        "\n",
        "$$\n",
        "\\begin{align}\n",
        "\\text{span}(S) &= c_1a_1 + c_2a_2 \\\\\n",
        "&= \\begin{bmatrix}c_1 + 5c_2\\\\-2c_1 - 13_c2\\\\3c_1 - 3c_2\\end{bmatrix}\n",
        "\\end{align}\n",
        "$$\n",
        "\n",
        "Can we find a $c_1$ and $c_2$ such that $b$ is in the span? The span of $S$ is a plane in 3-space. Does $b$ lie on that plane?\n",
        "\n",
        "$$\n",
        "\\begin{align}\n",
        "\\begin{bmatrix}c_1 + 5c_2\\\\-2c_1 - 13c_2\\\\3c_1 - 3c_2\\end{bmatrix} &= \\begin{bmatrix}-3\\\\8\\\\1\\end{bmatrix}\n",
        "\\end{align}\n",
        "$$\n",
        "\n",
        "This can be expressed as an augmented matrix."
      ],
      "metadata": {
        "id": "SL9yq9q_tODH"
      }
    },
    {
      "cell_type": "code",
      "source": [
        "A = sym.Matrix([[1, 5, -3],\n",
        "                [-2, -13, 8],\n",
        "                [3, -3, 1]])\n",
        "A"
      ],
      "metadata": {
        "colab": {
          "base_uri": "https://localhost:8080/",
          "height": 78
        },
        "id": "N6C0oI8W0fyN",
        "outputId": "d71d0961-44e1-4efd-fd1d-2ad15bc046ec"
      },
      "execution_count": 22,
      "outputs": [
        {
          "output_type": "execute_result",
          "data": {
            "text/plain": [
              "Matrix([\n",
              "[ 1,   5, -3],\n",
              "[-2, -13,  8],\n",
              "[ 3,  -3,  1]])"
            ],
            "text/latex": "$\\displaystyle \\left[\\begin{matrix}1 & 5 & -3\\\\-2 & -13 & 8\\\\3 & -3 & 1\\end{matrix}\\right]$"
          },
          "metadata": {},
          "execution_count": 22
        }
      ]
    },
    {
      "cell_type": "markdown",
      "source": [
        "$R_2 \\leftarrow R_2 + 2R_1$\n",
        "\n",
        "$R_3 \\leftarrow R_3 - 3R_1$"
      ],
      "metadata": {
        "id": "DZh7peTr05Ex"
      }
    },
    {
      "cell_type": "code",
      "source": [
        "A[1,:] = A.row(1) + 2 * A.row(0)\n",
        "A[2,:] = A.row(2) - 3 * A.row(0)\n",
        "A"
      ],
      "metadata": {
        "colab": {
          "base_uri": "https://localhost:8080/",
          "height": 78
        },
        "id": "oAxxGdEC0xhz",
        "outputId": "9a57d125-ca3e-407e-a8b1-faff7bac59d5"
      },
      "execution_count": 23,
      "outputs": [
        {
          "output_type": "execute_result",
          "data": {
            "text/plain": [
              "Matrix([\n",
              "[1,   5, -3],\n",
              "[0,  -3,  2],\n",
              "[0, -18, 10]])"
            ],
            "text/latex": "$\\displaystyle \\left[\\begin{matrix}1 & 5 & -3\\\\0 & -3 & 2\\\\0 & -18 & 10\\end{matrix}\\right]$"
          },
          "metadata": {},
          "execution_count": 23
        }
      ]
    },
    {
      "cell_type": "markdown",
      "source": [
        "$R_3 \\leftarrow R_3 + 6R_2$"
      ],
      "metadata": {
        "id": "rX3HDCb53BXc"
      }
    },
    {
      "cell_type": "code",
      "source": [
        "A[2,:] = A.row(2) - 6 * A.row(1)\n",
        "A"
      ],
      "metadata": {
        "colab": {
          "base_uri": "https://localhost:8080/",
          "height": 78
        },
        "id": "JzK5Pwsh3IDq",
        "outputId": "15c54569-ce40-4716-e608-8b3b05cc936e"
      },
      "execution_count": 24,
      "outputs": [
        {
          "output_type": "execute_result",
          "data": {
            "text/plain": [
              "Matrix([\n",
              "[1,  5, -3],\n",
              "[0, -3,  2],\n",
              "[0,  0, -2]])"
            ],
            "text/latex": "$\\displaystyle \\left[\\begin{matrix}1 & 5 & -3\\\\0 & -3 & 2\\\\0 & 0 & -2\\end{matrix}\\right]$"
          },
          "metadata": {},
          "execution_count": 24
        }
      ]
    },
    {
      "cell_type": "markdown",
      "source": [
        "There is no solution.\n",
        "\n",
        "$\\therefore b$ is not in $\\text{span}(S)$."
      ],
      "metadata": {
        "id": "2CoESgOS3uTf"
      }
    },
    {
      "cell_type": "markdown",
      "source": [
        "#### Alternate Solutions:"
      ],
      "metadata": {
        "id": "S_LUNBXT4eJH"
      }
    },
    {
      "cell_type": "code",
      "source": [
        "# this also shows there are no solutions\n",
        "A = sym.Matrix([[1, 5, -3],\n",
        "                [-2, -13, 8],\n",
        "                [3, -3, 1]])\n",
        "A.rref(pivots=False)"
      ],
      "metadata": {
        "colab": {
          "base_uri": "https://localhost:8080/",
          "height": 78
        },
        "id": "p-3RvuRF4lju",
        "outputId": "e18c8117-5521-4fce-d53e-f78c4dea74e7"
      },
      "execution_count": 25,
      "outputs": [
        {
          "output_type": "execute_result",
          "data": {
            "text/plain": [
              "Matrix([\n",
              "[1, 0, 0],\n",
              "[0, 1, 0],\n",
              "[0, 0, 1]])"
            ],
            "text/latex": "$\\displaystyle \\left[\\begin{matrix}1 & 0 & 0\\\\0 & 1 & 0\\\\0 & 0 & 1\\end{matrix}\\right]$"
          },
          "metadata": {},
          "execution_count": 25
        }
      ]
    },
    {
      "cell_type": "code",
      "source": [
        "A = sym.Matrix([[1, 5, -3],\n",
        "                [-2, -13, 8],\n",
        "                [3, -3, 1]])\n",
        "a1 = A.col(0)\n",
        "a2 = A.col(1)\n",
        "b = A.col(2)\n",
        "\n",
        "c1, c2 = sym.symbols('c_1 c_2')\n",
        "\n",
        "# no solutions\n",
        "sym.solve(c1 * a1 + c2 * a2 - b)"
      ],
      "metadata": {
        "colab": {
          "base_uri": "https://localhost:8080/"
        },
        "id": "z1bushNL5J7q",
        "outputId": "59d12786-f6c2-4533-ebf5-20a4d14471fa"
      },
      "execution_count": 26,
      "outputs": [
        {
          "output_type": "execute_result",
          "data": {
            "text/plain": [
              "[]"
            ]
          },
          "metadata": {},
          "execution_count": 26
        }
      ]
    },
    {
      "cell_type": "code",
      "source": [
        "A = sym.Matrix([[1, 5, -3],\n",
        "                [-2, -13, 8],\n",
        "                [3, -3, 1]])\n",
        "a1 = A.col(0)\n",
        "a2 = A.col(1)\n",
        "b = A.col(2)\n",
        "\n",
        "c1, c2 = sym.symbols('c_1 c_2')\n",
        "\n",
        "# no solutions\n",
        "sym.solve(sym.Eq(c1 * a1 + c2 * a2, b))"
      ],
      "metadata": {
        "colab": {
          "base_uri": "https://localhost:8080/"
        },
        "id": "LGhuKFyB570I",
        "outputId": "8f6792d4-29ae-4a75-ff33-2f3318cac503"
      },
      "execution_count": 27,
      "outputs": [
        {
          "output_type": "execute_result",
          "data": {
            "text/plain": [
              "[]"
            ]
          },
          "metadata": {},
          "execution_count": 27
        }
      ]
    },
    {
      "cell_type": "markdown",
      "source": [
        "### 2.3.2.3 $A\\vec{x} = \\vec{b}$\n",
        "\n",
        "This seems like a very bad example since the determinant of $A$ is $0$."
      ],
      "metadata": {
        "id": "hjXk_sjR-HbF"
      }
    },
    {
      "cell_type": "code",
      "source": [
        "A = sym.Matrix([[1, 3, 4],\n",
        "                [-4, 2, -6],\n",
        "                [-3, -2, -7]])\n",
        "A.det()"
      ],
      "metadata": {
        "colab": {
          "base_uri": "https://localhost:8080/",
          "height": 37
        },
        "id": "NuhxYA1-YKU4",
        "outputId": "d192b9f0-c90c-41d1-95ba-adf692c816be"
      },
      "execution_count": 28,
      "outputs": [
        {
          "output_type": "execute_result",
          "data": {
            "text/plain": [
              "0"
            ],
            "text/latex": "$\\displaystyle 0$"
          },
          "metadata": {},
          "execution_count": 28
        }
      ]
    },
    {
      "cell_type": "markdown",
      "source": [
        "Our goal is to be able to solve for $\\vec{x}$ given any $\\vec{b}$."
      ],
      "metadata": {
        "id": "xaDzd_TLKjAG"
      }
    },
    {
      "cell_type": "markdown",
      "source": [
        "$$\n",
        "A = \\begin{bmatrix}\n",
        "1 & 3 & 4 \\\\\n",
        "-4 & 2 & -6 \\\\\n",
        "-3 & -2 & -7\n",
        "\\end{bmatrix},\n",
        "\\vec{x} = \\begin{bmatrix}\n",
        "x_1 \\\\\n",
        "x_2 \\\\\n",
        "x_3\n",
        "\\end{bmatrix},\n",
        "\\vec{b} = \\begin{bmatrix}\n",
        "b_1 \\\\\n",
        "b_2 \\\\\n",
        "b_3\n",
        "\\end{bmatrix}\n",
        "$$"
      ],
      "metadata": {
        "id": "X4RfwawCLGr0"
      }
    },
    {
      "cell_type": "markdown",
      "source": [
        "Solving for $\\vec{x}$ using Gaussian Elimination we let $M$ be the augmented matrix:"
      ],
      "metadata": {
        "id": "6CL1pDKTMNOu"
      }
    },
    {
      "cell_type": "code",
      "source": [
        "b1, b2, b3 = sym.symbols('b_1 b_2 b_3')\n",
        "\n",
        "M = sym.Matrix([[1, 3, 4, b1],\n",
        "                [-4, 2, -6, b2],\n",
        "                [-3, -2, -7, b3]])\n",
        "M"
      ],
      "metadata": {
        "colab": {
          "base_uri": "https://localhost:8080/",
          "height": 78
        },
        "id": "1pk0yfV9OhZR",
        "outputId": "fe5af572-63ec-4e40-f323-774470ec9587"
      },
      "execution_count": 29,
      "outputs": [
        {
          "output_type": "execute_result",
          "data": {
            "text/plain": [
              "Matrix([\n",
              "[ 1,  3,  4, b_1],\n",
              "[-4,  2, -6, b_2],\n",
              "[-3, -2, -7, b_3]])"
            ],
            "text/latex": "$\\displaystyle \\left[\\begin{matrix}1 & 3 & 4 & b_{1}\\\\-4 & 2 & -6 & b_{2}\\\\-3 & -2 & -7 & b_{3}\\end{matrix}\\right]$"
          },
          "metadata": {},
          "execution_count": 29
        }
      ]
    },
    {
      "cell_type": "markdown",
      "source": [
        "$R_2 \\leftarrow R_2 + 4R_1$\n",
        "\n",
        "$R_3 \\leftarrow R_3 + 3R_1$"
      ],
      "metadata": {
        "id": "RLpbK4aQPCIN"
      }
    },
    {
      "cell_type": "code",
      "source": [
        "M[1,:] = M.row(1) + 4 * M.row(0)\n",
        "M[2,:] = M.row(2) + 3 * M.row(0)\n",
        "M"
      ],
      "metadata": {
        "colab": {
          "base_uri": "https://localhost:8080/",
          "height": 78
        },
        "id": "wfGEkVRpPPtK",
        "outputId": "17633b8c-e13c-4208-bc0f-547b7e525c24"
      },
      "execution_count": 30,
      "outputs": [
        {
          "output_type": "execute_result",
          "data": {
            "text/plain": [
              "Matrix([\n",
              "[1,  3,  4,         b_1],\n",
              "[0, 14, 10, 4*b_1 + b_2],\n",
              "[0,  7,  5, 3*b_1 + b_3]])"
            ],
            "text/latex": "$\\displaystyle \\left[\\begin{matrix}1 & 3 & 4 & b_{1}\\\\0 & 14 & 10 & 4 b_{1} + b_{2}\\\\0 & 7 & 5 & 3 b_{1} + b_{3}\\end{matrix}\\right]$"
          },
          "metadata": {},
          "execution_count": 30
        }
      ]
    },
    {
      "cell_type": "markdown",
      "source": [
        "$R_3 \\leftarrow -2R_3 + R_2$"
      ],
      "metadata": {
        "id": "FPwGv459QEkE"
      }
    },
    {
      "cell_type": "code",
      "source": [
        "M[2,:] = -2 * M.row(2) + M.row(1)\n",
        "M"
      ],
      "metadata": {
        "colab": {
          "base_uri": "https://localhost:8080/",
          "height": 78
        },
        "id": "keofjvf4QVrz",
        "outputId": "a8f67efe-5584-4f06-a1b5-594415f7fc57"
      },
      "execution_count": 31,
      "outputs": [
        {
          "output_type": "execute_result",
          "data": {
            "text/plain": [
              "Matrix([\n",
              "[1,  3,  4,                  b_1],\n",
              "[0, 14, 10,          4*b_1 + b_2],\n",
              "[0,  0,  0, -2*b_1 + b_2 - 2*b_3]])"
            ],
            "text/latex": "$\\displaystyle \\left[\\begin{matrix}1 & 3 & 4 & b_{1}\\\\0 & 14 & 10 & 4 b_{1} + b_{2}\\\\0 & 0 & 0 & - 2 b_{1} + b_{2} - 2 b_{3}\\end{matrix}\\right]$"
          },
          "metadata": {},
          "execution_count": 31
        }
      ]
    },
    {
      "cell_type": "markdown",
      "source": [
        "In order for there to be a solution for $\\vec{x}$, the following must be true:\n",
        "\n",
        "$$\n",
        "-2b_1 + b_2 - 2b_3 = 0\n",
        "$$"
      ],
      "metadata": {
        "id": "vW9NE6cNSOjN"
      }
    },
    {
      "cell_type": "markdown",
      "source": [
        "### 2.3.2.4 Linear Independence"
      ],
      "metadata": {
        "id": "ocJz9NZzZsIo"
      }
    },
    {
      "cell_type": "markdown",
      "source": [
        "Let $S = \\{v_1, \\cdots, v_n\\}$ be a set of vectors.\n",
        "\n",
        "If $c_1v_1 + \\cdots + c_nv_n = 0$ only has the trivial solution, then the set of vectors, $S$, is said to be **linearly independent**\n",
        "\n",
        "If there are non-trivial solutions, then the set of vectors, $S$ is said to be **linearly dependent**"
      ],
      "metadata": {
        "id": "npJ9G5f3aMi5"
      }
    },
    {
      "cell_type": "markdown",
      "source": [
        "### 2.3.2.5 Linear Independence Example"
      ],
      "metadata": {
        "id": "H588f0bDfTB-"
      }
    },
    {
      "cell_type": "markdown",
      "source": [
        "Determine if the set of vectors, $S = \\{v_1, v_2, v_3\\}$ is linearly independent.\n",
        "\n",
        "$$\n",
        "v_1 = \\begin{bmatrix}1 \\\\ 2 \\\\ 3\\end{bmatrix},\n",
        "v_2 = \\begin{bmatrix}4 \\\\ 5 \\\\ 6\\end{bmatrix},\n",
        "v_3 = \\begin{bmatrix}2 \\\\ 1 \\\\ 0\\end{bmatrix}\n",
        "$$\n",
        "\n",
        "Let\n",
        "\n",
        "$$\n",
        "x = \\begin{bmatrix}x_1\\\\x_2\\\\x_3\\end{bmatrix}\n",
        "$$\n",
        "\n",
        "be the solution to $Ax = 0$\n",
        "\n",
        "If this system has non-trivial solution, then the set of vectors is NOT linearly independent."
      ],
      "metadata": {
        "id": "3Zy5zhNLfviZ"
      }
    },
    {
      "cell_type": "code",
      "source": [
        "# A is the augmented matrix\n",
        "A = sym.Matrix([[1, 4, 2, 0],\n",
        "                [2, 5, 1, 0],\n",
        "                [3, 6, 0, 0]])\n",
        "A"
      ],
      "metadata": {
        "colab": {
          "base_uri": "https://localhost:8080/",
          "height": 78
        },
        "id": "qNJMYS6Litet",
        "outputId": "c259df62-360b-4bf5-c506-859700570486"
      },
      "execution_count": 32,
      "outputs": [
        {
          "output_type": "execute_result",
          "data": {
            "text/plain": [
              "Matrix([\n",
              "[1, 4, 2, 0],\n",
              "[2, 5, 1, 0],\n",
              "[3, 6, 0, 0]])"
            ],
            "text/latex": "$\\displaystyle \\left[\\begin{matrix}1 & 4 & 2 & 0\\\\2 & 5 & 1 & 0\\\\3 & 6 & 0 & 0\\end{matrix}\\right]$"
          },
          "metadata": {},
          "execution_count": 32
        }
      ]
    },
    {
      "cell_type": "markdown",
      "source": [
        "$R_2 \\leftarrow R_2 - 2R_1$\n",
        "\n",
        "$R_3 \\leftarrow R_3 - 3R_1$"
      ],
      "metadata": {
        "id": "j9hJJrZUjwoo"
      }
    },
    {
      "cell_type": "code",
      "source": [
        "A[1, :] = A.row(1) - 2 * A.row(0)\n",
        "A[2, :] = A.row(2) - 3 * A.row(0)\n",
        "A"
      ],
      "metadata": {
        "colab": {
          "base_uri": "https://localhost:8080/",
          "height": 78
        },
        "id": "29Bft01-j4FQ",
        "outputId": "03b5f490-a97c-4008-983e-6c84ee12b798"
      },
      "execution_count": 33,
      "outputs": [
        {
          "output_type": "execute_result",
          "data": {
            "text/plain": [
              "Matrix([\n",
              "[1,  4,  2, 0],\n",
              "[0, -3, -3, 0],\n",
              "[0, -6, -6, 0]])"
            ],
            "text/latex": "$\\displaystyle \\left[\\begin{matrix}1 & 4 & 2 & 0\\\\0 & -3 & -3 & 0\\\\0 & -6 & -6 & 0\\end{matrix}\\right]$"
          },
          "metadata": {},
          "execution_count": 33
        }
      ]
    },
    {
      "cell_type": "markdown",
      "source": [
        "$R_2 \\leftarrow - \\frac{1}{3}R_2$\n",
        "\n",
        "$R_3 \\leftarrow - \\frac{1}{6}R_3$"
      ],
      "metadata": {
        "id": "VrhhCLkEkQza"
      }
    },
    {
      "cell_type": "code",
      "source": [
        "A[1, :] = -sym.Rational(1, 3) * A.row(1)\n",
        "A[2, :] = -sym.Rational(1, 6) * A.row(2)\n",
        "A"
      ],
      "metadata": {
        "colab": {
          "base_uri": "https://localhost:8080/",
          "height": 78
        },
        "id": "cjjQ5yUnkw8m",
        "outputId": "441dfbf0-40a5-4588-f702-8aae11e3438d"
      },
      "execution_count": 34,
      "outputs": [
        {
          "output_type": "execute_result",
          "data": {
            "text/plain": [
              "Matrix([\n",
              "[1, 4, 2, 0],\n",
              "[0, 1, 1, 0],\n",
              "[0, 1, 1, 0]])"
            ],
            "text/latex": "$\\displaystyle \\left[\\begin{matrix}1 & 4 & 2 & 0\\\\0 & 1 & 1 & 0\\\\0 & 1 & 1 & 0\\end{matrix}\\right]$"
          },
          "metadata": {},
          "execution_count": 34
        }
      ]
    },
    {
      "cell_type": "markdown",
      "source": [
        "$R_3 \\leftarrow R_3 - R_2$"
      ],
      "metadata": {
        "id": "2SSK_l7UlDlG"
      }
    },
    {
      "cell_type": "code",
      "source": [
        "A[2, :] = A.row(2) - A.row(1)\n",
        "A"
      ],
      "metadata": {
        "colab": {
          "base_uri": "https://localhost:8080/",
          "height": 78
        },
        "id": "8CepGC4GlH0s",
        "outputId": "0210f995-dc5a-4d62-8b8d-ebe603b75eb6"
      },
      "execution_count": 35,
      "outputs": [
        {
          "output_type": "execute_result",
          "data": {
            "text/plain": [
              "Matrix([\n",
              "[1, 4, 2, 0],\n",
              "[0, 1, 1, 0],\n",
              "[0, 0, 0, 0]])"
            ],
            "text/latex": "$\\displaystyle \\left[\\begin{matrix}1 & 4 & 2 & 0\\\\0 & 1 & 1 & 0\\\\0 & 0 & 0 & 0\\end{matrix}\\right]$"
          },
          "metadata": {},
          "execution_count": 35
        }
      ]
    },
    {
      "cell_type": "code",
      "source": [
        "A[0, : ] = A.row(0) - 4 * A.row(1)\n",
        "A"
      ],
      "metadata": {
        "colab": {
          "base_uri": "https://localhost:8080/",
          "height": 78
        },
        "id": "6E-QM5jblXWH",
        "outputId": "310b91c8-9620-4be8-ceaf-cf39aa9f1eb7"
      },
      "execution_count": 36,
      "outputs": [
        {
          "output_type": "execute_result",
          "data": {
            "text/plain": [
              "Matrix([\n",
              "[1, 0, -2, 0],\n",
              "[0, 1,  1, 0],\n",
              "[0, 0,  0, 0]])"
            ],
            "text/latex": "$\\displaystyle \\left[\\begin{matrix}1 & 0 & -2 & 0\\\\0 & 1 & 1 & 0\\\\0 & 0 & 0 & 0\\end{matrix}\\right]$"
          },
          "metadata": {},
          "execution_count": 36
        }
      ]
    },
    {
      "cell_type": "markdown",
      "source": [
        "$$\n",
        "\\begin{align}\n",
        "x_1 - 2x_3 &= 0 \\\\\n",
        "x_2 + x_3 &= 0\n",
        "\\end{align}\n",
        "$$\n",
        "\n",
        "$x_3$ acts as a **free variable**. There are an infinite number of solutions to $Ax = b$, given by the following column vector.\n",
        "\n",
        "$$\n",
        "\\begin{bmatrix}\n",
        "2x_3 \\\\\n",
        "-x_3 \\\\\n",
        "x_3\n",
        "\\end{bmatrix}\n",
        "$$\n",
        "\n",
        "Since there is a non-trivial solution to $Ax = 0$, the set of vectors, $S = \\{v_1, \\cdots, v_2\\}$ is NOT linearly independent. We can say that the set of vectors is linearly dependent.  "
      ],
      "metadata": {
        "id": "p9zAW4u1pfw_"
      }
    },
    {
      "cell_type": "code",
      "source": [
        "# verify result\n",
        "x1, x2, x3 = sym.symbols('x_1 x_2 x_3')\n",
        "\n",
        "A = sym.Matrix([[1, 4, 2],\n",
        "                [2, 5, 1],\n",
        "                [3, 6, 0]])\n",
        "\n",
        "x = sym.Matrix([2 * x3, -x3, x3])\n",
        "\n",
        "A @ x"
      ],
      "metadata": {
        "colab": {
          "base_uri": "https://localhost:8080/",
          "height": 78
        },
        "id": "xo1ZnCdvqTc0",
        "outputId": "27e8ac76-f843-44da-c24c-3678f26947be"
      },
      "execution_count": 37,
      "outputs": [
        {
          "output_type": "execute_result",
          "data": {
            "text/plain": [
              "Matrix([\n",
              "[0],\n",
              "[0],\n",
              "[0]])"
            ],
            "text/latex": "$\\displaystyle \\left[\\begin{matrix}0\\\\0\\\\0\\end{matrix}\\right]$"
          },
          "metadata": {},
          "execution_count": 37
        }
      ]
    },
    {
      "cell_type": "code",
      "source": [
        "# alternately\n",
        "v1 = A[:, 0]\n",
        "v2 = A[:, 1]\n",
        "v3 = A[:, 2]\n",
        "\n",
        "x[0] * v1 + x[1] * v2 + x[2] * v3"
      ],
      "metadata": {
        "colab": {
          "base_uri": "https://localhost:8080/",
          "height": 78
        },
        "id": "Cv5O3dlJ7Ork",
        "outputId": "80590a01-0c97-421d-fe35-cf322ee90dff"
      },
      "execution_count": 38,
      "outputs": [
        {
          "output_type": "execute_result",
          "data": {
            "text/plain": [
              "Matrix([\n",
              "[0],\n",
              "[0],\n",
              "[0]])"
            ],
            "text/latex": "$\\displaystyle \\left[\\begin{matrix}0\\\\0\\\\0\\end{matrix}\\right]$"
          },
          "metadata": {},
          "execution_count": 38
        }
      ]
    },
    {
      "cell_type": "markdown",
      "source": [
        "#### Plotting the linearly dependent set of vectors"
      ],
      "metadata": {
        "id": "b5EirG09w8ie"
      }
    },
    {
      "cell_type": "code",
      "source": [
        "v1 = np.array(v1)\n",
        "v2 = np.array(v2)\n",
        "v3 = np.array(v3)\n",
        "v1, v2, v3"
      ],
      "metadata": {
        "colab": {
          "base_uri": "https://localhost:8080/"
        },
        "id": "_WKQL6FtxDY8",
        "outputId": "c0efdd3d-59d1-4d23-dfe8-87ac839ebff9"
      },
      "execution_count": 39,
      "outputs": [
        {
          "output_type": "execute_result",
          "data": {
            "text/plain": [
              "(array([[1],\n",
              "        [2],\n",
              "        [3]], dtype=object),\n",
              " array([[4],\n",
              "        [5],\n",
              "        [6]], dtype=object),\n",
              " array([[2],\n",
              "        [1],\n",
              "        [0]], dtype=object))"
            ]
          },
          "metadata": {},
          "execution_count": 39
        }
      ]
    },
    {
      "cell_type": "code",
      "source": [
        "ax = plt.figure(figsize=(8, 8)).add_subplot(projection='3d')\n",
        "\n",
        "tail = np.array([0, 0, 0])\n",
        "ax.quiver(*tail, *v1, color='red', arrow_length_ratio=0.1, label=v1.T[0])\n",
        "ax.quiver(*tail, *v2, color='green', arrow_length_ratio=.05, label=v2.T[0])\n",
        "ax.quiver(*tail, *v3, color='blue', arrow_length_ratio=.2, label=v3.T[0])\n",
        "\n",
        "ax.set_xticks(np.linspace(0, 10, 11))\n",
        "ax.set_yticks(np.linspace(0, 10, 11))\n",
        "ax.set_zticks(np.linspace(0, 10, 11))\n",
        "ax.set_xlabel('x')\n",
        "ax.set_ylabel('y')\n",
        "ax.set_zlabel('z')\n",
        "\n",
        "ax.legend()\n",
        "\n",
        "plt.show()"
      ],
      "metadata": {
        "colab": {
          "base_uri": "https://localhost:8080/",
          "height": 653
        },
        "id": "PF7kDgxLxR7_",
        "outputId": "fb7fa90a-482b-4032-eb0c-b36c0a55aea8"
      },
      "execution_count": 40,
      "outputs": [
        {
          "output_type": "display_data",
          "data": {
            "text/plain": [
              "<Figure size 800x800 with 1 Axes>"
            ],
            "image/png": "[encoded data removed]"
          },
          "metadata": {}
        }
      ]
    },
    {
      "cell_type": "markdown",
      "source": [
        "### 2.3.2.6 Columns of a Matrix and Linear Independence"
      ],
      "metadata": {
        "id": "CNHrw9gc8e9P"
      }
    },
    {
      "cell_type": "markdown",
      "source": [
        "$$\n",
        "A = \\begin{bmatrix}\n",
        "0 & 1 & 4 \\\\\n",
        "1 & 2 & -1 \\\\\n",
        "5 & 8 & 0\n",
        "\\end{bmatrix}\n",
        "$$"
      ],
      "metadata": {
        "id": "1cv-blAfCu7j"
      }
    },
    {
      "cell_type": "markdown",
      "source": [
        "The columns of Matrix $A$ are **linearly independent** if and only if $Ax = 0$ has only the trivial solution."
      ],
      "metadata": {
        "id": "5d4Z-xJ3AlOJ"
      }
    },
    {
      "cell_type": "code",
      "source": [
        "# A is an augmented matrix\n",
        "A = sym.Matrix([[0, 1, 4, 0],\n",
        "                [1, 2, -1, 0],\n",
        "                [5, 8, 0, 0]])\n",
        "A"
      ],
      "metadata": {
        "colab": {
          "base_uri": "https://localhost:8080/",
          "height": 78
        },
        "id": "ox2km-it9E1G",
        "outputId": "1a1207f7-37e0-44d1-e821-7e136ad5c8af"
      },
      "execution_count": 41,
      "outputs": [
        {
          "output_type": "execute_result",
          "data": {
            "text/plain": [
              "Matrix([\n",
              "[0, 1,  4, 0],\n",
              "[1, 2, -1, 0],\n",
              "[5, 8,  0, 0]])"
            ],
            "text/latex": "$\\displaystyle \\left[\\begin{matrix}0 & 1 & 4 & 0\\\\1 & 2 & -1 & 0\\\\5 & 8 & 0 & 0\\end{matrix}\\right]$"
          },
          "metadata": {},
          "execution_count": 41
        }
      ]
    },
    {
      "cell_type": "markdown",
      "source": [
        "$R_1 \\leftrightarrow R_2$"
      ],
      "metadata": {
        "id": "keODn1Zj9p2V"
      }
    },
    {
      "cell_type": "code",
      "source": [
        "r1 = A.row(0)\n",
        "r2 = A.row(1)\n",
        "A[0, :] = r2\n",
        "A[1, :] = r1\n",
        "A"
      ],
      "metadata": {
        "colab": {
          "base_uri": "https://localhost:8080/",
          "height": 78
        },
        "id": "zzlnSIb09pJH",
        "outputId": "a6f56e69-4430-45da-a0f4-6e7ce4d67548"
      },
      "execution_count": 42,
      "outputs": [
        {
          "output_type": "execute_result",
          "data": {
            "text/plain": [
              "Matrix([\n",
              "[1, 2, -1, 0],\n",
              "[0, 1,  4, 0],\n",
              "[5, 8,  0, 0]])"
            ],
            "text/latex": "$\\displaystyle \\left[\\begin{matrix}1 & 2 & -1 & 0\\\\0 & 1 & 4 & 0\\\\5 & 8 & 0 & 0\\end{matrix}\\right]$"
          },
          "metadata": {},
          "execution_count": 42
        }
      ]
    },
    {
      "cell_type": "markdown",
      "source": [
        "$R_3 \\leftarrow R_3 - 5R_1$"
      ],
      "metadata": {
        "id": "23p4wTsR-VEl"
      }
    },
    {
      "cell_type": "code",
      "source": [
        "A[2, :] = A.row(2) - 5 * A.row(0)\n",
        "A"
      ],
      "metadata": {
        "colab": {
          "base_uri": "https://localhost:8080/",
          "height": 78
        },
        "id": "JEJnXrY8-T-j",
        "outputId": "b832a69e-c156-4581-a9fe-ff79c668d723"
      },
      "execution_count": 43,
      "outputs": [
        {
          "output_type": "execute_result",
          "data": {
            "text/plain": [
              "Matrix([\n",
              "[1,  2, -1, 0],\n",
              "[0,  1,  4, 0],\n",
              "[0, -2,  5, 0]])"
            ],
            "text/latex": "$\\displaystyle \\left[\\begin{matrix}1 & 2 & -1 & 0\\\\0 & 1 & 4 & 0\\\\0 & -2 & 5 & 0\\end{matrix}\\right]$"
          },
          "metadata": {},
          "execution_count": 43
        }
      ]
    },
    {
      "cell_type": "markdown",
      "source": [
        "$R_3 \\leftarrow R_3 + 2R_2$"
      ],
      "metadata": {
        "id": "Widic4Hr-1DY"
      }
    },
    {
      "cell_type": "code",
      "source": [
        "A[2, :] = A.row(2) + 2 * A.row(1)\n",
        "A"
      ],
      "metadata": {
        "colab": {
          "base_uri": "https://localhost:8080/",
          "height": 78
        },
        "id": "-c3IFQAL-5VT",
        "outputId": "c905b1e3-d40a-4697-ab61-a1ebe090f917"
      },
      "execution_count": 44,
      "outputs": [
        {
          "output_type": "execute_result",
          "data": {
            "text/plain": [
              "Matrix([\n",
              "[1, 2, -1, 0],\n",
              "[0, 1,  4, 0],\n",
              "[0, 0, 13, 0]])"
            ],
            "text/latex": "$\\displaystyle \\left[\\begin{matrix}1 & 2 & -1 & 0\\\\0 & 1 & 4 & 0\\\\0 & 0 & 13 & 0\\end{matrix}\\right]$"
          },
          "metadata": {},
          "execution_count": 44
        }
      ]
    },
    {
      "cell_type": "markdown",
      "source": [
        "$$\n",
        "\\begin{align}\n",
        "x_1 + 2x_2 - x_3 &= 0 \\tag{1} \\\\\n",
        "x_2 + 4x_3 &= 0 \\tag{2} \\\\\n",
        "13x_3 &= 0 \\tag{3}\n",
        "\\end{align}\n",
        "$$\n",
        "\n",
        "We can see that $x_3 = 0$\n",
        "\n",
        "Substituting $x_3$ into equation 2:\n",
        "\n",
        "$x_2 + 4(0) = 0 \\implies x_2 = 0$\n",
        "\n",
        "Substituting $x_2$ and $x_3$ into equation 2:\n",
        "\n",
        "$x_2 + 2(0) - 0 = 0 \\implies x_1 = 0$\n",
        "\n",
        "$$\n",
        "\\begin{align}\n",
        "x_1 &= 0\n",
        "x_2 &= 0\n",
        "x_3 &= 0\n",
        "\\end{align}\n",
        "$$\n",
        "\n",
        "$Ax = b$ has only the trivial solution\n",
        "\n",
        "$\\therefore$ the columns of Matrix $A$ are linearly indepenent."
      ],
      "metadata": {
        "id": "AXLUE2yzA0O0"
      }
    },
    {
      "cell_type": "code",
      "source": [
        "# alternately\n",
        "A = sym.Matrix([[0, 1, 4],\n",
        "                [1, 2, -1],\n",
        "                [5, 8, 0]])\n",
        "A"
      ],
      "metadata": {
        "colab": {
          "base_uri": "https://localhost:8080/",
          "height": 78
        },
        "id": "YcGMTGrKDDJt",
        "outputId": "1cfee0fd-146e-483f-e034-acd58bd8a127"
      },
      "execution_count": 45,
      "outputs": [
        {
          "output_type": "execute_result",
          "data": {
            "text/plain": [
              "Matrix([\n",
              "[0, 1,  4],\n",
              "[1, 2, -1],\n",
              "[5, 8,  0]])"
            ],
            "text/latex": "$\\displaystyle \\left[\\begin{matrix}0 & 1 & 4\\\\1 & 2 & -1\\\\5 & 8 & 0\\end{matrix}\\right]$"
          },
          "metadata": {},
          "execution_count": 45
        }
      ]
    },
    {
      "cell_type": "code",
      "source": [
        "A.solve(sym.Matrix([0, 0, 0])) # only the trivial solution"
      ],
      "metadata": {
        "colab": {
          "base_uri": "https://localhost:8080/",
          "height": 78
        },
        "id": "KbN0z-GWDLmc",
        "outputId": "fdec16d0-52a3-4dcb-edd2-f72b271ed768"
      },
      "execution_count": 46,
      "outputs": [
        {
          "output_type": "execute_result",
          "data": {
            "text/plain": [
              "Matrix([\n",
              "[0],\n",
              "[0],\n",
              "[0]])"
            ],
            "text/latex": "$\\displaystyle \\left[\\begin{matrix}0\\\\0\\\\0\\end{matrix}\\right]$"
          },
          "metadata": {},
          "execution_count": 46
        }
      ]
    },
    {
      "cell_type": "markdown",
      "source": [
        "## Example\n",
        "\n",
        "Are the vectors $x$, $y$ and $z$ linearly independent?"
      ],
      "metadata": {
        "id": "j9_4xszjEB3i"
      }
    },
    {
      "cell_type": "code",
      "source": [
        "x = np.array([[1], [2], [3]])\n",
        "y = np.array([[3], [2], [1]])\n",
        "z = np.array([[0], [4], [8]])\n",
        "b = np.array([[0], [0], [0]])"
      ],
      "metadata": {
        "id": "FBRqXgqgELkZ"
      },
      "execution_count": 47,
      "outputs": []
    },
    {
      "cell_type": "code",
      "source": [
        "# A is the augmented matrix\n",
        "A = np.hstack([x, y, z, b])\n",
        "A"
      ],
      "metadata": {
        "colab": {
          "base_uri": "https://localhost:8080/"
        },
        "id": "tCCA-SuQE2Ck",
        "outputId": "058aa272-ec45-4c60-a306-28f8201e50ef"
      },
      "execution_count": 48,
      "outputs": [
        {
          "output_type": "execute_result",
          "data": {
            "text/plain": [
              "array([[1, 3, 0, 0],\n",
              "       [2, 2, 4, 0],\n",
              "       [3, 1, 8, 0]])"
            ]
          },
          "metadata": {},
          "execution_count": 48
        }
      ]
    },
    {
      "cell_type": "code",
      "source": [
        "A = sym.Matrix(A)\n",
        "A"
      ],
      "metadata": {
        "colab": {
          "base_uri": "https://localhost:8080/",
          "height": 78
        },
        "id": "9qHFs4WbFLbW",
        "outputId": "7666b9fb-06ed-4614-a12b-257543993046"
      },
      "execution_count": 49,
      "outputs": [
        {
          "output_type": "execute_result",
          "data": {
            "text/plain": [
              "Matrix([\n",
              "[1, 3, 0, 0],\n",
              "[2, 2, 4, 0],\n",
              "[3, 1, 8, 0]])"
            ],
            "text/latex": "$\\displaystyle \\left[\\begin{matrix}1 & 3 & 0 & 0\\\\2 & 2 & 4 & 0\\\\3 & 1 & 8 & 0\\end{matrix}\\right]$"
          },
          "metadata": {},
          "execution_count": 49
        }
      ]
    },
    {
      "cell_type": "code",
      "source": [
        "A.rref(pivots=False)"
      ],
      "metadata": {
        "colab": {
          "base_uri": "https://localhost:8080/",
          "height": 78
        },
        "id": "y6eoNkfqHnXE",
        "outputId": "f9adec35-9049-4f21-9052-c351f1102d92"
      },
      "execution_count": 50,
      "outputs": [
        {
          "output_type": "execute_result",
          "data": {
            "text/plain": [
              "Matrix([\n",
              "[1, 0,  3, 0],\n",
              "[0, 1, -1, 0],\n",
              "[0, 0,  0, 0]])"
            ],
            "text/latex": "$\\displaystyle \\left[\\begin{matrix}1 & 0 & 3 & 0\\\\0 & 1 & -1 & 0\\\\0 & 0 & 0 & 0\\end{matrix}\\right]$"
          },
          "metadata": {},
          "execution_count": 50
        }
      ]
    },
    {
      "cell_type": "markdown",
      "source": [
        "$$\n",
        "\\begin{align}\n",
        "x + 3z &= 0 \\\\\n",
        "y - z &= 0\n",
        "\\end{align}\n",
        "$$"
      ],
      "metadata": {
        "id": "nFOdN8M5HxUa"
      }
    },
    {
      "cell_type": "code",
      "source": [
        "# c is a solution\n",
        "z = sym.symbols('z')\n",
        "c = sym.Matrix([-3 * z, z, z])\n",
        "c"
      ],
      "metadata": {
        "colab": {
          "base_uri": "https://localhost:8080/",
          "height": 78
        },
        "id": "yife6MHgHwjt",
        "outputId": "43d560b4-fd00-443d-b827-73b5c67d78c5"
      },
      "execution_count": 51,
      "outputs": [
        {
          "output_type": "execute_result",
          "data": {
            "text/plain": [
              "Matrix([\n",
              "[-3*z],\n",
              "[   z],\n",
              "[   z]])"
            ],
            "text/latex": "$\\displaystyle \\left[\\begin{matrix}- 3 z\\\\z\\\\z\\end{matrix}\\right]$"
          },
          "metadata": {},
          "execution_count": 51
        }
      ]
    },
    {
      "cell_type": "markdown",
      "source": [
        "There are non-trivial solutions, $\\therefore$ these 3 vectors are **linearly dependent**"
      ],
      "metadata": {
        "id": "k10hC17WI1Ge"
      }
    },
    {
      "cell_type": "markdown",
      "source": [
        "## 2.3.3 Linear Transformations and Matrix Inverse"
      ],
      "metadata": {
        "id": "qhyIrTkfJiRr"
      }
    },
    {
      "cell_type": "markdown",
      "source": [
        "### 2.3.3.1 Linear Transformations"
      ],
      "metadata": {
        "id": "wQo57rnPJmyo"
      }
    }
  ]
}