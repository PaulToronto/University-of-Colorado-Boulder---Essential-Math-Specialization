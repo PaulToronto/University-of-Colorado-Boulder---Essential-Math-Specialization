{
  "nbformat": 4,
  "nbformat_minor": 0,
  "metadata": {
    "colab": {
      "provenance": [],
      "authorship_tag": "ABX9TyPgdcAJahGQuuGXGINORyEw",
      "include_colab_link": true
    },
    "kernelspec": {
      "name": "python3",
      "display_name": "Python 3"
    },
    "language_info": {
      "name": "python"
    }
  },
  "cells": [
    {
      "cell_type": "markdown",
      "metadata": {
        "id": "view-in-github",
        "colab_type": "text"
      },
      "source": [
        "<a href=\"https://colab.research.google.com/github/PaulToronto/University-of-Colorado-Boulder---Essential-Math-Specialization/blob/main/2_3_Properties_of_a_Linear_System.ipynb\" target=\"_parent\"><img src=\"https://colab.research.google.com/assets/colab-badge.svg\" alt=\"Open In Colab\"/></a>"
      ]
    },
    {
      "cell_type": "markdown",
      "source": [
        "# 2.3 Properties of a Linear System"
      ],
      "metadata": {
        "id": "k-UbhULNCw7u"
      }
    },
    {
      "cell_type": "markdown",
      "source": [
        "## Imports"
      ],
      "metadata": {
        "id": "AbFJTkOsC131"
      }
    },
    {
      "cell_type": "code",
      "execution_count": 1,
      "metadata": {
        "id": "plgFFNO2Cr1G"
      },
      "outputs": [],
      "source": [
        "import matplotlib.pyplot as plt\n",
        "import numpy as np\n",
        "import sympy as sym"
      ]
    },
    {
      "cell_type": "markdown",
      "source": [
        "## 2.3.1 Vectors and Linear Combinations"
      ],
      "metadata": {
        "id": "WSecnCAtC4NT"
      }
    },
    {
      "cell_type": "markdown",
      "source": [
        "### 2.3.1.1 Introduction to Vectors + Coordinates\n",
        "\n",
        "- In this course, when we talk about **vectors**, we are specifically talking about **column vectors**, but **row vectors** do exist\n",
        "- A column vector is a matrix with one column\n",
        "- The rules for matrix addition, scalar multiplication and multiplication apply\n",
        "\n",
        "$$\n",
        "\\begin{bmatrix}\n",
        "x_1 \\\\\n",
        "x_2 \\\\\n",
        "\\vdots \\\\\n",
        "x_n\n",
        "\\end{bmatrix} +\n",
        "\\begin{bmatrix}\n",
        "y_1 \\\\\n",
        "y_2 \\\\\n",
        "\\vdots \\\\\n",
        "y_n\n",
        "\\end{bmatrix} =\n",
        "\\begin{bmatrix}\n",
        "x_1 + y_1 \\\\\n",
        "x_2 + y_2 \\\\\n",
        "\\vdots \\\\\n",
        "x_n + y_n\n",
        "\\end{bmatrix}\n",
        "$$"
      ],
      "metadata": {
        "id": "YW37p2XtDCjh"
      }
    },
    {
      "cell_type": "markdown",
      "source": [
        "#### Visualizing Vectors\n",
        "\n",
        "$$\n",
        "\\mathbf{a} = \\begin{bmatrix}-2 \\\\ 1\\end{bmatrix},\n",
        "\\mathbf{b} = \\begin{bmatrix}4 \\\\ 3\\end{bmatrix}\n",
        "$$"
      ],
      "metadata": {
        "id": "QH_BQ6LsdBXO"
      }
    },
    {
      "cell_type": "code",
      "source": [
        "a = np.array([-2, 1])\n",
        "b = np.array([4, 3])\n",
        "tail = np.array([0, 0])\n",
        "\n",
        "\n",
        "plt.figure(figsize=(5, 5))\n",
        "\n",
        "plt.quiver(*tail, a[0], a[1], scale=1, units='xy',\n",
        "           color='dodgerblue', label=r'$a$')\n",
        "plt.quiver(*tail, b[0], b[1], scale=1, units='xy',\n",
        "           color='red', label='$b$')\n",
        "plt.quiver(*tail, (a + b)[0], (a + b)[1], scale=1,\n",
        "           units='xy', color='purple', label='$a + b$')\n",
        "\n",
        "\n",
        "\n",
        "plt.grid()\n",
        "plt.xticks(np.arange(-3, 6))\n",
        "plt.yticks(np.arange(-3, 6))\n",
        "plt.legend()\n",
        "\n",
        "plt.show()"
      ],
      "metadata": {
        "colab": {
          "base_uri": "https://localhost:8080/",
          "height": 451
        },
        "id": "TLV3N4HSdGfA",
        "outputId": "ecb43d89-7698-405b-d318-f4b1208a3764"
      },
      "execution_count": 2,
      "outputs": [
        {
          "output_type": "display_data",
          "data": {
            "text/plain": [
              "<Figure size 500x500 with 1 Axes>"
            ],
            "image/png": "[encoded data removed]"
          },
          "metadata": {}
        }
      ]
    },
    {
      "cell_type": "markdown",
      "source": [
        "#### Parallelogram Rule\n",
        "\n",
        "If we place two vectors so they have the same initial point, and then complete the vectors into a parallelogram, then the sum of the vectors is the directed diagonal that starts at the same point as the vectors."
      ],
      "metadata": {
        "id": "tlyglabembBp"
      }
    },
    {
      "cell_type": "markdown",
      "source": [
        "### 2.3.1.2 Introduction to Linear Combinations"
      ],
      "metadata": {
        "id": "89FpvbmjoA7e"
      }
    },
    {
      "cell_type": "markdown",
      "source": [
        "Let {$v_1$, $v_2$, $\\cdots$, $v_n$} be set of column vectors of the same dimension (same number of rows)\n",
        "\n",
        "$$\n",
        "y = c_1v_1 + c_2v_2 + \\cdots + c_nv_n\n",
        "$$\n",
        "\n",
        "$y$ is a **linear combination** of the given set of vectors."
      ],
      "metadata": {
        "id": "vIyVXcLaFW8O"
      }
    },
    {
      "cell_type": "code",
      "source": [
        "v1 = sym.Matrix([0, 1])\n",
        "v1"
      ],
      "metadata": {
        "colab": {
          "base_uri": "https://localhost:8080/",
          "height": 58
        },
        "id": "ybBJQnZLGK0p",
        "outputId": "2e211a2c-9b01-48f2-d22c-ee23f3375e19"
      },
      "execution_count": 3,
      "outputs": [
        {
          "output_type": "execute_result",
          "data": {
            "text/plain": [
              "Matrix([\n",
              "[0],\n",
              "[1]])"
            ],
            "text/latex": "$\\displaystyle \\left[\\begin{matrix}0\\\\1\\end{matrix}\\right]$"
          },
          "metadata": {},
          "execution_count": 3
        }
      ]
    },
    {
      "cell_type": "code",
      "source": [
        "v2 = sym.Matrix([-1, 3])\n",
        "v2"
      ],
      "metadata": {
        "colab": {
          "base_uri": "https://localhost:8080/",
          "height": 58
        },
        "id": "00APIv9oGcQc",
        "outputId": "ffb46e3b-c095-4270-9046-4a55cfeca9f1"
      },
      "execution_count": 4,
      "outputs": [
        {
          "output_type": "execute_result",
          "data": {
            "text/plain": [
              "Matrix([\n",
              "[-1],\n",
              "[ 3]])"
            ],
            "text/latex": "$\\displaystyle \\left[\\begin{matrix}-1\\\\3\\end{matrix}\\right]$"
          },
          "metadata": {},
          "execution_count": 4
        }
      ]
    },
    {
      "cell_type": "code",
      "source": [
        "# here, y is a linear combination of v1 and v2\n",
        "y = sym.sqrt(3) * v1 + 14 * v2\n",
        "y"
      ],
      "metadata": {
        "colab": {
          "base_uri": "https://localhost:8080/",
          "height": 59
        },
        "id": "y3_cCSH9GgUB",
        "outputId": "64d84a4a-6084-4127-b232-437ba36df52e"
      },
      "execution_count": 5,
      "outputs": [
        {
          "output_type": "execute_result",
          "data": {
            "text/plain": [
              "Matrix([\n",
              "[         -14],\n",
              "[sqrt(3) + 42]])"
            ],
            "text/latex": "$\\displaystyle \\left[\\begin{matrix}-14\\\\\\sqrt{3} + 42\\end{matrix}\\right]$"
          },
          "metadata": {},
          "execution_count": 5
        }
      ]
    },
    {
      "cell_type": "markdown",
      "source": [
        "### 2.3.1.3 Linear Combinations"
      ],
      "metadata": {
        "id": "ko6bpDZqHWRW"
      }
    },
    {
      "cell_type": "markdown",
      "source": [
        "$\n",
        "a_1 = \\begin{bmatrix}1 \\\\ -2 \\\\ -5\\end{bmatrix},\n",
        "a_2 = \\begin{bmatrix}2 \\\\ 5 \\\\ 6\\end{bmatrix}\n",
        "$\n",
        "\n",
        "<br>\n",
        "\n",
        "$\n",
        "b = \\begin{bmatrix}7 \\\\ 4 \\\\ -3\\end{bmatrix}\n",
        "$\n",
        "\n",
        "<br>\n",
        "\n",
        "Are there scalars $c_1$ and $c_2$ such that $b = c_1a_1 + c_2a_2$? In other words, is $b$ a linear combination of $a_1$ and $a_2$?"
      ],
      "metadata": {
        "id": "2Jt8cuibHsLw"
      }
    },
    {
      "cell_type": "markdown",
      "source": [
        "### 2.3.1.4 Linear Combinations Example (continued from previous section)"
      ],
      "metadata": {
        "id": "YlR-xIC6UhAm"
      }
    },
    {
      "cell_type": "code",
      "source": [
        "a1 = sym.Matrix([1, -2, -5])\n",
        "a2 = sym.Matrix([2, 5, 6])\n",
        "b = sym.Matrix([7, 4, -3])"
      ],
      "metadata": {
        "id": "UoaS_QWwQ-Rn"
      },
      "execution_count": 6,
      "outputs": []
    },
    {
      "cell_type": "markdown",
      "source": [
        "$\n",
        "\\begin{align}\n",
        "&b = c_1a_1 + c_2a_2 \\\\\n",
        "&\\implies\\begin{bmatrix}7 \\\\ 4 \\\\ -3\\end{bmatrix} = c_1\\begin{bmatrix}1 \\\\ -2 \\\\ -5\\end{bmatrix}\n",
        "+ c_2\\begin{bmatrix}2 \\\\ 5 \\\\ 6\\end{bmatrix} \\\\\n",
        "&\\implies\\begin{bmatrix}7 \\\\ 4 \\\\ -3\\end{bmatrix} =\n",
        "\\begin{bmatrix}c_1 + 2c_2\\\\-2c_1 + 5c_2\\\\-5c_1 + 6c_2\\end{bmatrix}\n",
        "\\end{align}\n",
        "$"
      ],
      "metadata": {
        "id": "LOQ2mQvUJG5_"
      }
    },
    {
      "cell_type": "markdown",
      "source": [
        "Now we have system of linear equations, which can be represented as an augmented matrix"
      ],
      "metadata": {
        "id": "toU7TvhmM0kM"
      }
    },
    {
      "cell_type": "code",
      "source": [
        "A = sym.Matrix([[1, 2, 7],\n",
        "                [-2, 5, 4],\n",
        "                [-5, 6, -3]])\n",
        "A"
      ],
      "metadata": {
        "colab": {
          "base_uri": "https://localhost:8080/",
          "height": 78
        },
        "id": "6dkXdpdvM6wr",
        "outputId": "249ee465-e98a-4059-9e13-454434542f76"
      },
      "execution_count": 7,
      "outputs": [
        {
          "output_type": "execute_result",
          "data": {
            "text/plain": [
              "Matrix([\n",
              "[ 1, 2,  7],\n",
              "[-2, 5,  4],\n",
              "[-5, 6, -3]])"
            ],
            "text/latex": "$\\displaystyle \\left[\\begin{matrix}1 & 2 & 7\\\\-2 & 5 & 4\\\\-5 & 6 & -3\\end{matrix}\\right]$"
          },
          "metadata": {},
          "execution_count": 7
        }
      ]
    },
    {
      "cell_type": "markdown",
      "source": [
        "$R_2 \\leftarrow R_2 + 2R_1$\n",
        "\n",
        "$R_3 \\leftarrow R_3 + 5R_1$"
      ],
      "metadata": {
        "id": "0Ldhy4hbNRf-"
      }
    },
    {
      "cell_type": "code",
      "source": [
        "A[1,:] = A.row(1) + 2 * A.row(0)\n",
        "A[2,:] = A.row(2) + 5 * A.row(0)\n",
        "A"
      ],
      "metadata": {
        "colab": {
          "base_uri": "https://localhost:8080/",
          "height": 78
        },
        "id": "Jc1J2e_KNOoP",
        "outputId": "f3f26d59-27ea-4726-ad2b-85e24812d61f"
      },
      "execution_count": 8,
      "outputs": [
        {
          "output_type": "execute_result",
          "data": {
            "text/plain": [
              "Matrix([\n",
              "[1,  2,  7],\n",
              "[0,  9, 18],\n",
              "[0, 16, 32]])"
            ],
            "text/latex": "$\\displaystyle \\left[\\begin{matrix}1 & 2 & 7\\\\0 & 9 & 18\\\\0 & 16 & 32\\end{matrix}\\right]$"
          },
          "metadata": {},
          "execution_count": 8
        }
      ]
    },
    {
      "cell_type": "markdown",
      "source": [
        "$R_2 \\leftarrow \\frac{1}{9}R_2$\n",
        "\n",
        "$R_3 \\leftarrow \\frac{1}{16}R_3$"
      ],
      "metadata": {
        "id": "sjqnZn2vOc4y"
      }
    },
    {
      "cell_type": "code",
      "source": [
        "A[1,:] = sym.Rational(1, 9) * A.row(1)\n",
        "A[2,:] = sym.Rational(1, 16) * A.row(2)\n",
        "A"
      ],
      "metadata": {
        "colab": {
          "base_uri": "https://localhost:8080/",
          "height": 78
        },
        "id": "5AA7HkYeO1-f",
        "outputId": "d5330b09-9cba-4fd4-bd6c-1da21a77c75a"
      },
      "execution_count": 9,
      "outputs": [
        {
          "output_type": "execute_result",
          "data": {
            "text/plain": [
              "Matrix([\n",
              "[1, 2, 7],\n",
              "[0, 1, 2],\n",
              "[0, 1, 2]])"
            ],
            "text/latex": "$\\displaystyle \\left[\\begin{matrix}1 & 2 & 7\\\\0 & 1 & 2\\\\0 & 1 & 2\\end{matrix}\\right]$"
          },
          "metadata": {},
          "execution_count": 9
        }
      ]
    },
    {
      "cell_type": "markdown",
      "source": [
        "$R_3 \\leftarrow R_3 - R_2$"
      ],
      "metadata": {
        "id": "FnV1c00mP83W"
      }
    },
    {
      "cell_type": "code",
      "source": [
        "A[2,:] = A.row(2) - A.row(1)\n",
        "A"
      ],
      "metadata": {
        "colab": {
          "base_uri": "https://localhost:8080/",
          "height": 78
        },
        "id": "UsZn5xkAP8IM",
        "outputId": "674c1e55-a0a2-4632-bb94-12df438ad3ad"
      },
      "execution_count": 10,
      "outputs": [
        {
          "output_type": "execute_result",
          "data": {
            "text/plain": [
              "Matrix([\n",
              "[1, 2, 7],\n",
              "[0, 1, 2],\n",
              "[0, 0, 0]])"
            ],
            "text/latex": "$\\displaystyle \\left[\\begin{matrix}1 & 2 & 7\\\\0 & 1 & 2\\\\0 & 0 & 0\\end{matrix}\\right]$"
          },
          "metadata": {},
          "execution_count": 10
        }
      ]
    },
    {
      "cell_type": "markdown",
      "source": [
        "$R_1 \\leftarrow = R_1 - 2R_2$"
      ],
      "metadata": {
        "id": "Q1CtYYpKYLff"
      }
    },
    {
      "cell_type": "code",
      "source": [
        "A[0,:] = A.row(0) - 2 * A.row(1)\n",
        "A"
      ],
      "metadata": {
        "colab": {
          "base_uri": "https://localhost:8080/",
          "height": 78
        },
        "id": "J0JoRv2mYKlV",
        "outputId": "4e29acd1-6de0-4029-e022-ad4f54215d09"
      },
      "execution_count": 11,
      "outputs": [
        {
          "output_type": "execute_result",
          "data": {
            "text/plain": [
              "Matrix([\n",
              "[1, 0, 3],\n",
              "[0, 1, 2],\n",
              "[0, 0, 0]])"
            ],
            "text/latex": "$\\displaystyle \\left[\\begin{matrix}1 & 0 & 3\\\\0 & 1 & 2\\\\0 & 0 & 0\\end{matrix}\\right]$"
          },
          "metadata": {},
          "execution_count": 11
        }
      ]
    },
    {
      "cell_type": "code",
      "source": [
        "c1 = 3\n",
        "c2 = 2\n",
        "c1, c2"
      ],
      "metadata": {
        "colab": {
          "base_uri": "https://localhost:8080/"
        },
        "id": "I8fKn5mEQKu1",
        "outputId": "664032f1-0cf3-4814-fcc5-236e63701b72"
      },
      "execution_count": 12,
      "outputs": [
        {
          "output_type": "execute_result",
          "data": {
            "text/plain": [
              "(3, 2)"
            ]
          },
          "metadata": {},
          "execution_count": 12
        }
      ]
    },
    {
      "cell_type": "code",
      "source": [
        "c1 * a1 + c2 * a2"
      ],
      "metadata": {
        "colab": {
          "base_uri": "https://localhost:8080/",
          "height": 78
        },
        "id": "24tGouzMQcuD",
        "outputId": "fb07edf5-2943-4bda-d73d-77d104fa25b9"
      },
      "execution_count": 13,
      "outputs": [
        {
          "output_type": "execute_result",
          "data": {
            "text/plain": [
              "Matrix([\n",
              "[ 7],\n",
              "[ 4],\n",
              "[-3]])"
            ],
            "text/latex": "$\\displaystyle \\left[\\begin{matrix}7\\\\4\\\\-3\\end{matrix}\\right]$"
          },
          "metadata": {},
          "execution_count": 13
        }
      ]
    },
    {
      "cell_type": "code",
      "source": [
        "b"
      ],
      "metadata": {
        "colab": {
          "base_uri": "https://localhost:8080/",
          "height": 78
        },
        "id": "c0e0hJyrRPn6",
        "outputId": "9be102bb-a01d-4804-a413-d40fb2af70ca"
      },
      "execution_count": 14,
      "outputs": [
        {
          "output_type": "execute_result",
          "data": {
            "text/plain": [
              "Matrix([\n",
              "[ 7],\n",
              "[ 4],\n",
              "[-3]])"
            ],
            "text/latex": "$\\displaystyle \\left[\\begin{matrix}7\\\\4\\\\-3\\end{matrix}\\right]$"
          },
          "metadata": {},
          "execution_count": 14
        }
      ]
    },
    {
      "cell_type": "code",
      "source": [
        "c1 * a1 + c2 * a2 == b"
      ],
      "metadata": {
        "colab": {
          "base_uri": "https://localhost:8080/"
        },
        "id": "5NzzaFFBRQkX",
        "outputId": "7f690888-75d0-413d-a88e-1e5280df949d"
      },
      "execution_count": 15,
      "outputs": [
        {
          "output_type": "execute_result",
          "data": {
            "text/plain": [
              "True"
            ]
          },
          "metadata": {},
          "execution_count": 15
        }
      ]
    },
    {
      "cell_type": "markdown",
      "source": [
        "#### Alternate method"
      ],
      "metadata": {
        "id": "Fo7Vwn1SXADY"
      }
    },
    {
      "cell_type": "code",
      "source": [
        "A = sym.Matrix([[1, 2, 7],\n",
        "                [-2, 5, 4],\n",
        "                [-5, 6, -3]])\n",
        "A.rref(pivots=False)"
      ],
      "metadata": {
        "colab": {
          "base_uri": "https://localhost:8080/",
          "height": 78
        },
        "id": "1Ha6JMkxW_C6",
        "outputId": "3fb91e95-a1e3-4f0c-927f-4488d4044265"
      },
      "execution_count": 16,
      "outputs": [
        {
          "output_type": "execute_result",
          "data": {
            "text/plain": [
              "Matrix([\n",
              "[1, 0, 3],\n",
              "[0, 1, 2],\n",
              "[0, 0, 0]])"
            ],
            "text/latex": "$\\displaystyle \\left[\\begin{matrix}1 & 0 & 3\\\\0 & 1 & 2\\\\0 & 0 & 0\\end{matrix}\\right]$"
          },
          "metadata": {},
          "execution_count": 16
        }
      ]
    },
    {
      "cell_type": "code",
      "source": [
        "c1 = 3\n",
        "c2 = 2\n",
        "c1 * a1 + c2 * a2 == b"
      ],
      "metadata": {
        "colab": {
          "base_uri": "https://localhost:8080/"
        },
        "id": "hPIGgGyTXMG6",
        "outputId": "0b8bfbd7-d673-4556-d503-0c4985df9839"
      },
      "execution_count": 17,
      "outputs": [
        {
          "output_type": "execute_result",
          "data": {
            "text/plain": [
              "True"
            ]
          },
          "metadata": {},
          "execution_count": 17
        }
      ]
    },
    {
      "cell_type": "markdown",
      "source": [
        "#### Alternate method"
      ],
      "metadata": {
        "id": "Pj3hR-XBTDVP"
      }
    },
    {
      "cell_type": "code",
      "source": [
        "a1, a2, b"
      ],
      "metadata": {
        "colab": {
          "base_uri": "https://localhost:8080/"
        },
        "id": "vxmsVsiCTAMY",
        "outputId": "8d519c01-f8a7-4d7a-db6f-6cf278da4f6a"
      },
      "execution_count": 18,
      "outputs": [
        {
          "output_type": "execute_result",
          "data": {
            "text/plain": [
              "(Matrix([\n",
              " [ 1],\n",
              " [-2],\n",
              " [-5]]),\n",
              " Matrix([\n",
              " [2],\n",
              " [5],\n",
              " [6]]),\n",
              " Matrix([\n",
              " [ 7],\n",
              " [ 4],\n",
              " [-3]]))"
            ]
          },
          "metadata": {},
          "execution_count": 18
        }
      ]
    },
    {
      "cell_type": "code",
      "source": [
        "c1, c2 = sym.symbols('c_1 c_2')"
      ],
      "metadata": {
        "id": "45W7QAMHRoqj"
      },
      "execution_count": 19,
      "outputs": []
    },
    {
      "cell_type": "code",
      "source": [
        "sym.solve(c1 * a1 + c2 * a2 - b)"
      ],
      "metadata": {
        "colab": {
          "base_uri": "https://localhost:8080/"
        },
        "id": "cJOZi--3R4UZ",
        "outputId": "897d544e-e6e7-4300-f767-4b1fcb97dfd6"
      },
      "execution_count": 20,
      "outputs": [
        {
          "output_type": "execute_result",
          "data": {
            "text/plain": [
              "{c_1: 3, c_2: 2}"
            ]
          },
          "metadata": {},
          "execution_count": 20
        }
      ]
    },
    {
      "cell_type": "code",
      "source": [
        "sym.solve(sym.Eq(c1 * a1 + c2 * a2, b))"
      ],
      "metadata": {
        "colab": {
          "base_uri": "https://localhost:8080/"
        },
        "id": "VHRxTnT-VpPq",
        "outputId": "b8f8fede-7ccd-401a-a024-34ff08bd004f"
      },
      "execution_count": 21,
      "outputs": [
        {
          "output_type": "execute_result",
          "data": {
            "text/plain": [
              "{c_1: 3, c_2: 2}"
            ]
          },
          "metadata": {},
          "execution_count": 21
        }
      ]
    },
    {
      "cell_type": "markdown",
      "source": [
        "## 2.3.2 Linear Independence"
      ],
      "metadata": {
        "id": "JK3kz-S1dx0S"
      }
    },
    {
      "cell_type": "markdown",
      "source": [
        "### 2.3.2.1 Span\n",
        "\n",
        "Suppose $S$ is a set of vectors.\n",
        "\n",
        "$$\n",
        "S = \\{v_1, v_2, \\cdots, v_n\\}\n",
        "$$\n",
        "\n",
        "The **span** of set $S$, denoted $\\text{span}(S)$ is the set of all linear combinations of the vectors in $S$."
      ],
      "metadata": {
        "id": "Rqwfu7pZePSN"
      }
    },
    {
      "cell_type": "markdown",
      "source": [
        "#### Example\n",
        "\n",
        "$$\n",
        "S = \\{v_1, v_2\\}\n",
        "$$\n",
        "\n",
        "where:\n",
        "\n",
        "$$\n",
        "v_1 = \\begin{bmatrix}1\\\\0\\\\0\\end{bmatrix},\n",
        "v_2 = \\begin{bmatrix}0\\\\1\\\\0\\end{bmatrix}\n",
        "$$\n",
        "\n",
        "Is $b = \\begin{bmatrix}1\\\\1\\\\1\\end{bmatrix}$ in $\\text{span}(S)$?\n",
        "\n",
        "#### Solution\n",
        "\n",
        "Let $c_1$ and $c_2$ be scalars. If $b$ is in $\\text{span}(S)$, then\n",
        "\n",
        "$$\n",
        "\\begin{align}\n",
        "c_1v_1 + c_2v_2 & = \\begin{bmatrix}1\\\\1\\\\1\\end{bmatrix} \\\\\n",
        "& \\implies\n",
        "c_1\\begin{bmatrix}1\\\\0\\\\0\\end{bmatrix} + c_2\\begin{bmatrix}0\\\\1\\\\0\\end{bmatrix} = \\begin{bmatrix}1\\\\1\\\\1\\end{bmatrix} \\\\\n",
        "& \\implies\n",
        "\\begin{bmatrix}c_1\\\\c_2\\\\0\\end{bmatrix} = \\begin{bmatrix}1\\\\1\\\\1\\end{bmatrix}\n",
        "\\end{align}\n",
        "$$\n",
        "\n",
        "There is no solution.\n",
        "\n",
        "$\\therefore b$ is not in $\\text{span}(S)$."
      ],
      "metadata": {
        "id": "IY51NjMLj5ST"
      }
    },
    {
      "cell_type": "markdown",
      "source": [
        "### 2.3.2.2 Span Example"
      ],
      "metadata": {
        "id": "1xfgA4uBnufz"
      }
    },
    {
      "cell_type": "markdown",
      "source": [
        "$$\n",
        "a_1 = \\begin{bmatrix}1\\\\-2\\\\3\\end{bmatrix},\n",
        "a_2 = \\begin{bmatrix}5\\\\-13\\\\-3\\end{bmatrix},\n",
        "b = \\begin{bmatrix}-3\\\\8\\\\1\\end{bmatrix},\n",
        "S = \\{v_1, v2\\}\n",
        "$$\n",
        "\n",
        "Is $b$ in $\\text{span}(S)$?\n"
      ],
      "metadata": {
        "id": "0qiDaWbksG3y"
      }
    },
    {
      "cell_type": "markdown",
      "source": [
        "#### Solution:\n",
        "\n",
        "$$\n",
        "\\begin{align}\n",
        "\\text{span}(S) &= c_1a_1 + c_2a_2 \\\\\n",
        "&= \\begin{bmatrix}c_1 + 5c_2\\\\-2c_1 - 13_c2\\\\3c_1 - 3c_2\\end{bmatrix}\n",
        "\\end{align}\n",
        "$$\n",
        "\n",
        "Can we find a $c_1$ and $c_2$ such that $b$ is in the span? The span of $S$ is a plane in 3-space. Does $b$ lie on that plane?\n",
        "\n",
        "$$\n",
        "\\begin{align}\n",
        "\\begin{bmatrix}c_1 + 5c_2\\\\-2c_1 - 13c_2\\\\3c_1 - 3c_2\\end{bmatrix} &= \\begin{bmatrix}-3\\\\8\\\\1\\end{bmatrix}\n",
        "\\end{align}\n",
        "$$\n",
        "\n",
        "This can be expressed as an augmented matrix."
      ],
      "metadata": {
        "id": "SL9yq9q_tODH"
      }
    },
    {
      "cell_type": "code",
      "source": [
        "A = sym.Matrix([[1, 5, -3],\n",
        "                [-2, -13, 8],\n",
        "                [3, -3, 1]])\n",
        "A"
      ],
      "metadata": {
        "colab": {
          "base_uri": "https://localhost:8080/",
          "height": 78
        },
        "id": "N6C0oI8W0fyN",
        "outputId": "91cc8c80-7e19-4b0d-ee4c-9f1603af382e"
      },
      "execution_count": 22,
      "outputs": [
        {
          "output_type": "execute_result",
          "data": {
            "text/plain": [
              "Matrix([\n",
              "[ 1,   5, -3],\n",
              "[-2, -13,  8],\n",
              "[ 3,  -3,  1]])"
            ],
            "text/latex": "$\\displaystyle \\left[\\begin{matrix}1 & 5 & -3\\\\-2 & -13 & 8\\\\3 & -3 & 1\\end{matrix}\\right]$"
          },
          "metadata": {},
          "execution_count": 22
        }
      ]
    },
    {
      "cell_type": "markdown",
      "source": [
        "$R_2 \\leftarrow R_2 + 2R_1$\n",
        "\n",
        "$R_3 \\leftarrow R_3 - 3R_1$"
      ],
      "metadata": {
        "id": "DZh7peTr05Ex"
      }
    },
    {
      "cell_type": "code",
      "source": [
        "A[1,:] = A.row(1) + 2 * A.row(0)\n",
        "A[2,:] = A.row(2) - 3 * A.row(0)\n",
        "A"
      ],
      "metadata": {
        "colab": {
          "base_uri": "https://localhost:8080/",
          "height": 78
        },
        "id": "oAxxGdEC0xhz",
        "outputId": "9cda7f20-059f-486a-9c23-a816b985dca9"
      },
      "execution_count": 23,
      "outputs": [
        {
          "output_type": "execute_result",
          "data": {
            "text/plain": [
              "Matrix([\n",
              "[1,   5, -3],\n",
              "[0,  -3,  2],\n",
              "[0, -18, 10]])"
            ],
            "text/latex": "$\\displaystyle \\left[\\begin{matrix}1 & 5 & -3\\\\0 & -3 & 2\\\\0 & -18 & 10\\end{matrix}\\right]$"
          },
          "metadata": {},
          "execution_count": 23
        }
      ]
    },
    {
      "cell_type": "markdown",
      "source": [
        "$R_3 \\leftarrow R_3 + 6R_2$"
      ],
      "metadata": {
        "id": "rX3HDCb53BXc"
      }
    },
    {
      "cell_type": "code",
      "source": [
        "A[2,:] = A.row(2) - 6 * A.row(1)\n",
        "A"
      ],
      "metadata": {
        "colab": {
          "base_uri": "https://localhost:8080/",
          "height": 78
        },
        "id": "JzK5Pwsh3IDq",
        "outputId": "8e24d83e-22ff-4653-fa70-58b28aaa5df6"
      },
      "execution_count": 24,
      "outputs": [
        {
          "output_type": "execute_result",
          "data": {
            "text/plain": [
              "Matrix([\n",
              "[1,  5, -3],\n",
              "[0, -3,  2],\n",
              "[0,  0, -2]])"
            ],
            "text/latex": "$\\displaystyle \\left[\\begin{matrix}1 & 5 & -3\\\\0 & -3 & 2\\\\0 & 0 & -2\\end{matrix}\\right]$"
          },
          "metadata": {},
          "execution_count": 24
        }
      ]
    },
    {
      "cell_type": "markdown",
      "source": [
        "There is no solution.\n",
        "\n",
        "$\\therefore b$ is not in $\\text{span}(S)$."
      ],
      "metadata": {
        "id": "2CoESgOS3uTf"
      }
    },
    {
      "cell_type": "markdown",
      "source": [
        "#### Alternate Solutions:"
      ],
      "metadata": {
        "id": "S_LUNBXT4eJH"
      }
    },
    {
      "cell_type": "code",
      "source": [
        "# this also shows there are no solutions\n",
        "A = sym.Matrix([[1, 5, -3],\n",
        "                [-2, -13, 8],\n",
        "                [3, -3, 1]])\n",
        "A.rref(pivots=False)"
      ],
      "metadata": {
        "colab": {
          "base_uri": "https://localhost:8080/",
          "height": 78
        },
        "id": "p-3RvuRF4lju",
        "outputId": "5962a6ae-2b59-48e5-a6af-f93519f18654"
      },
      "execution_count": 25,
      "outputs": [
        {
          "output_type": "execute_result",
          "data": {
            "text/plain": [
              "Matrix([\n",
              "[1, 0, 0],\n",
              "[0, 1, 0],\n",
              "[0, 0, 1]])"
            ],
            "text/latex": "$\\displaystyle \\left[\\begin{matrix}1 & 0 & 0\\\\0 & 1 & 0\\\\0 & 0 & 1\\end{matrix}\\right]$"
          },
          "metadata": {},
          "execution_count": 25
        }
      ]
    },
    {
      "cell_type": "code",
      "source": [
        "A = sym.Matrix([[1, 5, -3],\n",
        "                [-2, -13, 8],\n",
        "                [3, -3, 1]])\n",
        "a1 = A.col(0)\n",
        "a2 = A.col(1)\n",
        "b = A.col(2)\n",
        "\n",
        "c1, c2 = sym.symbols('c_1 c_2')\n",
        "\n",
        "# no solutions\n",
        "sym.solve(c1 * a1 + c2 * a2 - b)"
      ],
      "metadata": {
        "colab": {
          "base_uri": "https://localhost:8080/"
        },
        "id": "z1bushNL5J7q",
        "outputId": "03b95da1-785d-4a9d-f8f8-229240dc49f2"
      },
      "execution_count": 26,
      "outputs": [
        {
          "output_type": "execute_result",
          "data": {
            "text/plain": [
              "[]"
            ]
          },
          "metadata": {},
          "execution_count": 26
        }
      ]
    },
    {
      "cell_type": "code",
      "source": [
        "A = sym.Matrix([[1, 5, -3],\n",
        "                [-2, -13, 8],\n",
        "                [3, -3, 1]])\n",
        "a1 = A.col(0)\n",
        "a2 = A.col(1)\n",
        "b = A.col(2)\n",
        "\n",
        "c1, c2 = sym.symbols('c_1 c_2')\n",
        "\n",
        "# no solutions\n",
        "sym.solve(sym.Eq(c1 * a1 + c2 * a2, b))"
      ],
      "metadata": {
        "colab": {
          "base_uri": "https://localhost:8080/"
        },
        "id": "LGhuKFyB570I",
        "outputId": "282f077a-d043-4c31-d786-8bc9420c9bb7"
      },
      "execution_count": 27,
      "outputs": [
        {
          "output_type": "execute_result",
          "data": {
            "text/plain": [
              "[]"
            ]
          },
          "metadata": {},
          "execution_count": 27
        }
      ]
    },
    {
      "cell_type": "markdown",
      "source": [
        "### 2.3.2.3 $A\\vec{x} = \\vec{b}$\n",
        "\n",
        "This seems like a very bad example since the determinant of $A$ is $0$."
      ],
      "metadata": {
        "id": "hjXk_sjR-HbF"
      }
    },
    {
      "cell_type": "code",
      "source": [
        "A = sym.Matrix([[1, 3, 4],\n",
        "                [-4, 2, -6],\n",
        "                [-3, -2, -7]])\n",
        "A.det()"
      ],
      "metadata": {
        "colab": {
          "base_uri": "https://localhost:8080/",
          "height": 37
        },
        "id": "NuhxYA1-YKU4",
        "outputId": "b2eea007-7a85-427d-efc1-51c008e30a9f"
      },
      "execution_count": 28,
      "outputs": [
        {
          "output_type": "execute_result",
          "data": {
            "text/plain": [
              "0"
            ],
            "text/latex": "$\\displaystyle 0$"
          },
          "metadata": {},
          "execution_count": 28
        }
      ]
    },
    {
      "cell_type": "markdown",
      "source": [
        "Our goal is to be able to solve for $\\vec{x}$ given any $\\vec{b}$."
      ],
      "metadata": {
        "id": "xaDzd_TLKjAG"
      }
    },
    {
      "cell_type": "markdown",
      "source": [
        "$$\n",
        "A = \\begin{bmatrix}\n",
        "1 & 3 & 4 \\\\\n",
        "-4 & 2 & -6 \\\\\n",
        "-3 & -2 & -7\n",
        "\\end{bmatrix},\n",
        "\\vec{x} = \\begin{bmatrix}\n",
        "x_1 \\\\\n",
        "x_2 \\\\\n",
        "x_3\n",
        "\\end{bmatrix},\n",
        "\\vec{b} = \\begin{bmatrix}\n",
        "b_1 \\\\\n",
        "b_2 \\\\\n",
        "b_3\n",
        "\\end{bmatrix}\n",
        "$$"
      ],
      "metadata": {
        "id": "X4RfwawCLGr0"
      }
    },
    {
      "cell_type": "markdown",
      "source": [
        "Solving for $\\vec{x}$ using Gaussian Elimination we let $M$ be the augmented matrix:"
      ],
      "metadata": {
        "id": "6CL1pDKTMNOu"
      }
    },
    {
      "cell_type": "code",
      "source": [
        "b1, b2, b3 = sym.symbols('b_1 b_2 b_3')\n",
        "\n",
        "M = sym.Matrix([[1, 3, 4, b1],\n",
        "                [-4, 2, -6, b2],\n",
        "                [-3, -2, -7, b3]])\n",
        "M"
      ],
      "metadata": {
        "colab": {
          "base_uri": "https://localhost:8080/",
          "height": 78
        },
        "id": "1pk0yfV9OhZR",
        "outputId": "8b357e70-198e-455a-d2db-4617307e61f8"
      },
      "execution_count": 29,
      "outputs": [
        {
          "output_type": "execute_result",
          "data": {
            "text/plain": [
              "Matrix([\n",
              "[ 1,  3,  4, b_1],\n",
              "[-4,  2, -6, b_2],\n",
              "[-3, -2, -7, b_3]])"
            ],
            "text/latex": "$\\displaystyle \\left[\\begin{matrix}1 & 3 & 4 & b_{1}\\\\-4 & 2 & -6 & b_{2}\\\\-3 & -2 & -7 & b_{3}\\end{matrix}\\right]$"
          },
          "metadata": {},
          "execution_count": 29
        }
      ]
    },
    {
      "cell_type": "markdown",
      "source": [
        "$R_2 \\leftarrow R_2 + 4R_1$\n",
        "\n",
        "$R_3 \\leftarrow R_3 + 3R_1$"
      ],
      "metadata": {
        "id": "RLpbK4aQPCIN"
      }
    },
    {
      "cell_type": "code",
      "source": [
        "M[1,:] = M.row(1) + 4 * M.row(0)\n",
        "M[2,:] = M.row(2) + 3 * M.row(0)\n",
        "M"
      ],
      "metadata": {
        "colab": {
          "base_uri": "https://localhost:8080/",
          "height": 78
        },
        "id": "wfGEkVRpPPtK",
        "outputId": "48b28bea-2077-4943-f6ef-8f3758bc9a75"
      },
      "execution_count": 30,
      "outputs": [
        {
          "output_type": "execute_result",
          "data": {
            "text/plain": [
              "Matrix([\n",
              "[1,  3,  4,         b_1],\n",
              "[0, 14, 10, 4*b_1 + b_2],\n",
              "[0,  7,  5, 3*b_1 + b_3]])"
            ],
            "text/latex": "$\\displaystyle \\left[\\begin{matrix}1 & 3 & 4 & b_{1}\\\\0 & 14 & 10 & 4 b_{1} + b_{2}\\\\0 & 7 & 5 & 3 b_{1} + b_{3}\\end{matrix}\\right]$"
          },
          "metadata": {},
          "execution_count": 30
        }
      ]
    },
    {
      "cell_type": "markdown",
      "source": [
        "$R_3 \\leftarrow -2R_3 + R_2$"
      ],
      "metadata": {
        "id": "FPwGv459QEkE"
      }
    },
    {
      "cell_type": "code",
      "source": [
        "M[2,:] = -2 * M.row(2) + M.row(1)\n",
        "M"
      ],
      "metadata": {
        "colab": {
          "base_uri": "https://localhost:8080/",
          "height": 78
        },
        "id": "keofjvf4QVrz",
        "outputId": "8436e935-30fc-4696-aa54-61499157367b"
      },
      "execution_count": 31,
      "outputs": [
        {
          "output_type": "execute_result",
          "data": {
            "text/plain": [
              "Matrix([\n",
              "[1,  3,  4,                  b_1],\n",
              "[0, 14, 10,          4*b_1 + b_2],\n",
              "[0,  0,  0, -2*b_1 + b_2 - 2*b_3]])"
            ],
            "text/latex": "$\\displaystyle \\left[\\begin{matrix}1 & 3 & 4 & b_{1}\\\\0 & 14 & 10 & 4 b_{1} + b_{2}\\\\0 & 0 & 0 & - 2 b_{1} + b_{2} - 2 b_{3}\\end{matrix}\\right]$"
          },
          "metadata": {},
          "execution_count": 31
        }
      ]
    },
    {
      "cell_type": "markdown",
      "source": [
        "In order for there to be a solution for $\\vec{x}$, the following must be true:\n",
        "\n",
        "$$\n",
        "-2b_1 + b_2 - 2b_3 = 0\n",
        "$$"
      ],
      "metadata": {
        "id": "vW9NE6cNSOjN"
      }
    },
    {
      "cell_type": "markdown",
      "source": [
        "### 2.3.2.4 Linear Independence"
      ],
      "metadata": {
        "id": "ocJz9NZzZsIo"
      }
    },
    {
      "cell_type": "markdown",
      "source": [
        "Let $S = \\{v_1, \\cdots, v_n\\}$ be a set of vectors.\n",
        "\n",
        "If $c_1v_1 + \\cdots + c_nv_n = 0$ only has the trivial solution, then the set of vectors, $S$, is said to be **linearly independent**\n",
        "\n",
        "If there are non-trivial solutions, then the set of vectors, $S$ is said to be **linearly dependent**"
      ],
      "metadata": {
        "id": "npJ9G5f3aMi5"
      }
    },
    {
      "cell_type": "markdown",
      "source": [
        "### 2.3.2.5 Linear Independence Example"
      ],
      "metadata": {
        "id": "H588f0bDfTB-"
      }
    },
    {
      "cell_type": "markdown",
      "source": [
        "Determine if the set of vectors, $S = \\{v_1, v_2, v_3\\}$ is linearly independent.\n",
        "\n",
        "$$\n",
        "v_1 = \\begin{bmatrix}1 \\\\ 2 \\\\ 3\\end{bmatrix},\n",
        "v_2 = \\begin{bmatrix}4 \\\\ 5 \\\\ 6\\end{bmatrix},\n",
        "v_3 = \\begin{bmatrix}2 \\\\ 1 \\\\ 0\\end{bmatrix}\n",
        "$$\n",
        "\n",
        "Let\n",
        "\n",
        "$$\n",
        "x = \\begin{bmatrix}x_1\\\\x_2\\\\x_3\\end{bmatrix}\n",
        "$$\n",
        "\n",
        "be the solution to $Ax = 0$\n",
        "\n",
        "If this system has non-trivial solution, then the set of vectors is NOT linearly independent."
      ],
      "metadata": {
        "id": "3Zy5zhNLfviZ"
      }
    },
    {
      "cell_type": "code",
      "source": [
        "# A is the augmented matrix\n",
        "A = sym.Matrix([[1, 4, 2, 0],\n",
        "                [2, 5, 1, 0],\n",
        "                [3, 6, 0, 0]])\n",
        "A"
      ],
      "metadata": {
        "colab": {
          "base_uri": "https://localhost:8080/",
          "height": 78
        },
        "id": "qNJMYS6Litet",
        "outputId": "482fe74a-195c-45ea-a404-5c37de3e62f3"
      },
      "execution_count": 32,
      "outputs": [
        {
          "output_type": "execute_result",
          "data": {
            "text/plain": [
              "Matrix([\n",
              "[1, 4, 2, 0],\n",
              "[2, 5, 1, 0],\n",
              "[3, 6, 0, 0]])"
            ],
            "text/latex": "$\\displaystyle \\left[\\begin{matrix}1 & 4 & 2 & 0\\\\2 & 5 & 1 & 0\\\\3 & 6 & 0 & 0\\end{matrix}\\right]$"
          },
          "metadata": {},
          "execution_count": 32
        }
      ]
    },
    {
      "cell_type": "markdown",
      "source": [
        "$R_2 \\leftarrow R_2 - 2R_1$\n",
        "\n",
        "$R_3 \\leftarrow R_3 - 3R_1$"
      ],
      "metadata": {
        "id": "j9hJJrZUjwoo"
      }
    },
    {
      "cell_type": "code",
      "source": [
        "A[1, :] = A.row(1) - 2 * A.row(0)\n",
        "A[2, :] = A.row(2) - 3 * A.row(0)\n",
        "A"
      ],
      "metadata": {
        "colab": {
          "base_uri": "https://localhost:8080/",
          "height": 78
        },
        "id": "29Bft01-j4FQ",
        "outputId": "66b1291f-eee9-41ae-841c-f8d6903d6e9a"
      },
      "execution_count": 33,
      "outputs": [
        {
          "output_type": "execute_result",
          "data": {
            "text/plain": [
              "Matrix([\n",
              "[1,  4,  2, 0],\n",
              "[0, -3, -3, 0],\n",
              "[0, -6, -6, 0]])"
            ],
            "text/latex": "$\\displaystyle \\left[\\begin{matrix}1 & 4 & 2 & 0\\\\0 & -3 & -3 & 0\\\\0 & -6 & -6 & 0\\end{matrix}\\right]$"
          },
          "metadata": {},
          "execution_count": 33
        }
      ]
    },
    {
      "cell_type": "markdown",
      "source": [
        "$R_2 \\leftarrow - \\frac{1}{3}R_2$\n",
        "\n",
        "$R_3 \\leftarrow - \\frac{1}{6}R_3$"
      ],
      "metadata": {
        "id": "VrhhCLkEkQza"
      }
    },
    {
      "cell_type": "code",
      "source": [
        "A[1, :] = -sym.Rational(1, 3) * A.row(1)\n",
        "A[2, :] = -sym.Rational(1, 6) * A.row(2)\n",
        "A"
      ],
      "metadata": {
        "colab": {
          "base_uri": "https://localhost:8080/",
          "height": 78
        },
        "id": "cjjQ5yUnkw8m",
        "outputId": "5c3a48ac-98ec-4efc-b5de-30455b510474"
      },
      "execution_count": 34,
      "outputs": [
        {
          "output_type": "execute_result",
          "data": {
            "text/plain": [
              "Matrix([\n",
              "[1, 4, 2, 0],\n",
              "[0, 1, 1, 0],\n",
              "[0, 1, 1, 0]])"
            ],
            "text/latex": "$\\displaystyle \\left[\\begin{matrix}1 & 4 & 2 & 0\\\\0 & 1 & 1 & 0\\\\0 & 1 & 1 & 0\\end{matrix}\\right]$"
          },
          "metadata": {},
          "execution_count": 34
        }
      ]
    },
    {
      "cell_type": "markdown",
      "source": [
        "$R_3 \\leftarrow R_3 - R_2$"
      ],
      "metadata": {
        "id": "2SSK_l7UlDlG"
      }
    },
    {
      "cell_type": "code",
      "source": [
        "A[2, :] = A.row(2) - A.row(1)\n",
        "A"
      ],
      "metadata": {
        "colab": {
          "base_uri": "https://localhost:8080/",
          "height": 78
        },
        "id": "8CepGC4GlH0s",
        "outputId": "1e4da8cb-f2ff-4d62-ba6c-0f3e18d63900"
      },
      "execution_count": 35,
      "outputs": [
        {
          "output_type": "execute_result",
          "data": {
            "text/plain": [
              "Matrix([\n",
              "[1, 4, 2, 0],\n",
              "[0, 1, 1, 0],\n",
              "[0, 0, 0, 0]])"
            ],
            "text/latex": "$\\displaystyle \\left[\\begin{matrix}1 & 4 & 2 & 0\\\\0 & 1 & 1 & 0\\\\0 & 0 & 0 & 0\\end{matrix}\\right]$"
          },
          "metadata": {},
          "execution_count": 35
        }
      ]
    },
    {
      "cell_type": "code",
      "source": [
        "A[0, : ] = A.row(0) - 4 * A.row(1)\n",
        "A"
      ],
      "metadata": {
        "colab": {
          "base_uri": "https://localhost:8080/",
          "height": 78
        },
        "id": "6E-QM5jblXWH",
        "outputId": "b66599fd-6f32-4e5e-cc4f-4f9d69d881d0"
      },
      "execution_count": 36,
      "outputs": [
        {
          "output_type": "execute_result",
          "data": {
            "text/plain": [
              "Matrix([\n",
              "[1, 0, -2, 0],\n",
              "[0, 1,  1, 0],\n",
              "[0, 0,  0, 0]])"
            ],
            "text/latex": "$\\displaystyle \\left[\\begin{matrix}1 & 0 & -2 & 0\\\\0 & 1 & 1 & 0\\\\0 & 0 & 0 & 0\\end{matrix}\\right]$"
          },
          "metadata": {},
          "execution_count": 36
        }
      ]
    },
    {
      "cell_type": "markdown",
      "source": [
        "$$\n",
        "\\begin{align}\n",
        "x_1 - 2x_3 &= 0 \\\\\n",
        "x_2 + x_3 &= 0\n",
        "\\end{align}\n",
        "$$\n",
        "\n",
        "$x_3$ acts as a **free variable**. There are an infinite number of solutions to $Ax = b$, given by the following column vector.\n",
        "\n",
        "$$\n",
        "\\begin{bmatrix}\n",
        "2x_3 \\\\\n",
        "-x_3 \\\\\n",
        "x_3\n",
        "\\end{bmatrix}\n",
        "$$\n",
        "\n",
        "Since there is a non-trivial solution to $Ax = 0$, the set of vectors, $S = \\{v_1, \\cdots, v_2\\}$ is NOT linearly independent. We can say that the set of vectors is linearly dependent.  "
      ],
      "metadata": {
        "id": "p9zAW4u1pfw_"
      }
    },
    {
      "cell_type": "code",
      "source": [
        "# verify result\n",
        "x1, x2, x3 = sym.symbols('x_1 x_2 x_3')\n",
        "\n",
        "A = sym.Matrix([[1, 4, 2],\n",
        "                [2, 5, 1],\n",
        "                [3, 6, 0]])\n",
        "\n",
        "x = sym.Matrix([2 * x3, -x3, x3])\n",
        "\n",
        "A @ x"
      ],
      "metadata": {
        "colab": {
          "base_uri": "https://localhost:8080/",
          "height": 78
        },
        "id": "xo1ZnCdvqTc0",
        "outputId": "2b609548-06cb-45a1-ae1a-784c296dd205"
      },
      "execution_count": 37,
      "outputs": [
        {
          "output_type": "execute_result",
          "data": {
            "text/plain": [
              "Matrix([\n",
              "[0],\n",
              "[0],\n",
              "[0]])"
            ],
            "text/latex": "$\\displaystyle \\left[\\begin{matrix}0\\\\0\\\\0\\end{matrix}\\right]$"
          },
          "metadata": {},
          "execution_count": 37
        }
      ]
    },
    {
      "cell_type": "code",
      "source": [
        "# alternately\n",
        "v1 = A[:, 0]\n",
        "v2 = A[:, 1]\n",
        "v3 = A[:, 2]\n",
        "\n",
        "x[0] * v1 + x[1] * v2 + x[2] * v3"
      ],
      "metadata": {
        "colab": {
          "base_uri": "https://localhost:8080/",
          "height": 78
        },
        "id": "Cv5O3dlJ7Ork",
        "outputId": "4f903627-e026-4854-c45f-0be5170d1f70"
      },
      "execution_count": 38,
      "outputs": [
        {
          "output_type": "execute_result",
          "data": {
            "text/plain": [
              "Matrix([\n",
              "[0],\n",
              "[0],\n",
              "[0]])"
            ],
            "text/latex": "$\\displaystyle \\left[\\begin{matrix}0\\\\0\\\\0\\end{matrix}\\right]$"
          },
          "metadata": {},
          "execution_count": 38
        }
      ]
    },
    {
      "cell_type": "markdown",
      "source": [
        "#### Plotting the linearly dependent set of vectors"
      ],
      "metadata": {
        "id": "b5EirG09w8ie"
      }
    },
    {
      "cell_type": "code",
      "source": [
        "v1 = np.array(v1)\n",
        "v2 = np.array(v2)\n",
        "v3 = np.array(v3)\n",
        "v1, v2, v3"
      ],
      "metadata": {
        "colab": {
          "base_uri": "https://localhost:8080/"
        },
        "id": "_WKQL6FtxDY8",
        "outputId": "aa09c86a-a5ac-4ad7-fa4a-a2c5845bb8f7"
      },
      "execution_count": 39,
      "outputs": [
        {
          "output_type": "execute_result",
          "data": {
            "text/plain": [
              "(array([[1],\n",
              "        [2],\n",
              "        [3]], dtype=object),\n",
              " array([[4],\n",
              "        [5],\n",
              "        [6]], dtype=object),\n",
              " array([[2],\n",
              "        [1],\n",
              "        [0]], dtype=object))"
            ]
          },
          "metadata": {},
          "execution_count": 39
        }
      ]
    },
    {
      "cell_type": "code",
      "source": [
        "ax = plt.figure(figsize=(8, 8)).add_subplot(projection='3d')\n",
        "\n",
        "tail = np.array([0, 0, 0])\n",
        "ax.quiver(*tail, *v1, color='red', arrow_length_ratio=0.1, label=v1.T[0])\n",
        "ax.quiver(*tail, *v2, color='green', arrow_length_ratio=.05, label=v2.T[0])\n",
        "ax.quiver(*tail, *v3, color='blue', arrow_length_ratio=.2, label=v3.T[0])\n",
        "\n",
        "ax.set_xticks(np.linspace(0, 10, 11))\n",
        "ax.set_yticks(np.linspace(0, 10, 11))\n",
        "ax.set_zticks(np.linspace(0, 10, 11))\n",
        "ax.set_xlabel('x')\n",
        "ax.set_ylabel('y')\n",
        "ax.set_zlabel('z')\n",
        "\n",
        "ax.legend()\n",
        "\n",
        "plt.show()"
      ],
      "metadata": {
        "colab": {
          "base_uri": "https://localhost:8080/",
          "height": 653
        },
        "id": "PF7kDgxLxR7_",
        "outputId": "938947d7-ffa1-4bdc-bcfb-c455399394a3"
      },
      "execution_count": 40,
      "outputs": [
        {
          "output_type": "display_data",
          "data": {
            "text/plain": [
              "<Figure size 800x800 with 1 Axes>"
            ],
            "image/png": "[encoded data removed]"
          },
          "metadata": {}
        }
      ]
    },
    {
      "cell_type": "markdown",
      "source": [
        "### 2.3.2.6 Columns of a Matrix and Linear Independence"
      ],
      "metadata": {
        "id": "CNHrw9gc8e9P"
      }
    },
    {
      "cell_type": "markdown",
      "source": [
        "$$\n",
        "A = \\begin{bmatrix}\n",
        "0 & 1 & 4 \\\\\n",
        "1 & 2 & -1 \\\\\n",
        "5 & 8 & 0\n",
        "\\end{bmatrix}\n",
        "$$"
      ],
      "metadata": {
        "id": "1cv-blAfCu7j"
      }
    },
    {
      "cell_type": "markdown",
      "source": [
        "The columns of Matrix $A$ are **linearly independent** if and only if $Ax = 0$ has only the trivial solution."
      ],
      "metadata": {
        "id": "5d4Z-xJ3AlOJ"
      }
    },
    {
      "cell_type": "code",
      "source": [
        "# A is an augmented matrix\n",
        "A = sym.Matrix([[0, 1, 4, 0],\n",
        "                [1, 2, -1, 0],\n",
        "                [5, 8, 0, 0]])\n",
        "A"
      ],
      "metadata": {
        "colab": {
          "base_uri": "https://localhost:8080/",
          "height": 78
        },
        "id": "ox2km-it9E1G",
        "outputId": "5e6313c1-8125-49a4-b883-0ee50747f45c"
      },
      "execution_count": 41,
      "outputs": [
        {
          "output_type": "execute_result",
          "data": {
            "text/plain": [
              "Matrix([\n",
              "[0, 1,  4, 0],\n",
              "[1, 2, -1, 0],\n",
              "[5, 8,  0, 0]])"
            ],
            "text/latex": "$\\displaystyle \\left[\\begin{matrix}0 & 1 & 4 & 0\\\\1 & 2 & -1 & 0\\\\5 & 8 & 0 & 0\\end{matrix}\\right]$"
          },
          "metadata": {},
          "execution_count": 41
        }
      ]
    },
    {
      "cell_type": "markdown",
      "source": [
        "$R_1 \\leftrightarrow R_2$"
      ],
      "metadata": {
        "id": "keODn1Zj9p2V"
      }
    },
    {
      "cell_type": "code",
      "source": [
        "r1 = A.row(0)\n",
        "r2 = A.row(1)\n",
        "A[0, :] = r2\n",
        "A[1, :] = r1\n",
        "A"
      ],
      "metadata": {
        "colab": {
          "base_uri": "https://localhost:8080/",
          "height": 78
        },
        "id": "zzlnSIb09pJH",
        "outputId": "b9b6e1e0-2a6f-4636-f70b-0530b956f2f5"
      },
      "execution_count": 42,
      "outputs": [
        {
          "output_type": "execute_result",
          "data": {
            "text/plain": [
              "Matrix([\n",
              "[1, 2, -1, 0],\n",
              "[0, 1,  4, 0],\n",
              "[5, 8,  0, 0]])"
            ],
            "text/latex": "$\\displaystyle \\left[\\begin{matrix}1 & 2 & -1 & 0\\\\0 & 1 & 4 & 0\\\\5 & 8 & 0 & 0\\end{matrix}\\right]$"
          },
          "metadata": {},
          "execution_count": 42
        }
      ]
    },
    {
      "cell_type": "markdown",
      "source": [
        "$R_3 \\leftarrow R_3 - 5R_1$"
      ],
      "metadata": {
        "id": "23p4wTsR-VEl"
      }
    },
    {
      "cell_type": "code",
      "source": [
        "A[2, :] = A.row(2) - 5 * A.row(0)\n",
        "A"
      ],
      "metadata": {
        "colab": {
          "base_uri": "https://localhost:8080/",
          "height": 78
        },
        "id": "JEJnXrY8-T-j",
        "outputId": "d71b0981-6f95-4a6b-846c-19a89e1f41cd"
      },
      "execution_count": 43,
      "outputs": [
        {
          "output_type": "execute_result",
          "data": {
            "text/plain": [
              "Matrix([\n",
              "[1,  2, -1, 0],\n",
              "[0,  1,  4, 0],\n",
              "[0, -2,  5, 0]])"
            ],
            "text/latex": "$\\displaystyle \\left[\\begin{matrix}1 & 2 & -1 & 0\\\\0 & 1 & 4 & 0\\\\0 & -2 & 5 & 0\\end{matrix}\\right]$"
          },
          "metadata": {},
          "execution_count": 43
        }
      ]
    },
    {
      "cell_type": "markdown",
      "source": [
        "$R_3 \\leftarrow R_3 + 2R_2$"
      ],
      "metadata": {
        "id": "Widic4Hr-1DY"
      }
    },
    {
      "cell_type": "code",
      "source": [
        "A[2, :] = A.row(2) + 2 * A.row(1)\n",
        "A"
      ],
      "metadata": {
        "colab": {
          "base_uri": "https://localhost:8080/",
          "height": 78
        },
        "id": "-c3IFQAL-5VT",
        "outputId": "306e8daa-b865-46c0-d9b7-d4566a3bc389"
      },
      "execution_count": 44,
      "outputs": [
        {
          "output_type": "execute_result",
          "data": {
            "text/plain": [
              "Matrix([\n",
              "[1, 2, -1, 0],\n",
              "[0, 1,  4, 0],\n",
              "[0, 0, 13, 0]])"
            ],
            "text/latex": "$\\displaystyle \\left[\\begin{matrix}1 & 2 & -1 & 0\\\\0 & 1 & 4 & 0\\\\0 & 0 & 13 & 0\\end{matrix}\\right]$"
          },
          "metadata": {},
          "execution_count": 44
        }
      ]
    },
    {
      "cell_type": "markdown",
      "source": [
        "$$\n",
        "\\begin{align}\n",
        "x_1 + 2x_2 - x_3 &= 0 \\tag{1} \\\\\n",
        "x_2 + 4x_3 &= 0 \\tag{2} \\\\\n",
        "13x_3 &= 0 \\tag{3}\n",
        "\\end{align}\n",
        "$$\n",
        "\n",
        "We can see that $x_3 = 0$\n",
        "\n",
        "Substituting $x_3$ into equation 2:\n",
        "\n",
        "$x_2 + 4(0) = 0 \\implies x_2 = 0$\n",
        "\n",
        "Substituting $x_2$ and $x_3$ into equation 2:\n",
        "\n",
        "$x_2 + 2(0) - 0 = 0 \\implies x_1 = 0$\n",
        "\n",
        "$$\n",
        "\\begin{align}\n",
        "x_1 &= 0\n",
        "x_2 &= 0\n",
        "x_3 &= 0\n",
        "\\end{align}\n",
        "$$\n",
        "\n",
        "$Ax = b$ has only the trivial solution\n",
        "\n",
        "$\\therefore$ the columns of Matrix $A$ are linearly indepenent."
      ],
      "metadata": {
        "id": "AXLUE2yzA0O0"
      }
    },
    {
      "cell_type": "code",
      "source": [
        "# alternately\n",
        "A = sym.Matrix([[0, 1, 4],\n",
        "                [1, 2, -1],\n",
        "                [5, 8, 0]])\n",
        "A"
      ],
      "metadata": {
        "colab": {
          "base_uri": "https://localhost:8080/",
          "height": 78
        },
        "id": "YcGMTGrKDDJt",
        "outputId": "0cc2d025-33b4-4590-c731-3db536d3301f"
      },
      "execution_count": 45,
      "outputs": [
        {
          "output_type": "execute_result",
          "data": {
            "text/plain": [
              "Matrix([\n",
              "[0, 1,  4],\n",
              "[1, 2, -1],\n",
              "[5, 8,  0]])"
            ],
            "text/latex": "$\\displaystyle \\left[\\begin{matrix}0 & 1 & 4\\\\1 & 2 & -1\\\\5 & 8 & 0\\end{matrix}\\right]$"
          },
          "metadata": {},
          "execution_count": 45
        }
      ]
    },
    {
      "cell_type": "code",
      "source": [
        "A.solve(sym.Matrix([0, 0, 0])) # only the trivial solution"
      ],
      "metadata": {
        "colab": {
          "base_uri": "https://localhost:8080/",
          "height": 78
        },
        "id": "KbN0z-GWDLmc",
        "outputId": "2849d0ce-be77-4ce5-bad1-a5fcc1f1b6eb"
      },
      "execution_count": 46,
      "outputs": [
        {
          "output_type": "execute_result",
          "data": {
            "text/plain": [
              "Matrix([\n",
              "[0],\n",
              "[0],\n",
              "[0]])"
            ],
            "text/latex": "$\\displaystyle \\left[\\begin{matrix}0\\\\0\\\\0\\end{matrix}\\right]$"
          },
          "metadata": {},
          "execution_count": 46
        }
      ]
    },
    {
      "cell_type": "markdown",
      "source": [
        "## Example\n",
        "\n",
        "Are the vectors $x$, $y$ and $z$ linearly independent?"
      ],
      "metadata": {
        "id": "j9_4xszjEB3i"
      }
    },
    {
      "cell_type": "code",
      "source": [
        "x = np.array([[1], [2], [3]])\n",
        "y = np.array([[3], [2], [1]])\n",
        "z = np.array([[0], [4], [8]])\n",
        "b = np.array([[0], [0], [0]])"
      ],
      "metadata": {
        "id": "FBRqXgqgELkZ"
      },
      "execution_count": 47,
      "outputs": []
    },
    {
      "cell_type": "code",
      "source": [
        "# A is the augmented matrix\n",
        "A = np.hstack([x, y, z, b])\n",
        "A"
      ],
      "metadata": {
        "colab": {
          "base_uri": "https://localhost:8080/"
        },
        "id": "tCCA-SuQE2Ck",
        "outputId": "7d3486fd-a008-4adc-b4be-0bbde85274b3"
      },
      "execution_count": 48,
      "outputs": [
        {
          "output_type": "execute_result",
          "data": {
            "text/plain": [
              "array([[1, 3, 0, 0],\n",
              "       [2, 2, 4, 0],\n",
              "       [3, 1, 8, 0]])"
            ]
          },
          "metadata": {},
          "execution_count": 48
        }
      ]
    },
    {
      "cell_type": "code",
      "source": [
        "A = sym.Matrix(A)\n",
        "A"
      ],
      "metadata": {
        "colab": {
          "base_uri": "https://localhost:8080/",
          "height": 78
        },
        "id": "9qHFs4WbFLbW",
        "outputId": "7c5cc432-35d0-4040-fc37-214e1c2fa376"
      },
      "execution_count": 49,
      "outputs": [
        {
          "output_type": "execute_result",
          "data": {
            "text/plain": [
              "Matrix([\n",
              "[1, 3, 0, 0],\n",
              "[2, 2, 4, 0],\n",
              "[3, 1, 8, 0]])"
            ],
            "text/latex": "$\\displaystyle \\left[\\begin{matrix}1 & 3 & 0 & 0\\\\2 & 2 & 4 & 0\\\\3 & 1 & 8 & 0\\end{matrix}\\right]$"
          },
          "metadata": {},
          "execution_count": 49
        }
      ]
    },
    {
      "cell_type": "code",
      "source": [
        "A.rref(pivots=False)"
      ],
      "metadata": {
        "colab": {
          "base_uri": "https://localhost:8080/",
          "height": 78
        },
        "id": "y6eoNkfqHnXE",
        "outputId": "797fa3e4-5a2e-4647-de92-fb66659064b4"
      },
      "execution_count": 50,
      "outputs": [
        {
          "output_type": "execute_result",
          "data": {
            "text/plain": [
              "Matrix([\n",
              "[1, 0,  3, 0],\n",
              "[0, 1, -1, 0],\n",
              "[0, 0,  0, 0]])"
            ],
            "text/latex": "$\\displaystyle \\left[\\begin{matrix}1 & 0 & 3 & 0\\\\0 & 1 & -1 & 0\\\\0 & 0 & 0 & 0\\end{matrix}\\right]$"
          },
          "metadata": {},
          "execution_count": 50
        }
      ]
    },
    {
      "cell_type": "markdown",
      "source": [
        "$$\n",
        "\\begin{align}\n",
        "x + 3z &= 0 \\\\\n",
        "y - z &= 0\n",
        "\\end{align}\n",
        "$$"
      ],
      "metadata": {
        "id": "nFOdN8M5HxUa"
      }
    },
    {
      "cell_type": "code",
      "source": [
        "# c is a solution\n",
        "z = sym.symbols('z')\n",
        "c = sym.Matrix([-3 * z, z, z])\n",
        "c"
      ],
      "metadata": {
        "colab": {
          "base_uri": "https://localhost:8080/",
          "height": 78
        },
        "id": "yife6MHgHwjt",
        "outputId": "f174a84c-7c34-498b-d28d-0e2c363df044"
      },
      "execution_count": 51,
      "outputs": [
        {
          "output_type": "execute_result",
          "data": {
            "text/plain": [
              "Matrix([\n",
              "[-3*z],\n",
              "[   z],\n",
              "[   z]])"
            ],
            "text/latex": "$\\displaystyle \\left[\\begin{matrix}- 3 z\\\\z\\\\z\\end{matrix}\\right]$"
          },
          "metadata": {},
          "execution_count": 51
        }
      ]
    },
    {
      "cell_type": "markdown",
      "source": [
        "There are non-trivial solutions, $\\therefore$ these 3 vectors are **linearly dependent**"
      ],
      "metadata": {
        "id": "k10hC17WI1Ge"
      }
    },
    {
      "cell_type": "markdown",
      "source": [
        "## 2.3.3 Linear Transformations and Matrix Inverse"
      ],
      "metadata": {
        "id": "qhyIrTkfJiRr"
      }
    },
    {
      "cell_type": "markdown",
      "source": [
        "### 2.3.3.1 Linear Transformations"
      ],
      "metadata": {
        "id": "wQo57rnPJmyo"
      }
    }
  ]
}