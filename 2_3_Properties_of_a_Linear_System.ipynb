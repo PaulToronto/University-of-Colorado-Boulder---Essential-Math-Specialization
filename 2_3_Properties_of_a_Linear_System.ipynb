{
  "nbformat": 4,
  "nbformat_minor": 0,
  "metadata": {
    "colab": {
      "provenance": [],
      "toc_visible": true,
      "authorship_tag": "ABX9TyMZGO4IFwYBnEnwM0pNZiMv",
      "include_colab_link": true
    },
    "kernelspec": {
      "name": "python3",
      "display_name": "Python 3"
    },
    "language_info": {
      "name": "python"
    }
  },
  "cells": [
    {
      "cell_type": "markdown",
      "metadata": {
        "id": "view-in-github",
        "colab_type": "text"
      },
      "source": [
        "<a href=\"https://colab.research.google.com/github/PaulToronto/University-of-Colorado-Boulder---Essential-Math-Specialization/blob/main/2_3_Properties_of_a_Linear_System.ipynb\" target=\"_parent\"><img src=\"https://colab.research.google.com/assets/colab-badge.svg\" alt=\"Open In Colab\"/></a>"
      ]
    },
    {
      "cell_type": "markdown",
      "source": [
        "# 2.3 Properties of a Linear System"
      ],
      "metadata": {
        "id": "k-UbhULNCw7u"
      }
    },
    {
      "cell_type": "markdown",
      "source": [
        "## Imports"
      ],
      "metadata": {
        "id": "AbFJTkOsC131"
      }
    },
    {
      "cell_type": "code",
      "execution_count": 1,
      "metadata": {
        "id": "plgFFNO2Cr1G"
      },
      "outputs": [],
      "source": [
        "import matplotlib.pyplot as plt\n",
        "import numpy as np\n",
        "import sympy as sym"
      ]
    },
    {
      "cell_type": "markdown",
      "source": [
        "## 2.3.1 Vectors and Linear Combinations"
      ],
      "metadata": {
        "id": "WSecnCAtC4NT"
      }
    },
    {
      "cell_type": "markdown",
      "source": [
        "### 2.3.1.1 Introduction to Vectors + Coordinates\n",
        "\n",
        "- In this course, when we talk about **vectors**, we are specifically talking about **column vectors**, but **row vectors** do exist\n",
        "- A column vector is a matrix with one column\n",
        "- The rules for matrix addition, scalar multiplication and multiplication apply\n",
        "\n",
        "$$\n",
        "\\begin{bmatrix}\n",
        "x_1 \\\\\n",
        "x_2 \\\\\n",
        "\\vdots \\\\\n",
        "x_n\n",
        "\\end{bmatrix} +\n",
        "\\begin{bmatrix}\n",
        "y_1 \\\\\n",
        "y_2 \\\\\n",
        "\\vdots \\\\\n",
        "y_n\n",
        "\\end{bmatrix} =\n",
        "\\begin{bmatrix}\n",
        "x_1 + y_1 \\\\\n",
        "x_2 + y_2 \\\\\n",
        "\\vdots \\\\\n",
        "x_n + y_n\n",
        "\\end{bmatrix}\n",
        "$$"
      ],
      "metadata": {
        "id": "YW37p2XtDCjh"
      }
    },
    {
      "cell_type": "markdown",
      "source": [
        "#### Visualizing Vectors\n",
        "\n",
        "$$\n",
        "\\mathbf{a} = \\begin{bmatrix}-2 \\\\ 1\\end{bmatrix},\n",
        "\\mathbf{b} = \\begin{bmatrix}4 \\\\ 3\\end{bmatrix}\n",
        "$$"
      ],
      "metadata": {
        "id": "QH_BQ6LsdBXO"
      }
    },
    {
      "cell_type": "code",
      "source": [
        "a = np.array([-2, 1])\n",
        "b = np.array([4, 3])\n",
        "tail = np.array([0, 0])\n",
        "\n",
        "\n",
        "plt.figure(figsize=(5, 5))\n",
        "\n",
        "plt.quiver(*tail, a[0], a[1], scale=1,\n",
        "           scale_units='xy', angles='xy',\n",
        "           color='dodgerblue', label=r'$a$')\n",
        "plt.quiver(*tail, b[0], b[1], scale=1,\n",
        "           scale_units='xy', angles='xy',\n",
        "           color='red', label='$b$')\n",
        "plt.quiver(*tail, (a + b)[0], (a + b)[1], scale=1,\n",
        "           scale_units='xy', angles='xy',\n",
        "           color='purple', label='$a + b$')\n",
        "\n",
        "plt.grid()\n",
        "plt.xticks(np.arange(-3, 6))\n",
        "plt.yticks(np.arange(-3, 6))\n",
        "plt.legend()\n",
        "\n",
        "plt.show()"
      ],
      "metadata": {
        "colab": {
          "base_uri": "https://localhost:8080/",
          "height": 451
        },
        "id": "TLV3N4HSdGfA",
        "outputId": "c75cfce3-f57a-4ebe-9148-f7dddefa300a"
      },
      "execution_count": 2,
      "outputs": [
        {
          "output_type": "display_data",
          "data": {
            "text/plain": [
              "<Figure size 500x500 with 1 Axes>"
            ],
            "image/png": "[encoded data removed]"
          },
          "metadata": {}
        }
      ]
    },
    {
      "cell_type": "markdown",
      "source": [
        "#### Parallelogram Rule\n",
        "\n",
        "If we place two vectors so they have the same initial point, and then complete the vectors into a parallelogram, then the sum of the vectors is the directed diagonal that starts at the same point as the vectors."
      ],
      "metadata": {
        "id": "tlyglabembBp"
      }
    },
    {
      "cell_type": "markdown",
      "source": [
        "### 2.3.1.2 Introduction to Linear Combinations"
      ],
      "metadata": {
        "id": "89FpvbmjoA7e"
      }
    },
    {
      "cell_type": "markdown",
      "source": [
        "Let {$v_1$, $v_2$, $\\cdots$, $v_n$} be set of column vectors of the same dimension (same number of rows)\n",
        "\n",
        "$$\n",
        "y = c_1v_1 + c_2v_2 + \\cdots + c_nv_n\n",
        "$$\n",
        "\n",
        "$y$ is a **linear combination** of the given set of vectors."
      ],
      "metadata": {
        "id": "vIyVXcLaFW8O"
      }
    },
    {
      "cell_type": "code",
      "source": [
        "v1 = sym.Matrix([0, 1])\n",
        "v1"
      ],
      "metadata": {
        "colab": {
          "base_uri": "https://localhost:8080/",
          "height": 58
        },
        "id": "ybBJQnZLGK0p",
        "outputId": "61a2705e-9ddd-441b-c086-bb827168c10a"
      },
      "execution_count": 3,
      "outputs": [
        {
          "output_type": "execute_result",
          "data": {
            "text/plain": [
              "Matrix([\n",
              "[0],\n",
              "[1]])"
            ],
            "text/latex": "$\\displaystyle \\left[\\begin{matrix}0\\\\1\\end{matrix}\\right]$"
          },
          "metadata": {},
          "execution_count": 3
        }
      ]
    },
    {
      "cell_type": "code",
      "source": [
        "v2 = sym.Matrix([-1, 3])\n",
        "v2"
      ],
      "metadata": {
        "colab": {
          "base_uri": "https://localhost:8080/",
          "height": 58
        },
        "id": "00APIv9oGcQc",
        "outputId": "b1db4c4e-6318-4df4-e716-d3e6107ca3f6"
      },
      "execution_count": 4,
      "outputs": [
        {
          "output_type": "execute_result",
          "data": {
            "text/plain": [
              "Matrix([\n",
              "[-1],\n",
              "[ 3]])"
            ],
            "text/latex": "$\\displaystyle \\left[\\begin{matrix}-1\\\\3\\end{matrix}\\right]$"
          },
          "metadata": {},
          "execution_count": 4
        }
      ]
    },
    {
      "cell_type": "code",
      "source": [
        "# here, y is a linear combination of v1 and v2\n",
        "y = sym.sqrt(3) * v1 + 14 * v2\n",
        "y"
      ],
      "metadata": {
        "colab": {
          "base_uri": "https://localhost:8080/",
          "height": 59
        },
        "id": "y3_cCSH9GgUB",
        "outputId": "e4892901-e82b-4982-ab77-2dfc2750e9d4"
      },
      "execution_count": 5,
      "outputs": [
        {
          "output_type": "execute_result",
          "data": {
            "text/plain": [
              "Matrix([\n",
              "[         -14],\n",
              "[sqrt(3) + 42]])"
            ],
            "text/latex": "$\\displaystyle \\left[\\begin{matrix}-14\\\\\\sqrt{3} + 42\\end{matrix}\\right]$"
          },
          "metadata": {},
          "execution_count": 5
        }
      ]
    },
    {
      "cell_type": "markdown",
      "source": [
        "### 2.3.1.3 Linear Combinations"
      ],
      "metadata": {
        "id": "ko6bpDZqHWRW"
      }
    },
    {
      "cell_type": "markdown",
      "source": [
        "$\n",
        "a_1 = \\begin{bmatrix}1 \\\\ -2 \\\\ -5\\end{bmatrix},\n",
        "a_2 = \\begin{bmatrix}2 \\\\ 5 \\\\ 6\\end{bmatrix}\n",
        "$\n",
        "\n",
        "<br>\n",
        "\n",
        "$\n",
        "b = \\begin{bmatrix}7 \\\\ 4 \\\\ -3\\end{bmatrix}\n",
        "$\n",
        "\n",
        "<br>\n",
        "\n",
        "Are there scalars $c_1$ and $c_2$ such that $b = c_1a_1 + c_2a_2$? In other words, is $b$ a linear combination of $a_1$ and $a_2$?"
      ],
      "metadata": {
        "id": "2Jt8cuibHsLw"
      }
    },
    {
      "cell_type": "markdown",
      "source": [
        "### 2.3.1.4 Linear Combinations Example (continued from previous section)"
      ],
      "metadata": {
        "id": "YlR-xIC6UhAm"
      }
    },
    {
      "cell_type": "code",
      "source": [
        "a1 = sym.Matrix([1, -2, -5])\n",
        "a2 = sym.Matrix([2, 5, 6])\n",
        "b = sym.Matrix([7, 4, -3])"
      ],
      "metadata": {
        "id": "UoaS_QWwQ-Rn"
      },
      "execution_count": 6,
      "outputs": []
    },
    {
      "cell_type": "markdown",
      "source": [
        "$\n",
        "\\begin{align}\n",
        "&b = c_1a_1 + c_2a_2 \\\\\n",
        "&\\implies\\begin{bmatrix}7 \\\\ 4 \\\\ -3\\end{bmatrix} = c_1\\begin{bmatrix}1 \\\\ -2 \\\\ -5\\end{bmatrix}\n",
        "+ c_2\\begin{bmatrix}2 \\\\ 5 \\\\ 6\\end{bmatrix} \\\\\n",
        "&\\implies\\begin{bmatrix}7 \\\\ 4 \\\\ -3\\end{bmatrix} =\n",
        "\\begin{bmatrix}c_1 + 2c_2\\\\-2c_1 + 5c_2\\\\-5c_1 + 6c_2\\end{bmatrix}\n",
        "\\end{align}\n",
        "$"
      ],
      "metadata": {
        "id": "LOQ2mQvUJG5_"
      }
    },
    {
      "cell_type": "markdown",
      "source": [
        "Now we have system of linear equations, which can be represented as an augmented matrix"
      ],
      "metadata": {
        "id": "toU7TvhmM0kM"
      }
    },
    {
      "cell_type": "code",
      "source": [
        "A = sym.Matrix([[1, 2, 7],\n",
        "                [-2, 5, 4],\n",
        "                [-5, 6, -3]])\n",
        "A"
      ],
      "metadata": {
        "colab": {
          "base_uri": "https://localhost:8080/",
          "height": 78
        },
        "id": "6dkXdpdvM6wr",
        "outputId": "fa23c278-34e8-4225-9087-4c05ee1562c1"
      },
      "execution_count": 7,
      "outputs": [
        {
          "output_type": "execute_result",
          "data": {
            "text/plain": [
              "Matrix([\n",
              "[ 1, 2,  7],\n",
              "[-2, 5,  4],\n",
              "[-5, 6, -3]])"
            ],
            "text/latex": "$\\displaystyle \\left[\\begin{matrix}1 & 2 & 7\\\\-2 & 5 & 4\\\\-5 & 6 & -3\\end{matrix}\\right]$"
          },
          "metadata": {},
          "execution_count": 7
        }
      ]
    },
    {
      "cell_type": "markdown",
      "source": [
        "$R_2 \\leftarrow R_2 + 2R_1$\n",
        "\n",
        "$R_3 \\leftarrow R_3 + 5R_1$"
      ],
      "metadata": {
        "id": "0Ldhy4hbNRf-"
      }
    },
    {
      "cell_type": "code",
      "source": [
        "A[1,:] = A.row(1) + 2 * A.row(0)\n",
        "A[2,:] = A.row(2) + 5 * A.row(0)\n",
        "A"
      ],
      "metadata": {
        "colab": {
          "base_uri": "https://localhost:8080/",
          "height": 78
        },
        "id": "Jc1J2e_KNOoP",
        "outputId": "012bb125-bace-416a-e0a2-444444647a2d"
      },
      "execution_count": 8,
      "outputs": [
        {
          "output_type": "execute_result",
          "data": {
            "text/plain": [
              "Matrix([\n",
              "[1,  2,  7],\n",
              "[0,  9, 18],\n",
              "[0, 16, 32]])"
            ],
            "text/latex": "$\\displaystyle \\left[\\begin{matrix}1 & 2 & 7\\\\0 & 9 & 18\\\\0 & 16 & 32\\end{matrix}\\right]$"
          },
          "metadata": {},
          "execution_count": 8
        }
      ]
    },
    {
      "cell_type": "markdown",
      "source": [
        "$R_2 \\leftarrow \\frac{1}{9}R_2$\n",
        "\n",
        "$R_3 \\leftarrow \\frac{1}{16}R_3$"
      ],
      "metadata": {
        "id": "sjqnZn2vOc4y"
      }
    },
    {
      "cell_type": "code",
      "source": [
        "A[1,:] = sym.Rational(1, 9) * A.row(1)\n",
        "A[2,:] = sym.Rational(1, 16) * A.row(2)\n",
        "A"
      ],
      "metadata": {
        "colab": {
          "base_uri": "https://localhost:8080/",
          "height": 78
        },
        "id": "5AA7HkYeO1-f",
        "outputId": "f687f4a5-2c85-4a09-9d11-3dc721c605f3"
      },
      "execution_count": 9,
      "outputs": [
        {
          "output_type": "execute_result",
          "data": {
            "text/plain": [
              "Matrix([\n",
              "[1, 2, 7],\n",
              "[0, 1, 2],\n",
              "[0, 1, 2]])"
            ],
            "text/latex": "$\\displaystyle \\left[\\begin{matrix}1 & 2 & 7\\\\0 & 1 & 2\\\\0 & 1 & 2\\end{matrix}\\right]$"
          },
          "metadata": {},
          "execution_count": 9
        }
      ]
    },
    {
      "cell_type": "markdown",
      "source": [
        "$R_3 \\leftarrow R_3 - R_2$"
      ],
      "metadata": {
        "id": "FnV1c00mP83W"
      }
    },
    {
      "cell_type": "code",
      "source": [
        "A[2,:] = A.row(2) - A.row(1)\n",
        "A"
      ],
      "metadata": {
        "colab": {
          "base_uri": "https://localhost:8080/",
          "height": 78
        },
        "id": "UsZn5xkAP8IM",
        "outputId": "7ed26ea3-98ca-491b-91d7-5eac4fa6afda"
      },
      "execution_count": 10,
      "outputs": [
        {
          "output_type": "execute_result",
          "data": {
            "text/plain": [
              "Matrix([\n",
              "[1, 2, 7],\n",
              "[0, 1, 2],\n",
              "[0, 0, 0]])"
            ],
            "text/latex": "$\\displaystyle \\left[\\begin{matrix}1 & 2 & 7\\\\0 & 1 & 2\\\\0 & 0 & 0\\end{matrix}\\right]$"
          },
          "metadata": {},
          "execution_count": 10
        }
      ]
    },
    {
      "cell_type": "markdown",
      "source": [
        "$R_1 \\leftarrow = R_1 - 2R_2$"
      ],
      "metadata": {
        "id": "Q1CtYYpKYLff"
      }
    },
    {
      "cell_type": "code",
      "source": [
        "A[0,:] = A.row(0) - 2 * A.row(1)\n",
        "A"
      ],
      "metadata": {
        "colab": {
          "base_uri": "https://localhost:8080/",
          "height": 78
        },
        "id": "J0JoRv2mYKlV",
        "outputId": "056584c1-8f77-4675-cf49-05775cd77a3a"
      },
      "execution_count": 11,
      "outputs": [
        {
          "output_type": "execute_result",
          "data": {
            "text/plain": [
              "Matrix([\n",
              "[1, 0, 3],\n",
              "[0, 1, 2],\n",
              "[0, 0, 0]])"
            ],
            "text/latex": "$\\displaystyle \\left[\\begin{matrix}1 & 0 & 3\\\\0 & 1 & 2\\\\0 & 0 & 0\\end{matrix}\\right]$"
          },
          "metadata": {},
          "execution_count": 11
        }
      ]
    },
    {
      "cell_type": "code",
      "source": [
        "c1 = 3\n",
        "c2 = 2\n",
        "c1, c2"
      ],
      "metadata": {
        "colab": {
          "base_uri": "https://localhost:8080/"
        },
        "id": "I8fKn5mEQKu1",
        "outputId": "9b3f0b19-7c3f-4c5d-b639-42e8679f7b6a"
      },
      "execution_count": 12,
      "outputs": [
        {
          "output_type": "execute_result",
          "data": {
            "text/plain": [
              "(3, 2)"
            ]
          },
          "metadata": {},
          "execution_count": 12
        }
      ]
    },
    {
      "cell_type": "code",
      "source": [
        "c1 * a1 + c2 * a2"
      ],
      "metadata": {
        "colab": {
          "base_uri": "https://localhost:8080/",
          "height": 78
        },
        "id": "24tGouzMQcuD",
        "outputId": "c90d4e2e-3593-44d2-97ce-e5272503c633"
      },
      "execution_count": 13,
      "outputs": [
        {
          "output_type": "execute_result",
          "data": {
            "text/plain": [
              "Matrix([\n",
              "[ 7],\n",
              "[ 4],\n",
              "[-3]])"
            ],
            "text/latex": "$\\displaystyle \\left[\\begin{matrix}7\\\\4\\\\-3\\end{matrix}\\right]$"
          },
          "metadata": {},
          "execution_count": 13
        }
      ]
    },
    {
      "cell_type": "code",
      "source": [
        "b"
      ],
      "metadata": {
        "colab": {
          "base_uri": "https://localhost:8080/",
          "height": 78
        },
        "id": "c0e0hJyrRPn6",
        "outputId": "5edeca1e-c49d-447d-a5ea-c83178109864"
      },
      "execution_count": 14,
      "outputs": [
        {
          "output_type": "execute_result",
          "data": {
            "text/plain": [
              "Matrix([\n",
              "[ 7],\n",
              "[ 4],\n",
              "[-3]])"
            ],
            "text/latex": "$\\displaystyle \\left[\\begin{matrix}7\\\\4\\\\-3\\end{matrix}\\right]$"
          },
          "metadata": {},
          "execution_count": 14
        }
      ]
    },
    {
      "cell_type": "code",
      "source": [
        "c1 * a1 + c2 * a2 == b"
      ],
      "metadata": {
        "colab": {
          "base_uri": "https://localhost:8080/"
        },
        "id": "5NzzaFFBRQkX",
        "outputId": "8af3f121-e6d3-4baa-d23e-a3116834c0cb"
      },
      "execution_count": 15,
      "outputs": [
        {
          "output_type": "execute_result",
          "data": {
            "text/plain": [
              "True"
            ]
          },
          "metadata": {},
          "execution_count": 15
        }
      ]
    },
    {
      "cell_type": "markdown",
      "source": [
        "#### Alternate method"
      ],
      "metadata": {
        "id": "Fo7Vwn1SXADY"
      }
    },
    {
      "cell_type": "code",
      "source": [
        "A = sym.Matrix([[1, 2, 7],\n",
        "                [-2, 5, 4],\n",
        "                [-5, 6, -3]])\n",
        "A.rref(pivots=False)"
      ],
      "metadata": {
        "colab": {
          "base_uri": "https://localhost:8080/",
          "height": 78
        },
        "id": "1Ha6JMkxW_C6",
        "outputId": "19c6a2d0-2808-4dab-c72b-53f7a0dff80a"
      },
      "execution_count": 16,
      "outputs": [
        {
          "output_type": "execute_result",
          "data": {
            "text/plain": [
              "Matrix([\n",
              "[1, 0, 3],\n",
              "[0, 1, 2],\n",
              "[0, 0, 0]])"
            ],
            "text/latex": "$\\displaystyle \\left[\\begin{matrix}1 & 0 & 3\\\\0 & 1 & 2\\\\0 & 0 & 0\\end{matrix}\\right]$"
          },
          "metadata": {},
          "execution_count": 16
        }
      ]
    },
    {
      "cell_type": "code",
      "source": [
        "c1 = 3\n",
        "c2 = 2\n",
        "c1 * a1 + c2 * a2 == b"
      ],
      "metadata": {
        "colab": {
          "base_uri": "https://localhost:8080/"
        },
        "id": "hPIGgGyTXMG6",
        "outputId": "60968f7e-9990-4491-eacc-ebbda143fd5a"
      },
      "execution_count": 17,
      "outputs": [
        {
          "output_type": "execute_result",
          "data": {
            "text/plain": [
              "True"
            ]
          },
          "metadata": {},
          "execution_count": 17
        }
      ]
    },
    {
      "cell_type": "markdown",
      "source": [
        "#### Alternate method"
      ],
      "metadata": {
        "id": "Pj3hR-XBTDVP"
      }
    },
    {
      "cell_type": "code",
      "source": [
        "a1, a2, b"
      ],
      "metadata": {
        "colab": {
          "base_uri": "https://localhost:8080/"
        },
        "id": "vxmsVsiCTAMY",
        "outputId": "e7ef0e07-3500-4496-bb42-88aae86d020a"
      },
      "execution_count": 18,
      "outputs": [
        {
          "output_type": "execute_result",
          "data": {
            "text/plain": [
              "(Matrix([\n",
              " [ 1],\n",
              " [-2],\n",
              " [-5]]),\n",
              " Matrix([\n",
              " [2],\n",
              " [5],\n",
              " [6]]),\n",
              " Matrix([\n",
              " [ 7],\n",
              " [ 4],\n",
              " [-3]]))"
            ]
          },
          "metadata": {},
          "execution_count": 18
        }
      ]
    },
    {
      "cell_type": "code",
      "source": [
        "c1, c2 = sym.symbols('c_1 c_2')"
      ],
      "metadata": {
        "id": "45W7QAMHRoqj"
      },
      "execution_count": 19,
      "outputs": []
    },
    {
      "cell_type": "code",
      "source": [
        "sym.solve(c1 * a1 + c2 * a2 - b)"
      ],
      "metadata": {
        "colab": {
          "base_uri": "https://localhost:8080/"
        },
        "id": "cJOZi--3R4UZ",
        "outputId": "a941359a-f4e2-4d01-9360-83645af04cc1"
      },
      "execution_count": 20,
      "outputs": [
        {
          "output_type": "execute_result",
          "data": {
            "text/plain": [
              "{c_1: 3, c_2: 2}"
            ]
          },
          "metadata": {},
          "execution_count": 20
        }
      ]
    },
    {
      "cell_type": "code",
      "source": [
        "sym.solve(sym.Eq(c1 * a1 + c2 * a2, b))"
      ],
      "metadata": {
        "colab": {
          "base_uri": "https://localhost:8080/"
        },
        "id": "VHRxTnT-VpPq",
        "outputId": "fcd4c62a-1465-44d8-e922-639dbc5fc429"
      },
      "execution_count": 21,
      "outputs": [
        {
          "output_type": "execute_result",
          "data": {
            "text/plain": [
              "{c_1: 3, c_2: 2}"
            ]
          },
          "metadata": {},
          "execution_count": 21
        }
      ]
    },
    {
      "cell_type": "markdown",
      "source": [
        "## 2.3.2 Linear Independence"
      ],
      "metadata": {
        "id": "JK3kz-S1dx0S"
      }
    },
    {
      "cell_type": "markdown",
      "source": [
        "### 2.3.2.1 Span\n",
        "\n",
        "Suppose $S$ is a set of vectors.\n",
        "\n",
        "$$\n",
        "S = \\{v_1, v_2, \\cdots, v_n\\}\n",
        "$$\n",
        "\n",
        "The **span** of set $S$, denoted $\\text{span}(S)$ is the set of all linear combinations of the vectors in $S$."
      ],
      "metadata": {
        "id": "Rqwfu7pZePSN"
      }
    },
    {
      "cell_type": "markdown",
      "source": [
        "#### Example\n",
        "\n",
        "$$\n",
        "S = \\{v_1, v_2\\}\n",
        "$$\n",
        "\n",
        "where:\n",
        "\n",
        "$$\n",
        "v_1 = \\begin{bmatrix}1\\\\0\\\\0\\end{bmatrix},\n",
        "v_2 = \\begin{bmatrix}0\\\\1\\\\0\\end{bmatrix}\n",
        "$$\n",
        "\n",
        "Is $b = \\begin{bmatrix}1\\\\1\\\\1\\end{bmatrix}$ in $\\text{span}(S)$?\n",
        "\n",
        "#### Solution\n",
        "\n",
        "Let $c_1$ and $c_2$ be scalars. If $b$ is in $\\text{span}(S)$, then\n",
        "\n",
        "$\n",
        "\\begin{align}\n",
        "&c_1v_1 + c_2v_2 = \\begin{bmatrix}1\\\\1\\\\1\\end{bmatrix} \\\\\n",
        "&\\implies\n",
        "c_1\\begin{bmatrix}1\\\\0\\\\0\\end{bmatrix} + c_2\\begin{bmatrix}0\\\\1\\\\0\\end{bmatrix} = \\begin{bmatrix}1\\\\1\\\\1\\end{bmatrix} \\\\\n",
        "&\\implies\n",
        "\\begin{bmatrix}c_1\\\\c_2\\\\0\\end{bmatrix} = \\begin{bmatrix}1\\\\1\\\\1\\end{bmatrix}\n",
        "\\end{align}\n",
        "$\n",
        "\n",
        "There is no solution.\n",
        "\n",
        "$\\therefore b$ is not in $\\text{span}(S)$."
      ],
      "metadata": {
        "id": "IY51NjMLj5ST"
      }
    },
    {
      "cell_type": "markdown",
      "source": [
        "### 2.3.2.2 Span Example"
      ],
      "metadata": {
        "id": "1xfgA4uBnufz"
      }
    },
    {
      "cell_type": "markdown",
      "source": [
        "$$\n",
        "a_1 = \\begin{bmatrix}1\\\\-2\\\\3\\end{bmatrix},\n",
        "a_2 = \\begin{bmatrix}5\\\\-13\\\\-3\\end{bmatrix},\n",
        "b = \\begin{bmatrix}-3\\\\8\\\\1\\end{bmatrix},\n",
        "S = \\{v_1, v2\\}\n",
        "$$\n",
        "\n",
        "Is $b$ in $\\text{span}(S)$?\n"
      ],
      "metadata": {
        "id": "0qiDaWbksG3y"
      }
    },
    {
      "cell_type": "markdown",
      "source": [
        "#### Solution:\n",
        "\n",
        "$$\n",
        "\\begin{align}\n",
        "\\text{span}(S) &= c_1a_1 + c_2a_2 \\\\\n",
        "&= \\begin{bmatrix}c_1 + 5c_2\\\\-2c_1 - 13_c2\\\\3c_1 - 3c_2\\end{bmatrix}\n",
        "\\end{align}\n",
        "$$\n",
        "\n",
        "Can we find a $c_1$ and $c_2$ such that $b$ is in the span? The span of $S$ is a plane in 3-space. Does $b$ lie on that plane?\n",
        "\n",
        "$$\n",
        "\\begin{align}\n",
        "\\begin{bmatrix}c_1 + 5c_2\\\\-2c_1 - 13c_2\\\\3c_1 - 3c_2\\end{bmatrix} &= \\begin{bmatrix}-3\\\\8\\\\1\\end{bmatrix}\n",
        "\\end{align}\n",
        "$$\n",
        "\n",
        "This can be expressed as an augmented matrix."
      ],
      "metadata": {
        "id": "SL9yq9q_tODH"
      }
    },
    {
      "cell_type": "code",
      "source": [
        "A = sym.Matrix([[1, 5, -3],\n",
        "                [-2, -13, 8],\n",
        "                [3, -3, 1]])\n",
        "A"
      ],
      "metadata": {
        "colab": {
          "base_uri": "https://localhost:8080/",
          "height": 78
        },
        "id": "N6C0oI8W0fyN",
        "outputId": "10bb696c-f49d-4673-eb59-9669b48f9c42"
      },
      "execution_count": 22,
      "outputs": [
        {
          "output_type": "execute_result",
          "data": {
            "text/plain": [
              "Matrix([\n",
              "[ 1,   5, -3],\n",
              "[-2, -13,  8],\n",
              "[ 3,  -3,  1]])"
            ],
            "text/latex": "$\\displaystyle \\left[\\begin{matrix}1 & 5 & -3\\\\-2 & -13 & 8\\\\3 & -3 & 1\\end{matrix}\\right]$"
          },
          "metadata": {},
          "execution_count": 22
        }
      ]
    },
    {
      "cell_type": "markdown",
      "source": [
        "$R_2 \\leftarrow R_2 + 2R_1$\n",
        "\n",
        "$R_3 \\leftarrow R_3 - 3R_1$"
      ],
      "metadata": {
        "id": "DZh7peTr05Ex"
      }
    },
    {
      "cell_type": "code",
      "source": [
        "A[1,:] = A.row(1) + 2 * A.row(0)\n",
        "A[2,:] = A.row(2) - 3 * A.row(0)\n",
        "A"
      ],
      "metadata": {
        "colab": {
          "base_uri": "https://localhost:8080/",
          "height": 78
        },
        "id": "oAxxGdEC0xhz",
        "outputId": "b45a6eee-234e-4585-f924-aa3304dd18ee"
      },
      "execution_count": 23,
      "outputs": [
        {
          "output_type": "execute_result",
          "data": {
            "text/plain": [
              "Matrix([\n",
              "[1,   5, -3],\n",
              "[0,  -3,  2],\n",
              "[0, -18, 10]])"
            ],
            "text/latex": "$\\displaystyle \\left[\\begin{matrix}1 & 5 & -3\\\\0 & -3 & 2\\\\0 & -18 & 10\\end{matrix}\\right]$"
          },
          "metadata": {},
          "execution_count": 23
        }
      ]
    },
    {
      "cell_type": "markdown",
      "source": [
        "$R_3 \\leftarrow R_3 + 6R_2$"
      ],
      "metadata": {
        "id": "rX3HDCb53BXc"
      }
    },
    {
      "cell_type": "code",
      "source": [
        "A[2,:] = A.row(2) - 6 * A.row(1)\n",
        "A"
      ],
      "metadata": {
        "colab": {
          "base_uri": "https://localhost:8080/",
          "height": 78
        },
        "id": "JzK5Pwsh3IDq",
        "outputId": "61251c76-3523-4c49-f878-4d57552c4880"
      },
      "execution_count": 24,
      "outputs": [
        {
          "output_type": "execute_result",
          "data": {
            "text/plain": [
              "Matrix([\n",
              "[1,  5, -3],\n",
              "[0, -3,  2],\n",
              "[0,  0, -2]])"
            ],
            "text/latex": "$\\displaystyle \\left[\\begin{matrix}1 & 5 & -3\\\\0 & -3 & 2\\\\0 & 0 & -2\\end{matrix}\\right]$"
          },
          "metadata": {},
          "execution_count": 24
        }
      ]
    },
    {
      "cell_type": "markdown",
      "source": [
        "There is no solution.\n",
        "\n",
        "$\\therefore b$ is not in $\\text{span}(S)$."
      ],
      "metadata": {
        "id": "2CoESgOS3uTf"
      }
    },
    {
      "cell_type": "markdown",
      "source": [
        "#### Alternate Solutions:"
      ],
      "metadata": {
        "id": "S_LUNBXT4eJH"
      }
    },
    {
      "cell_type": "code",
      "source": [
        "# this also shows there are no solutions\n",
        "A = sym.Matrix([[1, 5, -3],\n",
        "                [-2, -13, 8],\n",
        "                [3, -3, 1]])\n",
        "A.rref(pivots=False)"
      ],
      "metadata": {
        "colab": {
          "base_uri": "https://localhost:8080/",
          "height": 78
        },
        "id": "p-3RvuRF4lju",
        "outputId": "ef71a661-dd26-44b5-d2d5-dc1f4f16f541"
      },
      "execution_count": 25,
      "outputs": [
        {
          "output_type": "execute_result",
          "data": {
            "text/plain": [
              "Matrix([\n",
              "[1, 0, 0],\n",
              "[0, 1, 0],\n",
              "[0, 0, 1]])"
            ],
            "text/latex": "$\\displaystyle \\left[\\begin{matrix}1 & 0 & 0\\\\0 & 1 & 0\\\\0 & 0 & 1\\end{matrix}\\right]$"
          },
          "metadata": {},
          "execution_count": 25
        }
      ]
    },
    {
      "cell_type": "code",
      "source": [
        "A = sym.Matrix([[1, 5, -3],\n",
        "                [-2, -13, 8],\n",
        "                [3, -3, 1]])\n",
        "a1 = A.col(0)\n",
        "a2 = A.col(1)\n",
        "b = A.col(2)\n",
        "\n",
        "c1, c2 = sym.symbols('c_1 c_2')\n",
        "\n",
        "# no solutions\n",
        "sym.solve(c1 * a1 + c2 * a2 - b)"
      ],
      "metadata": {
        "colab": {
          "base_uri": "https://localhost:8080/"
        },
        "id": "z1bushNL5J7q",
        "outputId": "a01a2193-7069-4bad-f939-b541d8579f79"
      },
      "execution_count": 26,
      "outputs": [
        {
          "output_type": "execute_result",
          "data": {
            "text/plain": [
              "[]"
            ]
          },
          "metadata": {},
          "execution_count": 26
        }
      ]
    },
    {
      "cell_type": "code",
      "source": [
        "A = sym.Matrix([[1, 5, -3],\n",
        "                [-2, -13, 8],\n",
        "                [3, -3, 1]])\n",
        "a1 = A.col(0)\n",
        "a2 = A.col(1)\n",
        "b = A.col(2)\n",
        "\n",
        "c1, c2 = sym.symbols('c_1 c_2')\n",
        "\n",
        "# no solutions\n",
        "sym.solve(sym.Eq(c1 * a1 + c2 * a2, b))"
      ],
      "metadata": {
        "colab": {
          "base_uri": "https://localhost:8080/"
        },
        "id": "LGhuKFyB570I",
        "outputId": "f62c7eb3-0cda-441e-91bb-c3be8baab516"
      },
      "execution_count": 27,
      "outputs": [
        {
          "output_type": "execute_result",
          "data": {
            "text/plain": [
              "[]"
            ]
          },
          "metadata": {},
          "execution_count": 27
        }
      ]
    },
    {
      "cell_type": "markdown",
      "source": [
        "### 2.3.2.3 $Ax = b$"
      ],
      "metadata": {
        "id": "hjXk_sjR-HbF"
      }
    }
  ]
}