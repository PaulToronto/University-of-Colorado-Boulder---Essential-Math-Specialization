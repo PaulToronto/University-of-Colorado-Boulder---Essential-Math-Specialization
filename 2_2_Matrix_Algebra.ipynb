{
  "nbformat": 4,
  "nbformat_minor": 0,
  "metadata": {
    "colab": {
      "provenance": [],
      "toc_visible": true,
      "authorship_tag": "ABX9TyN3bLWdCzgLu4T4Z1kJXnCH",
      "include_colab_link": true
    },
    "kernelspec": {
      "name": "python3",
      "display_name": "Python 3"
    },
    "language_info": {
      "name": "python"
    }
  },
  "cells": [
    {
      "cell_type": "markdown",
      "metadata": {
        "id": "view-in-github",
        "colab_type": "text"
      },
      "source": [
        "<a href=\"https://colab.research.google.com/github/PaulToronto/University-of-Colorado-Boulder---Essential-Math-Specialization/blob/main/2_2_Matrix_Algebra.ipynb\" target=\"_parent\"><img src=\"https://colab.research.google.com/assets/colab-badge.svg\" alt=\"Open In Colab\"/></a>"
      ]
    },
    {
      "cell_type": "markdown",
      "source": [
        "# 2.2 Matrix Algebra"
      ],
      "metadata": {
        "id": "D7N_7gKkB7-a"
      }
    },
    {
      "cell_type": "markdown",
      "source": [
        "## Imports"
      ],
      "metadata": {
        "id": "4-n4kXiSjaij"
      }
    },
    {
      "cell_type": "code",
      "source": [
        "import numpy as np\n",
        "import sympy as sym"
      ],
      "metadata": {
        "id": "kU9DFbDBjceZ"
      },
      "execution_count": 1,
      "outputs": []
    },
    {
      "cell_type": "markdown",
      "source": [
        "## 2.2.1 Introduction to Matrix Algebra + Sum + Scale"
      ],
      "metadata": {
        "id": "gVihGXtljeYG"
      }
    },
    {
      "cell_type": "markdown",
      "source": [
        "### 2.2.1.1 Matrix Algebra Sum\n",
        "\n",
        "Let $A$ and $B$ be two matrices.\n",
        "\n",
        "- We can only find the sum of $A$ and $B$ of they have the same dimensions\n",
        "- To perform the addition simply add the corresponding elements"
      ],
      "metadata": {
        "id": "XIIl86BsjnHE"
      }
    },
    {
      "cell_type": "markdown",
      "source": [
        "$$\n",
        "A = \\begin{bmatrix}\n",
        "1 & 2 \\\\\n",
        "-1 & 0 \\\\\n",
        "1 & 7\n",
        "\\end{bmatrix},\n",
        "B = \\begin{bmatrix}\n",
        "7 & -2 \\\\\n",
        "6 & -6 \\\\\n",
        "5 & -2\n",
        "\\end{bmatrix}\n",
        "$$"
      ],
      "metadata": {
        "id": "OyGjFFKzys3I"
      }
    },
    {
      "cell_type": "markdown",
      "source": [
        "$$\n",
        "A + B = \\begin{bmatrix}\n",
        "8 & 0 \\\\\n",
        "5 & -6 \\\\\n",
        "6 & 5\n",
        "\\end{bmatrix}\n",
        "$$"
      ],
      "metadata": {
        "id": "Kz8mBjQBzKNg"
      }
    },
    {
      "cell_type": "markdown",
      "source": [
        "#### Matrix Addition with `numpy`"
      ],
      "metadata": {
        "id": "fgsuS-QBzWpR"
      }
    },
    {
      "cell_type": "code",
      "source": [
        "A = np.array([[1, 2],\n",
        "              [-1, 0],\n",
        "              [1, 7]])\n",
        "\n",
        "B = np.array([[7, -2],\n",
        "              [6, -6],\n",
        "              [5, -2]])\n",
        "\n",
        "A + B"
      ],
      "metadata": {
        "colab": {
          "base_uri": "https://localhost:8080/"
        },
        "id": "v0CL_0M2zVpM",
        "outputId": "efdc05be-3614-4397-ff84-3329e1e47d21"
      },
      "execution_count": 2,
      "outputs": [
        {
          "output_type": "execute_result",
          "data": {
            "text/plain": [
              "array([[ 8,  0],\n",
              "       [ 5, -6],\n",
              "       [ 6,  5]])"
            ]
          },
          "metadata": {},
          "execution_count": 2
        }
      ]
    },
    {
      "cell_type": "markdown",
      "source": [
        "#### Matrix Addition with `sympy`"
      ],
      "metadata": {
        "id": "6jy6ogfezgY-"
      }
    },
    {
      "cell_type": "code",
      "source": [
        "A = sym.Matrix(A)\n",
        "B = sym.Matrix(B)\n",
        "\n",
        "A + B"
      ],
      "metadata": {
        "colab": {
          "base_uri": "https://localhost:8080/",
          "height": 78
        },
        "id": "YSI5fzY1z8q_",
        "outputId": "f3d047ba-49eb-4f0e-a032-bb4c0045bea0"
      },
      "execution_count": 3,
      "outputs": [
        {
          "output_type": "execute_result",
          "data": {
            "text/plain": [
              "Matrix([\n",
              "[8,  0],\n",
              "[5, -6],\n",
              "[6,  5]])"
            ],
            "text/latex": "$\\displaystyle \\left[\\begin{matrix}8 & 0\\\\5 & -6\\\\6 & 5\\end{matrix}\\right]$"
          },
          "metadata": {},
          "execution_count": 3
        }
      ]
    },
    {
      "cell_type": "markdown",
      "source": [
        "### 2.2.1.2 Matrix Algebra Scale + Identity"
      ],
      "metadata": {
        "id": "5gmgnvPJ0pmB"
      }
    },
    {
      "cell_type": "markdown",
      "source": [
        "#### Scale\n",
        "\n",
        "To multiply a matrix by a scalar, simply multiple each element by the scalar.\n",
        "\n",
        "Let\n",
        "\n",
        "$$\n",
        "A = \\begin{bmatrix}\n",
        "-1 & 1 \\\\\n",
        "7 & \\sqrt{3}\n",
        "\\end{bmatrix}\n",
        "$$\n",
        "\n",
        "$$\n",
        "2A = \\begin{bmatrix}\n",
        "-2 & 2 \\\\\n",
        "14 & 2\\sqrt{3}\n",
        "\\end{bmatrix}\n",
        "$$"
      ],
      "metadata": {
        "id": "CFc1nQ4L1Qye"
      }
    },
    {
      "cell_type": "markdown",
      "source": [
        "#### Scalar Multiplication with `numpy`"
      ],
      "metadata": {
        "id": "nsPqxLFZ1x2F"
      }
    },
    {
      "cell_type": "code",
      "source": [
        "A = np.array([[-1, 1],\n",
        "              [7, np.sqrt(3)]])\n",
        "\n",
        "2 * A"
      ],
      "metadata": {
        "colab": {
          "base_uri": "https://localhost:8080/"
        },
        "id": "Rd4s8xAu2QSj",
        "outputId": "3095d98e-04a0-4955-d1e6-6aaa63f805be"
      },
      "execution_count": 4,
      "outputs": [
        {
          "output_type": "execute_result",
          "data": {
            "text/plain": [
              "array([[-2.        ,  2.        ],\n",
              "       [14.        ,  3.46410162]])"
            ]
          },
          "metadata": {},
          "execution_count": 4
        }
      ]
    },
    {
      "cell_type": "markdown",
      "source": [
        "#### Scalar Multiplication with `sympy`"
      ],
      "metadata": {
        "id": "up9-I7xF2QmN"
      }
    },
    {
      "cell_type": "code",
      "source": [
        "A = sym.Matrix([[-1, 1],\n",
        "                [7, sym.sqrt(3)]])\n",
        "A"
      ],
      "metadata": {
        "colab": {
          "base_uri": "https://localhost:8080/",
          "height": 59
        },
        "id": "C5kxJCIc2Q4m",
        "outputId": "26cf18b8-28e7-44db-c10d-d3c785e47711"
      },
      "execution_count": 5,
      "outputs": [
        {
          "output_type": "execute_result",
          "data": {
            "text/plain": [
              "Matrix([\n",
              "[-1,       1],\n",
              "[ 7, sqrt(3)]])"
            ],
            "text/latex": "$\\displaystyle \\left[\\begin{matrix}-1 & 1\\\\7 & \\sqrt{3}\\end{matrix}\\right]$"
          },
          "metadata": {},
          "execution_count": 5
        }
      ]
    },
    {
      "cell_type": "code",
      "source": [
        "2 * A"
      ],
      "metadata": {
        "colab": {
          "base_uri": "https://localhost:8080/",
          "height": 59
        },
        "id": "f9bj43zs2rOa",
        "outputId": "59a27777-0bb2-4ce8-b125-0051d75c2d37"
      },
      "execution_count": 6,
      "outputs": [
        {
          "output_type": "execute_result",
          "data": {
            "text/plain": [
              "Matrix([\n",
              "[-2,         2],\n",
              "[14, 2*sqrt(3)]])"
            ],
            "text/latex": "$\\displaystyle \\left[\\begin{matrix}-2 & 2\\\\14 & 2 \\sqrt{3}\\end{matrix}\\right]$"
          },
          "metadata": {},
          "execution_count": 6
        }
      ]
    },
    {
      "cell_type": "markdown",
      "source": [
        "#### Identity\n",
        "\n",
        "Let $I$ be an $n \\times n$ identity matrix.\n",
        "\n",
        "$$\n",
        "AI = A = IA\n",
        "$$"
      ],
      "metadata": {
        "id": "gJX_OyCr3Air"
      }
    },
    {
      "cell_type": "markdown",
      "source": [
        "## 2.2.2 Matrix Multiplication"
      ],
      "metadata": {
        "id": "MraTfPtq3VDv"
      }
    },
    {
      "cell_type": "markdown",
      "source": [
        "### 2.2.2.1 Matrix Multiplication + Small Example\n"
      ],
      "metadata": {
        "id": "UJRl6YIVl3hm"
      }
    },
    {
      "cell_type": "code",
      "source": [
        "a, b, c, d = sym.symbols('a b c d')\n",
        "e, f, g, h = sym.symbols('e f g h')\n",
        "\n",
        "A = sym.Matrix([[a, b],\n",
        "                [c, d]])\n",
        "B = sym.Matrix([[e, f],\n",
        "                [g, h]])"
      ],
      "metadata": {
        "id": "cQfiqrwp1P5Z"
      },
      "execution_count": 7,
      "outputs": []
    },
    {
      "cell_type": "code",
      "source": [
        "A @ B"
      ],
      "metadata": {
        "colab": {
          "base_uri": "https://localhost:8080/",
          "height": 58
        },
        "id": "WKI-kCLf1oxB",
        "outputId": "0c1e8bf8-c0ae-4aff-fe70-0b6cc34862c3"
      },
      "execution_count": 8,
      "outputs": [
        {
          "output_type": "execute_result",
          "data": {
            "text/plain": [
              "Matrix([\n",
              "[a*e + b*g, a*f + b*h],\n",
              "[c*e + d*g, c*f + d*h]])"
            ],
            "text/latex": "$\\displaystyle \\left[\\begin{matrix}a e + b g & a f + b h\\\\c e + d g & c f + d h\\end{matrix}\\right]$"
          },
          "metadata": {},
          "execution_count": 8
        }
      ]
    },
    {
      "cell_type": "code",
      "source": [
        "sym.Matrix([[A.row(0) @ B.col(0), A.row(0) @ B.col(1)],\n",
        "            [A.row(1) @ B.col(0), A.row(1) @ B.col(1)]])"
      ],
      "metadata": {
        "colab": {
          "base_uri": "https://localhost:8080/",
          "height": 58
        },
        "id": "rK38-FPB1q5g",
        "outputId": "d1c10880-2e08-45ab-da1a-0c6c39469a84"
      },
      "execution_count": 9,
      "outputs": [
        {
          "output_type": "execute_result",
          "data": {
            "text/plain": [
              "Matrix([\n",
              "[a*e + b*g, a*f + b*h],\n",
              "[c*e + d*g, c*f + d*h]])"
            ],
            "text/latex": "$\\displaystyle \\left[\\begin{matrix}a e + b g & a f + b h\\\\c e + d g & c f + d h\\end{matrix}\\right]$"
          },
          "metadata": {},
          "execution_count": 9
        }
      ]
    },
    {
      "cell_type": "markdown",
      "source": [
        "### Example\n",
        "\n",
        "Let $A = \\begin{bmatrix}1 & 2\\\\-1 & -1\\end{bmatrix}$ and $B = \\begin{bmatrix}3 & -1\\\\1 & 4\\end{bmatrix}$.\n",
        "\n",
        "$$\n",
        "\\begin{align}\n",
        "AB &= \\begin{bmatrix}1 & 2\\\\-1 & -1\\end{bmatrix}\\cdot\\begin{bmatrix}3 & -1\\\\1 & 4\\end{bmatrix} \\\\\n",
        "&= \\begin{bmatrix}(1)(3) + (2)(1) & (1)(-1) + (2)(4)\\\\\n",
        "(-1)(3) + (-1)(1) & (-1)(-1) + (-1)(4) \\\\\n",
        "\\end{bmatrix} \\\\\n",
        "&= \\begin{bmatrix}5 & 7\\\\-4 & -3\\end{bmatrix}\n",
        "\\end{align}\n",
        "$$"
      ],
      "metadata": {
        "id": "_sXYFpEA2mxT"
      }
    },
    {
      "cell_type": "markdown",
      "source": [
        "### Matrix Multipliation with `numpy`"
      ],
      "metadata": {
        "id": "29vkihml4mU-"
      }
    },
    {
      "cell_type": "code",
      "source": [
        "A = np.array([[1, 2],\n",
        "               [-1, -1]])\n",
        "\n",
        "B = np.array([[3, -1],\n",
        "               [1, 4]])\n"
      ],
      "metadata": {
        "id": "p48FUkM54lJr"
      },
      "execution_count": 10,
      "outputs": []
    },
    {
      "cell_type": "code",
      "source": [
        "A @ B"
      ],
      "metadata": {
        "colab": {
          "base_uri": "https://localhost:8080/"
        },
        "id": "fFmrnwyU5DPg",
        "outputId": "ffac7a90-9c0c-4af1-f7cb-1faee46eb908"
      },
      "execution_count": 11,
      "outputs": [
        {
          "output_type": "execute_result",
          "data": {
            "text/plain": [
              "array([[ 5,  7],\n",
              "       [-4, -3]])"
            ]
          },
          "metadata": {},
          "execution_count": 11
        }
      ]
    },
    {
      "cell_type": "code",
      "source": [
        "A * B # wrong, this is element-wise"
      ],
      "metadata": {
        "colab": {
          "base_uri": "https://localhost:8080/"
        },
        "id": "pZlL6Vc95Fss",
        "outputId": "7ff505b4-b065-49d0-8a4a-74461f18647e"
      },
      "execution_count": 12,
      "outputs": [
        {
          "output_type": "execute_result",
          "data": {
            "text/plain": [
              "array([[ 3, -2],\n",
              "       [-1, -4]])"
            ]
          },
          "metadata": {},
          "execution_count": 12
        }
      ]
    },
    {
      "cell_type": "code",
      "source": [
        "np.matmul(A, B)"
      ],
      "metadata": {
        "colab": {
          "base_uri": "https://localhost:8080/"
        },
        "id": "Ki2k_Wl75Orv",
        "outputId": "021af02e-a8e8-41ff-b684-2ee882640a51"
      },
      "execution_count": 13,
      "outputs": [
        {
          "output_type": "execute_result",
          "data": {
            "text/plain": [
              "array([[ 5,  7],\n",
              "       [-4, -3]])"
            ]
          },
          "metadata": {},
          "execution_count": 13
        }
      ]
    },
    {
      "cell_type": "markdown",
      "source": [
        "### Matrix Multiplication with `sympy`"
      ],
      "metadata": {
        "id": "nf8pBUFE4sMW"
      }
    },
    {
      "cell_type": "code",
      "source": [
        "A = sym.Matrix(A)\n",
        "B = sym.Matrix(B)"
      ],
      "metadata": {
        "id": "2lfEd2xk5er7"
      },
      "execution_count": 14,
      "outputs": []
    },
    {
      "cell_type": "code",
      "source": [
        "A @ B"
      ],
      "metadata": {
        "colab": {
          "base_uri": "https://localhost:8080/",
          "height": 58
        },
        "id": "DlFSWMDI5u3j",
        "outputId": "787b9b30-1dd5-4562-e1b4-cc1c045460d3"
      },
      "execution_count": 15,
      "outputs": [
        {
          "output_type": "execute_result",
          "data": {
            "text/plain": [
              "Matrix([\n",
              "[ 5,  7],\n",
              "[-4, -3]])"
            ],
            "text/latex": "$\\displaystyle \\left[\\begin{matrix}5 & 7\\\\-4 & -3\\end{matrix}\\right]$"
          },
          "metadata": {},
          "execution_count": 15
        }
      ]
    },
    {
      "cell_type": "code",
      "source": [
        "A * B"
      ],
      "metadata": {
        "colab": {
          "base_uri": "https://localhost:8080/",
          "height": 58
        },
        "id": "R8EEPBpg5wTo",
        "outputId": "369473aa-d37a-407a-be40-d975d6951975"
      },
      "execution_count": 16,
      "outputs": [
        {
          "output_type": "execute_result",
          "data": {
            "text/plain": [
              "Matrix([\n",
              "[ 5,  7],\n",
              "[-4, -3]])"
            ],
            "text/latex": "$\\displaystyle \\left[\\begin{matrix}5 & 7\\\\-4 & -3\\end{matrix}\\right]$"
          },
          "metadata": {},
          "execution_count": 16
        }
      ]
    },
    {
      "cell_type": "markdown",
      "source": [
        "### 2.2.2.2 Matrix Multiplication - General Rules"
      ],
      "metadata": {
        "id": "GiDwpBuW8iVe"
      }
    },
    {
      "cell_type": "markdown",
      "source": [
        "Let $A_{m,n}$ and $B_{q,p}$ be matrices.\n",
        "\n",
        "- We can only multiply these two matrices together if $n = q$.\n",
        "- The resulting matrix will be an $m \\times p$ matrix.\n"
      ],
      "metadata": {
        "id": "EVQ51lpIuCMq"
      }
    },
    {
      "cell_type": "code",
      "source": [
        "A = np.array([[1, 2],\n",
        "              [-1, 3],\n",
        "              [4, 1]])\n",
        "\n",
        "B = np.array([[1, -1],\n",
        "              [2, 3]])"
      ],
      "metadata": {
        "id": "lBKbgP8xvWaD"
      },
      "execution_count": 17,
      "outputs": []
    },
    {
      "cell_type": "code",
      "source": [
        "A.shape, B.shape"
      ],
      "metadata": {
        "colab": {
          "base_uri": "https://localhost:8080/"
        },
        "id": "W2DvIfwAvsNV",
        "outputId": "6ebbac6e-add5-419a-dbfd-976853883a99"
      },
      "execution_count": 18,
      "outputs": [
        {
          "output_type": "execute_result",
          "data": {
            "text/plain": [
              "((3, 2), (2, 2))"
            ]
          },
          "metadata": {},
          "execution_count": 18
        }
      ]
    },
    {
      "cell_type": "markdown",
      "source": [
        "These two matrices can be multiplied and the result will be a $3 \\times 2$ matrix."
      ],
      "metadata": {
        "id": "A2NHxLx_vv6P"
      }
    },
    {
      "cell_type": "markdown",
      "source": [
        "### 2.2.2.3 Matrix Multiplication Example\n",
        "\n",
        "Find $A \\cdot B$\n",
        "$$\n",
        "A = \\left[\\begin{matrix}1 & 2\\\\-1 & 3\\\\4 & 1\\end{matrix}\\right], B = \\left[\\begin{matrix}1 & -1\\\\2 & 3\\end{matrix}\\right]\n",
        "$$"
      ],
      "metadata": {
        "id": "xtAcxy2pxOJk"
      }
    },
    {
      "cell_type": "code",
      "source": [
        "A @ B"
      ],
      "metadata": {
        "colab": {
          "base_uri": "https://localhost:8080/"
        },
        "id": "rK6aewejv2rA",
        "outputId": "71328f02-1e54-4948-9e37-72b1b7f7944c"
      },
      "execution_count": 19,
      "outputs": [
        {
          "output_type": "execute_result",
          "data": {
            "text/plain": [
              "array([[ 5,  5],\n",
              "       [ 5, 10],\n",
              "       [ 6, -1]])"
            ]
          },
          "metadata": {},
          "execution_count": 19
        }
      ]
    },
    {
      "cell_type": "code",
      "source": [
        "A = sym.Matrix(A)\n",
        "B = sym.Matrix(B)"
      ],
      "metadata": {
        "id": "Vc4jMT17v4eq"
      },
      "execution_count": 20,
      "outputs": []
    },
    {
      "cell_type": "code",
      "source": [
        "A @ B"
      ],
      "metadata": {
        "colab": {
          "base_uri": "https://localhost:8080/",
          "height": 78
        },
        "id": "fGpS4_SswA0B",
        "outputId": "31509d92-c00d-4b8a-e738-cc87b3ced194"
      },
      "execution_count": 21,
      "outputs": [
        {
          "output_type": "execute_result",
          "data": {
            "text/plain": [
              "Matrix([\n",
              "[5,  5],\n",
              "[5, 10],\n",
              "[6, -1]])"
            ],
            "text/latex": "$\\displaystyle \\left[\\begin{matrix}5 & 5\\\\5 & 10\\\\6 & -1\\end{matrix}\\right]$"
          },
          "metadata": {},
          "execution_count": 21
        }
      ]
    },
    {
      "cell_type": "code",
      "source": [
        "sym.Matrix([[A.row(0) @ B.col(0), A.row(0) @ B.col(1)],\n",
        "            [A.row(1) @ B.col(0), A.row(1) @ B.col(1)],\n",
        "            [A.row(2) @ B.col(0), A.row(2) @ B.col(1)]])"
      ],
      "metadata": {
        "colab": {
          "base_uri": "https://localhost:8080/",
          "height": 78
        },
        "id": "fE5OfJB2y9rV",
        "outputId": "1ed675b5-93eb-462b-b6fb-56d3b141ef4b"
      },
      "execution_count": 22,
      "outputs": [
        {
          "output_type": "execute_result",
          "data": {
            "text/plain": [
              "Matrix([\n",
              "[5,  5],\n",
              "[5, 10],\n",
              "[6, -1]])"
            ],
            "text/latex": "$\\displaystyle \\left[\\begin{matrix}5 & 5\\\\5 & 10\\\\6 & -1\\end{matrix}\\right]$"
          },
          "metadata": {},
          "execution_count": 22
        }
      ]
    },
    {
      "cell_type": "markdown",
      "source": [
        "### 2.2.2.4 Identity Matrix + Example\n",
        "\n",
        "- $I_n$ is the **identity matrix**.\n",
        "- An identity matrix must be a square matrix.\n",
        "- An identity matrix consists of 0s, except for the diagonal, which are 1s.\n",
        "\n",
        "$$\n",
        "I_n \\cdot A = A \\cdot I_m = A\n",
        "$$"
      ],
      "metadata": {
        "id": "lvoesY6i14N5"
      }
    },
    {
      "cell_type": "markdown",
      "source": [
        "#### Example\n",
        "\n",
        "$$\n",
        "I_3 \\cdot A_{3\\times2} = A_{3\\times2} \\cdot I_2 = A_{3\\times2}\n",
        "$$"
      ],
      "metadata": {
        "id": "WemSFuD9_AIi"
      }
    },
    {
      "cell_type": "code",
      "source": [
        "a11, a12 = sym.symbols('a_{11} a_{12}')\n",
        "a21, a22 = sym.symbols('a_{21} a_{22}')\n",
        "a31, a32 = sym.symbols('a_{31} a_{32}')\n",
        "\n",
        "A = sym.Matrix([[a11, a12],\n",
        "                [a21, a22],\n",
        "                [a31, a32]])\n",
        "A"
      ],
      "metadata": {
        "colab": {
          "base_uri": "https://localhost:8080/",
          "height": 78
        },
        "id": "6Fb5-UA68gNE",
        "outputId": "2187e897-c758-49e9-8fff-096b1ecb5f0f"
      },
      "execution_count": 23,
      "outputs": [
        {
          "output_type": "execute_result",
          "data": {
            "text/plain": [
              "Matrix([\n",
              "[a_{11}, a_{12}],\n",
              "[a_{21}, a_{22}],\n",
              "[a_{31}, a_{32}]])"
            ],
            "text/latex": "$\\displaystyle \\left[\\begin{matrix}a_{11} & a_{12}\\\\a_{21} & a_{22}\\\\a_{31} & a_{32}\\end{matrix}\\right]$"
          },
          "metadata": {},
          "execution_count": 23
        }
      ]
    },
    {
      "cell_type": "code",
      "source": [
        "I3 = sym.eye(3)\n",
        "I3"
      ],
      "metadata": {
        "colab": {
          "base_uri": "https://localhost:8080/",
          "height": 78
        },
        "id": "fuVphteM9DJl",
        "outputId": "7b0dc5ef-5492-4b94-d649-467ce56ae606"
      },
      "execution_count": 24,
      "outputs": [
        {
          "output_type": "execute_result",
          "data": {
            "text/plain": [
              "Matrix([\n",
              "[1, 0, 0],\n",
              "[0, 1, 0],\n",
              "[0, 0, 1]])"
            ],
            "text/latex": "$\\displaystyle \\left[\\begin{matrix}1 & 0 & 0\\\\0 & 1 & 0\\\\0 & 0 & 1\\end{matrix}\\right]$"
          },
          "metadata": {},
          "execution_count": 24
        }
      ]
    },
    {
      "cell_type": "code",
      "source": [
        "I2 = sym.eye(2)\n",
        "I2"
      ],
      "metadata": {
        "colab": {
          "base_uri": "https://localhost:8080/",
          "height": 58
        },
        "id": "3632RZw99H2t",
        "outputId": "1260e5cb-a724-4c48-f3ae-de2dab6ad90e"
      },
      "execution_count": 25,
      "outputs": [
        {
          "output_type": "execute_result",
          "data": {
            "text/plain": [
              "Matrix([\n",
              "[1, 0],\n",
              "[0, 1]])"
            ],
            "text/latex": "$\\displaystyle \\left[\\begin{matrix}1 & 0\\\\0 & 1\\end{matrix}\\right]$"
          },
          "metadata": {},
          "execution_count": 25
        }
      ]
    },
    {
      "cell_type": "code",
      "source": [
        "I3 @ A"
      ],
      "metadata": {
        "colab": {
          "base_uri": "https://localhost:8080/",
          "height": 78
        },
        "id": "y6OYJHGJ9KgA",
        "outputId": "f2835abe-4437-4177-b1ec-14a1b64d4d36"
      },
      "execution_count": 26,
      "outputs": [
        {
          "output_type": "execute_result",
          "data": {
            "text/plain": [
              "Matrix([\n",
              "[a_{11}, a_{12}],\n",
              "[a_{21}, a_{22}],\n",
              "[a_{31}, a_{32}]])"
            ],
            "text/latex": "$\\displaystyle \\left[\\begin{matrix}a_{11} & a_{12}\\\\a_{21} & a_{22}\\\\a_{31} & a_{32}\\end{matrix}\\right]$"
          },
          "metadata": {},
          "execution_count": 26
        }
      ]
    },
    {
      "cell_type": "code",
      "source": [
        "A @ I2"
      ],
      "metadata": {
        "colab": {
          "base_uri": "https://localhost:8080/",
          "height": 78
        },
        "id": "bLLahEV89Nn1",
        "outputId": "dd164120-0eab-4a7c-808d-009e0ebb2bbd"
      },
      "execution_count": 27,
      "outputs": [
        {
          "output_type": "execute_result",
          "data": {
            "text/plain": [
              "Matrix([\n",
              "[a_{11}, a_{12}],\n",
              "[a_{21}, a_{22}],\n",
              "[a_{31}, a_{32}]])"
            ],
            "text/latex": "$\\displaystyle \\left[\\begin{matrix}a_{11} & a_{12}\\\\a_{21} & a_{22}\\\\a_{31} & a_{32}\\end{matrix}\\right]$"
          },
          "metadata": {},
          "execution_count": 27
        }
      ]
    }
  ]
}