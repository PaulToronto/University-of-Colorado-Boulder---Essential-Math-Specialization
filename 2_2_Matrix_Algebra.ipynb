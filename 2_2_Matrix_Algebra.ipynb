{
  "nbformat": 4,
  "nbformat_minor": 0,
  "metadata": {
    "colab": {
      "provenance": [],
      "toc_visible": true,
      "authorship_tag": "ABX9TyMkWU6FCGFQp+iLBIj/R3nd",
      "include_colab_link": true
    },
    "kernelspec": {
      "name": "python3",
      "display_name": "Python 3"
    },
    "language_info": {
      "name": "python"
    }
  },
  "cells": [
    {
      "cell_type": "markdown",
      "metadata": {
        "id": "view-in-github",
        "colab_type": "text"
      },
      "source": [
        "<a href=\"https://colab.research.google.com/github/PaulToronto/University-of-Colorado-Boulder---Essential-Math-Specialization/blob/main/2_2_Matrix_Algebra.ipynb\" target=\"_parent\"><img src=\"https://colab.research.google.com/assets/colab-badge.svg\" alt=\"Open In Colab\"/></a>"
      ]
    },
    {
      "cell_type": "markdown",
      "source": [
        "# 2.2 Matrix Algebra"
      ],
      "metadata": {
        "id": "D7N_7gKkB7-a"
      }
    },
    {
      "cell_type": "markdown",
      "source": [
        "## Imports"
      ],
      "metadata": {
        "id": "4-n4kXiSjaij"
      }
    },
    {
      "cell_type": "code",
      "source": [
        "import numpy as np\n",
        "import sympy as sym"
      ],
      "metadata": {
        "id": "kU9DFbDBjceZ"
      },
      "execution_count": 1,
      "outputs": []
    },
    {
      "cell_type": "markdown",
      "source": [
        "## 2.2.1 Introduction to Matrix Algebra + Sum + Scale"
      ],
      "metadata": {
        "id": "gVihGXtljeYG"
      }
    },
    {
      "cell_type": "markdown",
      "source": [
        "### 2.2.1.1 Matrix Algebra Sum\n",
        "\n",
        "Let $A$ and $B$ be two matrices.\n",
        "\n",
        "- We can only find the sum of $A$ and $B$ of they have the same dimensions\n",
        "- To perform the addition simply add the corresponding elements"
      ],
      "metadata": {
        "id": "XIIl86BsjnHE"
      }
    },
    {
      "cell_type": "markdown",
      "source": [
        "$$\n",
        "A = \\begin{bmatrix}\n",
        "1 & 2 \\\\\n",
        "-1 & 0 \\\\\n",
        "1 & 7\n",
        "\\end{bmatrix},\n",
        "B = \\begin{bmatrix}\n",
        "7 & -2 \\\\\n",
        "6 & -6 \\\\\n",
        "5 & -2\n",
        "\\end{bmatrix}\n",
        "$$"
      ],
      "metadata": {
        "id": "OyGjFFKzys3I"
      }
    },
    {
      "cell_type": "markdown",
      "source": [
        "$$\n",
        "A + B = \\begin{bmatrix}\n",
        "8 & 0 \\\\\n",
        "5 & -6 \\\\\n",
        "6 & 5\n",
        "\\end{bmatrix}\n",
        "$$"
      ],
      "metadata": {
        "id": "Kz8mBjQBzKNg"
      }
    },
    {
      "cell_type": "markdown",
      "source": [
        "#### Matrix Addition with `numpy`"
      ],
      "metadata": {
        "id": "fgsuS-QBzWpR"
      }
    },
    {
      "cell_type": "code",
      "source": [
        "A = np.array([[1, 2],\n",
        "              [-1, 0],\n",
        "              [1, 7]])\n",
        "\n",
        "B = np.array([[7, -2],\n",
        "              [6, -6],\n",
        "              [5, -2]])\n",
        "\n",
        "A + B"
      ],
      "metadata": {
        "colab": {
          "base_uri": "https://localhost:8080/"
        },
        "id": "v0CL_0M2zVpM",
        "outputId": "30c518b4-f203-47a6-92e1-2e5a903c8f84"
      },
      "execution_count": 2,
      "outputs": [
        {
          "output_type": "execute_result",
          "data": {
            "text/plain": [
              "array([[ 8,  0],\n",
              "       [ 5, -6],\n",
              "       [ 6,  5]])"
            ]
          },
          "metadata": {},
          "execution_count": 2
        }
      ]
    },
    {
      "cell_type": "markdown",
      "source": [
        "#### Matrix Addition with `sympy`"
      ],
      "metadata": {
        "id": "6jy6ogfezgY-"
      }
    },
    {
      "cell_type": "code",
      "source": [
        "A = sym.Matrix(A)\n",
        "B = sym.Matrix(B)\n",
        "\n",
        "A + B"
      ],
      "metadata": {
        "colab": {
          "base_uri": "https://localhost:8080/",
          "height": 78
        },
        "id": "YSI5fzY1z8q_",
        "outputId": "4d243ad4-a6d1-45f4-ba94-8f4db50d4b54"
      },
      "execution_count": 3,
      "outputs": [
        {
          "output_type": "execute_result",
          "data": {
            "text/plain": [
              "Matrix([\n",
              "[8,  0],\n",
              "[5, -6],\n",
              "[6,  5]])"
            ],
            "text/latex": "$\\displaystyle \\left[\\begin{matrix}8 & 0\\\\5 & -6\\\\6 & 5\\end{matrix}\\right]$"
          },
          "metadata": {},
          "execution_count": 3
        }
      ]
    },
    {
      "cell_type": "markdown",
      "source": [
        "### 2.2.1.2 Matrix Algebra Scale + Identity"
      ],
      "metadata": {
        "id": "5gmgnvPJ0pmB"
      }
    },
    {
      "cell_type": "markdown",
      "source": [
        "#### Scale\n",
        "\n",
        "To multiply a matrix by a scalar, simply multiple each element by the scalar.\n",
        "\n",
        "Let\n",
        "\n",
        "$$\n",
        "A = \\begin{bmatrix}\n",
        "-1 & 1 \\\\\n",
        "7 & \\sqrt{3}\n",
        "\\end{bmatrix}\n",
        "$$\n",
        "\n",
        "$$\n",
        "2A = \\begin{bmatrix}\n",
        "-2 & 2 \\\\\n",
        "14 & 2\\sqrt{3}\n",
        "\\end{bmatrix}\n",
        "$$"
      ],
      "metadata": {
        "id": "CFc1nQ4L1Qye"
      }
    },
    {
      "cell_type": "markdown",
      "source": [
        "#### Scalar Multiplication with `numpy`"
      ],
      "metadata": {
        "id": "nsPqxLFZ1x2F"
      }
    },
    {
      "cell_type": "code",
      "source": [
        "A = np.array([[-1, 1],\n",
        "              [7, np.sqrt(3)]])\n",
        "\n",
        "2 * A"
      ],
      "metadata": {
        "colab": {
          "base_uri": "https://localhost:8080/"
        },
        "id": "Rd4s8xAu2QSj",
        "outputId": "a7d003c7-78e1-43f9-9824-91e047f56069"
      },
      "execution_count": 4,
      "outputs": [
        {
          "output_type": "execute_result",
          "data": {
            "text/plain": [
              "array([[-2.        ,  2.        ],\n",
              "       [14.        ,  3.46410162]])"
            ]
          },
          "metadata": {},
          "execution_count": 4
        }
      ]
    },
    {
      "cell_type": "markdown",
      "source": [
        "#### Scalar Multiplication with `sympy`"
      ],
      "metadata": {
        "id": "up9-I7xF2QmN"
      }
    },
    {
      "cell_type": "code",
      "source": [
        "A = sym.Matrix([[-1, 1],\n",
        "                [7, sym.sqrt(3)]])\n",
        "A"
      ],
      "metadata": {
        "colab": {
          "base_uri": "https://localhost:8080/",
          "height": 59
        },
        "id": "C5kxJCIc2Q4m",
        "outputId": "8af5c829-f232-4483-e12f-7d1695fff18d"
      },
      "execution_count": 5,
      "outputs": [
        {
          "output_type": "execute_result",
          "data": {
            "text/plain": [
              "Matrix([\n",
              "[-1,       1],\n",
              "[ 7, sqrt(3)]])"
            ],
            "text/latex": "$\\displaystyle \\left[\\begin{matrix}-1 & 1\\\\7 & \\sqrt{3}\\end{matrix}\\right]$"
          },
          "metadata": {},
          "execution_count": 5
        }
      ]
    },
    {
      "cell_type": "code",
      "source": [
        "2 * A"
      ],
      "metadata": {
        "colab": {
          "base_uri": "https://localhost:8080/",
          "height": 59
        },
        "id": "f9bj43zs2rOa",
        "outputId": "e80a899c-c03d-43d1-f883-85f7ce5c73c3"
      },
      "execution_count": 6,
      "outputs": [
        {
          "output_type": "execute_result",
          "data": {
            "text/plain": [
              "Matrix([\n",
              "[-2,         2],\n",
              "[14, 2*sqrt(3)]])"
            ],
            "text/latex": "$\\displaystyle \\left[\\begin{matrix}-2 & 2\\\\14 & 2 \\sqrt{3}\\end{matrix}\\right]$"
          },
          "metadata": {},
          "execution_count": 6
        }
      ]
    },
    {
      "cell_type": "markdown",
      "source": [
        "#### Identity\n",
        "\n",
        "Let $I$ be an $n \\times n$ identity matrix.\n",
        "\n",
        "$$\n",
        "AI = A = IA\n",
        "$$"
      ],
      "metadata": {
        "id": "gJX_OyCr3Air"
      }
    },
    {
      "cell_type": "markdown",
      "source": [
        "## 2.2.2 Matrix Multiplication"
      ],
      "metadata": {
        "id": "MraTfPtq3VDv"
      }
    },
    {
      "cell_type": "markdown",
      "source": [
        "### 2.2.2.1 Matrix Multiplication + Small Example\n",
        "\n",
        "To be able to multiply $A$ and $B$, the number of columns of $A$ must be equal to the number or rows of $B$. The resulting matrix will have the same number of rows as $A$ and the same number of columns as $B$.\n",
        "\n",
        "$$\n",
        "A_{a \\times n}B_{n \\times b} = C_{a \\times b}\n",
        "$$"
      ],
      "metadata": {
        "id": "UJRl6YIVl3hm"
      }
    },
    {
      "cell_type": "code",
      "source": [
        "a, b, c, d = sym.symbols('a b c d')\n",
        "e, f, g, h = sym.symbols('e f g h')\n",
        "\n",
        "A = sym.Matrix([[a, b],\n",
        "                [c, d]])\n",
        "B = sym.Matrix([[e, f],\n",
        "                [g, h]])"
      ],
      "metadata": {
        "id": "cQfiqrwp1P5Z"
      },
      "execution_count": 7,
      "outputs": []
    },
    {
      "cell_type": "code",
      "source": [
        "A @ B"
      ],
      "metadata": {
        "colab": {
          "base_uri": "https://localhost:8080/",
          "height": 58
        },
        "id": "WKI-kCLf1oxB",
        "outputId": "0f3b14ad-55d2-4150-d11a-d5385f0c3d52"
      },
      "execution_count": 8,
      "outputs": [
        {
          "output_type": "execute_result",
          "data": {
            "text/plain": [
              "Matrix([\n",
              "[a*e + b*g, a*f + b*h],\n",
              "[c*e + d*g, c*f + d*h]])"
            ],
            "text/latex": "$\\displaystyle \\left[\\begin{matrix}a e + b g & a f + b h\\\\c e + d g & c f + d h\\end{matrix}\\right]$"
          },
          "metadata": {},
          "execution_count": 8
        }
      ]
    },
    {
      "cell_type": "code",
      "source": [
        "sym.Matrix([[A.row(0) @ B.col(0), A.row(0) @ B.col(1)],\n",
        "            [A.row(1) @ B.col(0), A.row(1) @ B.col(1)]])"
      ],
      "metadata": {
        "colab": {
          "base_uri": "https://localhost:8080/",
          "height": 58
        },
        "id": "rK38-FPB1q5g",
        "outputId": "a71e6a76-147b-4d46-e276-1fbba4bb668d"
      },
      "execution_count": 9,
      "outputs": [
        {
          "output_type": "execute_result",
          "data": {
            "text/plain": [
              "Matrix([\n",
              "[a*e + b*g, a*f + b*h],\n",
              "[c*e + d*g, c*f + d*h]])"
            ],
            "text/latex": "$\\displaystyle \\left[\\begin{matrix}a e + b g & a f + b h\\\\c e + d g & c f + d h\\end{matrix}\\right]$"
          },
          "metadata": {},
          "execution_count": 9
        }
      ]
    },
    {
      "cell_type": "markdown",
      "source": [
        "### Example\n",
        "\n",
        "Let $A = \\begin{bmatrix}1 & 2\\\\-1 & -1\\end{bmatrix}$ and $B = \\begin{bmatrix}3 & -1\\\\1 & 4\\end{bmatrix}$.\n",
        "\n",
        "$$\n",
        "\\begin{align}\n",
        "AB &= \\begin{bmatrix}1 & 2\\\\-1 & -1\\end{bmatrix}\\cdot\\begin{bmatrix}3 & -1\\\\1 & 4\\end{bmatrix} \\\\\n",
        "&= \\begin{bmatrix}(1)(3) + (2)(1) & (1)(-1) + (2)(4)\\\\\n",
        "(-1)(3) + (-1)(1) & (-1)(-1) + (-1)(4) \\\\\n",
        "\\end{bmatrix} \\\\\n",
        "&= \\begin{bmatrix}5 & 7\\\\-4 & -3\\end{bmatrix}\n",
        "\\end{align}\n",
        "$$"
      ],
      "metadata": {
        "id": "_sXYFpEA2mxT"
      }
    },
    {
      "cell_type": "markdown",
      "source": [
        "### Matrix Multipliation with `numpy`"
      ],
      "metadata": {
        "id": "29vkihml4mU-"
      }
    },
    {
      "cell_type": "code",
      "source": [
        "A = np.array([[1, 2],\n",
        "               [-1, -1]])\n",
        "\n",
        "B = np.array([[3, -1],\n",
        "               [1, 4]])\n"
      ],
      "metadata": {
        "id": "p48FUkM54lJr"
      },
      "execution_count": 10,
      "outputs": []
    },
    {
      "cell_type": "code",
      "source": [
        "A @ B"
      ],
      "metadata": {
        "colab": {
          "base_uri": "https://localhost:8080/"
        },
        "id": "fFmrnwyU5DPg",
        "outputId": "ec2e31ab-0c36-42a2-8e04-fe6993335264"
      },
      "execution_count": 11,
      "outputs": [
        {
          "output_type": "execute_result",
          "data": {
            "text/plain": [
              "array([[ 5,  7],\n",
              "       [-4, -3]])"
            ]
          },
          "metadata": {},
          "execution_count": 11
        }
      ]
    },
    {
      "cell_type": "code",
      "source": [
        "A * B # wrong, this is element-wise"
      ],
      "metadata": {
        "colab": {
          "base_uri": "https://localhost:8080/"
        },
        "id": "pZlL6Vc95Fss",
        "outputId": "febbf61d-4c01-4f9e-ece2-774e87d43c8a"
      },
      "execution_count": 12,
      "outputs": [
        {
          "output_type": "execute_result",
          "data": {
            "text/plain": [
              "array([[ 3, -2],\n",
              "       [-1, -4]])"
            ]
          },
          "metadata": {},
          "execution_count": 12
        }
      ]
    },
    {
      "cell_type": "code",
      "source": [
        "np.matmul(A, B)"
      ],
      "metadata": {
        "colab": {
          "base_uri": "https://localhost:8080/"
        },
        "id": "Ki2k_Wl75Orv",
        "outputId": "c4a58b6d-9b38-42de-9438-4f60d59429b0"
      },
      "execution_count": 13,
      "outputs": [
        {
          "output_type": "execute_result",
          "data": {
            "text/plain": [
              "array([[ 5,  7],\n",
              "       [-4, -3]])"
            ]
          },
          "metadata": {},
          "execution_count": 13
        }
      ]
    },
    {
      "cell_type": "markdown",
      "source": [
        "### Matrix Multiplication with `sympy`"
      ],
      "metadata": {
        "id": "nf8pBUFE4sMW"
      }
    },
    {
      "cell_type": "code",
      "source": [
        "A = sym.Matrix(A)\n",
        "B = sym.Matrix(B)"
      ],
      "metadata": {
        "id": "2lfEd2xk5er7"
      },
      "execution_count": 14,
      "outputs": []
    },
    {
      "cell_type": "code",
      "source": [
        "A @ B"
      ],
      "metadata": {
        "colab": {
          "base_uri": "https://localhost:8080/",
          "height": 58
        },
        "id": "DlFSWMDI5u3j",
        "outputId": "5003d163-d198-4990-de6f-49b442e46b98"
      },
      "execution_count": 15,
      "outputs": [
        {
          "output_type": "execute_result",
          "data": {
            "text/plain": [
              "Matrix([\n",
              "[ 5,  7],\n",
              "[-4, -3]])"
            ],
            "text/latex": "$\\displaystyle \\left[\\begin{matrix}5 & 7\\\\-4 & -3\\end{matrix}\\right]$"
          },
          "metadata": {},
          "execution_count": 15
        }
      ]
    },
    {
      "cell_type": "code",
      "source": [
        "A * B"
      ],
      "metadata": {
        "colab": {
          "base_uri": "https://localhost:8080/",
          "height": 58
        },
        "id": "R8EEPBpg5wTo",
        "outputId": "b4d6661d-4e4c-401b-a086-4d026bd7a801"
      },
      "execution_count": 16,
      "outputs": [
        {
          "output_type": "execute_result",
          "data": {
            "text/plain": [
              "Matrix([\n",
              "[ 5,  7],\n",
              "[-4, -3]])"
            ],
            "text/latex": "$\\displaystyle \\left[\\begin{matrix}5 & 7\\\\-4 & -3\\end{matrix}\\right]$"
          },
          "metadata": {},
          "execution_count": 16
        }
      ]
    },
    {
      "cell_type": "markdown",
      "source": [
        "### 2.2.2.2 Matrix Multiplication - General Rules"
      ],
      "metadata": {
        "id": "GiDwpBuW8iVe"
      }
    }
  ]
}