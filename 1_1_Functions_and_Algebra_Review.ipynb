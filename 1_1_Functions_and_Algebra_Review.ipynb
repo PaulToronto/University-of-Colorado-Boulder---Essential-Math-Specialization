{
  "nbformat": 4,
  "nbformat_minor": 0,
  "metadata": {
    "colab": {
      "provenance": [],
      "toc_visible": true,
      "authorship_tag": "ABX9TyOZl7dtO+k0iYo/JVUo58+t",
      "include_colab_link": true
    },
    "kernelspec": {
      "name": "python3",
      "display_name": "Python 3"
    },
    "language_info": {
      "name": "python"
    }
  },
  "cells": [
    {
      "cell_type": "markdown",
      "metadata": {
        "id": "view-in-github",
        "colab_type": "text"
      },
      "source": [
        "<a href=\"https://colab.research.google.com/github/PaulToronto/University-of-Colorado-Boulder---Essential-Math-Specialization/blob/main/1_1_Functions_and_Algebra_Review.ipynb\" target=\"_parent\"><img src=\"https://colab.research.google.com/assets/colab-badge.svg\" alt=\"Open In Colab\"/></a>"
      ]
    },
    {
      "cell_type": "markdown",
      "source": [
        "# 1.1 Functions and Algebra Review"
      ],
      "metadata": {
        "id": "wcHSM_JyDS9L"
      }
    },
    {
      "cell_type": "markdown",
      "source": [
        "## Imports"
      ],
      "metadata": {
        "id": "mhEcvjr3DXe-"
      }
    },
    {
      "cell_type": "code",
      "execution_count": 1,
      "metadata": {
        "id": "uKEn1JU1DORQ"
      },
      "outputs": [],
      "source": [
        "import sympy as sym"
      ]
    },
    {
      "cell_type": "markdown",
      "source": [
        "## Symbols"
      ],
      "metadata": {
        "id": "qDUlgFWynvps"
      }
    },
    {
      "cell_type": "code",
      "source": [
        "x = sym.symbols('x')"
      ],
      "metadata": {
        "id": "3JOXuNi_n3XU"
      },
      "execution_count": 2,
      "outputs": []
    },
    {
      "cell_type": "markdown",
      "source": [
        "## 1.1.1 Function Intro"
      ],
      "metadata": {
        "id": "v3ENxwIeDZbi"
      }
    },
    {
      "cell_type": "markdown",
      "source": [
        "### 1.1.1.1 What is a Function (Algebraically and Graphically)"
      ],
      "metadata": {
        "id": "UoMjXG37Dh_I"
      }
    },
    {
      "cell_type": "markdown",
      "source": [
        "#### Example: $f(x) = x^{2} + 1$"
      ],
      "metadata": {
        "id": "jfg_43SaQVUT"
      }
    },
    {
      "cell_type": "code",
      "source": [
        "f_x = x**2 + 1\n",
        "f_x"
      ],
      "metadata": {
        "colab": {
          "base_uri": "https://localhost:8080/",
          "height": 39
        },
        "id": "iJ_3CIUmQqJa",
        "outputId": "b0eeace4-6919-4544-9a85-10862f3b1383"
      },
      "execution_count": 3,
      "outputs": [
        {
          "output_type": "execute_result",
          "data": {
            "text/plain": [
              "x**2 + 1"
            ],
            "text/latex": "$\\displaystyle x^{2} + 1$"
          },
          "metadata": {},
          "execution_count": 3
        }
      ]
    },
    {
      "cell_type": "code",
      "source": [
        "p = sym.plot(f_x,\n",
        "             ylim=[0, 10],\n",
        "             line_color='red',\n",
        "             ylabel='y',\n",
        "             title='$f(x) = ' + sym.latex(f_x) + '$')\n",
        "\n",
        "domain = sym.calculus.util.continuous_domain(f=f_x, symbol=x, domain=sym.S.Reals)\n",
        "range = sym.calculus.util.function_range(f=f_x, symbol=x, domain=sym.S.Reals)\n",
        "print('Domain:'); display(domain)\n",
        "print('Range:'); display(range)"
      ],
      "metadata": {
        "colab": {
          "base_uri": "https://localhost:8080/",
          "height": 564
        },
        "id": "Y_ClhmdaQvrz",
        "outputId": "f73e869a-66dd-42c2-9e71-90409d909fe2"
      },
      "execution_count": 4,
      "outputs": [
        {
          "output_type": "display_data",
          "data": {
            "text/plain": [
              "<Figure size 640x480 with 1 Axes>"
            ],
            "image/png": "[encoded data removed]"
          },
          "metadata": {}
        },
        {
          "output_type": "stream",
          "name": "stdout",
          "text": [
            "Domain:\n"
          ]
        },
        {
          "output_type": "display_data",
          "data": {
            "text/plain": [
              "Reals"
            ],
            "text/latex": "$\\displaystyle \\mathbb{R}$"
          },
          "metadata": {}
        },
        {
          "output_type": "stream",
          "name": "stdout",
          "text": [
            "Range:\n"
          ]
        },
        {
          "output_type": "display_data",
          "data": {
            "text/plain": [
              "Interval(1, oo)"
            ],
            "text/latex": "$\\displaystyle \\left[1, \\infty\\right)$"
          },
          "metadata": {}
        }
      ]
    },
    {
      "cell_type": "markdown",
      "source": [
        "## 1.1.2 Domain and Range"
      ],
      "metadata": {
        "id": "OSzF9c7qS4tg"
      }
    },
    {
      "cell_type": "markdown",
      "source": [
        "### 1.1.2.1 Domain and Range\n",
        "\n",
        "- The **domain** of a function is the set of inputs accepted by the function.\n",
        "- The **range** of a function is the set of all possible outputs of the function."
      ],
      "metadata": {
        "id": "Sx2ow9SPTgsD"
      }
    },
    {
      "cell_type": "markdown",
      "source": [
        "#### Example: $f(x) = \\frac{1}{x}$\n",
        "\n",
        "Domain: $x \\ne 0$\n",
        "\n",
        "Range: $x \\ne 0$"
      ],
      "metadata": {
        "id": "DflriyziUEAn"
      }
    },
    {
      "cell_type": "code",
      "source": [
        "f_x = 1/x\n",
        "f_x"
      ],
      "metadata": {
        "colab": {
          "base_uri": "https://localhost:8080/",
          "height": 51
        },
        "id": "ONwDFsOjUPXq",
        "outputId": "0ebd6663-33ec-4b17-bdfc-5565a91ac2ed"
      },
      "execution_count": 5,
      "outputs": [
        {
          "output_type": "execute_result",
          "data": {
            "text/plain": [
              "1/x"
            ],
            "text/latex": "$\\displaystyle \\frac{1}{x}$"
          },
          "metadata": {},
          "execution_count": 5
        }
      ]
    },
    {
      "cell_type": "code",
      "source": [
        "sym.plot(f_x,\n",
        "         xlim=[-5, 5],\n",
        "         ylim=[-5, 5],\n",
        "         line_color='red',\n",
        "         xlabel='$x$',\n",
        "         ylabel='$y$',\n",
        "         title='$f(x) = ' + sym.latex(f_x) + '$')\n",
        "\n",
        "domain = sym.calculus.util.continuous_domain(f=f_x, symbol=x, domain=sym.S.Reals)\n",
        "range = sym.calculus.util.function_range(f=f_x, symbol=x, domain=sym.S.Reals)\n",
        "print('Domain:'); display(domain)\n",
        "print('Range:'); display(range)"
      ],
      "metadata": {
        "colab": {
          "base_uri": "https://localhost:8080/",
          "height": 562
        },
        "id": "KcJY-VlCU3NR",
        "outputId": "cfb35476-7088-4350-d8ff-84346669e316"
      },
      "execution_count": 6,
      "outputs": [
        {
          "output_type": "display_data",
          "data": {
            "text/plain": [
              "<Figure size 640x480 with 1 Axes>"
            ],
            "image/png": "[encoded data removed]"
          },
          "metadata": {}
        },
        {
          "output_type": "stream",
          "name": "stdout",
          "text": [
            "Domain:\n"
          ]
        },
        {
          "output_type": "display_data",
          "data": {
            "text/plain": [
              "Union(Interval.open(-oo, 0), Interval.open(0, oo))"
            ],
            "text/latex": "$\\displaystyle \\left(-\\infty, 0\\right) \\cup \\left(0, \\infty\\right)$"
          },
          "metadata": {}
        },
        {
          "output_type": "stream",
          "name": "stdout",
          "text": [
            "Range:\n"
          ]
        },
        {
          "output_type": "display_data",
          "data": {
            "text/plain": [
              "Union(Interval.open(-oo, 0), Interval.open(0, oo))"
            ],
            "text/latex": "$\\displaystyle \\left(-\\infty, 0\\right) \\cup \\left(0, \\infty\\right)$"
          },
          "metadata": {}
        }
      ]
    },
    {
      "cell_type": "markdown",
      "source": [
        "#### Example: $g(x) = \\sqrt{x + 1}$\n",
        "\n",
        "Domain: $x \\ge -1$\n",
        "\n",
        "Range: $y \\ge 0$"
      ],
      "metadata": {
        "id": "4IydF212jMHq"
      }
    },
    {
      "cell_type": "code",
      "source": [
        "g_x = sym.sqrt(x + 1)\n",
        "g_x"
      ],
      "metadata": {
        "colab": {
          "base_uri": "https://localhost:8080/",
          "height": 37
        },
        "id": "CB7K_aX7jlSr",
        "outputId": "5ae8b509-9ef1-4d04-c4f5-27fc5d364c71"
      },
      "execution_count": 7,
      "outputs": [
        {
          "output_type": "execute_result",
          "data": {
            "text/plain": [
              "sqrt(x + 1)"
            ],
            "text/latex": "$\\displaystyle \\sqrt{x + 1}$"
          },
          "metadata": {},
          "execution_count": 7
        }
      ]
    },
    {
      "cell_type": "code",
      "source": [
        "sym.plot(g_x,\n",
        "         xlim=[-2, 5],\n",
        "         line_color='red',\n",
        "         title=f'$f(x) = {sym.latex(g_x)}$')\n",
        "\n",
        "domain = sym.calculus.util.continuous_domain(f=g_x, symbol=x, domain=sym.S.Reals)\n",
        "range = sym.calculus.util.function_range(f=g_x, symbol=x, domain=sym.S.Reals)\n",
        "print('Domain:'); display(domain)\n",
        "print('Range:'); display(range)"
      ],
      "metadata": {
        "colab": {
          "base_uri": "https://localhost:8080/",
          "height": 562
        },
        "id": "kM91Cg0Pjrep",
        "outputId": "d303590a-9296-43cb-e90c-b11aeaa74f0d"
      },
      "execution_count": 8,
      "outputs": [
        {
          "output_type": "display_data",
          "data": {
            "text/plain": [
              "<Figure size 640x480 with 1 Axes>"
            ],
            "image/png": "[encoded data removed]"
          },
          "metadata": {}
        },
        {
          "output_type": "stream",
          "name": "stdout",
          "text": [
            "Domain:\n"
          ]
        },
        {
          "output_type": "display_data",
          "data": {
            "text/plain": [
              "Interval(-1, oo)"
            ],
            "text/latex": "$\\displaystyle \\left[-1, \\infty\\right)$"
          },
          "metadata": {}
        },
        {
          "output_type": "stream",
          "name": "stdout",
          "text": [
            "Range:\n"
          ]
        },
        {
          "output_type": "display_data",
          "data": {
            "text/plain": [
              "Interval(0, oo)"
            ],
            "text/latex": "$\\displaystyle \\left[0, \\infty\\right)$"
          },
          "metadata": {}
        }
      ]
    },
    {
      "cell_type": "markdown",
      "source": [
        "## 1.1.3 Piecewise Functions"
      ],
      "metadata": {
        "id": "WpMIzEqtloIt"
      }
    },
    {
      "cell_type": "markdown",
      "source": [
        "### 1.1.3.1 Piecewise Functions"
      ],
      "metadata": {
        "id": "Dk7ndUDDlv5J"
      }
    },
    {
      "cell_type": "markdown",
      "source": [
        "#### Example"
      ],
      "metadata": {
        "id": "3OAgsx6loIqz"
      }
    },
    {
      "cell_type": "code",
      "source": [
        "f_x = sym.Piecewise(\n",
        "    (x**2 + 1, x > 0),\n",
        "    (x - 1, x <= 0)\n",
        ")\n",
        "\n",
        "f_x"
      ],
      "metadata": {
        "colab": {
          "base_uri": "https://localhost:8080/",
          "height": 68
        },
        "id": "oO9MLKmgoH4r",
        "outputId": "6282da0e-85f0-4972-b2e0-a64453269b24"
      },
      "execution_count": 9,
      "outputs": [
        {
          "output_type": "execute_result",
          "data": {
            "text/plain": [
              "Piecewise((x**2 + 1, x > 0), (x - 1, True))"
            ],
            "text/latex": "$\\displaystyle \\begin{cases} x^{2} + 1 & \\text{for}\\: x > 0 \\\\x - 1 & \\text{otherwise} \\end{cases}$"
          },
          "metadata": {},
          "execution_count": 9
        }
      ]
    },
    {
      "cell_type": "code",
      "source": [
        "sym.plot(f_x,\n",
        "         ylim=[-5, 5],\n",
        "         line_color='red',\n",
        "         title='Piecewise Function');"
      ],
      "metadata": {
        "colab": {
          "base_uri": "https://localhost:8080/",
          "height": 486
        },
        "id": "-tQ7F0DCour8",
        "outputId": "756a3fdf-13c4-4039-adea-3ffc285e7af0"
      },
      "execution_count": 10,
      "outputs": [
        {
          "output_type": "display_data",
          "data": {
            "text/plain": [
              "<Figure size 640x480 with 1 Axes>"
            ],
            "image/png": "[encoded data removed]"
          },
          "metadata": {}
        }
      ]
    },
    {
      "cell_type": "markdown",
      "source": [
        "## 1.1.4 What Can You Do to a Function?"
      ],
      "metadata": {
        "id": "wydmf7f_wM2n"
      }
    },
    {
      "cell_type": "markdown",
      "source": [
        "### 1.1.4.1 What Can You Do to a Function?"
      ],
      "metadata": {
        "id": "lTUyAV6lwVyk"
      }
    },
    {
      "cell_type": "markdown",
      "source": [
        "#### What can you do to an expression?\n",
        "\n",
        "- add 0\n",
        "- multiply by 1"
      ],
      "metadata": {
        "id": "7AsVUqBwuRS0"
      }
    },
    {
      "cell_type": "markdown",
      "source": [
        "#### Example: multiply by 1\n",
        "\n",
        "$$\n",
        "\\begin{align}\n",
        "\\frac{1}{2} + \\frac{1}{3} &= \\frac{1}{2} \\cdot \\frac{3}{3} + \\frac{1}{3} \\cdot \\frac{2}{2} \\\\\n",
        "&= \\frac{3}{6} + \\frac{2}{6} \\\\\n",
        "&= \\frac{5}{6}\n",
        "\\end{align}\n",
        "$$"
      ],
      "metadata": {
        "id": "aQGeKPZ0uWHU"
      }
    },
    {
      "cell_type": "markdown",
      "source": [
        "#### Example: add 0\n",
        "\n",
        "$$\n",
        "\\begin{align}\n",
        "x - 2 &= 6 \\\\\n",
        "x + 0 &= 6 + 2 \\\\\n",
        "x - 2 + 2 &= 6 + 2 \\\\\n",
        "x &= 8\n",
        "\\end{align}\n",
        "$$"
      ],
      "metadata": {
        "id": "1nhf2SBIvZAs"
      }
    },
    {
      "cell_type": "markdown",
      "source": [
        "#### Example: multiply by 1\n",
        "\n",
        "$$\n",
        "\\begin{align}\n",
        "3x &= 6 \\\\\n",
        "\\frac{1}{3} \\cdot 3x &= \\frac{1}{3} \\cdot 6 \\\\\n",
        "\\frac{3}{3} \\cdot x &= 2 \\\\\n",
        "1 \\cdot x &= 2 \\\\\n",
        "x &= 2\n",
        "\\end{align}\n",
        "$$"
      ],
      "metadata": {
        "id": "WXQdMbPKwhM1"
      }
    },
    {
      "cell_type": "markdown",
      "source": [
        "## 1.1.5 Multiplying Binomials"
      ],
      "metadata": {
        "id": "0NGRKbm1wqYu"
      }
    },
    {
      "cell_type": "markdown",
      "source": [
        "### 1.1.5.1 Multiplying Binomials"
      ],
      "metadata": {
        "id": "Jg0haGo3wqhI"
      }
    },
    {
      "cell_type": "markdown",
      "source": [
        "## 1.1.6 Rationalizing Denominators"
      ],
      "metadata": {
        "id": "RYPsOTHHwqpt"
      }
    },
    {
      "cell_type": "markdown",
      "source": [
        "### 1.1.6.1 Rationalizing Denominators"
      ],
      "metadata": {
        "id": "unwL4p4pwqyr"
      }
    },
    {
      "cell_type": "markdown",
      "source": [
        "## 1.1.7 Exponent Rules"
      ],
      "metadata": {
        "id": "NvnGwjhjwq66"
      }
    },
    {
      "cell_type": "markdown",
      "source": [
        "### 1.1.7.1 Exponent Rules"
      ],
      "metadata": {
        "id": "RJ91afz1wrDG"
      }
    },
    {
      "cell_type": "markdown",
      "source": [
        "## 1.1.8 Logarithms"
      ],
      "metadata": {
        "id": "SN1WscjbwrLd"
      }
    },
    {
      "cell_type": "markdown",
      "source": [
        "### 1.1.8 Logarithms"
      ],
      "metadata": {
        "id": "xXMod-S7wrUV"
      }
    }
  ]
}