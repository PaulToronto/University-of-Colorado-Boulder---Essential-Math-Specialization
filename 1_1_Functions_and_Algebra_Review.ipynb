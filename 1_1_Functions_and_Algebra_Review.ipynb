{
  "nbformat": 4,
  "nbformat_minor": 0,
  "metadata": {
    "colab": {
      "provenance": [],
      "toc_visible": true,
      "authorship_tag": "ABX9TyNZxBojX4ispb0Cd/xqA9vU",
      "include_colab_link": true
    },
    "kernelspec": {
      "name": "python3",
      "display_name": "Python 3"
    },
    "language_info": {
      "name": "python"
    }
  },
  "cells": [
    {
      "cell_type": "markdown",
      "metadata": {
        "id": "view-in-github",
        "colab_type": "text"
      },
      "source": [
        "<a href=\"https://colab.research.google.com/github/PaulToronto/University-of-Colorado-Boulder---Essential-Math-Specialization/blob/main/1_1_Functions_and_Algebra_Review.ipynb\" target=\"_parent\"><img src=\"https://colab.research.google.com/assets/colab-badge.svg\" alt=\"Open In Colab\"/></a>"
      ]
    },
    {
      "cell_type": "markdown",
      "source": [
        "# 1.1 Functions and Algebra Review"
      ],
      "metadata": {
        "id": "wcHSM_JyDS9L"
      }
    },
    {
      "cell_type": "markdown",
      "source": [
        "## Imports"
      ],
      "metadata": {
        "id": "mhEcvjr3DXe-"
      }
    },
    {
      "cell_type": "code",
      "execution_count": 1,
      "metadata": {
        "id": "uKEn1JU1DORQ"
      },
      "outputs": [],
      "source": [
        "import sympy as sym"
      ]
    },
    {
      "cell_type": "markdown",
      "source": [
        "## 1.1.1 Function Intro"
      ],
      "metadata": {
        "id": "v3ENxwIeDZbi"
      }
    },
    {
      "cell_type": "markdown",
      "source": [
        "### 1.1.1.1 What is a Function (Algebraically and Graphically)"
      ],
      "metadata": {
        "id": "UoMjXG37Dh_I"
      }
    },
    {
      "cell_type": "markdown",
      "source": [
        "#### Example: $f(x) = x^{2} + 1$"
      ],
      "metadata": {
        "id": "jfg_43SaQVUT"
      }
    },
    {
      "cell_type": "code",
      "source": [
        "x = sym.symbols('x')\n",
        "x"
      ],
      "metadata": {
        "colab": {
          "base_uri": "https://localhost:8080/",
          "height": 39
        },
        "id": "-JOkJqNgQmLa",
        "outputId": "5d698893-4f45-47c8-ac85-3d85ad7b4f47"
      },
      "execution_count": 2,
      "outputs": [
        {
          "output_type": "execute_result",
          "data": {
            "text/plain": [
              "x"
            ],
            "text/latex": "$\\displaystyle x$"
          },
          "metadata": {},
          "execution_count": 2
        }
      ]
    },
    {
      "cell_type": "code",
      "source": [
        "f_x = x**2 + 1\n",
        "f_x"
      ],
      "metadata": {
        "colab": {
          "base_uri": "https://localhost:8080/",
          "height": 39
        },
        "id": "iJ_3CIUmQqJa",
        "outputId": "5a1e4609-9177-46c4-aa83-cf879046fdd2"
      },
      "execution_count": 3,
      "outputs": [
        {
          "output_type": "execute_result",
          "data": {
            "text/plain": [
              "x**2 + 1"
            ],
            "text/latex": "$\\displaystyle x^{2} + 1$"
          },
          "metadata": {},
          "execution_count": 3
        }
      ]
    },
    {
      "cell_type": "code",
      "source": [
        "p = sym.plot(f_x,\n",
        "             ylim=[0, 10],\n",
        "             line_color='red',\n",
        "             ylabel='y',\n",
        "             title='$f(x) = ' + sym.latex(f_x) + '$')\n",
        "\n",
        "domain = sym.calculus.util.continuous_domain(f=f_x, symbol=x, domain=sym.S.Reals)\n",
        "range = sym.calculus.util.function_range(f=f_x, symbol=x, domain=sym.S.Reals)\n",
        "print('Domain:'); display(domain)\n",
        "print('Range:'); display(range)"
      ],
      "metadata": {
        "colab": {
          "base_uri": "https://localhost:8080/",
          "height": 564
        },
        "id": "Y_ClhmdaQvrz",
        "outputId": "4acc4839-1709-4f6a-c794-0cd985479e1f"
      },
      "execution_count": 4,
      "outputs": [
        {
          "output_type": "display_data",
          "data": {
            "text/plain": [
              "<Figure size 640x480 with 1 Axes>"
            ],
            "image/png": "[encoded data removed]"
          },
          "metadata": {}
        },
        {
          "output_type": "stream",
          "name": "stdout",
          "text": [
            "Domain:\n"
          ]
        },
        {
          "output_type": "display_data",
          "data": {
            "text/plain": [
              "Reals"
            ],
            "text/latex": "$\\displaystyle \\mathbb{R}$"
          },
          "metadata": {}
        },
        {
          "output_type": "stream",
          "name": "stdout",
          "text": [
            "Range:\n"
          ]
        },
        {
          "output_type": "display_data",
          "data": {
            "text/plain": [
              "Interval(1, oo)"
            ],
            "text/latex": "$\\displaystyle \\left[1, \\infty\\right)$"
          },
          "metadata": {}
        }
      ]
    },
    {
      "cell_type": "markdown",
      "source": [
        "## 1.1.2 Domain and Range"
      ],
      "metadata": {
        "id": "OSzF9c7qS4tg"
      }
    },
    {
      "cell_type": "markdown",
      "source": [
        "### 1.1.2.1 Domain and Range\n",
        "\n",
        "- The **domain** of a function is the set of inputs accepted by the function.\n",
        "- The **range** of a function is the set of all possible outputs of the function."
      ],
      "metadata": {
        "id": "Sx2ow9SPTgsD"
      }
    },
    {
      "cell_type": "markdown",
      "source": [
        "#### Example: $f(x) = \\frac{1}{x}$\n",
        "\n",
        "Domain: $x \\ne 0$\n",
        "\n",
        "Range: $x \\ne 0$"
      ],
      "metadata": {
        "id": "DflriyziUEAn"
      }
    },
    {
      "cell_type": "code",
      "source": [
        "f_x = 1/x\n",
        "f_x"
      ],
      "metadata": {
        "colab": {
          "base_uri": "https://localhost:8080/",
          "height": 51
        },
        "id": "ONwDFsOjUPXq",
        "outputId": "b8fb41d1-c330-42e3-b1e1-cd24e399b898"
      },
      "execution_count": 5,
      "outputs": [
        {
          "output_type": "execute_result",
          "data": {
            "text/plain": [
              "1/x"
            ],
            "text/latex": "$\\displaystyle \\frac{1}{x}$"
          },
          "metadata": {},
          "execution_count": 5
        }
      ]
    },
    {
      "cell_type": "code",
      "source": [
        "sym.plot(f_x,\n",
        "         xlim=[-5, 5],\n",
        "         ylim=[-5, 5],\n",
        "         line_color='red',\n",
        "         xlabel='$x$',\n",
        "         ylabel='$y$',\n",
        "         title='$f(x) = ' + sym.latex(f_x) + '$')\n",
        "\n",
        "domain = sym.calculus.util.continuous_domain(f=f_x, symbol=x, domain=sym.S.Reals)\n",
        "range = sym.calculus.util.function_range(f=f_x, symbol=x, domain=sym.S.Reals)\n",
        "print('Domain:'); display(domain)\n",
        "print('Range:'); display(range)"
      ],
      "metadata": {
        "colab": {
          "base_uri": "https://localhost:8080/",
          "height": 562
        },
        "id": "KcJY-VlCU3NR",
        "outputId": "f3a50c29-121d-4252-b2fc-6d27264adaf9"
      },
      "execution_count": 6,
      "outputs": [
        {
          "output_type": "display_data",
          "data": {
            "text/plain": [
              "<Figure size 640x480 with 1 Axes>"
            ],
            "image/png": "[encoded data removed]"
          },
          "metadata": {}
        },
        {
          "output_type": "stream",
          "name": "stdout",
          "text": [
            "Domain:\n"
          ]
        },
        {
          "output_type": "display_data",
          "data": {
            "text/plain": [
              "Union(Interval.open(-oo, 0), Interval.open(0, oo))"
            ],
            "text/latex": "$\\displaystyle \\left(-\\infty, 0\\right) \\cup \\left(0, \\infty\\right)$"
          },
          "metadata": {}
        },
        {
          "output_type": "stream",
          "name": "stdout",
          "text": [
            "Range:\n"
          ]
        },
        {
          "output_type": "display_data",
          "data": {
            "text/plain": [
              "Union(Interval.open(-oo, 0), Interval.open(0, oo))"
            ],
            "text/latex": "$\\displaystyle \\left(-\\infty, 0\\right) \\cup \\left(0, \\infty\\right)$"
          },
          "metadata": {}
        }
      ]
    },
    {
      "cell_type": "markdown",
      "source": [
        "#### Example: $g(x) = \\sqrt{x + 1}$\n",
        "\n",
        "Domain: $x \\ge -1$\n",
        "\n",
        "Range: $y \\ge 0$"
      ],
      "metadata": {
        "id": "4IydF212jMHq"
      }
    },
    {
      "cell_type": "code",
      "source": [
        "g_x = sym.sqrt(x + 1)\n",
        "g_x"
      ],
      "metadata": {
        "colab": {
          "base_uri": "https://localhost:8080/",
          "height": 37
        },
        "id": "CB7K_aX7jlSr",
        "outputId": "aa626b95-c4e0-4970-a549-e204b64f311f"
      },
      "execution_count": 7,
      "outputs": [
        {
          "output_type": "execute_result",
          "data": {
            "text/plain": [
              "sqrt(x + 1)"
            ],
            "text/latex": "$\\displaystyle \\sqrt{x + 1}$"
          },
          "metadata": {},
          "execution_count": 7
        }
      ]
    },
    {
      "cell_type": "code",
      "source": [
        "sym.plot(g_x,\n",
        "         xlim=[-2, 5],\n",
        "         line_color='red',\n",
        "         title=f'$f(x) = {sym.latex(g_x)}$')\n",
        "\n",
        "domain = sym.calculus.util.continuous_domain(f=g_x, symbol=x, domain=sym.S.Reals)\n",
        "range = sym.calculus.util.function_range(f=g_x, symbol=x, domain=sym.S.Reals)\n",
        "print('Domain:'); display(domain)\n",
        "print('Range:'); display(range)"
      ],
      "metadata": {
        "colab": {
          "base_uri": "https://localhost:8080/",
          "height": 562
        },
        "id": "kM91Cg0Pjrep",
        "outputId": "855fa0e2-e14f-4ec7-b6a0-456ad82851ff"
      },
      "execution_count": 8,
      "outputs": [
        {
          "output_type": "display_data",
          "data": {
            "text/plain": [
              "<Figure size 640x480 with 1 Axes>"
            ],
            "image/png": "[encoded data removed]"
          },
          "metadata": {}
        },
        {
          "output_type": "stream",
          "name": "stdout",
          "text": [
            "Domain:\n"
          ]
        },
        {
          "output_type": "display_data",
          "data": {
            "text/plain": [
              "Interval(-1, oo)"
            ],
            "text/latex": "$\\displaystyle \\left[-1, \\infty\\right)$"
          },
          "metadata": {}
        },
        {
          "output_type": "stream",
          "name": "stdout",
          "text": [
            "Range:\n"
          ]
        },
        {
          "output_type": "display_data",
          "data": {
            "text/plain": [
              "Interval(0, oo)"
            ],
            "text/latex": "$\\displaystyle \\left[0, \\infty\\right)$"
          },
          "metadata": {}
        }
      ]
    },
    {
      "cell_type": "markdown",
      "source": [
        "## 1.1.3 Piecewise Functions"
      ],
      "metadata": {
        "id": "WpMIzEqtloIt"
      }
    },
    {
      "cell_type": "markdown",
      "source": [
        "### 1.1.3.1 Piecewise Functions"
      ],
      "metadata": {
        "id": "Dk7ndUDDlv5J"
      }
    }
  ]
}