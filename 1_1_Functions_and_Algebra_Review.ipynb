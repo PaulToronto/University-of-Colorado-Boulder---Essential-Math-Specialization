{
  "nbformat": 4,
  "nbformat_minor": 0,
  "metadata": {
    "colab": {
      "provenance": [],
      "toc_visible": true,
      "authorship_tag": "ABX9TyOd6tTMmySVGMI7ShPF59fq",
      "include_colab_link": true
    },
    "kernelspec": {
      "name": "python3",
      "display_name": "Python 3"
    },
    "language_info": {
      "name": "python"
    }
  },
  "cells": [
    {
      "cell_type": "markdown",
      "metadata": {
        "id": "view-in-github",
        "colab_type": "text"
      },
      "source": [
        "<a href=\"https://colab.research.google.com/github/PaulToronto/University-of-Colorado-Boulder---Essential-Math-Specialization/blob/main/1_1_Functions_and_Algebra_Review.ipynb\" target=\"_parent\"><img src=\"https://colab.research.google.com/assets/colab-badge.svg\" alt=\"Open In Colab\"/></a>"
      ]
    },
    {
      "cell_type": "markdown",
      "source": [
        "# 1.1 Functions and Algebra Review"
      ],
      "metadata": {
        "id": "wcHSM_JyDS9L"
      }
    },
    {
      "cell_type": "markdown",
      "source": [
        "## Imports"
      ],
      "metadata": {
        "id": "mhEcvjr3DXe-"
      }
    },
    {
      "cell_type": "code",
      "execution_count": null,
      "metadata": {
        "id": "uKEn1JU1DORQ"
      },
      "outputs": [],
      "source": []
    },
    {
      "cell_type": "markdown",
      "source": [
        "## 1.1.1 Function Intro"
      ],
      "metadata": {
        "id": "v3ENxwIeDZbi"
      }
    },
    {
      "cell_type": "markdown",
      "source": [
        "### 1.1.1.1 What is a Function (Algebraically and Graphically)"
      ],
      "metadata": {
        "id": "UoMjXG37Dh_I"
      }
    }
  ]
}